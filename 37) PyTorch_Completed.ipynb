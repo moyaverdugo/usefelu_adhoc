{
 "cells": [
  {
   "cell_type": "markdown",
   "metadata": {
    "id": "sln2hhIj-xMM"
   },
   "source": [
    "<div id=\"container\" style=\"position:relative;\">\n",
    "<div style=\"float:left\"><h1> PyTorch </h1></div>\n",
    "<div style=\"position:relative; float:right\"><img style=\"height:65px\" src =\"https://drive.google.com/uc?export=view&id=1EnB0x-fdqMp6I5iMoEBBEuxB_s7AmE2k\" />\n",
    "</div>\n",
    "</div>"
   ]
  },
  {
   "cell_type": "markdown",
   "metadata": {
    "id": "_rleCdA1nZS7"
   },
   "source": [
    "### Introduction\n",
    "\n",
    "Today, we will introduce Torch for Python (`PyTorch`), a deep learning library developed by Facebook and Uber. PyTorch is quickly becoming one of the dominant tools for building deep learning systems in both academic and industry settings."
   ]
  },
  {
   "cell_type": "code",
   "execution_count": 1,
   "metadata": {
    "id": "5Es6K9j4nZS-"
   },
   "outputs": [],
   "source": [
    "import torch\n",
    "\n",
    "# comment this out if you don't have tqdm\n",
    "from tqdm.notebook import tnrange, tqdm_notebook\n",
    "\n",
    "import numpy as np\n",
    "import pandas as pd\n",
    "import matplotlib.pyplot as plt\n",
    "import seaborn as sns"
   ]
  },
  {
   "cell_type": "markdown",
   "metadata": {
    "id": "pqrHhP2nnZTC"
   },
   "source": [
    "### Torch tensors\n",
    "\n",
    "At the centre of any `PyTorch` system, or really any deep learning system, is a **tensor**. A tensor is just a fancy name for a high dimensional array of numbers. We have seen tensors before:\n",
    "* vectors are first order tensors,\n",
    "* two dimensional arrays (matrixes) are second order tensors, and\n",
    "* higher dimensional arrays are third, fourth, etc' order tensors.\n",
    "\n",
    "They are essentially just NumPy arrays re-implemented in `PyTorch`. They are built to interact with other PyTorch features and run on Graphical Processing Units (GPUs). Because GPUs are quite expensive, modern ones run upwards of ten-thousand dollars, we won't take advantage of GPU functionality in this course, but whatever code we write here can easily be ported to any GPU we have access to.\n",
    "\n",
    "Declaring a PyTorch tensor is exactly the same as declaring a NumPy array:"
   ]
  },
  {
   "cell_type": "code",
   "execution_count": 2,
   "metadata": {
    "colab": {
     "base_uri": "https://localhost:8080/"
    },
    "id": "4N5Jdo3AnZTD",
    "outputId": "78443516-1316-4cd2-d7df-4781c6a60fc8"
   },
   "outputs": [
    {
     "name": "stdout",
     "output_type": "stream",
     "text": [
      "tensor([[1., 1., 1.],\n",
      "        [1., 1., 1.]])\n"
     ]
    }
   ],
   "source": [
    "# using the ones function\n",
    "x = torch.ones(2, 3)\n",
    "print(x)"
   ]
  },
  {
   "cell_type": "code",
   "execution_count": 3,
   "metadata": {
    "colab": {
     "base_uri": "https://localhost:8080/"
    },
    "id": "nMGPr8NG-xMU",
    "outputId": "045ccc34-792d-44f9-b0d4-3c699a36f741"
   },
   "outputs": [
    {
     "name": "stdout",
     "output_type": "stream",
     "text": [
      "tensor([[3.1400, 3.1400, 3.1400],\n",
      "        [3.1400, 3.1400, 3.1400],\n",
      "        [3.1400, 3.1400, 3.1400]], dtype=torch.float64)\n"
     ]
    }
   ],
   "source": [
    "# create a tensor with the same values at every position\n",
    "x = torch.full((3, 3), 3.14, dtype=torch.float64)\n",
    "print(x)"
   ]
  },
  {
   "cell_type": "markdown",
   "metadata": {
    "id": "RO_2ePDFnZTG"
   },
   "source": [
    "Like NumPy arrays we can combine tensors with scalar values and each other:"
   ]
  },
  {
   "cell_type": "code",
   "execution_count": 4,
   "metadata": {
    "id": "GscGWxiQnZTG"
   },
   "outputs": [],
   "source": [
    "#Combining two torch tensors\n",
    "x = torch.full((3, 3), 3, dtype=torch.float64)\n",
    "y = torch.randn(3, 3)\n",
    "z = x + y"
   ]
  },
  {
   "cell_type": "code",
   "execution_count": 5,
   "metadata": {
    "colab": {
     "base_uri": "https://localhost:8080/"
    },
    "id": "mStvoVNw2cS7",
    "outputId": "37781d92-ea3b-4379-cd53-2dbc2cd7a44c"
   },
   "outputs": [
    {
     "data": {
      "text/plain": [
       "tensor([[3., 3., 3.],\n",
       "        [3., 3., 3.],\n",
       "        [3., 3., 3.]], dtype=torch.float64)"
      ]
     },
     "execution_count": 5,
     "metadata": {},
     "output_type": "execute_result"
    }
   ],
   "source": [
    "x"
   ]
  },
  {
   "cell_type": "code",
   "execution_count": 6,
   "metadata": {
    "colab": {
     "base_uri": "https://localhost:8080/"
    },
    "id": "wt7mHSIc2gtK",
    "outputId": "f9cb3dd6-76f4-4636-a3a4-c98384d5756f"
   },
   "outputs": [
    {
     "data": {
      "text/plain": [
       "tensor([[ 0.6872, -1.8529,  0.8687],\n",
       "        [-1.3760,  0.1279,  0.5864],\n",
       "        [ 0.0333, -1.9994, -1.2453]])"
      ]
     },
     "execution_count": 6,
     "metadata": {},
     "output_type": "execute_result"
    }
   ],
   "source": [
    "y"
   ]
  },
  {
   "cell_type": "code",
   "execution_count": 7,
   "metadata": {
    "colab": {
     "base_uri": "https://localhost:8080/"
    },
    "id": "7tZovd0m2mvx",
    "outputId": "3565769b-ca6d-408f-afc2-bbf82a72d994"
   },
   "outputs": [
    {
     "data": {
      "text/plain": [
       "tensor([[3.6872, 1.1471, 3.8687],\n",
       "        [1.6240, 3.1279, 3.5864],\n",
       "        [3.0333, 1.0006, 1.7547]], dtype=torch.float64)"
      ]
     },
     "execution_count": 7,
     "metadata": {},
     "output_type": "execute_result"
    }
   ],
   "source": [
    "z"
   ]
  },
  {
   "cell_type": "code",
   "execution_count": 9,
   "metadata": {
    "colab": {
     "base_uri": "https://localhost:8080/"
    },
    "id": "XDubfWzA-xMZ",
    "outputId": "e30a5ced-5791-4968-af4d-a1275bf91272"
   },
   "outputs": [
    {
     "name": "stdout",
     "output_type": "stream",
     "text": [
      "tensor([[12., 12., 12.],\n",
      "        [12., 12., 12.],\n",
      "        [12., 12., 12.]], dtype=torch.float64)\n"
     ]
    }
   ],
   "source": [
    "# combining a tensor with a scalar\n",
    "c = 4\n",
    "z = c * x\n",
    "print(z)"
   ]
  },
  {
   "cell_type": "markdown",
   "metadata": {
    "id": "2D81vXIhnZTJ"
   },
   "source": [
    "Since a tensor is essentially a NumPy array, we won't go into any more detail. We just need to know that anything you can do with a NumPy array you can also do with a PyTorch tensor (maybe with a slight change of syntax)."
   ]
  },
  {
   "cell_type": "markdown",
   "metadata": {
    "id": "f8UHwnYw-xMb"
   },
   "source": [
    "#### Exercise 1\n",
    "\n",
    "1. Create the following tensors:\n",
    "    \n",
    "    * `x`: a tensor of shape (2, 1, 3) of random floats between 1 and 5. What does shape 1 in the middle mean?\n",
    "    * `y`: a tensor of shape (2, 3) that holds the integers from 0 to 5.\n",
    "    \n",
    "    \n",
    "2. Look up what the `squeeze` and `unsqueeze` commands do in `torch`.\n",
    "    \n",
    "    * What happens if you squeeze `x`?\n",
    "    * What happens if you unsqueeze `y`? (Hint: try 0, 1 and 2 for the `dim` argument and check the shapes.)"
   ]
  },
  {
   "cell_type": "markdown",
   "metadata": {
    "id": "mkYjfvdw7i1e"
   },
   "source": [
    "#### Solution\n",
    "\n",
    "We will use `torch.rand` that samples from the uniform distribution on [0, 1]. We can shift and scale that appropriately to get what we need:"
   ]
  },
  {
   "cell_type": "code",
   "execution_count": 22,
   "metadata": {
    "id": "xOpxRoqd7i1e"
   },
   "outputs": [],
   "source": [
    "# Q1.1 Creating the given tensors.\n",
    "\n",
    "# torch.rand\n",
    "x = 1 + (5 - 1) * torch.rand(2, 1, 3)\n",
    "y = torch.arange(0, 6).reshape(2, 3)\n",
    "\n"
   ]
  },
  {
   "cell_type": "code",
   "execution_count": 16,
   "metadata": {
    "colab": {
     "base_uri": "https://localhost:8080/"
    },
    "id": "mmRaC5EEip8b",
    "outputId": "083c4dd0-ffa9-4ea1-f037-d53c747438e8"
   },
   "outputs": [
    {
     "data": {
      "text/plain": [
       "tensor([[[3.8048, 2.2541, 3.9648]],\n",
       "\n",
       "        [[2.7981, 4.5959, 3.5989]]])"
      ]
     },
     "execution_count": 16,
     "metadata": {},
     "output_type": "execute_result"
    }
   ],
   "source": [
    "x"
   ]
  },
  {
   "cell_type": "code",
   "execution_count": 17,
   "metadata": {
    "colab": {
     "base_uri": "https://localhost:8080/"
    },
    "id": "coS4EUHbirgb",
    "outputId": "f5fe7602-4867-4aa1-ca34-871938037f5a"
   },
   "outputs": [
    {
     "data": {
      "text/plain": [
       "tensor([[0, 1, 2],\n",
       "        [3, 4, 5]])"
      ]
     },
     "execution_count": 17,
     "metadata": {},
     "output_type": "execute_result"
    }
   ],
   "source": [
    "y"
   ]
  },
  {
   "cell_type": "code",
   "execution_count": 18,
   "metadata": {
    "colab": {
     "base_uri": "https://localhost:8080/"
    },
    "id": "3mhMc2oqizHH",
    "outputId": "31e309e6-5e38-44fc-8c71-8459255518a3"
   },
   "outputs": [
    {
     "data": {
      "text/plain": [
       "tensor([[[0.3507, 0.7634, 0.5990],\n",
       "         [0.9898, 0.3123, 0.9639],\n",
       "         [0.7627, 0.2381, 0.9471],\n",
       "         [0.9965, 0.4426, 0.0176]],\n",
       "\n",
       "        [[0.3315, 0.2651, 0.5965],\n",
       "         [0.1817, 0.2738, 0.3135],\n",
       "         [0.0795, 0.9647, 0.9164],\n",
       "         [0.9198, 0.3110, 0.4417]]])"
      ]
     },
     "execution_count": 18,
     "metadata": {},
     "output_type": "execute_result"
    }
   ],
   "source": [
    "torch.rand(2, 4, 3)"
   ]
  },
  {
   "cell_type": "code",
   "execution_count": 19,
   "metadata": {
    "colab": {
     "base_uri": "https://localhost:8080/"
    },
    "id": "cIh-qGRJoD4y",
    "outputId": "22b1ecc1-1524-4fb1-ab8c-db1b5d42811e"
   },
   "outputs": [
    {
     "data": {
      "text/plain": [
       "tensor([[[0.0239, 0.3403, 0.0356, 0.1130, 0.3249, 0.5768, 0.4160],\n",
       "         [0.9007, 0.4843, 0.9372, 0.5889, 0.8328, 0.5053, 0.0507],\n",
       "         [0.5467, 0.8381, 0.6776, 0.4405, 0.9604, 0.8366, 0.9936],\n",
       "         [0.8632, 0.8744, 0.4707, 0.2539, 0.8256, 0.7761, 0.4491],\n",
       "         [0.0492, 0.5309, 0.4888, 0.4517, 0.3048, 0.9702, 0.2523]]])"
      ]
     },
     "execution_count": 19,
     "metadata": {},
     "output_type": "execute_result"
    }
   ],
   "source": [
    "torch.rand(1, 5, 7)"
   ]
  },
  {
   "cell_type": "code",
   "execution_count": 20,
   "metadata": {
    "colab": {
     "base_uri": "https://localhost:8080/"
    },
    "id": "YHn5OB23oOIe",
    "outputId": "db19df39-7478-4794-9d4a-7fb200b9165b"
   },
   "outputs": [
    {
     "data": {
      "text/plain": [
       "tensor([[[0.0531, 0.6512, 0.8791]],\n",
       "\n",
       "        [[0.6445, 0.0881, 0.5062]]])"
      ]
     },
     "execution_count": 20,
     "metadata": {},
     "output_type": "execute_result"
    }
   ],
   "source": [
    "torch.rand(2, 1, 3)"
   ]
  },
  {
   "cell_type": "code",
   "execution_count": 21,
   "metadata": {
    "colab": {
     "base_uri": "https://localhost:8080/"
    },
    "id": "OPCe0lbnoQO6",
    "outputId": "3e3a7e69-b141-4056-de84-5635465ca4a4"
   },
   "outputs": [
    {
     "data": {
      "text/plain": [
       "tensor([[[0.0010, 0.2191, 0.2121],\n",
       "         [0.9512, 0.6934, 0.2212],\n",
       "         [0.9399, 0.4629, 0.9834],\n",
       "         [0.9736, 0.5434, 0.1126]],\n",
       "\n",
       "        [[0.7123, 0.2871, 0.1518],\n",
       "         [0.9707, 0.7396, 0.0836],\n",
       "         [0.3892, 0.0120, 0.9291],\n",
       "         [0.6082, 0.2836, 0.7585]]])"
      ]
     },
     "execution_count": 21,
     "metadata": {},
     "output_type": "execute_result"
    }
   ],
   "source": [
    "torch.rand(2,4, 3)"
   ]
  },
  {
   "cell_type": "markdown",
   "metadata": {
    "id": "unATpIst7i1f"
   },
   "source": [
    "Now, to try the squeeze and unsqueeze method:"
   ]
  },
  {
   "cell_type": "code",
   "execution_count": 23,
   "metadata": {
    "colab": {
     "base_uri": "https://localhost:8080/"
    },
    "id": "IkECmCCk7i1f",
    "outputId": "f2fb9bce-05f4-451d-ce93-5b6f54debb6a"
   },
   "outputs": [
    {
     "name": "stdout",
     "output_type": "stream",
     "text": [
      "x shape before squeeze: torch.Size([2, 1, 3])\n",
      "\n",
      "\n",
      "x shape after squeeze: torch.Size([2, 3])\n",
      "\n",
      "tensor([[4.4329, 2.3124, 3.1542],\n",
      "        [4.2928, 1.1767, 1.6687]]) \n",
      "\n",
      "\n",
      "y shape before unsqueeze: torch.Size([2, 3])\n",
      "\n",
      "\n",
      "y shape after unsqueeze at dim 0: torch.Size([1, 2, 3])\n",
      "\n",
      "tensor([[[0, 1, 2],\n",
      "         [3, 4, 5]]]) \n",
      "\n",
      "y shape after unsqueeze at dim 1: torch.Size([2, 1, 3])\n",
      "\n",
      "tensor([[[0, 1, 2]],\n",
      "\n",
      "        [[3, 4, 5]]]) \n",
      "\n",
      "y shape after unsqueeze at dim 2: torch.Size([2, 3, 1])\n",
      "\n",
      "tensor([[[0],\n",
      "         [1],\n",
      "         [2]],\n",
      "\n",
      "        [[3],\n",
      "         [4],\n",
      "         [5]]]) \n",
      "\n"
     ]
    }
   ],
   "source": [
    "# Q1.2 Experimenting with squeeze and unsqueeze.\n",
    "\n",
    "print(f\"x shape before squeeze: {x.shape}\\n\\n\")\n",
    "print(f\"x shape after squeeze: {x.squeeze().shape}\\n\")\n",
    "print(x.squeeze(), \"\\n\\n\")\n",
    "\n",
    "print(f\"y shape before unsqueeze: {y.shape}\\n\\n\")\n",
    "\n",
    "for dim in [0, 1, 2]:\n",
    "    print(f\"y shape after unsqueeze at dim {dim}: {y.unsqueeze(dim=dim).shape}\\n\")\n",
    "    print(y.unsqueeze(dim=dim), \"\\n\")"
   ]
  },
  {
   "cell_type": "markdown",
   "metadata": {
    "id": "AqFZ6abU7i1f"
   },
   "source": [
    "These methods help us introduce new 'empty' dimensions along which the array has length 1, or to get rid of such. These methods come very handy when reshaping arrays to fit certain model architectures."
   ]
  },
  {
   "cell_type": "markdown",
   "metadata": {
    "id": "ruzagD76nZTK"
   },
   "source": [
    "### Backpropagation and Autograd\n",
    "\n",
    "Recall that when neural networks are trained, there are two separate phases:"
   ]
  },
  {
   "cell_type": "markdown",
   "metadata": {
    "id": "OA3HIUdF7i1g"
   },
   "source": [
    "1. In the **forward pass phase**, we pass the input through the network transforming it in each layer until we reach the output.\n",
    "    * At the final output layer, we make our prediction and calculate our loss (or prediction error).\n",
    "    \n",
    "    \n",
    "<img src=\"https://drive.google.com/uc?export=view&id=1FVcvkNzLH0cfz7eImr4bPJf2GkJfVmBj\"/>\n",
    "\n",
    "<center> <i>Image prepared using <a href=\"https://alexlenail.me/NN-SVG/index.html\">NN-SVG</a></i> </center>"
   ]
  },
  {
   "cell_type": "markdown",
   "metadata": {
    "id": "vCQDBcI77i1g"
   },
   "source": [
    "2. In the **backpropagation phase**, we update the network weights according to the training error gradient.\n",
    "    * The gradient tells us what weight change corresponds to a decreased loss.\n",
    "\n",
    "<img src=\"https://drive.google.com/uc?export=view&id=1tHwi8veILHxruKh_M5AKdWACpMl7WZPw\"/>\n",
    "<center> <i>Image prepared using <a href=\"https://alexlenail.me/NN-SVG/index.html\">NN-SVG</a></i></center>\n",
    "\n",
    "The second phase can be very difficult as modern networks are highly complex and the gradient calculation is not so easy. This is true especially if we have have complex connections."
   ]
  },
  {
   "cell_type": "markdown",
   "metadata": {
    "id": "Pf_kenU-nZTL"
   },
   "source": [
    "PyTorch takes care of calculating the gradient for us, when we combine tensors with each other, just like a network combines different layers. When we define a tensor we just need to indicate that we want to keep track of the gradient."
   ]
  },
  {
   "cell_type": "code",
   "execution_count": 28,
   "metadata": {
    "colab": {
     "base_uri": "https://localhost:8080/"
    },
    "id": "S2EAgLFQnZTM",
    "outputId": "b6a24160-ac14-41bb-ba89-b9d5d1ae81e6"
   },
   "outputs": [
    {
     "name": "stdout",
     "output_type": "stream",
     "text": [
      "tensor(3., requires_grad=True)\n"
     ]
    }
   ],
   "source": [
    "# specify we need the gradient\n",
    "x = torch.tensor(3., requires_grad=True)\n",
    "print(x)"
   ]
  },
  {
   "cell_type": "code",
   "execution_count": 29,
   "metadata": {
    "colab": {
     "base_uri": "https://localhost:8080/"
    },
    "id": "v9fSZkA9-xMh",
    "outputId": "459a3f23-2376-4c75-bb5c-3e903b82531b"
   },
   "outputs": [
    {
     "name": "stdout",
     "output_type": "stream",
     "text": [
      "tensor(12., grad_fn=<AddBackward0>)\n"
     ]
    }
   ],
   "source": [
    "y = x**2 + 3\n",
    "print(y)"
   ]
  },
  {
   "cell_type": "markdown",
   "metadata": {
    "id": "Tu0Froiq-xMi"
   },
   "source": [
    "Let's plot our function, the data point and the tangent line:"
   ]
  },
  {
   "cell_type": "markdown",
   "metadata": {
    "id": "IEmgaja77i1h"
   },
   "source": [
    "<img width=400 src=\"https://drive.google.com/uc?export=view&id=1QogK1NDTeri34LmOGPQQ-QVWsw6lkRo3\"/>"
   ]
  },
  {
   "cell_type": "markdown",
   "metadata": {
    "id": "r9R9alLg-xMl"
   },
   "source": [
    "What is the gradient of `y` with respect `x`? Thinking geometrically, the gradient gives you the slope of the tangent line at `x=2`. You can already read it from the plotting script that the slope is 4 (or use some calculus).\n",
    "\n",
    "$$\\frac{\\Delta y}{\\Delta x} = 2x$$\n",
    "\n",
    "So when $x = 2$, $2x = 4$. This is stored in the `x.grad` attribute after calling the `backward()` method on the tensor:"
   ]
  },
  {
   "cell_type": "code",
   "execution_count": 30,
   "metadata": {
    "id": "vGWysoqY-xMm"
   },
   "outputs": [],
   "source": [
    "# calculate gradients which are then stored at the variables\n",
    "y.backward()\n",
    "\n"
   ]
  },
  {
   "cell_type": "code",
   "execution_count": 31,
   "metadata": {
    "colab": {
     "base_uri": "https://localhost:8080/"
    },
    "id": "hz7QSnFctgoz",
    "outputId": "4cd7c265-6125-469c-c727-8ed9e35fbcaa"
   },
   "outputs": [
    {
     "name": "stdout",
     "output_type": "stream",
     "text": [
      "tensor(6.)\n"
     ]
    }
   ],
   "source": [
    "print(x.grad)"
   ]
  },
  {
   "cell_type": "markdown",
   "metadata": {
    "id": "dotfkNAA-xMn"
   },
   "source": [
    "When `y` will correspond to a loss and `x` to model weights, we can use this gradient to change `x` (the weights) by following the gradient and stepping towards a lower `y` (loss) value."
   ]
  },
  {
   "cell_type": "markdown",
   "metadata": {
    "id": "b-lK6GcJnZTa"
   },
   "source": [
    "For much more complicated operations, we can still get the gradients using this method and this is a very powerful tool. We can custom-design almost any network architecture and we automatically get the backpropagation done for us. This is incredibly useful, especially on massive networks with millions of complex connections."
   ]
  },
  {
   "cell_type": "markdown",
   "metadata": {
    "id": "yo_rVsdcnZTb"
   },
   "source": [
    "### Defining layers and neural networks\n",
    "\n",
    "The key to building neural networks is combining multiple layers of linear and non-linear functions. This is easy enough in PyTorch. Let's build a network which classifies solves the `breast_cancer` binary classification task. For this, we first load in the data using `sklearn` and turn the `numpy` arrays into `torch` tensors."
   ]
  },
  {
   "cell_type": "code",
   "execution_count": 32,
   "metadata": {
    "colab": {
     "base_uri": "https://localhost:8080/"
    },
    "id": "MZmuut0Qe5bB",
    "outputId": "5805c83f-6eba-49a4-8646-286e8ee47c06"
   },
   "outputs": [
    {
     "name": "stdout",
     "output_type": "stream",
     "text": [
      "torch.Size([455, 30]) torch.Size([455]) torch.Size([114, 30]) torch.Size([114])\n"
     ]
    }
   ],
   "source": [
    "from sklearn.datasets import load_breast_cancer\n",
    "from sklearn.model_selection import train_test_split\n",
    "from sklearn.preprocessing import StandardScaler\n",
    "\n",
    "# Let's use the breask cancer data for this:\n",
    "breast_cancer = load_breast_cancer()\n",
    "X = breast_cancer.data\n",
    "y = breast_cancer.target\n",
    "\n",
    "# train test split\n",
    "X_train, X_test, y_train, y_test = train_test_split(X, y, test_size=0.2)\n",
    "my_scaler = StandardScaler()\n",
    "X_train = my_scaler.fit_transform(X_train)\n",
    "X_test = my_scaler.transform(X_test)\n",
    "\n",
    "# We have to turn the data into tensors, and in this case,\n",
    "# convert the type from np.float64 to torch.float32\n",
    "X_train = torch.tensor(X_train, dtype=torch.float32)\n",
    "X_test = torch.tensor(X_test, dtype=torch.float32)\n",
    "\n",
    "y_train = torch.tensor(y_train, dtype=torch.long)\n",
    "y_test = torch.tensor(y_test, dtype=torch.long)\n",
    "\n",
    "print(X_train.shape, y_train.shape, X_test.shape, y_test.shape)"
   ]
  },
  {
   "cell_type": "markdown",
   "metadata": {
    "id": "4IadDpNMe5bD"
   },
   "source": [
    "If we only wanted to implement a linear network we can do this with the `Linear` connection functions:"
   ]
  },
  {
   "cell_type": "code",
   "execution_count": 33,
   "metadata": {
    "id": "Vx40bMFcnZTd"
   },
   "outputs": [],
   "source": [
    "import torch.nn as nn"
   ]
  },
  {
   "cell_type": "code",
   "execution_count": 34,
   "metadata": {
    "id": "XVi-LHQN-xMs"
   },
   "outputs": [],
   "source": [
    "# Go from size 30 to size 8.\n",
    "# This means we have 30 input features, and we are pushing them through\n",
    "# the network to a hidden layer of size 8\n",
    "layer_1 = nn.Linear(30, 8)"
   ]
  },
  {
   "cell_type": "code",
   "execution_count": 35,
   "metadata": {
    "id": "-ElqoNQM-xMu"
   },
   "outputs": [],
   "source": [
    "# Go from size 8 to size 2, from the 8 neuron hidden layer to a 2 neuron output layer\n",
    "layer_2 = nn.Linear(8, 2)"
   ]
  },
  {
   "cell_type": "markdown",
   "metadata": {
    "id": "q6EcYrSr-xMw"
   },
   "source": [
    "Each layer has a `forward` method that calculates the output of the layer for a given input. But you can simply call the layer to get the same result:"
   ]
  },
  {
   "cell_type": "code",
   "execution_count": 36,
   "metadata": {
    "colab": {
     "base_uri": "https://localhost:8080/"
    },
    "id": "aHAOtiTl-xMx",
    "outputId": "9388b5ec-3790-4857-b552-c6308051068b"
   },
   "outputs": [
    {
     "name": "stdout",
     "output_type": "stream",
     "text": [
      "tensor([[-0.2179,  0.5769]], grad_fn=<AddmmBackward0>)\n"
     ]
    }
   ],
   "source": [
    "x = X_train[[0], :] # one data point with 30 features\n",
    "\n",
    "# Run the data through the layers\n",
    "hidden_values = layer_1(x)\n",
    "output_values = layer_2(hidden_values)\n",
    "\n",
    "print(output_values)"
   ]
  },
  {
   "cell_type": "markdown",
   "metadata": {
    "id": "-mE6X2U8nZTi"
   },
   "source": [
    "This was easy enough, although we should probably use the softmax activation for the top layer so that it follows a proper probability distribution. Briefly, if the output of a layer is $x=(x_1,\\cdots , x_d)$ then the softmax output for element $i$ is:\n",
    "\n",
    "$$softmax(x_i) = \\frac{exp(x_i)}{\\sum_j exp(x_j)}$$\n",
    "\n",
    "This softmax formula ensures that the output of the last layer corresponds to probabilities: numbers between 0 and 1 with total sum equal to 1."
   ]
  },
  {
   "cell_type": "code",
   "execution_count": 37,
   "metadata": {
    "colab": {
     "base_uri": "https://localhost:8080/"
    },
    "id": "zrhfuV7rnZTi",
    "outputId": "b85a2c8e-eb7b-433f-b6a8-9175c8b90aee"
   },
   "outputs": [
    {
     "name": "stdout",
     "output_type": "stream",
     "text": [
      "tensor([[0.4193, 0.5807]], grad_fn=<SoftmaxBackward0>)\n"
     ]
    }
   ],
   "source": [
    "x = X_train[[0], :] # one data point with 30 features\n",
    "\n",
    "# define the layers of our neural network\n",
    "layer_1 = nn.Linear(30, 8)\n",
    "layer_2 = nn.Linear(8, 2)\n",
    "\n",
    "# Run the data through a linear layer\n",
    "hidden_values = layer_1(x)\n",
    "hidden_values = layer_2(hidden_values)\n",
    "\n",
    "# Notice this is a function, not a layer as in TensorFlow\n",
    "output_values = nn.functional.softmax(hidden_values, dim=1) # makes sure that the output sums to 1 in dimension 1\n",
    "\n",
    "print(output_values)"
   ]
  },
  {
   "cell_type": "markdown",
   "metadata": {
    "id": "t3BKJmJb-xM1"
   },
   "source": [
    "PyTorch has a `Sequential` module that can be used to simplify working with models that pass tensors sequentially through layers. Let's redo our example:"
   ]
  },
  {
   "cell_type": "code",
   "execution_count": 39,
   "metadata": {
    "colab": {
     "base_uri": "https://localhost:8080/"
    },
    "id": "1H9ZFMCK-xM1",
    "outputId": "e95b2413-3998-4dd5-ff75-ea947f486f97"
   },
   "outputs": [
    {
     "data": {
      "text/plain": [
       "Sequential(\n",
       "  (0): Linear(in_features=30, out_features=8, bias=True)\n",
       "  (1): Linear(in_features=8, out_features=2, bias=True)\n",
       ")"
      ]
     },
     "execution_count": 39,
     "metadata": {},
     "output_type": "execute_result"
    }
   ],
   "source": [
    "# just provide the layers as arguments\n",
    "neural_net = nn.Sequential(nn.Linear(30, 8),\n",
    "                          nn.Linear(8, 2))\n",
    "neural_net"
   ]
  },
  {
   "cell_type": "code",
   "execution_count": 40,
   "metadata": {
    "colab": {
     "base_uri": "https://localhost:8080/"
    },
    "id": "e2HvETc4-xM3",
    "outputId": "ba86e426-c531-49f2-f620-c922334f74ae"
   },
   "outputs": [
    {
     "name": "stdout",
     "output_type": "stream",
     "text": [
      "tensor([[0.4444, 0.5556]], grad_fn=<SoftmaxBackward0>)\n"
     ]
    }
   ],
   "source": [
    "output_logit_values = neural_net(x)\n",
    "output_values = nn.functional.softmax(output_logit_values, dim=1)\n",
    "print(output_values)"
   ]
  },
  {
   "cell_type": "markdown",
   "metadata": {
    "id": "2KK5PBil-xM5"
   },
   "source": [
    "Why did we get a different result now from the same input and same model? The layers (by default) are always initialized with random weights following a certain distribution so when we re-created the model, we initilized with different weights."
   ]
  },
  {
   "cell_type": "markdown",
   "metadata": {
    "id": "uLFftUGjnZTn"
   },
   "source": [
    "When training neural networks, we need to compare our output to a target value. We can calculate how far the output is from the target, which is called the *loss*, and use that measurement to train our network.\n",
    "\n",
    "How we take the difference between the target and output can have an impact on performance. For now, we will use the **cross entropy loss** which is the most prominent loss function for classification. For this, we can actually **skip the softmax layer** in the network because that calculation is built into the `CrossEntropyLoss`."
   ]
  },
  {
   "cell_type": "code",
   "execution_count": 41,
   "metadata": {
    "colab": {
     "base_uri": "https://localhost:8080/"
    },
    "id": "Ot_96tYAnZTp",
    "outputId": "fced6f98-dad8-4494-dddd-866d5073b9a9"
   },
   "outputs": [
    {
     "name": "stdout",
     "output_type": "stream",
     "text": [
      "tensor(0.5484, grad_fn=<NllLossBackward0>)\n"
     ]
    }
   ],
   "source": [
    "# the same model except the softmax\n",
    "neural_net = nn.Sequential(nn.Linear(30, 8),\n",
    "                           nn.Linear(8, 2),)\n",
    "\n",
    "# the loss expects the data in batches so we have to specify even if we only have\n",
    "# one data point\n",
    "x = X_train[[0], :]\n",
    "target = y_train[[0]]\n",
    "\n",
    "# FORWARD PASS\n",
    "output_values = neural_net(x)\n",
    "\n",
    "# take the Cross Entropy Loss (includes the softmax calculation so we don't need that in the neural_net)\n",
    "cross_entropy_loss = nn.CrossEntropyLoss()\n",
    "loss = cross_entropy_loss(output_values, target)\n",
    "\n",
    "print(loss)"
   ]
  },
  {
   "cell_type": "markdown",
   "metadata": {
    "id": "8E-swe85nZTr"
   },
   "source": [
    "At this point we have a network, we can do a forward pass and calculate the loss.\n",
    "\n",
    "However, we still haven't done anything to train it. To do training we take the loss and propagate it backwards through the network. Let's do that next!"
   ]
  },
  {
   "cell_type": "markdown",
   "metadata": {
    "id": "PVY2GTQw-xM7"
   },
   "source": [
    "#### Exercise 2\n",
    "\n",
    "1. Look up the different built-in activation functions in the `torch.nn` module.\n",
    "\n",
    "2. Build a deep neural network using the `Sequential` class that includes linear layers and three different types of activations in-between. The input dimension should be 100 and the output 10. You decide the hidden layer size!\n",
    "\n",
    "3. Test your network by passing through a tensor."
   ]
  },
  {
   "cell_type": "markdown",
   "metadata": {
    "id": "pWswZ_vg7i1l"
   },
   "source": [
    "#### Solution\n",
    "\n",
    "There are a number of available activation functions, some classical include `Sigmoid`, `Tanh`, `ReLU`.\n",
    "\n",
    "We can build a simple network using these with input dim 100 and 10 output units."
   ]
  },
  {
   "cell_type": "code",
   "execution_count": 42,
   "metadata": {
    "id": "Bf0cXYiC7i1l"
   },
   "outputs": [],
   "source": [
    "# Q2.2 Building a deep neural net\n",
    "\n",
    "neural_net = nn.Sequential(nn.Linear(100, 64),\n",
    "                        nn.Sigmoid(),\n",
    "                        nn.Linear(64, 32),\n",
    "                        nn.Tanh(),\n",
    "                        nn.Linear(32, 16),\n",
    "                        nn.ReLU(),\n",
    "                        nn.Linear(16, 10))"
   ]
  },
  {
   "cell_type": "markdown",
   "metadata": {
    "id": "88DHeqAm7i1m"
   },
   "source": [
    "It is always advised to run a quick sanity check to test the model:"
   ]
  },
  {
   "cell_type": "code",
   "execution_count": 43,
   "metadata": {
    "colab": {
     "base_uri": "https://localhost:8080/"
    },
    "id": "wqgoKDtC7i1m",
    "outputId": "70f63c54-5636-460d-91f5-3bc57e8361ae"
   },
   "outputs": [
    {
     "name": "stdout",
     "output_type": "stream",
     "text": [
      "torch.Size([1, 10])\n"
     ]
    }
   ],
   "source": [
    "# Q2.3 testing with a random tensor\n",
    "x = torch.rand(1, 100)\n",
    "output = neural_net(x)\n",
    "print(output.shape)"
   ]
  },
  {
   "cell_type": "markdown",
   "metadata": {
    "id": "vRnL_UlW-xM8"
   },
   "source": [
    "### Training neural networks"
   ]
  },
  {
   "cell_type": "markdown",
   "metadata": {
    "id": "nDjTHADS-xM8"
   },
   "source": [
    "To recap the training procedure, we need to\n",
    "* pass forward the input tensor through the network,\n",
    "* backpropagate and calculate the gradients, and\n",
    "* update the network weights to decrease loss."
   ]
  },
  {
   "cell_type": "markdown",
   "metadata": {
    "id": "lGhHPxFk-xM9"
   },
   "source": [
    "Let's set up a model and loss function as before:"
   ]
  },
  {
   "cell_type": "code",
   "execution_count": 47,
   "metadata": {
    "id": "WZBfDfy8-xM9"
   },
   "outputs": [],
   "source": [
    "# a single data point\n",
    "x = X_train[[0], :]\n",
    "target = y_train[[0]]\n",
    "\n",
    "# MODEL: setting up our network with an extra activation function and the loss\n",
    "neural_net = nn.Sequential(nn.Linear(30, 8),\n",
    "                           nn.ReLU(),\n",
    "                           nn.Linear(8, 2)\n",
    "                          )\n",
    "# Cross Entropy Loss (includes the softmax calculation so we don't need that in the neural_net)\n",
    "cross_entropy_loss = nn.CrossEntropyLoss()"
   ]
  },
  {
   "cell_type": "markdown",
   "metadata": {
    "id": "nfTeIfsp-xM_"
   },
   "source": [
    "The network parameters are stored in a generator that we can look into - converting into a list, each element will be the weights for the individual layers:"
   ]
  },
  {
   "cell_type": "code",
   "execution_count": 48,
   "metadata": {
    "colab": {
     "base_uri": "https://localhost:8080/"
    },
    "id": "NYvVAOv--xM_",
    "outputId": "e7a6c35c-1c9e-4812-ec73-be7b84c52502"
   },
   "outputs": [
    {
     "data": {
      "text/plain": [
       "torch.Size([8, 30])"
      ]
     },
     "execution_count": 48,
     "metadata": {},
     "output_type": "execute_result"
    }
   ],
   "source": [
    "list(neural_net.parameters())[0].shape # the parameters for our 30 X 8 first layer"
   ]
  },
  {
   "cell_type": "markdown",
   "metadata": {
    "id": "Lyz7Q__V-xNB"
   },
   "source": [
    "#### 1. The forward pass"
   ]
  },
  {
   "cell_type": "markdown",
   "metadata": {
    "id": "CWHh6kC8-xNB"
   },
   "source": [
    "We just pass the input and the network takes care of everything:"
   ]
  },
  {
   "cell_type": "code",
   "execution_count": 49,
   "metadata": {
    "colab": {
     "base_uri": "https://localhost:8080/"
    },
    "id": "98YAZXch-xNC",
    "outputId": "d6307ef2-5ee7-48aa-99f9-2dab9389b149"
   },
   "outputs": [
    {
     "name": "stdout",
     "output_type": "stream",
     "text": [
      "tensor(0.8115, grad_fn=<NllLossBackward0>)\n"
     ]
    }
   ],
   "source": [
    "# FORWARD PASS\n",
    "output_values = neural_net(x)\n",
    "loss = cross_entropy_loss(output_values, target)\n",
    "\n",
    "print(loss)"
   ]
  },
  {
   "cell_type": "markdown",
   "metadata": {
    "id": "TuawzkG2-xND"
   },
   "source": [
    "You can check that there are no gradients stored yet."
   ]
  },
  {
   "cell_type": "code",
   "execution_count": 50,
   "metadata": {
    "colab": {
     "base_uri": "https://localhost:8080/"
    },
    "id": "iH3DdfDQ-xND",
    "outputId": "261c8aca-d932-46bb-9ba9-3a14af7d8d01"
   },
   "outputs": [
    {
     "name": "stdout",
     "output_type": "stream",
     "text": [
      "None\n"
     ]
    }
   ],
   "source": [
    "print(list(neural_net.parameters())[0].grad)"
   ]
  },
  {
   "cell_type": "markdown",
   "metadata": {
    "id": "jBJBoN0l-xNF"
   },
   "source": [
    "#### 2. The backward pass"
   ]
  },
  {
   "cell_type": "markdown",
   "metadata": {
    "id": "2AO9gpzx-xNF"
   },
   "source": [
    "We use `backward` as before to calculate the gradients:"
   ]
  },
  {
   "cell_type": "code",
   "execution_count": 51,
   "metadata": {
    "id": "2Djq48Ca-xNG"
   },
   "outputs": [],
   "source": [
    "# BACKWARD PASS\n",
    "loss.backward()"
   ]
  },
  {
   "cell_type": "markdown",
   "metadata": {
    "id": "3s5gN3bE-xNH"
   },
   "source": [
    "We can see that the gradients are populated:"
   ]
  },
  {
   "cell_type": "code",
   "execution_count": 52,
   "metadata": {
    "colab": {
     "base_uri": "https://localhost:8080/"
    },
    "id": "qF7qScp8-xNI",
    "outputId": "294c77cc-4271-484e-a4cc-ccbd42382cec"
   },
   "outputs": [
    {
     "data": {
      "text/plain": [
       "torch.Size([8, 30])"
      ]
     },
     "execution_count": 52,
     "metadata": {},
     "output_type": "execute_result"
    }
   ],
   "source": [
    "list(neural_net.parameters())[0].grad.shape # Now we have 30 X 8 gradients (weight adjustments) for\n",
    "                                            # our 30 X 8 weight first layer"
   ]
  },
  {
   "cell_type": "code",
   "execution_count": null,
   "metadata": {
    "id": "HHbrgZxIsm9K"
   },
   "outputs": [],
   "source": [
    "#list(neural_net.parameters())[0].grad"
   ]
  },
  {
   "cell_type": "markdown",
   "metadata": {
    "id": "xGrAasog-xNJ"
   },
   "source": [
    "#### 3. Update the model weights"
   ]
  },
  {
   "cell_type": "markdown",
   "metadata": {
    "id": "4GqdsfW--xNK"
   },
   "source": [
    "<center>\n",
    "<img width=\"400px\" src=\"https://drive.google.com/uc?export=view&id=132EC8scZRTefNsBLaWxE7pU6AqoQGPPI\"/>\n",
    "</center>\n",
    "<br/>\n",
    "\n",
    "The weight update is handled by optimizers in PyTorch. Standard choices include `SGD` (Stochastic Gradient Descent) or `Adam`. The optimizer objects needs the model parameters when initialized and other hyperparameters as arguments, such as the *learning rate*.\n",
    "\n",
    "The learning rate defines how large are the steps that we take when we follow the gradient in the weight updates and move towards lower loss values. A large learning rate can make training faster initially but it can also overshoot and jump over an optimal weight. A standard choice for learning rate is `1e-3`.\n",
    "\n",
    "Once we have our weight adjustments $\\frac{\\delta L}{\\delta W}$ (change in loss function based on weights), and our learning rate $\\alpha$, we update the weights according to the following formula:\n",
    "\n",
    "$$W_{new} = W_{old} - \\alpha \\frac{\\delta L}{\\delta W}$$\n",
    "    \n",
    "Where we subtract the adjustments to get to a minimum of the loss."
   ]
  },
  {
   "cell_type": "code",
   "execution_count": 53,
   "metadata": {
    "id": "iFM9VtkD-xNK"
   },
   "outputs": [],
   "source": [
    "# setup optimizer (this is only done once, usually with model setup)\n",
    "optimizer = torch.optim.SGD(neural_net.parameters(), lr=0.1)\n",
    "\n",
    "# UPDATE WEIGHTS: the optimizer uses the gradients stored in the neural net and makes a weight update\n",
    "optimizer.step()"
   ]
  },
  {
   "cell_type": "markdown",
   "metadata": {
    "id": "-IOxU4Sj-xNL"
   },
   "source": [
    "Hopefully, we will see a lower loss if we do a forward pass again:"
   ]
  },
  {
   "cell_type": "code",
   "execution_count": 54,
   "metadata": {
    "colab": {
     "base_uri": "https://localhost:8080/"
    },
    "id": "Di8bzLmj-xNM",
    "outputId": "3315a00a-ede9-47b9-87c7-0def7c28dd9c"
   },
   "outputs": [
    {
     "name": "stdout",
     "output_type": "stream",
     "text": [
      "Old loss: 0.811467170715332\n",
      "New loss: 0.5947777032852173\n"
     ]
    }
   ],
   "source": [
    "new_output = neural_net(x)\n",
    "new_loss = cross_entropy_loss(new_output, target)\n",
    "print(f\"Old loss: {loss}\\nNew loss: {new_loss}\")"
   ]
  },
  {
   "cell_type": "markdown",
   "metadata": {
    "id": "87peJCJnpah1"
   },
   "source": [
    "### Putting it All Together\n",
    "\n",
    "\n",
    "Let's put our example all together now"
   ]
  },
  {
   "cell_type": "code",
   "execution_count": 55,
   "metadata": {
    "colab": {
     "base_uri": "https://localhost:8080/"
    },
    "id": "8Qwa3NMVpggi",
    "outputId": "c31f18e5-2666-4be4-e416-217e9363c073"
   },
   "outputs": [
    {
     "name": "stdout",
     "output_type": "stream",
     "text": [
      "Old loss: 1.1329421997070312\n",
      "New loss: 0.8261891007423401\n"
     ]
    }
   ],
   "source": [
    "x = X_train[[0], :]\n",
    "target = y_train[[0]]\n",
    "\n",
    "# MODEL: setting up our network with an extra activation function and the loss\n",
    "neural_net = nn.Sequential(nn.Linear(30, 8),\n",
    "                           nn.ReLU(),\n",
    "                           nn.Linear(8, 2))\n",
    "cross_entropy_loss = nn.CrossEntropyLoss()\n",
    "\n",
    "# setup optimizer (this is only done once, usually with model setup)\n",
    "optimizer = torch.optim.SGD(neural_net.parameters(), lr=0.1)\n",
    "\n",
    "# FORWARD PASS\n",
    "output_values = neural_net(x)\n",
    "loss = cross_entropy_loss(output_values, target)\n",
    "\n",
    "# BACKWARD PASS\n",
    "loss.backward()\n",
    "\n",
    "# UPDATE WEIGHTS: the optimizer uses the gradients stored in the neural net and makes a weight update\n",
    "optimizer.step()\n",
    "\n",
    "new_output = neural_net(x)\n",
    "new_loss = cross_entropy_loss(new_output, target)\n",
    "print(f\"Old loss: {loss}\\nNew loss: {new_loss}\")"
   ]
  },
  {
   "cell_type": "markdown",
   "metadata": {
    "id": "WDmzVfjwp0pS"
   },
   "source": [
    "While the `Sequential` API is really convenient, most PyTorch code is written using Object Oriented Programming.\n",
    "\n",
    "Most uses of PyTorch to create a neural network will use the `nn.Module` class as follows:"
   ]
  },
  {
   "cell_type": "code",
   "execution_count": null,
   "metadata": {
    "id": "AGRu1sRatFOG"
   },
   "outputs": [],
   "source": [
    "class SimpleNN(nn.Module):\n",
    "    \"\"\"Basic multi-layer architecture.\"\"\"\n",
    "\n",
    "    def __init__(self):\n",
    "        \"\"\"Define the main components of the network\"\"\"\n",
    "        super(SimpleNN, self).__init__()\n",
    "\n",
    "        self.layer_1 = nn.Linear(30, 8) # transition from input into hidden layer\n",
    "        self.activation_1 = nn.ReLU()   # Activation function\n",
    "        self.layer_2 = nn.Linear(8, 2)  # transition from hidden layer into output\n",
    "\n",
    "    def forward(self, x):\n",
    "        \"\"\"Perform forward pass.\"\"\"\n",
    "\n",
    "        # pass through the layers\n",
    "        hidden_1 = self.activation_1(self.layer_1(x))\n",
    "        output = self.layer_2(hidden_1)\n",
    "\n",
    "        # return output\n",
    "        return output\n",
    "\n",
    "    def predict(self, x):\n",
    "        '''\n",
    "        The class based interface allows you\n",
    "        add your own functionality, like a familiar\n",
    "        .predict method we all know and love\n",
    "        '''\n",
    "\n",
    "        # Predict class probabilities\n",
    "        predictions = self.forward(x)\n",
    "\n",
    "        # Find highest class prediction, notice we don't need to convert to\n",
    "        # probabilities to do hard predictions, we can simply choose the\n",
    "        # highest values\n",
    "        hard_class_predictions = torch.argmax(predictions, dim=1)\n",
    "\n",
    "        return hard_class_predictions"
   ]
  },
  {
   "cell_type": "code",
   "execution_count": null,
   "metadata": {
    "id": "GAPyRStxtFnt"
   },
   "outputs": [],
   "source": [
    "# Instantiate the model, the loss criterion, and the optimizer\n",
    "NN_model = SimpleNN()\n",
    "\n",
    "cross_entropy_loss = nn.CrossEntropyLoss() # this includes the softmax\n",
    "optimizer = torch.optim.SGD(NN_model.parameters(), lr=.01, momentum=0.9)"
   ]
  },
  {
   "cell_type": "markdown",
   "metadata": {
    "id": "C2w_rjSFf_ug"
   },
   "source": [
    "Instead of passing a single data point, we will now pass the whole training set, calculate the losses and the gradients and update the weights 100 times."
   ]
  },
  {
   "cell_type": "code",
   "execution_count": null,
   "metadata": {
    "colab": {
     "base_uri": "https://localhost:8080/",
     "height": 66,
     "referenced_widgets": [
      "c3dc07ab3e5d4018bdbd306c9f99f9a7",
      "481d8a18d86348ffb1434d8d3ce00e24",
      "502efffbcf1845639c8d2fa3596e4448",
      "1d761aa0b68141568f870aafd84952f7",
      "bfc0e95de8fa40c38e3972aae9754431",
      "450bae9a93a94a69ac47df0072195812",
      "b6dbc7f414724ab38ac89d644f53ef4f",
      "51f47deaff774ffd9dc0954d99fa2d12",
      "92c109563c7941a5b052c6d50dd50ac7",
      "b58682f7e4b749b29ad637ddd87c078d",
      "b06bdc064fb943e7bee3521ab48cd10e"
     ]
    },
    "id": "aQxLfKsVtFqz",
    "outputId": "d404e990-49d4-41ed-8452-b58da1cf6a2c"
   },
   "outputs": [
    {
     "data": {
      "application/vnd.jupyter.widget-view+json": {
       "model_id": "c3dc07ab3e5d4018bdbd306c9f99f9a7",
       "version_major": 2,
       "version_minor": 0
      },
      "text/plain": [
       "Total epochs:   0%|          | 0/100 [00:00<?, ?it/s]"
      ]
     },
     "metadata": {},
     "output_type": "display_data"
    },
    {
     "name": "stdout",
     "output_type": "stream",
     "text": [
      "Optimization ended successfully\n"
     ]
    }
   ],
   "source": [
    "# Now run for 100 epochs\n",
    "for epoch in tnrange(100, desc=\"Total epochs: \"):\n",
    "\n",
    "    # Clear gradients (pytorch accumulates gradients by default)\n",
    "    optimizer.zero_grad()\n",
    "\n",
    "    # Calculate outputs\n",
    "    output_values = NN_model(X_train)\n",
    "\n",
    "    # Calculate loss\n",
    "    loss = cross_entropy_loss(output_values, y_train)\n",
    "\n",
    "    # Backpropagation & weight adjustment\n",
    "    loss.backward()\n",
    "    optimizer.step()\n",
    "\n",
    "print(f\"Optimization ended successfully\")"
   ]
  },
  {
   "cell_type": "markdown",
   "metadata": {
    "id": "VPGeV1_cydbu"
   },
   "source": [
    "We can now also test our networks performance by moving the data through it"
   ]
  },
  {
   "cell_type": "code",
   "execution_count": null,
   "metadata": {
    "colab": {
     "base_uri": "https://localhost:8080/"
    },
    "id": "RqqJcD3ItFtw",
    "outputId": "1507f3d7-a46e-40db-9307-05db0d0754d1"
   },
   "outputs": [
    {
     "name": "stdout",
     "output_type": "stream",
     "text": [
      "Accuracy score on test set: 94.74%\n"
     ]
    }
   ],
   "source": [
    "from sklearn.metrics import accuracy_score\n",
    "\n",
    "# Make predictions\n",
    "binary_classification = NN_model.predict(X_test)\n",
    "\n",
    "# Calculate the score on the test set\n",
    "accuracy = accuracy_score(y_test, binary_classification)\n",
    "print(f\"Accuracy score on test set: {round(accuracy * 100, 2)}%\")"
   ]
  },
  {
   "cell_type": "markdown",
   "metadata": {
    "id": "FLPOsngT-xNN"
   },
   "source": [
    "In practice, we would do thousands or even millions of weight updates to get a good model, looping over the forward-backprop-update cycle for each epoch. This is done until the loss and/or other problem-specific metrics converge to an acceptable value or model performance ceases to substantially improve on the validation set (in which further epochs would only result in overfitting)."
   ]
  },
  {
   "cell_type": "markdown",
   "metadata": {
    "id": "akqVdoRV7i1q"
   },
   "source": [
    "#### Exercise 3\n",
    "\n",
    "1. Build a regression neural network using the `Sequential` model for the California Housing dataset. This is a regression problem so remember to choose an appropriate [loss function](https://pytorch.org/docs/stable/nn.html#loss-functions). Use at least 2 hidden layers.\n",
    "\n",
    "2. Train your model for 100 epochs, and then score it, what scoring metric did you choose and how well did the model perform?\n",
    "\n",
    "3. Repeat steps 1 and 2 but with the `class` based interface."
   ]
  },
  {
   "cell_type": "code",
   "execution_count": null,
   "metadata": {
    "id": "YOdAWlaD7i1q"
   },
   "outputs": [],
   "source": [
    "from sklearn.datasets import fetch_california_housing\n",
    "from sklearn.preprocessing import StandardScaler\n",
    "\n",
    "california = fetch_california_housing()\n",
    "\n",
    "X = california.data\n",
    "y = california.target\n",
    "\n",
    "X_train, X_test, y_train, y_test = train_test_split(X, y, test_size = 0.2)\n",
    "\n",
    "my_scaler = StandardScaler()\n",
    "X_train_scaled = torch.tensor(my_scaler.fit_transform(X_train), dtype=torch.float32)\n",
    "X_test_scaled = torch.tensor(my_scaler.transform(X_test), dtype=torch.float32)\n",
    "\n",
    "y_train = torch.tensor(y_train, dtype=torch.float32).unsqueeze(1)\n",
    "y_test = torch.tensor(y_test, dtype=torch.float32).unsqueeze(1)"
   ]
  },
  {
   "cell_type": "markdown",
   "metadata": {
    "id": "HIh2DBRh7i1q"
   },
   "source": [
    "#### Solutions\n",
    "\n",
    "We start out by defining the model, loss and optimizer. Since this is a regression task, we could choose mean squared error or mean absolute error."
   ]
  },
  {
   "cell_type": "code",
   "execution_count": null,
   "metadata": {
    "id": "7J9bYPM47i1q"
   },
   "outputs": [],
   "source": [
    "# 1. Build a regression neural network using the `Sequential` model for the California Housing dataset.\n",
    "#    This is a regression problem so remember to choose an appropriate loss function (If you don't recall,\n",
    "#    check out the Intro to Neural Network slides)\n",
    "\n",
    "my_NN = nn.Sequential(\n",
    "    nn.Linear(X_train_scaled.shape[1], 10),\n",
    "    nn.ReLU(),\n",
    "    nn.Linear(10, 5),\n",
    "    nn.ReLU(),\n",
    "    nn.Linear(5, 1)\n",
    ")\n",
    "\n",
    "\n",
    "mse_loss = nn.MSELoss()\n",
    "optimizer = torch.optim.SGD(my_NN.parameters(), lr=0.1)"
   ]
  },
  {
   "cell_type": "markdown",
   "metadata": {
    "id": "AqqFnnJh7i1q"
   },
   "source": [
    "Next, we train the model through 100 epochs. Each steps starts by clearing the previous gradients, a forward pass and loss calculation, a gradient calculation during the backward pass and stepping with the optimizer to adjust the weights."
   ]
  },
  {
   "cell_type": "code",
   "execution_count": null,
   "metadata": {
    "colab": {
     "base_uri": "https://localhost:8080/",
     "height": 49,
     "referenced_widgets": [
      "a8fee93223954cd1a60dc89e1a7e6fa4",
      "b95a3df4f94e42b39e445f9c90be978b",
      "53164ef4d7e34b64b2100f6c678edf8a",
      "c075e04635b247b1a52922de60bc2297",
      "f94a446ec69549e2956fff94c22ceaad",
      "be8fdb70e0b54e5d90e414c4e4cb8ce8",
      "d8765e409be94e11a1c5ac103a8ff71b",
      "d3c76673f49c4d7197aa3ee7685428cf",
      "2fdeb1133f7e43bc83cef406ed976e44",
      "25c583bcfeb94eaaa5531845e391ebe5",
      "aa5a44aeac64458abe4e393ffe74a7bd"
     ]
    },
    "id": "HV1Z0Qmp7i1q",
    "outputId": "18a0efe0-d6fe-4d10-df55-3a4ad5d48f7b"
   },
   "outputs": [
    {
     "data": {
      "application/vnd.jupyter.widget-view+json": {
       "model_id": "a8fee93223954cd1a60dc89e1a7e6fa4",
       "version_major": 2,
       "version_minor": 0
      },
      "text/plain": [
       "Total epochs:   0%|          | 0/100 [00:00<?, ?it/s]"
      ]
     },
     "metadata": {},
     "output_type": "display_data"
    }
   ],
   "source": [
    "# 2. Train your model for 100 epochs, and then score it, what scoring metric did you choose and how well did the\n",
    "#    model perform?\n",
    "\n",
    "for epoch in tnrange(100, desc=\"Total epochs: \"):\n",
    "\n",
    "    # Zero gradients\n",
    "    optimizer.zero_grad()\n",
    "\n",
    "    # Calculate gradients using output\n",
    "    output = my_NN(X_train_scaled)\n",
    "    loss = mse_loss(y_train, output)\n",
    "\n",
    "    # Backpropagate\n",
    "    loss.backward()\n",
    "    optimizer.step()"
   ]
  },
  {
   "cell_type": "markdown",
   "metadata": {
    "id": "c5AIUjeY7i1r"
   },
   "source": [
    "We can evaluate our model by calculating the mean absolute error: how much on average is our prediction off?"
   ]
  },
  {
   "cell_type": "code",
   "execution_count": null,
   "metadata": {
    "colab": {
     "base_uri": "https://localhost:8080/"
    },
    "id": "GOERC3yX7i1r",
    "outputId": "18842f21-d925-48f3-9a15-4f415a954d85"
   },
   "outputs": [
    {
     "name": "stdout",
     "output_type": "stream",
     "text": [
      "On average, my predictions are $47412.16 off\n"
     ]
    }
   ],
   "source": [
    "from sklearn.metrics import mean_absolute_error\n",
    "\n",
    "# Find predictions on test set\n",
    "test_pred = my_NN(X_test_scaled)\n",
    "\n",
    "# Calculate MAE, then multiply by 100,000 which is the value of the target (house price in 100,000s)\n",
    "error = mean_absolute_error(y_test.numpy(), test_pred.detach().numpy()) * 100_000\n",
    "error = round(error, 2)\n",
    "\n",
    "print(f\"On average, my predictions are ${error} off\")"
   ]
  },
  {
   "cell_type": "markdown",
   "metadata": {
    "id": "zMLki38Q7i1r"
   },
   "source": [
    "For practice, we repeat the same model construction by subclassing `nn.Module`:"
   ]
  },
  {
   "cell_type": "code",
   "execution_count": null,
   "metadata": {
    "id": "vR5LQ_Jd7i1r"
   },
   "outputs": [],
   "source": [
    "# 3. Repeat steps 1 and 2 but with the `class` based interface.\n",
    "\n",
    "class simple_regression_NN(nn.Module):\n",
    "\n",
    "    \"\"\"Basic multi-layer architecture.\"\"\"\n",
    "\n",
    "    def __init__(self):\n",
    "        \"\"\"Define the main components of the network\"\"\"\n",
    "        super(simple_regression_NN, self).__init__()\n",
    "\n",
    "\n",
    "        # the data has 8 features\n",
    "\n",
    "        self.layer_1 = nn.Linear(8, 10) # transition from input into hidden layer\n",
    "        self.activation_1 = nn.ReLU()   # Activation function\n",
    "        self.layer_2 = nn.Linear(10, 5)  # transition from hidden layer into output\n",
    "        self.activation_2 = nn.ReLU()   # Activation function\n",
    "        self.layer_3 = nn.Linear(5, 1)\n",
    "\n",
    "    def forward(self, x):\n",
    "        \"\"\"Perform forward pass.\"\"\"\n",
    "\n",
    "        # pass through the layers\n",
    "        hidden_1 = self.activation_1(self.layer_1(x))\n",
    "        hidden_2 = self.activation_2(self.layer_2(hidden_1))\n",
    "        output = self.layer_3(hidden_2)\n",
    "\n",
    "        # return output\n",
    "        return output"
   ]
  },
  {
   "cell_type": "code",
   "execution_count": null,
   "metadata": {
    "id": "z2IP4WMC7i1r"
   },
   "outputs": [],
   "source": [
    "my_NN = simple_regression_NN()\n",
    "\n",
    "mse_loss = nn.MSELoss()\n",
    "optimizer = torch.optim.SGD(my_NN.parameters(), lr=0.1)"
   ]
  },
  {
   "cell_type": "code",
   "execution_count": null,
   "metadata": {
    "colab": {
     "base_uri": "https://localhost:8080/",
     "height": 49,
     "referenced_widgets": [
      "1517a969610849308597df73904892dc",
      "6c750e1e615d41aca09020e013ad5027",
      "362b521d41924eb6b8395dbbbde6ad06",
      "ed06ef80bed9417a88732113edb13f1f",
      "7a949fe7fc3e4aad8eeb2b550f231be8",
      "228a3b8b3c1c4f2d81964aa487ceecd6",
      "62bbbc7c2bcd4175828e16285d166bea",
      "d4009fc830c24cc5acf2b0b219f076a5",
      "39a4c3af45944b83830a6e82fc014bb9",
      "85c337111cf84ef6897adcd6b4c1f7a2",
      "1908e9decff1447d8d9b0923d6edd6a2"
     ]
    },
    "id": "TBlI0bhq7i1r",
    "outputId": "6b370c64-5a81-4949-b9cc-c3009f899a15"
   },
   "outputs": [
    {
     "data": {
      "application/vnd.jupyter.widget-view+json": {
       "model_id": "1517a969610849308597df73904892dc",
       "version_major": 2,
       "version_minor": 0
      },
      "text/plain": [
       "Total epochs:   0%|          | 0/100 [00:00<?, ?it/s]"
      ]
     },
     "metadata": {},
     "output_type": "display_data"
    }
   ],
   "source": [
    "for epoch in tnrange(100, desc=\"Total epochs: \"):\n",
    "\n",
    "    # Zero gradients\n",
    "    optimizer.zero_grad()\n",
    "\n",
    "    # Calculate gradients using output\n",
    "    output = my_NN(X_train_scaled)\n",
    "    loss = mse_loss(y_train, output)\n",
    "\n",
    "    # Backpropagate\n",
    "    loss.backward()\n",
    "    optimizer.step()"
   ]
  },
  {
   "cell_type": "code",
   "execution_count": null,
   "metadata": {
    "colab": {
     "base_uri": "https://localhost:8080/"
    },
    "id": "QHazrBhH7i1r",
    "outputId": "faf52763-c885-4e71-bcd0-e2b9e5c660e3"
   },
   "outputs": [
    {
     "name": "stdout",
     "output_type": "stream",
     "text": [
      "On average, my predictions are $49816.32 off\n"
     ]
    }
   ],
   "source": [
    "from sklearn.metrics import mean_absolute_error\n",
    "\n",
    "test_pred = my_NN(X_test_scaled)\n",
    "\n",
    "error = mean_absolute_error(y_test.numpy(), test_pred.detach().numpy()) * 100_000\n",
    "error = round(error, 2)\n",
    "\n",
    "print(f\"On average, my predictions are ${error} off\")"
   ]
  },
  {
   "cell_type": "markdown",
   "metadata": {
    "id": "U1JXIMwm7i1s"
   },
   "source": [
    "As expected, we essentially get the same results. There is some variation due to the model weights being initialized randomly."
   ]
  },
  {
   "cell_type": "markdown",
   "metadata": {
    "id": "L4i1rFmB7i1s"
   },
   "source": [
    "### Keras & Tensorflow or PyTorch?\n",
    "\n",
    "There are many several reasons why organizations might choose one of these frameworks over the other.\n",
    "\n",
    "Keras and PyTorch follow two different neural network design methodologies; Keras focuses on quickly building and deploying sequential architectures. Building models and training them is easy, but debugging them is difficult since much of the code is abstracted. On the other hand, PyTorch development follows an approach of building the code almost entirely from fundamental building blocks, so every step can be inspected and debugged more easily. Tensorflow has this functionality as well, but since the introduction of Keras it is less frequently used, especially by data scientists (vs. machine learning engineers).\n",
    "\n",
    "In previous releases of Tensorflow, some neural networks constructed would be limited to a predefined input size (*e.g.* for recurrent neural networkss all sentences must be padded to the same length). This led some organization to switch to PyTorch, which allowed variable size input to be processed for recurrent architectures. Tensorflow 2.0 introduced \"[Eager Execution](https://www.tensorflow.org/guide/eager)\" which enables this advanced functionality, but the organizations that switched may have much of their infrastructure set up in PyTorch by now.\n",
    "\n",
    "PyTorch has been the preferred neural network library in academia. This means many new advances in neural networks that come from research might be implemented in PyTorch rather than Tensorflow, though this trend is evolving as the two libraries mature and with the release of TF 2.x and integration of Keras into Tensorflow's core product.\n",
    "\n",
    "Generally, when going into industry your \"choice\" of neural network framework will often be dictated by the organization. However, for most projects, both libraries will cover the vast majority of needs for deep learning (albeit implemented in different ways) and only for some unique applications might better suited with the choice of one over the other. Given the option, you should use whichever you are most comfortable with, though a practicing data scientist would of course be expected to be knowledgeable and have a baseline level of proficiency with both frameworks."
   ]
  },
  {
   "cell_type": "markdown",
   "metadata": {
    "id": "il9z6t-Jd39E"
   },
   "source": [
    "Read more on PyTorch vs. Tensorflow: https://www.assemblyai.com/blog/pytorch-vs-tensorflow-in-2022/"
   ]
  },
  {
   "cell_type": "markdown",
   "metadata": {
    "id": "KwOwnZ-m7i1s"
   },
   "source": [
    "---------"
   ]
  },
  {
   "cell_type": "markdown",
   "metadata": {
    "id": "RDNfLNSx7i1s"
   },
   "source": [
    "## Supplementary - Softmax Layers\n",
    "\n",
    "While we employed the `nn.functional.softmax` function to produce probability distributions from our final layer outputs, you will likely also see the use of the `nn.Softmax` layer in PyTorch.\n",
    "\n",
    "Since `nn.CrossEntropyLoss()` includes the softmax conversion, we don't need the softmax layer during training, but we **might** need it during prediction. This switch is usually controlled using the `self.training` attribute of neural networks (which is inherited from `nn.Module` for us).\n",
    "\n",
    "Let's look at an example:"
   ]
  },
  {
   "cell_type": "code",
   "execution_count": null,
   "metadata": {
    "id": "nf9hFCUo7i1s"
   },
   "outputs": [],
   "source": [
    "class SimpleNN(nn.Module):\n",
    "    \"\"\"Basic multi-layer architecture.\"\"\"\n",
    "\n",
    "    def __init__(self):\n",
    "        \"\"\"Define the main components of the network\"\"\"\n",
    "        super(SimpleNN, self).__init__()\n",
    "\n",
    "        self.layer_1 = nn.Linear(30, 8) # transition from input into hidden layer\n",
    "        self.activation_1 = nn.ReLU()   # Activation function\n",
    "        self.layer_2 = nn.Linear(8, 2)  # transition from hidden layer into output\n",
    "\n",
    "        # Declare a softmax layer\n",
    "        self.softmax_layer = nn.Softmax(dim=-1)\n",
    "\n",
    "    def forward(self, x):\n",
    "        \"\"\"Perform forward pass.\"\"\"\n",
    "\n",
    "        # pass through the layers\n",
    "        hidden_1 = self.activation_1(self.layer_1(x))\n",
    "        hidden_2 = self.layer_2(hidden_1)\n",
    "\n",
    "        # Notice the network will behave differently based on\n",
    "        # whether it is training or not\n",
    "        if self.training is True:\n",
    "            output = hidden_2\n",
    "        else:\n",
    "            output = self.softmax_layer(hidden_2)\n",
    "\n",
    "        # return output\n",
    "        return output"
   ]
  },
  {
   "cell_type": "markdown",
   "metadata": {
    "id": "FSyHEDo97i1s"
   },
   "source": [
    "The network above changes its behavior based on its training status. So when we train it, we can employ the same code as before:"
   ]
  },
  {
   "cell_type": "code",
   "execution_count": null,
   "metadata": {
    "id": "ccuWKid37i1s"
   },
   "outputs": [],
   "source": [
    "breast_cancer = load_breast_cancer()\n",
    "X = breast_cancer.data\n",
    "y = breast_cancer.target\n",
    "\n",
    "# train test split\n",
    "X_train, X_test, y_train, y_test = train_test_split(X, y, test_size=0.2)\n",
    "my_scaler = StandardScaler()\n",
    "X_train = my_scaler.fit_transform(X_train)\n",
    "X_test = my_scaler.transform(X_test)\n",
    "\n",
    "# We have to turn the data into tensors, and in this case,\n",
    "# convert the type from np.float64 to torch.float32\n",
    "X_train = torch.tensor(X_train, dtype=torch.float32)\n",
    "X_test = torch.tensor(X_test, dtype=torch.float32)\n",
    "\n",
    "y_train = torch.tensor(y_train, dtype=torch.long)\n",
    "y_test = torch.tensor(y_test, dtype=torch.long)"
   ]
  },
  {
   "cell_type": "code",
   "execution_count": null,
   "metadata": {
    "id": "UKcuZdg17i1s"
   },
   "outputs": [],
   "source": [
    "# Instantiate the model, the loss criterion, and the optimizer\n",
    "NN_model = SimpleNN()\n",
    "\n",
    "cross_entropy_loss = nn.CrossEntropyLoss() # this includes the softmax\n",
    "optimizer = torch.optim.SGD(NN_model.parameters(), lr=.01, momentum=0.9)"
   ]
  },
  {
   "cell_type": "code",
   "execution_count": null,
   "metadata": {
    "colab": {
     "base_uri": "https://localhost:8080/",
     "height": 66,
     "referenced_widgets": [
      "0ff727a7b1b842628c7e8216b3772959",
      "4c9ffaba1bb2477f9dd7b6102c11d62a",
      "f30a4d682edc4e258cda25d9aa41bdd5",
      "8b4016539de940338a5cb113718ea0a0",
      "758ff3d58eb24d34acb7685201cf07bf",
      "a47083f8fbc541cc9379d5a59536113e",
      "9bbaabe262634330b2bbba350513bd55",
      "99dbadd23739495693df400ebf56628f",
      "9ece2ffcce8e4bbeabf4d548f27b173c",
      "c2b5ae3667124ce3a486d0da0c6033ba",
      "1a151066f7b94d159e0bdd57f52e57eb"
     ]
    },
    "id": "7XCMwU1b7i1s",
    "outputId": "32429a9d-9452-44ef-c6d3-d1bb89eb141d"
   },
   "outputs": [
    {
     "data": {
      "application/vnd.jupyter.widget-view+json": {
       "model_id": "0ff727a7b1b842628c7e8216b3772959",
       "version_major": 2,
       "version_minor": 0
      },
      "text/plain": [
       "Total epochs:   0%|          | 0/100 [00:00<?, ?it/s]"
      ]
     },
     "metadata": {},
     "output_type": "display_data"
    },
    {
     "name": "stdout",
     "output_type": "stream",
     "text": [
      "Optimization ended successfully\n"
     ]
    }
   ],
   "source": [
    "# Now run for 100 epochs\n",
    "for epoch in tnrange(100, desc=\"Total epochs: \"):\n",
    "\n",
    "    # Clear gradients (pytorch accumulates gradients by default)\n",
    "    optimizer.zero_grad()\n",
    "\n",
    "    # Calculate outputs\n",
    "    output_values = NN_model(X_train)\n",
    "\n",
    "    # Calculate loss\n",
    "    loss = cross_entropy_loss(output_values, y_train)\n",
    "\n",
    "    # Backpropagation & weight adjustment\n",
    "    loss.backward()\n",
    "    optimizer.step()\n",
    "\n",
    "print(f\"Optimization ended successfully\")"
   ]
  },
  {
   "cell_type": "markdown",
   "metadata": {
    "id": "K8bYhuPc7i1t"
   },
   "source": [
    "This network will not output a probability distribution by default:"
   ]
  },
  {
   "cell_type": "code",
   "execution_count": null,
   "metadata": {
    "colab": {
     "base_uri": "https://localhost:8080/"
    },
    "id": "0D_nWOq87i1t",
    "outputId": "ea5d06fc-3f1a-4e94-c411-541bb4086e67"
   },
   "outputs": [
    {
     "data": {
      "text/plain": [
       "tensor([-1.1333,  1.3507], grad_fn=<AddBackward0>)"
      ]
     },
     "execution_count": 52,
     "metadata": {},
     "output_type": "execute_result"
    }
   ],
   "source": [
    "NN_model(X_test[0]) # get the output for the first test data point"
   ]
  },
  {
   "cell_type": "markdown",
   "metadata": {
    "id": "GNVtbhbY7i1t"
   },
   "source": [
    "However, we can switch it to \"evaluation mode\" to trigger the desired behavior we coded:"
   ]
  },
  {
   "cell_type": "code",
   "execution_count": null,
   "metadata": {
    "colab": {
     "base_uri": "https://localhost:8080/"
    },
    "id": "3UByuQI27i1t",
    "outputId": "3d28cb07-48aa-43f4-cace-72b3895b9665"
   },
   "outputs": [
    {
     "data": {
      "text/plain": [
       "tensor([0.0770, 0.9230], grad_fn=<SoftmaxBackward0>)"
      ]
     },
     "execution_count": 53,
     "metadata": {},
     "output_type": "execute_result"
    }
   ],
   "source": [
    "NN_model.eval()\n",
    "NN_model(X_test[0]) # Now we get the output as a probability distribution"
   ]
  },
  {
   "cell_type": "markdown",
   "metadata": {
    "id": "mrSlSPHr7i1t"
   },
   "source": [
    "And we can switch the behavior back to training mode as well:"
   ]
  },
  {
   "cell_type": "code",
   "execution_count": null,
   "metadata": {
    "colab": {
     "base_uri": "https://localhost:8080/"
    },
    "id": "YvEbZeSt7i1t",
    "outputId": "93a1969c-bc5a-4010-f88f-f16693fbd2a8"
   },
   "outputs": [
    {
     "data": {
      "text/plain": [
       "tensor([-1.1333,  1.3507], grad_fn=<AddBackward0>)"
      ]
     },
     "execution_count": 54,
     "metadata": {},
     "output_type": "execute_result"
    }
   ],
   "source": [
    "NN_model.train()\n",
    "NN_model(X_test[0]) # get the output for the first test data point"
   ]
  },
  {
   "cell_type": "markdown",
   "metadata": {
    "id": "m3ZVf0GB7i1t"
   },
   "source": [
    "PyTorch is largely designed to be more modular than TensorFlow, and as such requires a stronger knowledge of Object Oriented Programming."
   ]
  },
  {
   "cell_type": "markdown",
   "metadata": {
    "id": "5kwxNlt07i1t"
   },
   "source": [
    "---------"
   ]
  },
  {
   "cell_type": "markdown",
   "metadata": {
    "id": "Dynot_CJnZT9"
   },
   "source": [
    "## Supplementary - Image classification using CNNs\n",
    "\n",
    "Now we'll work through an example of building a network for a complex data set called **CIFAR-10**. It contains color images of various objects with corresponding labels from 10 possibilities. **It is a classification problem and our goal is to predict what object is in the image.**"
   ]
  },
  {
   "cell_type": "markdown",
   "metadata": {
    "id": "IkcRIIhcnZT-"
   },
   "source": [
    "Right now CIFAR-10 contains 32x32 images with 3 color channels (RGB). You can think of each images as a 32x32x3 tensor. Let's load this data."
   ]
  },
  {
   "cell_type": "code",
   "execution_count": null,
   "metadata": {
    "colab": {
     "base_uri": "https://localhost:8080/"
    },
    "id": "2OrDNajrnZUA",
    "outputId": "8fc41327-5643-4d70-fc71-35bf897d07fa"
   },
   "outputs": [
    {
     "name": "stdout",
     "output_type": "stream",
     "text": [
      "Downloading https://www.cs.toronto.edu/~kriz/cifar-10-python.tar.gz to ./data/cifar-10-python.tar.gz\n"
     ]
    },
    {
     "name": "stderr",
     "output_type": "stream",
     "text": [
      "100%|██████████| 170498071/170498071 [00:12<00:00, 13302095.88it/s]\n"
     ]
    },
    {
     "name": "stdout",
     "output_type": "stream",
     "text": [
      "Extracting ./data/cifar-10-python.tar.gz to ./data\n"
     ]
    }
   ],
   "source": [
    "import torchvision\n",
    "\n",
    "train_dataset = torchvision.datasets.CIFAR10(root='./data',\n",
    "                                     train=True, # whether the train or test set should be loaded\n",
    "                                     download=True, # download data if necessary\n",
    "                                    )"
   ]
  },
  {
   "cell_type": "markdown",
   "metadata": {
    "id": "0vB32vW1-xNQ"
   },
   "source": [
    "We can take a sample of the images and use `imshow` from `matplotlib` to take a look at our data."
   ]
  },
  {
   "cell_type": "code",
   "execution_count": null,
   "metadata": {
    "colab": {
     "base_uri": "https://localhost:8080/",
     "height": 1000
    },
    "id": "3Gv7NUpO-xNQ",
    "outputId": "991a0033-e2d7-404a-c570-e7d4c9827bea"
   },
   "outputs": [
    {
     "data": {
      "image/png": "[encoded data removed]",
      "text/plain": [
       "<Figure size 1500x1500 with 25 Axes>"
      ]
     },
     "metadata": {},
     "output_type": "display_data"
    }
   ],
   "source": [
    "import numpy as np\n",
    "import matplotlib.pyplot as plt\n",
    "\n",
    "cifar_classes = {0: 'airplane', 1: 'automobile', 2: 'bird', 3: 'cat',\n",
    "                4: 'deer', 5: 'dog', 6: 'frog', 7: 'horse', 8: 'ship', 9: 'truck'}\n",
    "\n",
    "fig, axs = plt.subplots(5, 5, figsize=(15, 15))\n",
    "\n",
    "# select random indices\n",
    "indices = np.random.choice(len(train_dataset), len(axs.reshape(-1)))\n",
    "\n",
    "# plot the images in the grid\n",
    "for index, axs in zip(indices, axs.reshape(-1)):\n",
    "    image, label = train_dataset[index]\n",
    "    axs.imshow(image)  # plot the data\n",
    "    axs.axis('off')\n",
    "    axs.set_title(cifar_classes[label])\n",
    "\n",
    "plt.suptitle('CIFAR-10 random sample', fontsize=16)\n",
    "plt.show()"
   ]
  },
  {
   "cell_type": "markdown",
   "metadata": {
    "id": "PhqBk0ei-xNS"
   },
   "source": [
    "We can take a look at the class distributions and see that we have a balanced classification task."
   ]
  },
  {
   "cell_type": "code",
   "execution_count": null,
   "metadata": {
    "colab": {
     "base_uri": "https://localhost:8080/",
     "height": 519
    },
    "id": "G0ZhF_a4-xNS",
    "outputId": "5f921495-5349-4234-daee-e2f35cdce336"
   },
   "outputs": [
    {
     "data": {
      "image/png": "[encoded data removed]",
      "text/plain": [
       "<Figure size 1000x500 with 1 Axes>"
      ]
     },
     "metadata": {},
     "output_type": "display_data"
    }
   ],
   "source": [
    "fig, ax = plt.subplots(figsize=(10, 5))\n",
    "ax.bar(cifar_classes.keys(), np.bincount(train_dataset.targets))\n",
    "ax.set_xticks(list(cifar_classes.keys()))\n",
    "ax.set_xticklabels(cifar_classes.values(), rotation=45)\n",
    "plt.title(\"Class distribution for CIFAR10\")\n",
    "sns.despine()\n",
    "plt.show()"
   ]
  },
  {
   "cell_type": "markdown",
   "metadata": {
    "id": "7in4gDew-xNU"
   },
   "source": [
    "### Preprocessing\n",
    "\n",
    "Now, we need to turn the data into a tensor object that `torch` can use and we should also normalize the data to improve classifier performance.  \n",
    "\n",
    "Both of these goals can be accomplished using the `transforms` package in PyTorch. This is like building a pipeline:\n",
    "\n",
    "* first we turn the data to a Tensor,\n",
    "* then we scale it specifying the mean and standard deviation of each color channel.\n",
    "\n",
    "Now we can load up CIFAR-10 passing along our `pre_process` object to clean and format the data:"
   ]
  },
  {
   "cell_type": "code",
   "execution_count": null,
   "metadata": {
    "colab": {
     "base_uri": "https://localhost:8080/"
    },
    "id": "2dtul2fXnZT_",
    "outputId": "1d973d94-00a1-4787-caa4-0f94f6183273"
   },
   "outputs": [
    {
     "name": "stdout",
     "output_type": "stream",
     "text": [
      "Files already downloaded and verified\n",
      "Files already downloaded and verified\n",
      "\n",
      "Train data set size: 50000\n",
      "Test data set size: 10000\n"
     ]
    }
   ],
   "source": [
    "import torchvision.transforms as transforms\n",
    "\n",
    "# The normalize values are just set to something that tends to work for this dataset... (totally scientific)\n",
    "pre_process = transforms.Compose([transforms.ToTensor(),  # turn images into tensor\n",
    "                                  transforms.Normalize((0.5, 0.5, 0.5), (0.5, 0.5, 0.5))]) # normalize by\n",
    "                                                                                           # subtracting 0.5 (mean)\n",
    "                                                                                           # and dividing by 0.5\n",
    "                                                                                           # to bring all values from\n",
    "                                                                                           # [0,1] to [-1, 1]\n",
    "\n",
    "# reload the train and test data with our preprocessing\n",
    "train_dataset = torchvision.datasets.CIFAR10(root='./data',\n",
    "                     train=True,\n",
    "                     download=True,\n",
    "                     transform=pre_process\n",
    "                    )\n",
    "\n",
    "test_dataset = torchvision.datasets.CIFAR10(root='./data',\n",
    "                     train=False, # use the test portion of the data\n",
    "                     download=True,\n",
    "                     transform=pre_process\n",
    "                    )\n",
    "\n",
    "print(f\"\\nTrain data set size: {len(train_dataset)}\\nTest data set size: {len(test_dataset)}\")"
   ]
  },
  {
   "cell_type": "markdown",
   "metadata": {
    "id": "6hhzCSNq-xNW"
   },
   "source": [
    "### Model setup\n",
    "\n",
    "To actually do classification, we'll use a **convolutional neural network**: this is a highly structured network with complex activation and connections between neurons specifically designed to extract features from complex, high-dimensional data sources.\n",
    "\n",
    "Larger and deeper examples of this network often achieve state of the art performance on tasks in a variety of areas, especially for computer vision tasks. As before, we need to build the network."
   ]
  },
  {
   "cell_type": "markdown",
   "metadata": {
    "id": "xf7z2Ahi-xNX"
   },
   "source": [
    "The network we build is essentially sequential and consists of two parts:\n",
    "\n",
    "* a convolutional part that extracts the image features, and\n",
    "* a fully-connected part that makes the prediction based on the extracted features.\n",
    "\n",
    "Between these two parts, we need to reshape our tensors so instead of using two sequential blocks separately, we wrap everything by the `nn.Module` class that is the base class for all neural networks in `torch`. The only thing we need to specify is a `forward` method and after that, we are free to call all the other methods (such as `backward`) that we had for a sequential model before.\n",
    "\n",
    "We also made the design choice to include the loss and optimizer in the model object, which will make our code look more neat later on."
   ]
  },
  {
   "cell_type": "code",
   "execution_count": null,
   "metadata": {
    "id": "4hW6f2nu-xNX"
   },
   "outputs": [],
   "source": [
    "class MultilayerCNN(nn.Module):\n",
    "    \"\"\"Basic multi-layer CNN architecture.\"\"\"\n",
    "\n",
    "    def __init__(self):\n",
    "        \"\"\"Define the main components of the network including the loss and optimizer.\"\"\"\n",
    "        super(MultilayerCNN, self).__init__()\n",
    "\n",
    "        self.conv_layer = nn.Sequential(\n",
    "\n",
    "            # Convolutional block 1\n",
    "            nn.Conv2d(in_channels=3, out_channels=32, kernel_size=3, padding=1),\n",
    "            nn.ReLU(inplace=True),\n",
    "            nn.MaxPool2d(kernel_size=2, stride=2),\n",
    "\n",
    "            # Convolutional block 2\n",
    "            nn.Conv2d(in_channels=32, out_channels=64, kernel_size=3, padding=1),\n",
    "            nn.ReLU(inplace=True),\n",
    "            nn.MaxPool2d(kernel_size=2, stride=2),\n",
    "\n",
    "            # Convolutional block 3\n",
    "            nn.Conv2d(in_channels=64, out_channels=128, kernel_size=3, padding=1),\n",
    "            nn.ReLU(inplace=True),\n",
    "            nn.MaxPool2d(kernel_size=2, stride=2),\n",
    "        ) # the size of the flattened output tensor will be 64*128 // (2*2)\n",
    "\n",
    "\n",
    "        self.fc_layer = nn.Sequential(\n",
    "            nn.Linear(64*128 // (2*2), 512),\n",
    "            nn.ReLU(inplace=True),\n",
    "            nn.Linear(512, 10),\n",
    "        )\n",
    "\n",
    "        self.softmax_layer = nn.Softmax(dim=1)\n",
    "\n",
    "        self.cross_entropy_loss = nn.CrossEntropyLoss()\n",
    "        self.optimizer = torch.optim.SGD(self.parameters(), lr=.001, momentum=0.9)\n",
    "\n",
    "    def forward(self, x):\n",
    "        \"\"\"Perform forward pass.\"\"\"\n",
    "        # pass through the convolutional layers\n",
    "        x = self.conv_layer(x)\n",
    "\n",
    "        # flatten the output of the convolution\n",
    "        x = x.view(x.size(0), -1)\n",
    "\n",
    "        # pass through the fully connected layers\n",
    "        x = self.fc_layer(x)\n",
    "\n",
    "        if not self.training:\n",
    "            x = self.softmax_layer(x)\n",
    "\n",
    "        return x\n",
    "\n",
    "    def predict(self, x):\n",
    "        '''\n",
    "        Get hard class predictions from the\n",
    "        feature data\n",
    "        '''\n",
    "        predictions = self.forward(x)\n",
    "\n",
    "        # Find highest class logit, notice we don't need to convert to\n",
    "        # probabilities to do hard predictions, we can simply choose the\n",
    "        # highest values\n",
    "        hard_class_predictions = torch.argmax(predictions, dim=1)\n",
    "\n",
    "        return hard_class_predictions"
   ]
  },
  {
   "cell_type": "markdown",
   "metadata": {
    "id": "jEIglSXM-xNZ"
   },
   "source": [
    "Let's test our model by running a single image through."
   ]
  },
  {
   "cell_type": "code",
   "execution_count": null,
   "metadata": {
    "colab": {
     "base_uri": "https://localhost:8080/"
    },
    "id": "51r9oB3A-xNa",
    "outputId": "1a93e68a-2ce2-4064-83fe-23bcaf9a4b40"
   },
   "outputs": [
    {
     "data": {
      "text/plain": [
       "tensor(2.2889, grad_fn=<NllLossBackward0>)"
      ]
     },
     "execution_count": 60,
     "metadata": {},
     "output_type": "execute_result"
    }
   ],
   "source": [
    "# initialize the model\n",
    "CNN_model = MultilayerCNN()\n",
    "\n",
    "# take the first training example\n",
    "image, label = train_dataset[0]\n",
    "\n",
    "# pass it through the model\n",
    "outputs = CNN_model(image.unsqueeze(0))\n",
    "\n",
    "# find the loss\n",
    "CNN_model.cross_entropy_loss(outputs, torch.tensor([label]))"
   ]
  },
  {
   "cell_type": "markdown",
   "metadata": {
    "id": "QgsJBAEZ-xNf"
   },
   "source": [
    "Let's talk a bit about the model."
   ]
  },
  {
   "cell_type": "code",
   "execution_count": null,
   "metadata": {
    "colab": {
     "base_uri": "https://localhost:8080/"
    },
    "id": "qEDJUziQ-xNf",
    "outputId": "8bcb5955-6462-4109-86b2-827db675a7b9"
   },
   "outputs": [
    {
     "name": "stdout",
     "output_type": "stream",
     "text": [
      "MultilayerCNN(\n",
      "  (conv_layer): Sequential(\n",
      "    (0): Conv2d(3, 32, kernel_size=(3, 3), stride=(1, 1), padding=(1, 1))\n",
      "    (1): ReLU(inplace=True)\n",
      "    (2): MaxPool2d(kernel_size=2, stride=2, padding=0, dilation=1, ceil_mode=False)\n",
      "    (3): Conv2d(32, 64, kernel_size=(3, 3), stride=(1, 1), padding=(1, 1))\n",
      "    (4): ReLU(inplace=True)\n",
      "    (5): MaxPool2d(kernel_size=2, stride=2, padding=0, dilation=1, ceil_mode=False)\n",
      "    (6): Conv2d(64, 128, kernel_size=(3, 3), stride=(1, 1), padding=(1, 1))\n",
      "    (7): ReLU(inplace=True)\n",
      "    (8): MaxPool2d(kernel_size=2, stride=2, padding=0, dilation=1, ceil_mode=False)\n",
      "  )\n",
      "  (fc_layer): Sequential(\n",
      "    (0): Linear(in_features=2048, out_features=512, bias=True)\n",
      "    (1): ReLU(inplace=True)\n",
      "    (2): Linear(in_features=512, out_features=10, bias=True)\n",
      "  )\n",
      "  (softmax_layer): Softmax(dim=1)\n",
      "  (cross_entropy_loss): CrossEntropyLoss()\n",
      ")\n"
     ]
    }
   ],
   "source": [
    "print(CNN_model)"
   ]
  },
  {
   "cell_type": "markdown",
   "metadata": {
    "id": "0ouN3eeP-xNi"
   },
   "source": [
    "First, looking at the convolutional layer:\n",
    "\n",
    "`nn.Conv2d(in_channels=3, out_channels=32, kernel_size=3, padding=1)`\n",
    "\n",
    "This is a standard convolution operation which takes an image with depth 3 (being the first layer, the RGB channels in our case) and learns a 32-depth convolution using 3-by-3 windows. Next:\n",
    "\n",
    "`nn.MaxPool2d(kernel_size=2, stride=2)`\n",
    "\n",
    "This is similar to rolling a convolution window (of size 2x2) with a stride of two pixels but, instead of taking some convolution function, we output the max value in that window. This does two things: it shrinks the image and emphasizes the most prominent values in that window. It is important to note that we pool the max values only along the height and width, not the depth. We apply the pooling to each depth, but we do not combine along depths. That is, this shrinks the height and width of an image but not the depth.\n",
    "\n",
    "The final fully-connected layers are essentially a small feed-forward neural network with one hidden layer and one output layer. This network takes in our convolution of convolutions and outputs a decision (the unnormalized probabilities in our case). You can think of the convolutional units as doing complex feature engineering."
   ]
  },
  {
   "cell_type": "markdown",
   "metadata": {
    "id": "2RU3e15r-xNi"
   },
   "source": [
    "### Training\n",
    "\n",
    "We now need to put the data into a format the model can iterate through. The standard PyTorch interface is the `DataLoader` object. We can either pass in an existing PyTorch dataset or one we put together. We'll pass in the CIFAR-10 training data to get back an object we can iterate through:"
   ]
  },
  {
   "cell_type": "code",
   "execution_count": null,
   "metadata": {
    "id": "KHR3xU4LnZUQ"
   },
   "outputs": [],
   "source": [
    "# this iterator returns four training examples at a time\n",
    "# so we will update the model after every 4 images\n",
    "train_dataloader = torch.utils.data.DataLoader(train_dataset, batch_size=4, shuffle=True)\n",
    "\n",
    "# this iterator returns 1024 test examples at a time (for fast testing)\n",
    "test_dataloader = torch.utils.data.DataLoader(test_dataset, batch_size=1024, shuffle=False)"
   ]
  },
  {
   "cell_type": "markdown",
   "metadata": {
    "id": "9iFn6ze0nZUS"
   },
   "source": [
    "Before we train the network let's see its performance on the test set and we'll use classification accuracy as our metric:"
   ]
  },
  {
   "cell_type": "code",
   "execution_count": null,
   "metadata": {
    "colab": {
     "base_uri": "https://localhost:8080/"
    },
    "id": "6lMFgBbqnZUS",
    "outputId": "da9b6d21-ab84-4e6a-de39-bc63a99c4cb2"
   },
   "outputs": [
    {
     "name": "stdout",
     "output_type": "stream",
     "text": [
      "Pre training accuracy: 10.0%\n"
     ]
    }
   ],
   "source": [
    "def get_accuracy(model, dataloader):\n",
    "    '''\n",
    "    Helper function to get classification accuracy for a model over the items in dataloader.\n",
    "    taken from: https://pytorch.org/tutorials/beginner/blitz/cifar10_tutorial.html\n",
    "    '''\n",
    "    correct = 0\n",
    "    total = 0\n",
    "\n",
    "\n",
    "    # Go through all of the data\n",
    "    for batch in dataloader:\n",
    "        images, labels = batch\n",
    "\n",
    "        # Get the prediction of the net on the images\n",
    "        predicted = model.predict(images)\n",
    "\n",
    "\n",
    "        total += labels.size(0)\n",
    "\n",
    "        # Count those we got correct\n",
    "        correct += (predicted == labels).sum().item()\n",
    "\n",
    "    return(100 * correct / total)\n",
    "\n",
    "\n",
    "print(f\"Pre training accuracy: {get_accuracy(CNN_model, test_dataloader)}%\")"
   ]
  },
  {
   "cell_type": "markdown",
   "metadata": {
    "id": "_89ouGuWnZUU"
   },
   "source": [
    "That's basically random guessing, which makes sense since the network parameters are totally random right now.\n",
    "\n",
    "We can now iterate through the data updating the parameters with backpropagation."
   ]
  },
  {
   "cell_type": "code",
   "execution_count": null,
   "metadata": {
    "colab": {
     "base_uri": "https://localhost:8080/",
     "height": 165,
     "referenced_widgets": [
      "5fa9d4512ca340f9b8ba7fe2c7fd1652",
      "af9c00c83beb4abcb2d43ea1461ba263",
      "1620dc86fb484524ae0aa5f0fee55fc9",
      "6789ab8e152e4734b7d1e9c82dd1bc60",
      "ebf67eb2dae3476f8cde48906364bb71",
      "05f9f4f6e69e4b6faa1ee58d2320fd21",
      "9f08404f24f94b149aaeebed823421d0",
      "e2d8a95f4a4e46d1952267f12047479d",
      "072e60d824de4ffc80636a3ce9172702",
      "619756f583384920a52b53aceed25c85",
      "d1a6c6ec98ca46aca7480fccf96900ee",
      "23f38bb0dd704491a31e8ac7d23a9fe3",
      "63a44e941d7e4ced9b6638654596a6ca",
      "e73c1bec9d614b62851d878930baecdb",
      "cc3963e0757b4ad2933251a865fb33a7",
      "1dcff8d190334e02941fa691ba121387",
      "bbbbbc62cb844e7f840fe93e0da98e85",
      "42490d8e25bc41cba84d7fcd4eb86a99",
      "8df9ff4314f9439dafbf93391b13673d",
      "a14ac18564da44c69b16db3c4af026e2",
      "3868d43af2794611a1b6634a16cbaf7b",
      "3fab9e27496141959e2da24af855fb0a",
      "a5680760ba1c4395bdb862c9a55dc363",
      "d0b1d91d668b4c2c99ad137a5515bf6f",
      "84182f0dd3ba4eb68f0cba9fb6dbf338",
      "825276273b1342cdbe2c1b8fba1e4592",
      "7103915db2ad4f69aff50f89250c6ce6",
      "03e7b18b0d79469bba36fe39025d4142",
      "11b9ad9ff4154926b9613c698225854a",
      "78ba1dc81bca4183ac090fde3a399814",
      "43524d5a628d41eeb6fe34576b5b0358",
      "5f10a44c694e482785b3bbf7d9139346",
      "5eafc4d6394948bca55d928fd01f87db"
     ]
    },
    "id": "75J5qQEDnZUW",
    "outputId": "25a85404-5e6e-4640-8f7e-ac16ff24d483",
    "scrolled": true
   },
   "outputs": [
    {
     "data": {
      "application/vnd.jupyter.widget-view+json": {
       "model_id": "5fa9d4512ca340f9b8ba7fe2c7fd1652",
       "version_major": 2,
       "version_minor": 0
      },
      "text/plain": [
       "Total epochs:   0%|          | 0/2 [00:00<?, ?it/s]"
      ]
     },
     "metadata": {},
     "output_type": "display_data"
    },
    {
     "data": {
      "application/vnd.jupyter.widget-view+json": {
       "model_id": "23f38bb0dd704491a31e8ac7d23a9fe3",
       "version_major": 2,
       "version_minor": 0
      },
      "text/plain": [
       "Epoch 0:   0%|          | 0/12500 [00:00<?, ?it/s]"
      ]
     },
     "metadata": {},
     "output_type": "display_data"
    },
    {
     "name": "stdout",
     "output_type": "stream",
     "text": [
      "Avg loss: 1.514 | Avg training accuracy: 46.76 | Avg test accuracy: 59.64\n"
     ]
    },
    {
     "data": {
      "application/vnd.jupyter.widget-view+json": {
       "model_id": "a5680760ba1c4395bdb862c9a55dc363",
       "version_major": 2,
       "version_minor": 0
      },
      "text/plain": [
       "Epoch 1:   0%|          | 0/12500 [00:00<?, ?it/s]"
      ]
     },
     "metadata": {},
     "output_type": "display_data"
    },
    {
     "name": "stdout",
     "output_type": "stream",
     "text": [
      "Avg loss: 0.997 | Avg training accuracy: 67.76 | Avg test accuracy: 67.11\n",
      "Finished Training\n"
     ]
    }
   ],
   "source": [
    "# re-initiliaze the model\n",
    "CNN_model = MultilayerCNN()\n",
    "\n",
    "\n",
    "# MAIN EPOCH LOOP: the epochs are the number of times we loop through the entire training set.\n",
    "for epoch in tnrange(2, desc=\"Total epochs: \"):\n",
    "\n",
    "    loss_sum = 0\n",
    "    acc_sum = 0\n",
    "\n",
    "    # BATCH LOOP: loop over the data batches using the data loader\n",
    "    # if you don't have tqdm installed, just use this simpler for-loop instead\n",
    "    # for batch in train_dataloader:\n",
    "    for batch in tqdm_notebook(train_dataloader, desc=f\"Epoch {epoch}: \"):\n",
    "\n",
    "        # get the inputs\n",
    "        inputs, labels = batch\n",
    "\n",
    "        # FORWARD PASS and loss calculation\n",
    "        outputs = CNN_model(inputs)\n",
    "        loss = CNN_model.cross_entropy_loss(outputs, labels)\n",
    "\n",
    "        # BACKWARD PASS but zero the gradients first to delete the old ones\n",
    "        # as pytorch accumulates gradients by default\n",
    "        CNN_model.optimizer.zero_grad()\n",
    "        loss.backward()\n",
    "\n",
    "        # UPDATE: the model weights are updated\n",
    "        CNN_model.optimizer.step()\n",
    "\n",
    "        # MONITORING: save loss and accuracy on the batch to track the training\n",
    "        loss_sum += loss.item()\n",
    "\n",
    "        # Get the prediction of the net on the images\n",
    "        predicted = CNN_model.predict(inputs)\n",
    "        acc_sum += (labels == predicted).sum().item() / labels.shape[0]\n",
    "\n",
    "\n",
    "    # print summary of training metrics\n",
    "    loss_avg = loss_sum / len(train_dataloader)\n",
    "    acc_avg = acc_sum / len(train_dataloader)\n",
    "    test_acc = get_accuracy(CNN_model, test_dataloader)\n",
    "\n",
    "    print(f\"Avg loss: {np.round(loss_avg, 4)} | \"\\\n",
    "          f\"Avg training accuracy: {np.round(acc_avg*100, 2)} | \"\\\n",
    "          f\"Avg test accuracy: {np.round(test_acc, 2)}\")\n",
    "\n",
    "print('Finished Training')"
   ]
  },
  {
   "cell_type": "markdown",
   "metadata": {
    "id": "Cxncv_6jnZUb"
   },
   "source": [
    "We see there has been a substantial improvement (~65-70% test accuracy) and we only ran through the training set twice. In general, you'd want to train your model for several more epochs and only stop when the test accuracy stops to decrease. As a last step, we can save our model parameters. More info about saving and loading models in Pytorch [can be found here](https://pytorch.org/tutorials/beginner/saving_loading_models.html)."
   ]
  },
  {
   "cell_type": "code",
   "execution_count": null,
   "metadata": {
    "id": "tJte5UFO-xNp"
   },
   "outputs": [],
   "source": [
    "# save the state model of the trained model\n",
    "torch.save(CNN_model.state_dict(), \"trained_CNN_state.pt\")"
   ]
  },
  {
   "cell_type": "markdown",
   "metadata": {
    "id": "D-IdOGbCnZU2"
   },
   "source": [
    "### Model Evaluation in Detail\n",
    "\n",
    "First, we will reload the pre-trained `MultilayerCNN` model using the code below:"
   ]
  },
  {
   "cell_type": "code",
   "execution_count": null,
   "metadata": {
    "colab": {
     "base_uri": "https://localhost:8080/"
    },
    "id": "vB46YnJp-xNr",
    "outputId": "c3ed03df-262f-4e4b-872e-482a8531be37"
   },
   "outputs": [
    {
     "data": {
      "text/plain": [
       "MultilayerCNN(\n",
       "  (conv_layer): Sequential(\n",
       "    (0): Conv2d(3, 32, kernel_size=(3, 3), stride=(1, 1), padding=(1, 1))\n",
       "    (1): ReLU(inplace=True)\n",
       "    (2): MaxPool2d(kernel_size=2, stride=2, padding=0, dilation=1, ceil_mode=False)\n",
       "    (3): Conv2d(32, 64, kernel_size=(3, 3), stride=(1, 1), padding=(1, 1))\n",
       "    (4): ReLU(inplace=True)\n",
       "    (5): MaxPool2d(kernel_size=2, stride=2, padding=0, dilation=1, ceil_mode=False)\n",
       "    (6): Conv2d(64, 128, kernel_size=(3, 3), stride=(1, 1), padding=(1, 1))\n",
       "    (7): ReLU(inplace=True)\n",
       "    (8): MaxPool2d(kernel_size=2, stride=2, padding=0, dilation=1, ceil_mode=False)\n",
       "  )\n",
       "  (fc_layer): Sequential(\n",
       "    (0): Linear(in_features=2048, out_features=512, bias=True)\n",
       "    (1): ReLU(inplace=True)\n",
       "    (2): Linear(in_features=512, out_features=10, bias=True)\n",
       "  )\n",
       "  (softmax_layer): Softmax(dim=1)\n",
       "  (cross_entropy_loss): CrossEntropyLoss()\n",
       ")"
      ]
     },
     "execution_count": 66,
     "metadata": {},
     "output_type": "execute_result"
    }
   ],
   "source": [
    "# Loading models from states: you initialize the architecture and load in the state dictionary.\n",
    "\n",
    "new_CNN_model = MultilayerCNN()\n",
    "new_CNN_model.load_state_dict(torch.load(\"trained_CNN_state.pt\"))\n",
    "\n",
    "# print out to see the model details\n",
    "new_CNN_model"
   ]
  },
  {
   "cell_type": "markdown",
   "metadata": {
    "id": "p_iFBgeb-xNs"
   },
   "source": [
    "Once we have the model, we'll evaluate it by looking at the confusion matrix. This code will save your predictions and labels on the test data and plot the confusion matrix. What are the classes that are often mixed up by the model?"
   ]
  },
  {
   "cell_type": "code",
   "execution_count": null,
   "metadata": {
    "colab": {
     "base_uri": "https://localhost:8080/"
    },
    "id": "NnkLXUkw-xNt",
    "outputId": "56a1d928-2915-4ab9-8e61-3577455de61f"
   },
   "outputs": [
    {
     "data": {
      "image/png": "[encoded data removed]",
      "text/plain": [
       "<Figure size 1000x1000 with 2 Axes>"
      ]
     },
     "metadata": {},
     "output_type": "display_data"
    }
   ],
   "source": [
    "#Evaluate the confusion matrix\n",
    "\n",
    "from sklearn.metrics import classification_report, confusion_matrix\n",
    "from sklearn.metrics import ConfusionMatrixDisplay\n",
    "\n",
    "\n",
    "# save the prediction and labels as we loop through the data\n",
    "label_list = []\n",
    "prediction_list = []\n",
    "\n",
    "\n",
    "for batch in test_dataloader:\n",
    "    images, labels = batch\n",
    "    predicted = new_CNN_model.predict(images)\n",
    "\n",
    "    label_list.extend(list(labels.numpy()))\n",
    "    prediction_list.extend(list(predicted.numpy()))\n",
    "\n",
    "\n",
    "# calculate the confusion matrix and plot\n",
    "cm = confusion_matrix(label_list, prediction_list, normalize=\"true\")\n",
    "\n",
    "class_labels = ['airplane', 'automobile', 'bird', 'cat', 'deer',\n",
    "          'dog', 'frog', 'horse', 'ship', 'truck']\n",
    "\n",
    "disp = ConfusionMatrixDisplay(confusion_matrix=cm,\n",
    "                              display_labels=class_labels)\n",
    "\n",
    "fig, ax = plt.subplots(figsize=(10, 10))\n",
    "disp = disp.plot(xticks_rotation='vertical', ax=ax, cmap='summer')\n",
    "plt.show()"
   ]
  },
  {
   "cell_type": "markdown",
   "metadata": {
    "id": "vEccG6Ta-xNu"
   },
   "source": [
    "We can also visualize individual predictions to better understand where the model is making mistakes. We want to see if these are these mistakes a human would make, or if there is there something fundamentally amiss how our model operates:"
   ]
  },
  {
   "cell_type": "code",
   "execution_count": null,
   "metadata": {
    "colab": {
     "base_uri": "https://localhost:8080/"
    },
    "id": "7Robzxwh-xNv",
    "outputId": "99e4c3bb-bb3c-431a-abe7-5e9d342edc39"
   },
   "outputs": [
    {
     "data": {
      "image/png": "[encoded data removed]",
      "text/plain": [
       "<Figure size 2000x1000 with 50 Axes>"
      ]
     },
     "metadata": {},
     "output_type": "display_data"
    }
   ],
   "source": [
    "# Plot the predicted probabilities for individual images\n",
    "# Based on: https://www.kaggle.com/faressayah/cifar-10-image-classification-using-cnns-88\n",
    "\n",
    "def plot_image(predictions, true_label, image):\n",
    "    \"\"\"Plot the image with custom title.\"\"\"\n",
    "\n",
    "    plt.grid(False)\n",
    "    plt.xticks([])\n",
    "    plt.yticks([])\n",
    "\n",
    "    # transform back our image to the right scale and form\n",
    "    inverse_normalized = image.transpose(0, 2).transpose(0,1) * (0.5) + 0.5\n",
    "    plt.imshow(inverse_normalized, cmap=plt.cm.binary)\n",
    "\n",
    "    predicted_label = np.argmax(predictions)\n",
    "    predicted_class, true_class = class_labels[int(predicted_label)], class_labels[int(true_label)]\n",
    "    label_text = f\"{predicted_class} {100*np.max(predictions):2.0f}% ({true_class})\"\n",
    "\n",
    "    plt.xlabel(label_text, color=\"black\", fontsize=10)\n",
    "\n",
    "def plot_value_array(predictions, true_label):\n",
    "    \"\"\"Plot the predicted probabilities with color coding.\"\"\"\n",
    "\n",
    "    plt.grid(False)\n",
    "    plt.xticks(range(10))\n",
    "    plt.yticks([])\n",
    "    thisplot = plt.bar(range(10), predictions, color=\"#777777\")\n",
    "    plt.ylim([0, 1])\n",
    "    predicted_label = np.argmax(predictions)\n",
    "\n",
    "    thisplot[predicted_label].set_color('#e7aba0')\n",
    "    thisplot[true_label].set_color('#9fb9e8')\n",
    "\n",
    "\n",
    "num_rows = 5\n",
    "num_cols = 5\n",
    "num_images = num_rows * num_cols\n",
    "\n",
    "np.random.seed(1)\n",
    "sample_indices = np.random.choice(len(test_dataset), num_images, replace=False)\n",
    "\n",
    "plt.figure(figsize=(2 * 2 * num_cols, 2 * num_rows))\n",
    "\n",
    "# Turn on \"Evaluation mode\"\n",
    "new_CNN_model.eval()\n",
    "\n",
    "for i, sample_idx in enumerate(sample_indices):\n",
    "    input_image, label = test_dataset[sample_idx]\n",
    "    predictions = new_CNN_model(input_image.unsqueeze(0)).squeeze()\n",
    "\n",
    "    predictions = predictions.data.numpy()\n",
    "\n",
    "    plt.subplot(num_rows, 2 * num_cols, 2 * i + 1)\n",
    "    plot_image(predictions, label, input_image)\n",
    "\n",
    "    plt.subplot(num_rows, 2*num_cols, 2*i+2)\n",
    "    plot_value_array(predictions, label)\n",
    "\n",
    "plt.tight_layout()\n",
    "sns.despine(left=True)\n",
    "plt.show()"
   ]
  },
  {
   "cell_type": "markdown",
   "metadata": {
    "id": "uqyXeSQR-xNx"
   },
   "source": [
    "### What does the CNN model predict for randomized input?"
   ]
  },
  {
   "cell_type": "markdown",
   "metadata": {
    "id": "-wIJCIQE-xNx"
   },
   "source": [
    "Using the same plot, we can look at how the model behaves if provided random input. Surprisingly, we almost always get the same prediction despite the randomness in input."
   ]
  },
  {
   "cell_type": "code",
   "execution_count": null,
   "metadata": {
    "colab": {
     "base_uri": "https://localhost:8080/"
    },
    "id": "vG5Y4BHP7i1y",
    "outputId": "8c976452-e9d1-4529-b42b-ea668cd25700"
   },
   "outputs": [
    {
     "data": {
      "image/png": "[encoded data removed]",
      "text/plain": [
       "<Figure size 2000x1000 with 50 Axes>"
      ]
     },
     "metadata": {},
     "output_type": "display_data"
    }
   ],
   "source": [
    "num_rows = 5\n",
    "num_cols = 5\n",
    "num_images = num_rows * num_cols\n",
    "\n",
    "sample_indices = np.random.choice(len(test_dataset), num_images, replace=False)\n",
    "\n",
    "plt.figure(figsize=(2 * 2 * num_cols, 2 * num_rows))\n",
    "\n",
    "new_CNN_model.eval()\n",
    "for i, sample_idx in enumerate(sample_indices):\n",
    "    input_image, label = torch.rand(3, 32, 32), torch.tensor([0]) # random input and dummy target\n",
    "    predictions = new_CNN_model(input_image.unsqueeze(0)).squeeze()\n",
    "    predictions = predictions.data.numpy()\n",
    "\n",
    "\n",
    "    plt.subplot(num_rows, 2 * num_cols, 2 * i + 1)\n",
    "    plot_image(predictions, label, input_image)\n",
    "\n",
    "    plt.subplot(num_rows, 2*num_cols, 2*i+2)\n",
    "    plot_value_array(predictions, label)\n",
    "\n",
    "plt.tight_layout()\n",
    "sns.despine(left=True)\n",
    "plt.show()"
   ]
  },
  {
   "cell_type": "markdown",
   "metadata": {
    "id": "jc4wOW8l-xN0"
   },
   "source": [
    "<div id=\"container\" style=\"position:relative;\">\n",
    "<div style=\"position:relative; float:right\"><img style=\"height:25px\"\"width: 50px\" src =\"https://drive.google.com/uc?export=view&id=14VoXUJftgptWtdNhtNYVm6cjVmEWpki1\" />\n",
    "</div>\n",
    "</div>"
   ]
  },
  {
   "cell_type": "code",
   "execution_count": null,
   "metadata": {
    "id": "FHEbfYGIuKsq"
   },
   "outputs": [],
   "source": []
  }
 ],
 "metadata": {
  "accelerator": "GPU",
  "colab": {
   "provenance": []
  },
  "hide_input": false,
  "kernelspec": {
   "display_name": "Python 3 (ipykernel)",
   "language": "python",
   "name": "python3"
  },
  "language_info": {
   "codemirror_mode": {
    "name": "ipython",
    "version": 3
   },
   "file_extension": ".py",
   "mimetype": "text/x-python",
   "name": "python",
   "nbconvert_exporter": "python",
   "pygments_lexer": "ipython3",
   "version": "3.9.13"
  },
  "widgets": {
   "application/vnd.jupyter.widget-state+json": {
    "03e7b18b0d79469bba36fe39025d4142": {
     "model_module": "@jupyter-widgets/base",
     "model_module_version": "1.2.0",
     "model_name": "LayoutModel",
     "state": {
      "_model_module": "@jupyter-widgets/base",
      "_model_module_version": "1.2.0",
      "_model_name": "LayoutModel",
      "_view_count": null,
      "_view_module": "@jupyter-widgets/base",
      "_view_module_version": "1.2.0",
      "_view_name": "LayoutView",
      "align_content": null,
      "align_items": null,
      "align_self": null,
      "border": null,
      "bottom": null,
      "display": null,
      "flex": null,
      "flex_flow": null,
      "grid_area": null,
      "grid_auto_columns": null,
      "grid_auto_flow": null,
      "grid_auto_rows": null,
      "grid_column": null,
      "grid_gap": null,
      "grid_row": null,
      "grid_template_areas": null,
      "grid_template_columns": null,
      "grid_template_rows": null,
      "height": null,
      "justify_content": null,
      "justify_items": null,
      "left": null,
      "margin": null,
      "max_height": null,
      "max_width": null,
      "min_height": null,
      "min_width": null,
      "object_fit": null,
      "object_position": null,
      "order": null,
      "overflow": null,
      "overflow_x": null,
      "overflow_y": null,
      "padding": null,
      "right": null,
      "top": null,
      "visibility": null,
      "width": null
     }
    },
    "05f9f4f6e69e4b6faa1ee58d2320fd21": {
     "model_module": "@jupyter-widgets/base",
     "model_module_version": "1.2.0",
     "model_name": "LayoutModel",
     "state": {
      "_model_module": "@jupyter-widgets/base",
      "_model_module_version": "1.2.0",
      "_model_name": "LayoutModel",
      "_view_count": null,
      "_view_module": "@jupyter-widgets/base",
      "_view_module_version": "1.2.0",
      "_view_name": "LayoutView",
      "align_content": null,
      "align_items": null,
      "align_self": null,
      "border": null,
      "bottom": null,
      "display": null,
      "flex": null,
      "flex_flow": null,
      "grid_area": null,
      "grid_auto_columns": null,
      "grid_auto_flow": null,
      "grid_auto_rows": null,
      "grid_column": null,
      "grid_gap": null,
      "grid_row": null,
      "grid_template_areas": null,
      "grid_template_columns": null,
      "grid_template_rows": null,
      "height": null,
      "justify_content": null,
      "justify_items": null,
      "left": null,
      "margin": null,
      "max_height": null,
      "max_width": null,
      "min_height": null,
      "min_width": null,
      "object_fit": null,
      "object_position": null,
      "order": null,
      "overflow": null,
      "overflow_x": null,
      "overflow_y": null,
      "padding": null,
      "right": null,
      "top": null,
      "visibility": null,
      "width": null
     }
    },
    "072e60d824de4ffc80636a3ce9172702": {
     "model_module": "@jupyter-widgets/controls",
     "model_module_version": "1.5.0",
     "model_name": "ProgressStyleModel",
     "state": {
      "_model_module": "@jupyter-widgets/controls",
      "_model_module_version": "1.5.0",
      "_model_name": "ProgressStyleModel",
      "_view_count": null,
      "_view_module": "@jupyter-widgets/base",
      "_view_module_version": "1.2.0",
      "_view_name": "StyleView",
      "bar_color": null,
      "description_width": ""
     }
    },
    "0ff727a7b1b842628c7e8216b3772959": {
     "model_module": "@jupyter-widgets/controls",
     "model_module_version": "1.5.0",
     "model_name": "HBoxModel",
     "state": {
      "_dom_classes": [],
      "_model_module": "@jupyter-widgets/controls",
      "_model_module_version": "1.5.0",
      "_model_name": "HBoxModel",
      "_view_count": null,
      "_view_module": "@jupyter-widgets/controls",
      "_view_module_version": "1.5.0",
      "_view_name": "HBoxView",
      "box_style": "",
      "children": [
       "IPY_MODEL_4c9ffaba1bb2477f9dd7b6102c11d62a",
       "IPY_MODEL_f30a4d682edc4e258cda25d9aa41bdd5",
       "IPY_MODEL_8b4016539de940338a5cb113718ea0a0"
      ],
      "layout": "IPY_MODEL_758ff3d58eb24d34acb7685201cf07bf"
     }
    },
    "11b9ad9ff4154926b9613c698225854a": {
     "model_module": "@jupyter-widgets/controls",
     "model_module_version": "1.5.0",
     "model_name": "DescriptionStyleModel",
     "state": {
      "_model_module": "@jupyter-widgets/controls",
      "_model_module_version": "1.5.0",
      "_model_name": "DescriptionStyleModel",
      "_view_count": null,
      "_view_module": "@jupyter-widgets/base",
      "_view_module_version": "1.2.0",
      "_view_name": "StyleView",
      "description_width": ""
     }
    },
    "1517a969610849308597df73904892dc": {
     "model_module": "@jupyter-widgets/controls",
     "model_module_version": "1.5.0",
     "model_name": "HBoxModel",
     "state": {
      "_dom_classes": [],
      "_model_module": "@jupyter-widgets/controls",
      "_model_module_version": "1.5.0",
      "_model_name": "HBoxModel",
      "_view_count": null,
      "_view_module": "@jupyter-widgets/controls",
      "_view_module_version": "1.5.0",
      "_view_name": "HBoxView",
      "box_style": "",
      "children": [
       "IPY_MODEL_6c750e1e615d41aca09020e013ad5027",
       "IPY_MODEL_362b521d41924eb6b8395dbbbde6ad06",
       "IPY_MODEL_ed06ef80bed9417a88732113edb13f1f"
      ],
      "layout": "IPY_MODEL_7a949fe7fc3e4aad8eeb2b550f231be8"
     }
    },
    "1620dc86fb484524ae0aa5f0fee55fc9": {
     "model_module": "@jupyter-widgets/controls",
     "model_module_version": "1.5.0",
     "model_name": "FloatProgressModel",
     "state": {
      "_dom_classes": [],
      "_model_module": "@jupyter-widgets/controls",
      "_model_module_version": "1.5.0",
      "_model_name": "FloatProgressModel",
      "_view_count": null,
      "_view_module": "@jupyter-widgets/controls",
      "_view_module_version": "1.5.0",
      "_view_name": "ProgressView",
      "bar_style": "success",
      "description": "",
      "description_tooltip": null,
      "layout": "IPY_MODEL_e2d8a95f4a4e46d1952267f12047479d",
      "max": 2,
      "min": 0,
      "orientation": "horizontal",
      "style": "IPY_MODEL_072e60d824de4ffc80636a3ce9172702",
      "value": 2
     }
    },
    "1908e9decff1447d8d9b0923d6edd6a2": {
     "model_module": "@jupyter-widgets/controls",
     "model_module_version": "1.5.0",
     "model_name": "DescriptionStyleModel",
     "state": {
      "_model_module": "@jupyter-widgets/controls",
      "_model_module_version": "1.5.0",
      "_model_name": "DescriptionStyleModel",
      "_view_count": null,
      "_view_module": "@jupyter-widgets/base",
      "_view_module_version": "1.2.0",
      "_view_name": "StyleView",
      "description_width": ""
     }
    },
    "1a151066f7b94d159e0bdd57f52e57eb": {
     "model_module": "@jupyter-widgets/controls",
     "model_module_version": "1.5.0",
     "model_name": "DescriptionStyleModel",
     "state": {
      "_model_module": "@jupyter-widgets/controls",
      "_model_module_version": "1.5.0",
      "_model_name": "DescriptionStyleModel",
      "_view_count": null,
      "_view_module": "@jupyter-widgets/base",
      "_view_module_version": "1.2.0",
      "_view_name": "StyleView",
      "description_width": ""
     }
    },
    "1d761aa0b68141568f870aafd84952f7": {
     "model_module": "@jupyter-widgets/controls",
     "model_module_version": "1.5.0",
     "model_name": "HTMLModel",
     "state": {
      "_dom_classes": [],
      "_model_module": "@jupyter-widgets/controls",
      "_model_module_version": "1.5.0",
      "_model_name": "HTMLModel",
      "_view_count": null,
      "_view_module": "@jupyter-widgets/controls",
      "_view_module_version": "1.5.0",
      "_view_name": "HTMLView",
      "description": "",
      "description_tooltip": null,
      "layout": "IPY_MODEL_b58682f7e4b749b29ad637ddd87c078d",
      "placeholder": "​",
      "style": "IPY_MODEL_b06bdc064fb943e7bee3521ab48cd10e",
      "value": " 100/100 [00:00&lt;00:00, 925.91it/s]"
     }
    },
    "1dcff8d190334e02941fa691ba121387": {
     "model_module": "@jupyter-widgets/base",
     "model_module_version": "1.2.0",
     "model_name": "LayoutModel",
     "state": {
      "_model_module": "@jupyter-widgets/base",
      "_model_module_version": "1.2.0",
      "_model_name": "LayoutModel",
      "_view_count": null,
      "_view_module": "@jupyter-widgets/base",
      "_view_module_version": "1.2.0",
      "_view_name": "LayoutView",
      "align_content": null,
      "align_items": null,
      "align_self": null,
      "border": null,
      "bottom": null,
      "display": null,
      "flex": null,
      "flex_flow": null,
      "grid_area": null,
      "grid_auto_columns": null,
      "grid_auto_flow": null,
      "grid_auto_rows": null,
      "grid_column": null,
      "grid_gap": null,
      "grid_row": null,
      "grid_template_areas": null,
      "grid_template_columns": null,
      "grid_template_rows": null,
      "height": null,
      "justify_content": null,
      "justify_items": null,
      "left": null,
      "margin": null,
      "max_height": null,
      "max_width": null,
      "min_height": null,
      "min_width": null,
      "object_fit": null,
      "object_position": null,
      "order": null,
      "overflow": null,
      "overflow_x": null,
      "overflow_y": null,
      "padding": null,
      "right": null,
      "top": null,
      "visibility": null,
      "width": null
     }
    },
    "228a3b8b3c1c4f2d81964aa487ceecd6": {
     "model_module": "@jupyter-widgets/base",
     "model_module_version": "1.2.0",
     "model_name": "LayoutModel",
     "state": {
      "_model_module": "@jupyter-widgets/base",
      "_model_module_version": "1.2.0",
      "_model_name": "LayoutModel",
      "_view_count": null,
      "_view_module": "@jupyter-widgets/base",
      "_view_module_version": "1.2.0",
      "_view_name": "LayoutView",
      "align_content": null,
      "align_items": null,
      "align_self": null,
      "border": null,
      "bottom": null,
      "display": null,
      "flex": null,
      "flex_flow": null,
      "grid_area": null,
      "grid_auto_columns": null,
      "grid_auto_flow": null,
      "grid_auto_rows": null,
      "grid_column": null,
      "grid_gap": null,
      "grid_row": null,
      "grid_template_areas": null,
      "grid_template_columns": null,
      "grid_template_rows": null,
      "height": null,
      "justify_content": null,
      "justify_items": null,
      "left": null,
      "margin": null,
      "max_height": null,
      "max_width": null,
      "min_height": null,
      "min_width": null,
      "object_fit": null,
      "object_position": null,
      "order": null,
      "overflow": null,
      "overflow_x": null,
      "overflow_y": null,
      "padding": null,
      "right": null,
      "top": null,
      "visibility": null,
      "width": null
     }
    },
    "23f38bb0dd704491a31e8ac7d23a9fe3": {
     "model_module": "@jupyter-widgets/controls",
     "model_module_version": "1.5.0",
     "model_name": "HBoxModel",
     "state": {
      "_dom_classes": [],
      "_model_module": "@jupyter-widgets/controls",
      "_model_module_version": "1.5.0",
      "_model_name": "HBoxModel",
      "_view_count": null,
      "_view_module": "@jupyter-widgets/controls",
      "_view_module_version": "1.5.0",
      "_view_name": "HBoxView",
      "box_style": "",
      "children": [
       "IPY_MODEL_63a44e941d7e4ced9b6638654596a6ca",
       "IPY_MODEL_e73c1bec9d614b62851d878930baecdb",
       "IPY_MODEL_cc3963e0757b4ad2933251a865fb33a7"
      ],
      "layout": "IPY_MODEL_1dcff8d190334e02941fa691ba121387"
     }
    },
    "25c583bcfeb94eaaa5531845e391ebe5": {
     "model_module": "@jupyter-widgets/base",
     "model_module_version": "1.2.0",
     "model_name": "LayoutModel",
     "state": {
      "_model_module": "@jupyter-widgets/base",
      "_model_module_version": "1.2.0",
      "_model_name": "LayoutModel",
      "_view_count": null,
      "_view_module": "@jupyter-widgets/base",
      "_view_module_version": "1.2.0",
      "_view_name": "LayoutView",
      "align_content": null,
      "align_items": null,
      "align_self": null,
      "border": null,
      "bottom": null,
      "display": null,
      "flex": null,
      "flex_flow": null,
      "grid_area": null,
      "grid_auto_columns": null,
      "grid_auto_flow": null,
      "grid_auto_rows": null,
      "grid_column": null,
      "grid_gap": null,
      "grid_row": null,
      "grid_template_areas": null,
      "grid_template_columns": null,
      "grid_template_rows": null,
      "height": null,
      "justify_content": null,
      "justify_items": null,
      "left": null,
      "margin": null,
      "max_height": null,
      "max_width": null,
      "min_height": null,
      "min_width": null,
      "object_fit": null,
      "object_position": null,
      "order": null,
      "overflow": null,
      "overflow_x": null,
      "overflow_y": null,
      "padding": null,
      "right": null,
      "top": null,
      "visibility": null,
      "width": null
     }
    },
    "2fdeb1133f7e43bc83cef406ed976e44": {
     "model_module": "@jupyter-widgets/controls",
     "model_module_version": "1.5.0",
     "model_name": "ProgressStyleModel",
     "state": {
      "_model_module": "@jupyter-widgets/controls",
      "_model_module_version": "1.5.0",
      "_model_name": "ProgressStyleModel",
      "_view_count": null,
      "_view_module": "@jupyter-widgets/base",
      "_view_module_version": "1.2.0",
      "_view_name": "StyleView",
      "bar_color": null,
      "description_width": ""
     }
    },
    "362b521d41924eb6b8395dbbbde6ad06": {
     "model_module": "@jupyter-widgets/controls",
     "model_module_version": "1.5.0",
     "model_name": "FloatProgressModel",
     "state": {
      "_dom_classes": [],
      "_model_module": "@jupyter-widgets/controls",
      "_model_module_version": "1.5.0",
      "_model_name": "FloatProgressModel",
      "_view_count": null,
      "_view_module": "@jupyter-widgets/controls",
      "_view_module_version": "1.5.0",
      "_view_name": "ProgressView",
      "bar_style": "success",
      "description": "",
      "description_tooltip": null,
      "layout": "IPY_MODEL_d4009fc830c24cc5acf2b0b219f076a5",
      "max": 100,
      "min": 0,
      "orientation": "horizontal",
      "style": "IPY_MODEL_39a4c3af45944b83830a6e82fc014bb9",
      "value": 100
     }
    },
    "3868d43af2794611a1b6634a16cbaf7b": {
     "model_module": "@jupyter-widgets/base",
     "model_module_version": "1.2.0",
     "model_name": "LayoutModel",
     "state": {
      "_model_module": "@jupyter-widgets/base",
      "_model_module_version": "1.2.0",
      "_model_name": "LayoutModel",
      "_view_count": null,
      "_view_module": "@jupyter-widgets/base",
      "_view_module_version": "1.2.0",
      "_view_name": "LayoutView",
      "align_content": null,
      "align_items": null,
      "align_self": null,
      "border": null,
      "bottom": null,
      "display": null,
      "flex": null,
      "flex_flow": null,
      "grid_area": null,
      "grid_auto_columns": null,
      "grid_auto_flow": null,
      "grid_auto_rows": null,
      "grid_column": null,
      "grid_gap": null,
      "grid_row": null,
      "grid_template_areas": null,
      "grid_template_columns": null,
      "grid_template_rows": null,
      "height": null,
      "justify_content": null,
      "justify_items": null,
      "left": null,
      "margin": null,
      "max_height": null,
      "max_width": null,
      "min_height": null,
      "min_width": null,
      "object_fit": null,
      "object_position": null,
      "order": null,
      "overflow": null,
      "overflow_x": null,
      "overflow_y": null,
      "padding": null,
      "right": null,
      "top": null,
      "visibility": null,
      "width": null
     }
    },
    "39a4c3af45944b83830a6e82fc014bb9": {
     "model_module": "@jupyter-widgets/controls",
     "model_module_version": "1.5.0",
     "model_name": "ProgressStyleModel",
     "state": {
      "_model_module": "@jupyter-widgets/controls",
      "_model_module_version": "1.5.0",
      "_model_name": "ProgressStyleModel",
      "_view_count": null,
      "_view_module": "@jupyter-widgets/base",
      "_view_module_version": "1.2.0",
      "_view_name": "StyleView",
      "bar_color": null,
      "description_width": ""
     }
    },
    "3fab9e27496141959e2da24af855fb0a": {
     "model_module": "@jupyter-widgets/controls",
     "model_module_version": "1.5.0",
     "model_name": "DescriptionStyleModel",
     "state": {
      "_model_module": "@jupyter-widgets/controls",
      "_model_module_version": "1.5.0",
      "_model_name": "DescriptionStyleModel",
      "_view_count": null,
      "_view_module": "@jupyter-widgets/base",
      "_view_module_version": "1.2.0",
      "_view_name": "StyleView",
      "description_width": ""
     }
    },
    "42490d8e25bc41cba84d7fcd4eb86a99": {
     "model_module": "@jupyter-widgets/controls",
     "model_module_version": "1.5.0",
     "model_name": "DescriptionStyleModel",
     "state": {
      "_model_module": "@jupyter-widgets/controls",
      "_model_module_version": "1.5.0",
      "_model_name": "DescriptionStyleModel",
      "_view_count": null,
      "_view_module": "@jupyter-widgets/base",
      "_view_module_version": "1.2.0",
      "_view_name": "StyleView",
      "description_width": ""
     }
    },
    "43524d5a628d41eeb6fe34576b5b0358": {
     "model_module": "@jupyter-widgets/controls",
     "model_module_version": "1.5.0",
     "model_name": "ProgressStyleModel",
     "state": {
      "_model_module": "@jupyter-widgets/controls",
      "_model_module_version": "1.5.0",
      "_model_name": "ProgressStyleModel",
      "_view_count": null,
      "_view_module": "@jupyter-widgets/base",
      "_view_module_version": "1.2.0",
      "_view_name": "StyleView",
      "bar_color": null,
      "description_width": ""
     }
    },
    "450bae9a93a94a69ac47df0072195812": {
     "model_module": "@jupyter-widgets/base",
     "model_module_version": "1.2.0",
     "model_name": "LayoutModel",
     "state": {
      "_model_module": "@jupyter-widgets/base",
      "_model_module_version": "1.2.0",
      "_model_name": "LayoutModel",
      "_view_count": null,
      "_view_module": "@jupyter-widgets/base",
      "_view_module_version": "1.2.0",
      "_view_name": "LayoutView",
      "align_content": null,
      "align_items": null,
      "align_self": null,
      "border": null,
      "bottom": null,
      "display": null,
      "flex": null,
      "flex_flow": null,
      "grid_area": null,
      "grid_auto_columns": null,
      "grid_auto_flow": null,
      "grid_auto_rows": null,
      "grid_column": null,
      "grid_gap": null,
      "grid_row": null,
      "grid_template_areas": null,
      "grid_template_columns": null,
      "grid_template_rows": null,
      "height": null,
      "justify_content": null,
      "justify_items": null,
      "left": null,
      "margin": null,
      "max_height": null,
      "max_width": null,
      "min_height": null,
      "min_width": null,
      "object_fit": null,
      "object_position": null,
      "order": null,
      "overflow": null,
      "overflow_x": null,
      "overflow_y": null,
      "padding": null,
      "right": null,
      "top": null,
      "visibility": null,
      "width": null
     }
    },
    "481d8a18d86348ffb1434d8d3ce00e24": {
     "model_module": "@jupyter-widgets/controls",
     "model_module_version": "1.5.0",
     "model_name": "HTMLModel",
     "state": {
      "_dom_classes": [],
      "_model_module": "@jupyter-widgets/controls",
      "_model_module_version": "1.5.0",
      "_model_name": "HTMLModel",
      "_view_count": null,
      "_view_module": "@jupyter-widgets/controls",
      "_view_module_version": "1.5.0",
      "_view_name": "HTMLView",
      "description": "",
      "description_tooltip": null,
      "layout": "IPY_MODEL_450bae9a93a94a69ac47df0072195812",
      "placeholder": "​",
      "style": "IPY_MODEL_b6dbc7f414724ab38ac89d644f53ef4f",
      "value": "Total epochs: 100%"
     }
    },
    "4c9ffaba1bb2477f9dd7b6102c11d62a": {
     "model_module": "@jupyter-widgets/controls",
     "model_module_version": "1.5.0",
     "model_name": "HTMLModel",
     "state": {
      "_dom_classes": [],
      "_model_module": "@jupyter-widgets/controls",
      "_model_module_version": "1.5.0",
      "_model_name": "HTMLModel",
      "_view_count": null,
      "_view_module": "@jupyter-widgets/controls",
      "_view_module_version": "1.5.0",
      "_view_name": "HTMLView",
      "description": "",
      "description_tooltip": null,
      "layout": "IPY_MODEL_a47083f8fbc541cc9379d5a59536113e",
      "placeholder": "​",
      "style": "IPY_MODEL_9bbaabe262634330b2bbba350513bd55",
      "value": "Total epochs: 100%"
     }
    },
    "502efffbcf1845639c8d2fa3596e4448": {
     "model_module": "@jupyter-widgets/controls",
     "model_module_version": "1.5.0",
     "model_name": "FloatProgressModel",
     "state": {
      "_dom_classes": [],
      "_model_module": "@jupyter-widgets/controls",
      "_model_module_version": "1.5.0",
      "_model_name": "FloatProgressModel",
      "_view_count": null,
      "_view_module": "@jupyter-widgets/controls",
      "_view_module_version": "1.5.0",
      "_view_name": "ProgressView",
      "bar_style": "success",
      "description": "",
      "description_tooltip": null,
      "layout": "IPY_MODEL_51f47deaff774ffd9dc0954d99fa2d12",
      "max": 100,
      "min": 0,
      "orientation": "horizontal",
      "style": "IPY_MODEL_92c109563c7941a5b052c6d50dd50ac7",
      "value": 100
     }
    },
    "51f47deaff774ffd9dc0954d99fa2d12": {
     "model_module": "@jupyter-widgets/base",
     "model_module_version": "1.2.0",
     "model_name": "LayoutModel",
     "state": {
      "_model_module": "@jupyter-widgets/base",
      "_model_module_version": "1.2.0",
      "_model_name": "LayoutModel",
      "_view_count": null,
      "_view_module": "@jupyter-widgets/base",
      "_view_module_version": "1.2.0",
      "_view_name": "LayoutView",
      "align_content": null,
      "align_items": null,
      "align_self": null,
      "border": null,
      "bottom": null,
      "display": null,
      "flex": null,
      "flex_flow": null,
      "grid_area": null,
      "grid_auto_columns": null,
      "grid_auto_flow": null,
      "grid_auto_rows": null,
      "grid_column": null,
      "grid_gap": null,
      "grid_row": null,
      "grid_template_areas": null,
      "grid_template_columns": null,
      "grid_template_rows": null,
      "height": null,
      "justify_content": null,
      "justify_items": null,
      "left": null,
      "margin": null,
      "max_height": null,
      "max_width": null,
      "min_height": null,
      "min_width": null,
      "object_fit": null,
      "object_position": null,
      "order": null,
      "overflow": null,
      "overflow_x": null,
      "overflow_y": null,
      "padding": null,
      "right": null,
      "top": null,
      "visibility": null,
      "width": null
     }
    },
    "53164ef4d7e34b64b2100f6c678edf8a": {
     "model_module": "@jupyter-widgets/controls",
     "model_module_version": "1.5.0",
     "model_name": "FloatProgressModel",
     "state": {
      "_dom_classes": [],
      "_model_module": "@jupyter-widgets/controls",
      "_model_module_version": "1.5.0",
      "_model_name": "FloatProgressModel",
      "_view_count": null,
      "_view_module": "@jupyter-widgets/controls",
      "_view_module_version": "1.5.0",
      "_view_name": "ProgressView",
      "bar_style": "success",
      "description": "",
      "description_tooltip": null,
      "layout": "IPY_MODEL_d3c76673f49c4d7197aa3ee7685428cf",
      "max": 100,
      "min": 0,
      "orientation": "horizontal",
      "style": "IPY_MODEL_2fdeb1133f7e43bc83cef406ed976e44",
      "value": 100
     }
    },
    "5eafc4d6394948bca55d928fd01f87db": {
     "model_module": "@jupyter-widgets/controls",
     "model_module_version": "1.5.0",
     "model_name": "DescriptionStyleModel",
     "state": {
      "_model_module": "@jupyter-widgets/controls",
      "_model_module_version": "1.5.0",
      "_model_name": "DescriptionStyleModel",
      "_view_count": null,
      "_view_module": "@jupyter-widgets/base",
      "_view_module_version": "1.2.0",
      "_view_name": "StyleView",
      "description_width": ""
     }
    },
    "5f10a44c694e482785b3bbf7d9139346": {
     "model_module": "@jupyter-widgets/base",
     "model_module_version": "1.2.0",
     "model_name": "LayoutModel",
     "state": {
      "_model_module": "@jupyter-widgets/base",
      "_model_module_version": "1.2.0",
      "_model_name": "LayoutModel",
      "_view_count": null,
      "_view_module": "@jupyter-widgets/base",
      "_view_module_version": "1.2.0",
      "_view_name": "LayoutView",
      "align_content": null,
      "align_items": null,
      "align_self": null,
      "border": null,
      "bottom": null,
      "display": null,
      "flex": null,
      "flex_flow": null,
      "grid_area": null,
      "grid_auto_columns": null,
      "grid_auto_flow": null,
      "grid_auto_rows": null,
      "grid_column": null,
      "grid_gap": null,
      "grid_row": null,
      "grid_template_areas": null,
      "grid_template_columns": null,
      "grid_template_rows": null,
      "height": null,
      "justify_content": null,
      "justify_items": null,
      "left": null,
      "margin": null,
      "max_height": null,
      "max_width": null,
      "min_height": null,
      "min_width": null,
      "object_fit": null,
      "object_position": null,
      "order": null,
      "overflow": null,
      "overflow_x": null,
      "overflow_y": null,
      "padding": null,
      "right": null,
      "top": null,
      "visibility": null,
      "width": null
     }
    },
    "5fa9d4512ca340f9b8ba7fe2c7fd1652": {
     "model_module": "@jupyter-widgets/controls",
     "model_module_version": "1.5.0",
     "model_name": "HBoxModel",
     "state": {
      "_dom_classes": [],
      "_model_module": "@jupyter-widgets/controls",
      "_model_module_version": "1.5.0",
      "_model_name": "HBoxModel",
      "_view_count": null,
      "_view_module": "@jupyter-widgets/controls",
      "_view_module_version": "1.5.0",
      "_view_name": "HBoxView",
      "box_style": "",
      "children": [
       "IPY_MODEL_af9c00c83beb4abcb2d43ea1461ba263",
       "IPY_MODEL_1620dc86fb484524ae0aa5f0fee55fc9",
       "IPY_MODEL_6789ab8e152e4734b7d1e9c82dd1bc60"
      ],
      "layout": "IPY_MODEL_ebf67eb2dae3476f8cde48906364bb71"
     }
    },
    "619756f583384920a52b53aceed25c85": {
     "model_module": "@jupyter-widgets/base",
     "model_module_version": "1.2.0",
     "model_name": "LayoutModel",
     "state": {
      "_model_module": "@jupyter-widgets/base",
      "_model_module_version": "1.2.0",
      "_model_name": "LayoutModel",
      "_view_count": null,
      "_view_module": "@jupyter-widgets/base",
      "_view_module_version": "1.2.0",
      "_view_name": "LayoutView",
      "align_content": null,
      "align_items": null,
      "align_self": null,
      "border": null,
      "bottom": null,
      "display": null,
      "flex": null,
      "flex_flow": null,
      "grid_area": null,
      "grid_auto_columns": null,
      "grid_auto_flow": null,
      "grid_auto_rows": null,
      "grid_column": null,
      "grid_gap": null,
      "grid_row": null,
      "grid_template_areas": null,
      "grid_template_columns": null,
      "grid_template_rows": null,
      "height": null,
      "justify_content": null,
      "justify_items": null,
      "left": null,
      "margin": null,
      "max_height": null,
      "max_width": null,
      "min_height": null,
      "min_width": null,
      "object_fit": null,
      "object_position": null,
      "order": null,
      "overflow": null,
      "overflow_x": null,
      "overflow_y": null,
      "padding": null,
      "right": null,
      "top": null,
      "visibility": null,
      "width": null
     }
    },
    "62bbbc7c2bcd4175828e16285d166bea": {
     "model_module": "@jupyter-widgets/controls",
     "model_module_version": "1.5.0",
     "model_name": "DescriptionStyleModel",
     "state": {
      "_model_module": "@jupyter-widgets/controls",
      "_model_module_version": "1.5.0",
      "_model_name": "DescriptionStyleModel",
      "_view_count": null,
      "_view_module": "@jupyter-widgets/base",
      "_view_module_version": "1.2.0",
      "_view_name": "StyleView",
      "description_width": ""
     }
    },
    "63a44e941d7e4ced9b6638654596a6ca": {
     "model_module": "@jupyter-widgets/controls",
     "model_module_version": "1.5.0",
     "model_name": "HTMLModel",
     "state": {
      "_dom_classes": [],
      "_model_module": "@jupyter-widgets/controls",
      "_model_module_version": "1.5.0",
      "_model_name": "HTMLModel",
      "_view_count": null,
      "_view_module": "@jupyter-widgets/controls",
      "_view_module_version": "1.5.0",
      "_view_name": "HTMLView",
      "description": "",
      "description_tooltip": null,
      "layout": "IPY_MODEL_bbbbbc62cb844e7f840fe93e0da98e85",
      "placeholder": "​",
      "style": "IPY_MODEL_42490d8e25bc41cba84d7fcd4eb86a99",
      "value": "Epoch 0: 100%"
     }
    },
    "6789ab8e152e4734b7d1e9c82dd1bc60": {
     "model_module": "@jupyter-widgets/controls",
     "model_module_version": "1.5.0",
     "model_name": "HTMLModel",
     "state": {
      "_dom_classes": [],
      "_model_module": "@jupyter-widgets/controls",
      "_model_module_version": "1.5.0",
      "_model_name": "HTMLModel",
      "_view_count": null,
      "_view_module": "@jupyter-widgets/controls",
      "_view_module_version": "1.5.0",
      "_view_name": "HTMLView",
      "description": "",
      "description_tooltip": null,
      "layout": "IPY_MODEL_619756f583384920a52b53aceed25c85",
      "placeholder": "​",
      "style": "IPY_MODEL_d1a6c6ec98ca46aca7480fccf96900ee",
      "value": " 2/2 [07:13&lt;00:00, 215.60s/it]"
     }
    },
    "6c750e1e615d41aca09020e013ad5027": {
     "model_module": "@jupyter-widgets/controls",
     "model_module_version": "1.5.0",
     "model_name": "HTMLModel",
     "state": {
      "_dom_classes": [],
      "_model_module": "@jupyter-widgets/controls",
      "_model_module_version": "1.5.0",
      "_model_name": "HTMLModel",
      "_view_count": null,
      "_view_module": "@jupyter-widgets/controls",
      "_view_module_version": "1.5.0",
      "_view_name": "HTMLView",
      "description": "",
      "description_tooltip": null,
      "layout": "IPY_MODEL_228a3b8b3c1c4f2d81964aa487ceecd6",
      "placeholder": "​",
      "style": "IPY_MODEL_62bbbc7c2bcd4175828e16285d166bea",
      "value": "Total epochs: 100%"
     }
    },
    "7103915db2ad4f69aff50f89250c6ce6": {
     "model_module": "@jupyter-widgets/base",
     "model_module_version": "1.2.0",
     "model_name": "LayoutModel",
     "state": {
      "_model_module": "@jupyter-widgets/base",
      "_model_module_version": "1.2.0",
      "_model_name": "LayoutModel",
      "_view_count": null,
      "_view_module": "@jupyter-widgets/base",
      "_view_module_version": "1.2.0",
      "_view_name": "LayoutView",
      "align_content": null,
      "align_items": null,
      "align_self": null,
      "border": null,
      "bottom": null,
      "display": null,
      "flex": null,
      "flex_flow": null,
      "grid_area": null,
      "grid_auto_columns": null,
      "grid_auto_flow": null,
      "grid_auto_rows": null,
      "grid_column": null,
      "grid_gap": null,
      "grid_row": null,
      "grid_template_areas": null,
      "grid_template_columns": null,
      "grid_template_rows": null,
      "height": null,
      "justify_content": null,
      "justify_items": null,
      "left": null,
      "margin": null,
      "max_height": null,
      "max_width": null,
      "min_height": null,
      "min_width": null,
      "object_fit": null,
      "object_position": null,
      "order": null,
      "overflow": null,
      "overflow_x": null,
      "overflow_y": null,
      "padding": null,
      "right": null,
      "top": null,
      "visibility": null,
      "width": null
     }
    },
    "758ff3d58eb24d34acb7685201cf07bf": {
     "model_module": "@jupyter-widgets/base",
     "model_module_version": "1.2.0",
     "model_name": "LayoutModel",
     "state": {
      "_model_module": "@jupyter-widgets/base",
      "_model_module_version": "1.2.0",
      "_model_name": "LayoutModel",
      "_view_count": null,
      "_view_module": "@jupyter-widgets/base",
      "_view_module_version": "1.2.0",
      "_view_name": "LayoutView",
      "align_content": null,
      "align_items": null,
      "align_self": null,
      "border": null,
      "bottom": null,
      "display": null,
      "flex": null,
      "flex_flow": null,
      "grid_area": null,
      "grid_auto_columns": null,
      "grid_auto_flow": null,
      "grid_auto_rows": null,
      "grid_column": null,
      "grid_gap": null,
      "grid_row": null,
      "grid_template_areas": null,
      "grid_template_columns": null,
      "grid_template_rows": null,
      "height": null,
      "justify_content": null,
      "justify_items": null,
      "left": null,
      "margin": null,
      "max_height": null,
      "max_width": null,
      "min_height": null,
      "min_width": null,
      "object_fit": null,
      "object_position": null,
      "order": null,
      "overflow": null,
      "overflow_x": null,
      "overflow_y": null,
      "padding": null,
      "right": null,
      "top": null,
      "visibility": null,
      "width": null
     }
    },
    "78ba1dc81bca4183ac090fde3a399814": {
     "model_module": "@jupyter-widgets/base",
     "model_module_version": "1.2.0",
     "model_name": "LayoutModel",
     "state": {
      "_model_module": "@jupyter-widgets/base",
      "_model_module_version": "1.2.0",
      "_model_name": "LayoutModel",
      "_view_count": null,
      "_view_module": "@jupyter-widgets/base",
      "_view_module_version": "1.2.0",
      "_view_name": "LayoutView",
      "align_content": null,
      "align_items": null,
      "align_self": null,
      "border": null,
      "bottom": null,
      "display": null,
      "flex": null,
      "flex_flow": null,
      "grid_area": null,
      "grid_auto_columns": null,
      "grid_auto_flow": null,
      "grid_auto_rows": null,
      "grid_column": null,
      "grid_gap": null,
      "grid_row": null,
      "grid_template_areas": null,
      "grid_template_columns": null,
      "grid_template_rows": null,
      "height": null,
      "justify_content": null,
      "justify_items": null,
      "left": null,
      "margin": null,
      "max_height": null,
      "max_width": null,
      "min_height": null,
      "min_width": null,
      "object_fit": null,
      "object_position": null,
      "order": null,
      "overflow": null,
      "overflow_x": null,
      "overflow_y": null,
      "padding": null,
      "right": null,
      "top": null,
      "visibility": null,
      "width": null
     }
    },
    "7a949fe7fc3e4aad8eeb2b550f231be8": {
     "model_module": "@jupyter-widgets/base",
     "model_module_version": "1.2.0",
     "model_name": "LayoutModel",
     "state": {
      "_model_module": "@jupyter-widgets/base",
      "_model_module_version": "1.2.0",
      "_model_name": "LayoutModel",
      "_view_count": null,
      "_view_module": "@jupyter-widgets/base",
      "_view_module_version": "1.2.0",
      "_view_name": "LayoutView",
      "align_content": null,
      "align_items": null,
      "align_self": null,
      "border": null,
      "bottom": null,
      "display": null,
      "flex": null,
      "flex_flow": null,
      "grid_area": null,
      "grid_auto_columns": null,
      "grid_auto_flow": null,
      "grid_auto_rows": null,
      "grid_column": null,
      "grid_gap": null,
      "grid_row": null,
      "grid_template_areas": null,
      "grid_template_columns": null,
      "grid_template_rows": null,
      "height": null,
      "justify_content": null,
      "justify_items": null,
      "left": null,
      "margin": null,
      "max_height": null,
      "max_width": null,
      "min_height": null,
      "min_width": null,
      "object_fit": null,
      "object_position": null,
      "order": null,
      "overflow": null,
      "overflow_x": null,
      "overflow_y": null,
      "padding": null,
      "right": null,
      "top": null,
      "visibility": null,
      "width": null
     }
    },
    "825276273b1342cdbe2c1b8fba1e4592": {
     "model_module": "@jupyter-widgets/controls",
     "model_module_version": "1.5.0",
     "model_name": "HTMLModel",
     "state": {
      "_dom_classes": [],
      "_model_module": "@jupyter-widgets/controls",
      "_model_module_version": "1.5.0",
      "_model_name": "HTMLModel",
      "_view_count": null,
      "_view_module": "@jupyter-widgets/controls",
      "_view_module_version": "1.5.0",
      "_view_name": "HTMLView",
      "description": "",
      "description_tooltip": null,
      "layout": "IPY_MODEL_5f10a44c694e482785b3bbf7d9139346",
      "placeholder": "​",
      "style": "IPY_MODEL_5eafc4d6394948bca55d928fd01f87db",
      "value": " 12500/12500 [03:18&lt;00:00, 68.77it/s]"
     }
    },
    "84182f0dd3ba4eb68f0cba9fb6dbf338": {
     "model_module": "@jupyter-widgets/controls",
     "model_module_version": "1.5.0",
     "model_name": "FloatProgressModel",
     "state": {
      "_dom_classes": [],
      "_model_module": "@jupyter-widgets/controls",
      "_model_module_version": "1.5.0",
      "_model_name": "FloatProgressModel",
      "_view_count": null,
      "_view_module": "@jupyter-widgets/controls",
      "_view_module_version": "1.5.0",
      "_view_name": "ProgressView",
      "bar_style": "success",
      "description": "",
      "description_tooltip": null,
      "layout": "IPY_MODEL_78ba1dc81bca4183ac090fde3a399814",
      "max": 12500,
      "min": 0,
      "orientation": "horizontal",
      "style": "IPY_MODEL_43524d5a628d41eeb6fe34576b5b0358",
      "value": 12500
     }
    },
    "85c337111cf84ef6897adcd6b4c1f7a2": {
     "model_module": "@jupyter-widgets/base",
     "model_module_version": "1.2.0",
     "model_name": "LayoutModel",
     "state": {
      "_model_module": "@jupyter-widgets/base",
      "_model_module_version": "1.2.0",
      "_model_name": "LayoutModel",
      "_view_count": null,
      "_view_module": "@jupyter-widgets/base",
      "_view_module_version": "1.2.0",
      "_view_name": "LayoutView",
      "align_content": null,
      "align_items": null,
      "align_self": null,
      "border": null,
      "bottom": null,
      "display": null,
      "flex": null,
      "flex_flow": null,
      "grid_area": null,
      "grid_auto_columns": null,
      "grid_auto_flow": null,
      "grid_auto_rows": null,
      "grid_column": null,
      "grid_gap": null,
      "grid_row": null,
      "grid_template_areas": null,
      "grid_template_columns": null,
      "grid_template_rows": null,
      "height": null,
      "justify_content": null,
      "justify_items": null,
      "left": null,
      "margin": null,
      "max_height": null,
      "max_width": null,
      "min_height": null,
      "min_width": null,
      "object_fit": null,
      "object_position": null,
      "order": null,
      "overflow": null,
      "overflow_x": null,
      "overflow_y": null,
      "padding": null,
      "right": null,
      "top": null,
      "visibility": null,
      "width": null
     }
    },
    "8b4016539de940338a5cb113718ea0a0": {
     "model_module": "@jupyter-widgets/controls",
     "model_module_version": "1.5.0",
     "model_name": "HTMLModel",
     "state": {
      "_dom_classes": [],
      "_model_module": "@jupyter-widgets/controls",
      "_model_module_version": "1.5.0",
      "_model_name": "HTMLModel",
      "_view_count": null,
      "_view_module": "@jupyter-widgets/controls",
      "_view_module_version": "1.5.0",
      "_view_name": "HTMLView",
      "description": "",
      "description_tooltip": null,
      "layout": "IPY_MODEL_c2b5ae3667124ce3a486d0da0c6033ba",
      "placeholder": "​",
      "style": "IPY_MODEL_1a151066f7b94d159e0bdd57f52e57eb",
      "value": " 100/100 [00:00&lt;00:00, 1019.69it/s]"
     }
    },
    "8df9ff4314f9439dafbf93391b13673d": {
     "model_module": "@jupyter-widgets/base",
     "model_module_version": "1.2.0",
     "model_name": "LayoutModel",
     "state": {
      "_model_module": "@jupyter-widgets/base",
      "_model_module_version": "1.2.0",
      "_model_name": "LayoutModel",
      "_view_count": null,
      "_view_module": "@jupyter-widgets/base",
      "_view_module_version": "1.2.0",
      "_view_name": "LayoutView",
      "align_content": null,
      "align_items": null,
      "align_self": null,
      "border": null,
      "bottom": null,
      "display": null,
      "flex": null,
      "flex_flow": null,
      "grid_area": null,
      "grid_auto_columns": null,
      "grid_auto_flow": null,
      "grid_auto_rows": null,
      "grid_column": null,
      "grid_gap": null,
      "grid_row": null,
      "grid_template_areas": null,
      "grid_template_columns": null,
      "grid_template_rows": null,
      "height": null,
      "justify_content": null,
      "justify_items": null,
      "left": null,
      "margin": null,
      "max_height": null,
      "max_width": null,
      "min_height": null,
      "min_width": null,
      "object_fit": null,
      "object_position": null,
      "order": null,
      "overflow": null,
      "overflow_x": null,
      "overflow_y": null,
      "padding": null,
      "right": null,
      "top": null,
      "visibility": null,
      "width": null
     }
    },
    "92c109563c7941a5b052c6d50dd50ac7": {
     "model_module": "@jupyter-widgets/controls",
     "model_module_version": "1.5.0",
     "model_name": "ProgressStyleModel",
     "state": {
      "_model_module": "@jupyter-widgets/controls",
      "_model_module_version": "1.5.0",
      "_model_name": "ProgressStyleModel",
      "_view_count": null,
      "_view_module": "@jupyter-widgets/base",
      "_view_module_version": "1.2.0",
      "_view_name": "StyleView",
      "bar_color": null,
      "description_width": ""
     }
    },
    "99dbadd23739495693df400ebf56628f": {
     "model_module": "@jupyter-widgets/base",
     "model_module_version": "1.2.0",
     "model_name": "LayoutModel",
     "state": {
      "_model_module": "@jupyter-widgets/base",
      "_model_module_version": "1.2.0",
      "_model_name": "LayoutModel",
      "_view_count": null,
      "_view_module": "@jupyter-widgets/base",
      "_view_module_version": "1.2.0",
      "_view_name": "LayoutView",
      "align_content": null,
      "align_items": null,
      "align_self": null,
      "border": null,
      "bottom": null,
      "display": null,
      "flex": null,
      "flex_flow": null,
      "grid_area": null,
      "grid_auto_columns": null,
      "grid_auto_flow": null,
      "grid_auto_rows": null,
      "grid_column": null,
      "grid_gap": null,
      "grid_row": null,
      "grid_template_areas": null,
      "grid_template_columns": null,
      "grid_template_rows": null,
      "height": null,
      "justify_content": null,
      "justify_items": null,
      "left": null,
      "margin": null,
      "max_height": null,
      "max_width": null,
      "min_height": null,
      "min_width": null,
      "object_fit": null,
      "object_position": null,
      "order": null,
      "overflow": null,
      "overflow_x": null,
      "overflow_y": null,
      "padding": null,
      "right": null,
      "top": null,
      "visibility": null,
      "width": null
     }
    },
    "9bbaabe262634330b2bbba350513bd55": {
     "model_module": "@jupyter-widgets/controls",
     "model_module_version": "1.5.0",
     "model_name": "DescriptionStyleModel",
     "state": {
      "_model_module": "@jupyter-widgets/controls",
      "_model_module_version": "1.5.0",
      "_model_name": "DescriptionStyleModel",
      "_view_count": null,
      "_view_module": "@jupyter-widgets/base",
      "_view_module_version": "1.2.0",
      "_view_name": "StyleView",
      "description_width": ""
     }
    },
    "9ece2ffcce8e4bbeabf4d548f27b173c": {
     "model_module": "@jupyter-widgets/controls",
     "model_module_version": "1.5.0",
     "model_name": "ProgressStyleModel",
     "state": {
      "_model_module": "@jupyter-widgets/controls",
      "_model_module_version": "1.5.0",
      "_model_name": "ProgressStyleModel",
      "_view_count": null,
      "_view_module": "@jupyter-widgets/base",
      "_view_module_version": "1.2.0",
      "_view_name": "StyleView",
      "bar_color": null,
      "description_width": ""
     }
    },
    "9f08404f24f94b149aaeebed823421d0": {
     "model_module": "@jupyter-widgets/controls",
     "model_module_version": "1.5.0",
     "model_name": "DescriptionStyleModel",
     "state": {
      "_model_module": "@jupyter-widgets/controls",
      "_model_module_version": "1.5.0",
      "_model_name": "DescriptionStyleModel",
      "_view_count": null,
      "_view_module": "@jupyter-widgets/base",
      "_view_module_version": "1.2.0",
      "_view_name": "StyleView",
      "description_width": ""
     }
    },
    "a14ac18564da44c69b16db3c4af026e2": {
     "model_module": "@jupyter-widgets/controls",
     "model_module_version": "1.5.0",
     "model_name": "ProgressStyleModel",
     "state": {
      "_model_module": "@jupyter-widgets/controls",
      "_model_module_version": "1.5.0",
      "_model_name": "ProgressStyleModel",
      "_view_count": null,
      "_view_module": "@jupyter-widgets/base",
      "_view_module_version": "1.2.0",
      "_view_name": "StyleView",
      "bar_color": null,
      "description_width": ""
     }
    },
    "a47083f8fbc541cc9379d5a59536113e": {
     "model_module": "@jupyter-widgets/base",
     "model_module_version": "1.2.0",
     "model_name": "LayoutModel",
     "state": {
      "_model_module": "@jupyter-widgets/base",
      "_model_module_version": "1.2.0",
      "_model_name": "LayoutModel",
      "_view_count": null,
      "_view_module": "@jupyter-widgets/base",
      "_view_module_version": "1.2.0",
      "_view_name": "LayoutView",
      "align_content": null,
      "align_items": null,
      "align_self": null,
      "border": null,
      "bottom": null,
      "display": null,
      "flex": null,
      "flex_flow": null,
      "grid_area": null,
      "grid_auto_columns": null,
      "grid_auto_flow": null,
      "grid_auto_rows": null,
      "grid_column": null,
      "grid_gap": null,
      "grid_row": null,
      "grid_template_areas": null,
      "grid_template_columns": null,
      "grid_template_rows": null,
      "height": null,
      "justify_content": null,
      "justify_items": null,
      "left": null,
      "margin": null,
      "max_height": null,
      "max_width": null,
      "min_height": null,
      "min_width": null,
      "object_fit": null,
      "object_position": null,
      "order": null,
      "overflow": null,
      "overflow_x": null,
      "overflow_y": null,
      "padding": null,
      "right": null,
      "top": null,
      "visibility": null,
      "width": null
     }
    },
    "a5680760ba1c4395bdb862c9a55dc363": {
     "model_module": "@jupyter-widgets/controls",
     "model_module_version": "1.5.0",
     "model_name": "HBoxModel",
     "state": {
      "_dom_classes": [],
      "_model_module": "@jupyter-widgets/controls",
      "_model_module_version": "1.5.0",
      "_model_name": "HBoxModel",
      "_view_count": null,
      "_view_module": "@jupyter-widgets/controls",
      "_view_module_version": "1.5.0",
      "_view_name": "HBoxView",
      "box_style": "",
      "children": [
       "IPY_MODEL_d0b1d91d668b4c2c99ad137a5515bf6f",
       "IPY_MODEL_84182f0dd3ba4eb68f0cba9fb6dbf338",
       "IPY_MODEL_825276273b1342cdbe2c1b8fba1e4592"
      ],
      "layout": "IPY_MODEL_7103915db2ad4f69aff50f89250c6ce6"
     }
    },
    "a8fee93223954cd1a60dc89e1a7e6fa4": {
     "model_module": "@jupyter-widgets/controls",
     "model_module_version": "1.5.0",
     "model_name": "HBoxModel",
     "state": {
      "_dom_classes": [],
      "_model_module": "@jupyter-widgets/controls",
      "_model_module_version": "1.5.0",
      "_model_name": "HBoxModel",
      "_view_count": null,
      "_view_module": "@jupyter-widgets/controls",
      "_view_module_version": "1.5.0",
      "_view_name": "HBoxView",
      "box_style": "",
      "children": [
       "IPY_MODEL_b95a3df4f94e42b39e445f9c90be978b",
       "IPY_MODEL_53164ef4d7e34b64b2100f6c678edf8a",
       "IPY_MODEL_c075e04635b247b1a52922de60bc2297"
      ],
      "layout": "IPY_MODEL_f94a446ec69549e2956fff94c22ceaad"
     }
    },
    "aa5a44aeac64458abe4e393ffe74a7bd": {
     "model_module": "@jupyter-widgets/controls",
     "model_module_version": "1.5.0",
     "model_name": "DescriptionStyleModel",
     "state": {
      "_model_module": "@jupyter-widgets/controls",
      "_model_module_version": "1.5.0",
      "_model_name": "DescriptionStyleModel",
      "_view_count": null,
      "_view_module": "@jupyter-widgets/base",
      "_view_module_version": "1.2.0",
      "_view_name": "StyleView",
      "description_width": ""
     }
    },
    "af9c00c83beb4abcb2d43ea1461ba263": {
     "model_module": "@jupyter-widgets/controls",
     "model_module_version": "1.5.0",
     "model_name": "HTMLModel",
     "state": {
      "_dom_classes": [],
      "_model_module": "@jupyter-widgets/controls",
      "_model_module_version": "1.5.0",
      "_model_name": "HTMLModel",
      "_view_count": null,
      "_view_module": "@jupyter-widgets/controls",
      "_view_module_version": "1.5.0",
      "_view_name": "HTMLView",
      "description": "",
      "description_tooltip": null,
      "layout": "IPY_MODEL_05f9f4f6e69e4b6faa1ee58d2320fd21",
      "placeholder": "​",
      "style": "IPY_MODEL_9f08404f24f94b149aaeebed823421d0",
      "value": "Total epochs: 100%"
     }
    },
    "b06bdc064fb943e7bee3521ab48cd10e": {
     "model_module": "@jupyter-widgets/controls",
     "model_module_version": "1.5.0",
     "model_name": "DescriptionStyleModel",
     "state": {
      "_model_module": "@jupyter-widgets/controls",
      "_model_module_version": "1.5.0",
      "_model_name": "DescriptionStyleModel",
      "_view_count": null,
      "_view_module": "@jupyter-widgets/base",
      "_view_module_version": "1.2.0",
      "_view_name": "StyleView",
      "description_width": ""
     }
    },
    "b58682f7e4b749b29ad637ddd87c078d": {
     "model_module": "@jupyter-widgets/base",
     "model_module_version": "1.2.0",
     "model_name": "LayoutModel",
     "state": {
      "_model_module": "@jupyter-widgets/base",
      "_model_module_version": "1.2.0",
      "_model_name": "LayoutModel",
      "_view_count": null,
      "_view_module": "@jupyter-widgets/base",
      "_view_module_version": "1.2.0",
      "_view_name": "LayoutView",
      "align_content": null,
      "align_items": null,
      "align_self": null,
      "border": null,
      "bottom": null,
      "display": null,
      "flex": null,
      "flex_flow": null,
      "grid_area": null,
      "grid_auto_columns": null,
      "grid_auto_flow": null,
      "grid_auto_rows": null,
      "grid_column": null,
      "grid_gap": null,
      "grid_row": null,
      "grid_template_areas": null,
      "grid_template_columns": null,
      "grid_template_rows": null,
      "height": null,
      "justify_content": null,
      "justify_items": null,
      "left": null,
      "margin": null,
      "max_height": null,
      "max_width": null,
      "min_height": null,
      "min_width": null,
      "object_fit": null,
      "object_position": null,
      "order": null,
      "overflow": null,
      "overflow_x": null,
      "overflow_y": null,
      "padding": null,
      "right": null,
      "top": null,
      "visibility": null,
      "width": null
     }
    },
    "b6dbc7f414724ab38ac89d644f53ef4f": {
     "model_module": "@jupyter-widgets/controls",
     "model_module_version": "1.5.0",
     "model_name": "DescriptionStyleModel",
     "state": {
      "_model_module": "@jupyter-widgets/controls",
      "_model_module_version": "1.5.0",
      "_model_name": "DescriptionStyleModel",
      "_view_count": null,
      "_view_module": "@jupyter-widgets/base",
      "_view_module_version": "1.2.0",
      "_view_name": "StyleView",
      "description_width": ""
     }
    },
    "b95a3df4f94e42b39e445f9c90be978b": {
     "model_module": "@jupyter-widgets/controls",
     "model_module_version": "1.5.0",
     "model_name": "HTMLModel",
     "state": {
      "_dom_classes": [],
      "_model_module": "@jupyter-widgets/controls",
      "_model_module_version": "1.5.0",
      "_model_name": "HTMLModel",
      "_view_count": null,
      "_view_module": "@jupyter-widgets/controls",
      "_view_module_version": "1.5.0",
      "_view_name": "HTMLView",
      "description": "",
      "description_tooltip": null,
      "layout": "IPY_MODEL_be8fdb70e0b54e5d90e414c4e4cb8ce8",
      "placeholder": "​",
      "style": "IPY_MODEL_d8765e409be94e11a1c5ac103a8ff71b",
      "value": "Total epochs: 100%"
     }
    },
    "bbbbbc62cb844e7f840fe93e0da98e85": {
     "model_module": "@jupyter-widgets/base",
     "model_module_version": "1.2.0",
     "model_name": "LayoutModel",
     "state": {
      "_model_module": "@jupyter-widgets/base",
      "_model_module_version": "1.2.0",
      "_model_name": "LayoutModel",
      "_view_count": null,
      "_view_module": "@jupyter-widgets/base",
      "_view_module_version": "1.2.0",
      "_view_name": "LayoutView",
      "align_content": null,
      "align_items": null,
      "align_self": null,
      "border": null,
      "bottom": null,
      "display": null,
      "flex": null,
      "flex_flow": null,
      "grid_area": null,
      "grid_auto_columns": null,
      "grid_auto_flow": null,
      "grid_auto_rows": null,
      "grid_column": null,
      "grid_gap": null,
      "grid_row": null,
      "grid_template_areas": null,
      "grid_template_columns": null,
      "grid_template_rows": null,
      "height": null,
      "justify_content": null,
      "justify_items": null,
      "left": null,
      "margin": null,
      "max_height": null,
      "max_width": null,
      "min_height": null,
      "min_width": null,
      "object_fit": null,
      "object_position": null,
      "order": null,
      "overflow": null,
      "overflow_x": null,
      "overflow_y": null,
      "padding": null,
      "right": null,
      "top": null,
      "visibility": null,
      "width": null
     }
    },
    "be8fdb70e0b54e5d90e414c4e4cb8ce8": {
     "model_module": "@jupyter-widgets/base",
     "model_module_version": "1.2.0",
     "model_name": "LayoutModel",
     "state": {
      "_model_module": "@jupyter-widgets/base",
      "_model_module_version": "1.2.0",
      "_model_name": "LayoutModel",
      "_view_count": null,
      "_view_module": "@jupyter-widgets/base",
      "_view_module_version": "1.2.0",
      "_view_name": "LayoutView",
      "align_content": null,
      "align_items": null,
      "align_self": null,
      "border": null,
      "bottom": null,
      "display": null,
      "flex": null,
      "flex_flow": null,
      "grid_area": null,
      "grid_auto_columns": null,
      "grid_auto_flow": null,
      "grid_auto_rows": null,
      "grid_column": null,
      "grid_gap": null,
      "grid_row": null,
      "grid_template_areas": null,
      "grid_template_columns": null,
      "grid_template_rows": null,
      "height": null,
      "justify_content": null,
      "justify_items": null,
      "left": null,
      "margin": null,
      "max_height": null,
      "max_width": null,
      "min_height": null,
      "min_width": null,
      "object_fit": null,
      "object_position": null,
      "order": null,
      "overflow": null,
      "overflow_x": null,
      "overflow_y": null,
      "padding": null,
      "right": null,
      "top": null,
      "visibility": null,
      "width": null
     }
    },
    "bfc0e95de8fa40c38e3972aae9754431": {
     "model_module": "@jupyter-widgets/base",
     "model_module_version": "1.2.0",
     "model_name": "LayoutModel",
     "state": {
      "_model_module": "@jupyter-widgets/base",
      "_model_module_version": "1.2.0",
      "_model_name": "LayoutModel",
      "_view_count": null,
      "_view_module": "@jupyter-widgets/base",
      "_view_module_version": "1.2.0",
      "_view_name": "LayoutView",
      "align_content": null,
      "align_items": null,
      "align_self": null,
      "border": null,
      "bottom": null,
      "display": null,
      "flex": null,
      "flex_flow": null,
      "grid_area": null,
      "grid_auto_columns": null,
      "grid_auto_flow": null,
      "grid_auto_rows": null,
      "grid_column": null,
      "grid_gap": null,
      "grid_row": null,
      "grid_template_areas": null,
      "grid_template_columns": null,
      "grid_template_rows": null,
      "height": null,
      "justify_content": null,
      "justify_items": null,
      "left": null,
      "margin": null,
      "max_height": null,
      "max_width": null,
      "min_height": null,
      "min_width": null,
      "object_fit": null,
      "object_position": null,
      "order": null,
      "overflow": null,
      "overflow_x": null,
      "overflow_y": null,
      "padding": null,
      "right": null,
      "top": null,
      "visibility": null,
      "width": null
     }
    },
    "c075e04635b247b1a52922de60bc2297": {
     "model_module": "@jupyter-widgets/controls",
     "model_module_version": "1.5.0",
     "model_name": "HTMLModel",
     "state": {
      "_dom_classes": [],
      "_model_module": "@jupyter-widgets/controls",
      "_model_module_version": "1.5.0",
      "_model_name": "HTMLModel",
      "_view_count": null,
      "_view_module": "@jupyter-widgets/controls",
      "_view_module_version": "1.5.0",
      "_view_name": "HTMLView",
      "description": "",
      "description_tooltip": null,
      "layout": "IPY_MODEL_25c583bcfeb94eaaa5531845e391ebe5",
      "placeholder": "​",
      "style": "IPY_MODEL_aa5a44aeac64458abe4e393ffe74a7bd",
      "value": " 100/100 [00:00&lt;00:00, 429.69it/s]"
     }
    },
    "c2b5ae3667124ce3a486d0da0c6033ba": {
     "model_module": "@jupyter-widgets/base",
     "model_module_version": "1.2.0",
     "model_name": "LayoutModel",
     "state": {
      "_model_module": "@jupyter-widgets/base",
      "_model_module_version": "1.2.0",
      "_model_name": "LayoutModel",
      "_view_count": null,
      "_view_module": "@jupyter-widgets/base",
      "_view_module_version": "1.2.0",
      "_view_name": "LayoutView",
      "align_content": null,
      "align_items": null,
      "align_self": null,
      "border": null,
      "bottom": null,
      "display": null,
      "flex": null,
      "flex_flow": null,
      "grid_area": null,
      "grid_auto_columns": null,
      "grid_auto_flow": null,
      "grid_auto_rows": null,
      "grid_column": null,
      "grid_gap": null,
      "grid_row": null,
      "grid_template_areas": null,
      "grid_template_columns": null,
      "grid_template_rows": null,
      "height": null,
      "justify_content": null,
      "justify_items": null,
      "left": null,
      "margin": null,
      "max_height": null,
      "max_width": null,
      "min_height": null,
      "min_width": null,
      "object_fit": null,
      "object_position": null,
      "order": null,
      "overflow": null,
      "overflow_x": null,
      "overflow_y": null,
      "padding": null,
      "right": null,
      "top": null,
      "visibility": null,
      "width": null
     }
    },
    "c3dc07ab3e5d4018bdbd306c9f99f9a7": {
     "model_module": "@jupyter-widgets/controls",
     "model_module_version": "1.5.0",
     "model_name": "HBoxModel",
     "state": {
      "_dom_classes": [],
      "_model_module": "@jupyter-widgets/controls",
      "_model_module_version": "1.5.0",
      "_model_name": "HBoxModel",
      "_view_count": null,
      "_view_module": "@jupyter-widgets/controls",
      "_view_module_version": "1.5.0",
      "_view_name": "HBoxView",
      "box_style": "",
      "children": [
       "IPY_MODEL_481d8a18d86348ffb1434d8d3ce00e24",
       "IPY_MODEL_502efffbcf1845639c8d2fa3596e4448",
       "IPY_MODEL_1d761aa0b68141568f870aafd84952f7"
      ],
      "layout": "IPY_MODEL_bfc0e95de8fa40c38e3972aae9754431"
     }
    },
    "cc3963e0757b4ad2933251a865fb33a7": {
     "model_module": "@jupyter-widgets/controls",
     "model_module_version": "1.5.0",
     "model_name": "HTMLModel",
     "state": {
      "_dom_classes": [],
      "_model_module": "@jupyter-widgets/controls",
      "_model_module_version": "1.5.0",
      "_model_name": "HTMLModel",
      "_view_count": null,
      "_view_module": "@jupyter-widgets/controls",
      "_view_module_version": "1.5.0",
      "_view_name": "HTMLView",
      "description": "",
      "description_tooltip": null,
      "layout": "IPY_MODEL_3868d43af2794611a1b6634a16cbaf7b",
      "placeholder": "​",
      "style": "IPY_MODEL_3fab9e27496141959e2da24af855fb0a",
      "value": " 12500/12500 [03:29&lt;00:00, 68.32it/s]"
     }
    },
    "d0b1d91d668b4c2c99ad137a5515bf6f": {
     "model_module": "@jupyter-widgets/controls",
     "model_module_version": "1.5.0",
     "model_name": "HTMLModel",
     "state": {
      "_dom_classes": [],
      "_model_module": "@jupyter-widgets/controls",
      "_model_module_version": "1.5.0",
      "_model_name": "HTMLModel",
      "_view_count": null,
      "_view_module": "@jupyter-widgets/controls",
      "_view_module_version": "1.5.0",
      "_view_name": "HTMLView",
      "description": "",
      "description_tooltip": null,
      "layout": "IPY_MODEL_03e7b18b0d79469bba36fe39025d4142",
      "placeholder": "​",
      "style": "IPY_MODEL_11b9ad9ff4154926b9613c698225854a",
      "value": "Epoch 1: 100%"
     }
    },
    "d1a6c6ec98ca46aca7480fccf96900ee": {
     "model_module": "@jupyter-widgets/controls",
     "model_module_version": "1.5.0",
     "model_name": "DescriptionStyleModel",
     "state": {
      "_model_module": "@jupyter-widgets/controls",
      "_model_module_version": "1.5.0",
      "_model_name": "DescriptionStyleModel",
      "_view_count": null,
      "_view_module": "@jupyter-widgets/base",
      "_view_module_version": "1.2.0",
      "_view_name": "StyleView",
      "description_width": ""
     }
    },
    "d3c76673f49c4d7197aa3ee7685428cf": {
     "model_module": "@jupyter-widgets/base",
     "model_module_version": "1.2.0",
     "model_name": "LayoutModel",
     "state": {
      "_model_module": "@jupyter-widgets/base",
      "_model_module_version": "1.2.0",
      "_model_name": "LayoutModel",
      "_view_count": null,
      "_view_module": "@jupyter-widgets/base",
      "_view_module_version": "1.2.0",
      "_view_name": "LayoutView",
      "align_content": null,
      "align_items": null,
      "align_self": null,
      "border": null,
      "bottom": null,
      "display": null,
      "flex": null,
      "flex_flow": null,
      "grid_area": null,
      "grid_auto_columns": null,
      "grid_auto_flow": null,
      "grid_auto_rows": null,
      "grid_column": null,
      "grid_gap": null,
      "grid_row": null,
      "grid_template_areas": null,
      "grid_template_columns": null,
      "grid_template_rows": null,
      "height": null,
      "justify_content": null,
      "justify_items": null,
      "left": null,
      "margin": null,
      "max_height": null,
      "max_width": null,
      "min_height": null,
      "min_width": null,
      "object_fit": null,
      "object_position": null,
      "order": null,
      "overflow": null,
      "overflow_x": null,
      "overflow_y": null,
      "padding": null,
      "right": null,
      "top": null,
      "visibility": null,
      "width": null
     }
    },
    "d4009fc830c24cc5acf2b0b219f076a5": {
     "model_module": "@jupyter-widgets/base",
     "model_module_version": "1.2.0",
     "model_name": "LayoutModel",
     "state": {
      "_model_module": "@jupyter-widgets/base",
      "_model_module_version": "1.2.0",
      "_model_name": "LayoutModel",
      "_view_count": null,
      "_view_module": "@jupyter-widgets/base",
      "_view_module_version": "1.2.0",
      "_view_name": "LayoutView",
      "align_content": null,
      "align_items": null,
      "align_self": null,
      "border": null,
      "bottom": null,
      "display": null,
      "flex": null,
      "flex_flow": null,
      "grid_area": null,
      "grid_auto_columns": null,
      "grid_auto_flow": null,
      "grid_auto_rows": null,
      "grid_column": null,
      "grid_gap": null,
      "grid_row": null,
      "grid_template_areas": null,
      "grid_template_columns": null,
      "grid_template_rows": null,
      "height": null,
      "justify_content": null,
      "justify_items": null,
      "left": null,
      "margin": null,
      "max_height": null,
      "max_width": null,
      "min_height": null,
      "min_width": null,
      "object_fit": null,
      "object_position": null,
      "order": null,
      "overflow": null,
      "overflow_x": null,
      "overflow_y": null,
      "padding": null,
      "right": null,
      "top": null,
      "visibility": null,
      "width": null
     }
    },
    "d8765e409be94e11a1c5ac103a8ff71b": {
     "model_module": "@jupyter-widgets/controls",
     "model_module_version": "1.5.0",
     "model_name": "DescriptionStyleModel",
     "state": {
      "_model_module": "@jupyter-widgets/controls",
      "_model_module_version": "1.5.0",
      "_model_name": "DescriptionStyleModel",
      "_view_count": null,
      "_view_module": "@jupyter-widgets/base",
      "_view_module_version": "1.2.0",
      "_view_name": "StyleView",
      "description_width": ""
     }
    },
    "e2d8a95f4a4e46d1952267f12047479d": {
     "model_module": "@jupyter-widgets/base",
     "model_module_version": "1.2.0",
     "model_name": "LayoutModel",
     "state": {
      "_model_module": "@jupyter-widgets/base",
      "_model_module_version": "1.2.0",
      "_model_name": "LayoutModel",
      "_view_count": null,
      "_view_module": "@jupyter-widgets/base",
      "_view_module_version": "1.2.0",
      "_view_name": "LayoutView",
      "align_content": null,
      "align_items": null,
      "align_self": null,
      "border": null,
      "bottom": null,
      "display": null,
      "flex": null,
      "flex_flow": null,
      "grid_area": null,
      "grid_auto_columns": null,
      "grid_auto_flow": null,
      "grid_auto_rows": null,
      "grid_column": null,
      "grid_gap": null,
      "grid_row": null,
      "grid_template_areas": null,
      "grid_template_columns": null,
      "grid_template_rows": null,
      "height": null,
      "justify_content": null,
      "justify_items": null,
      "left": null,
      "margin": null,
      "max_height": null,
      "max_width": null,
      "min_height": null,
      "min_width": null,
      "object_fit": null,
      "object_position": null,
      "order": null,
      "overflow": null,
      "overflow_x": null,
      "overflow_y": null,
      "padding": null,
      "right": null,
      "top": null,
      "visibility": null,
      "width": null
     }
    },
    "e73c1bec9d614b62851d878930baecdb": {
     "model_module": "@jupyter-widgets/controls",
     "model_module_version": "1.5.0",
     "model_name": "FloatProgressModel",
     "state": {
      "_dom_classes": [],
      "_model_module": "@jupyter-widgets/controls",
      "_model_module_version": "1.5.0",
      "_model_name": "FloatProgressModel",
      "_view_count": null,
      "_view_module": "@jupyter-widgets/controls",
      "_view_module_version": "1.5.0",
      "_view_name": "ProgressView",
      "bar_style": "success",
      "description": "",
      "description_tooltip": null,
      "layout": "IPY_MODEL_8df9ff4314f9439dafbf93391b13673d",
      "max": 12500,
      "min": 0,
      "orientation": "horizontal",
      "style": "IPY_MODEL_a14ac18564da44c69b16db3c4af026e2",
      "value": 12500
     }
    },
    "ebf67eb2dae3476f8cde48906364bb71": {
     "model_module": "@jupyter-widgets/base",
     "model_module_version": "1.2.0",
     "model_name": "LayoutModel",
     "state": {
      "_model_module": "@jupyter-widgets/base",
      "_model_module_version": "1.2.0",
      "_model_name": "LayoutModel",
      "_view_count": null,
      "_view_module": "@jupyter-widgets/base",
      "_view_module_version": "1.2.0",
      "_view_name": "LayoutView",
      "align_content": null,
      "align_items": null,
      "align_self": null,
      "border": null,
      "bottom": null,
      "display": null,
      "flex": null,
      "flex_flow": null,
      "grid_area": null,
      "grid_auto_columns": null,
      "grid_auto_flow": null,
      "grid_auto_rows": null,
      "grid_column": null,
      "grid_gap": null,
      "grid_row": null,
      "grid_template_areas": null,
      "grid_template_columns": null,
      "grid_template_rows": null,
      "height": null,
      "justify_content": null,
      "justify_items": null,
      "left": null,
      "margin": null,
      "max_height": null,
      "max_width": null,
      "min_height": null,
      "min_width": null,
      "object_fit": null,
      "object_position": null,
      "order": null,
      "overflow": null,
      "overflow_x": null,
      "overflow_y": null,
      "padding": null,
      "right": null,
      "top": null,
      "visibility": null,
      "width": null
     }
    },
    "ed06ef80bed9417a88732113edb13f1f": {
     "model_module": "@jupyter-widgets/controls",
     "model_module_version": "1.5.0",
     "model_name": "HTMLModel",
     "state": {
      "_dom_classes": [],
      "_model_module": "@jupyter-widgets/controls",
      "_model_module_version": "1.5.0",
      "_model_name": "HTMLModel",
      "_view_count": null,
      "_view_module": "@jupyter-widgets/controls",
      "_view_module_version": "1.5.0",
      "_view_name": "HTMLView",
      "description": "",
      "description_tooltip": null,
      "layout": "IPY_MODEL_85c337111cf84ef6897adcd6b4c1f7a2",
      "placeholder": "​",
      "style": "IPY_MODEL_1908e9decff1447d8d9b0923d6edd6a2",
      "value": " 100/100 [00:00&lt;00:00, 446.57it/s]"
     }
    },
    "f30a4d682edc4e258cda25d9aa41bdd5": {
     "model_module": "@jupyter-widgets/controls",
     "model_module_version": "1.5.0",
     "model_name": "FloatProgressModel",
     "state": {
      "_dom_classes": [],
      "_model_module": "@jupyter-widgets/controls",
      "_model_module_version": "1.5.0",
      "_model_name": "FloatProgressModel",
      "_view_count": null,
      "_view_module": "@jupyter-widgets/controls",
      "_view_module_version": "1.5.0",
      "_view_name": "ProgressView",
      "bar_style": "success",
      "description": "",
      "description_tooltip": null,
      "layout": "IPY_MODEL_99dbadd23739495693df400ebf56628f",
      "max": 100,
      "min": 0,
      "orientation": "horizontal",
      "style": "IPY_MODEL_9ece2ffcce8e4bbeabf4d548f27b173c",
      "value": 100
     }
    },
    "f94a446ec69549e2956fff94c22ceaad": {
     "model_module": "@jupyter-widgets/base",
     "model_module_version": "1.2.0",
     "model_name": "LayoutModel",
     "state": {
      "_model_module": "@jupyter-widgets/base",
      "_model_module_version": "1.2.0",
      "_model_name": "LayoutModel",
      "_view_count": null,
      "_view_module": "@jupyter-widgets/base",
      "_view_module_version": "1.2.0",
      "_view_name": "LayoutView",
      "align_content": null,
      "align_items": null,
      "align_self": null,
      "border": null,
      "bottom": null,
      "display": null,
      "flex": null,
      "flex_flow": null,
      "grid_area": null,
      "grid_auto_columns": null,
      "grid_auto_flow": null,
      "grid_auto_rows": null,
      "grid_column": null,
      "grid_gap": null,
      "grid_row": null,
      "grid_template_areas": null,
      "grid_template_columns": null,
      "grid_template_rows": null,
      "height": null,
      "justify_content": null,
      "justify_items": null,
      "left": null,
      "margin": null,
      "max_height": null,
      "max_width": null,
      "min_height": null,
      "min_width": null,
      "object_fit": null,
      "object_position": null,
      "order": null,
      "overflow": null,
      "overflow_x": null,
      "overflow_y": null,
      "padding": null,
      "right": null,
      "top": null,
      "visibility": null,
      "width": null
     }
    }
   }
  }
 },
 "nbformat": 4,
 "nbformat_minor": 1
}
