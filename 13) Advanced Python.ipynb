{
 "cells": [
  {
   "cell_type": "markdown",
   "metadata": {},
   "source": [
    "<div id=\"container\" style=\"position:relative;\">\n",
    "<div style=\"float:left\"><h1> Advanced Python</h1></div>\n",
    "<div style=\"position:relative; float:right\"><img style=\"height:65px\" src =\"https://drive.google.com/uc?export=view&id=1EnB0x-fdqMp6I5iMoEBBEuxB_s7AmE2k\" />\n",
    "</div>\n",
    "</div>"
   ]
  },
  {
   "cell_type": "code",
   "execution_count": 1,
   "metadata": {},
   "outputs": [],
   "source": [
    "# importing packages to be used later\n",
    "import numpy as np\n",
    "import pandas as pd\n",
    "import sys"
   ]
  },
  {
   "cell_type": "markdown",
   "metadata": {},
   "source": [
    "### Classes and Object-Oriented Programming (OOP)\n",
    "\n",
    "We have seen Python's basic built-in data types, and you have probably noticed a few other types, like the linear regression object from statsmodels and the NumPy array. You've likely also noticed that all types aren't created equal. For example:"
   ]
  },
  {
   "cell_type": "code",
   "execution_count": 2,
   "metadata": {},
   "outputs": [
    {
     "name": "stdout",
     "output_type": "stream",
     "text": [
      "5\n"
     ]
    },
    {
     "ename": "AttributeError",
     "evalue": "'str' object has no attribute 'pop'",
     "output_type": "error",
     "traceback": [
      "\u001b[0;31m---------------------------------------------------------------------------\u001b[0m",
      "\u001b[0;31mAttributeError\u001b[0m                            Traceback (most recent call last)",
      "\u001b[0;32m/var/folders/l_/s2stp_4940d5h7pgt3_4rl040000gn/T/ipykernel_64415/1533790374.py\u001b[0m in \u001b[0;36m<module>\u001b[0;34m\u001b[0m\n\u001b[1;32m      3\u001b[0m \u001b[0;34m\u001b[0m\u001b[0m\n\u001b[1;32m      4\u001b[0m \u001b[0mmy_string\u001b[0m \u001b[0;34m=\u001b[0m \u001b[0;34m'hello world'\u001b[0m\u001b[0;34m\u001b[0m\u001b[0;34m\u001b[0m\u001b[0m\n\u001b[0;32m----> 5\u001b[0;31m \u001b[0mprint\u001b[0m\u001b[0;34m(\u001b[0m\u001b[0mmy_string\u001b[0m\u001b[0;34m.\u001b[0m\u001b[0mpop\u001b[0m\u001b[0;34m(\u001b[0m\u001b[0;34m)\u001b[0m\u001b[0;34m)\u001b[0m  \u001b[0;31m# <-- ... but not this one?\u001b[0m\u001b[0;34m\u001b[0m\u001b[0;34m\u001b[0m\u001b[0m\n\u001b[0m",
      "\u001b[0;31mAttributeError\u001b[0m: 'str' object has no attribute 'pop'"
     ]
    }
   ],
   "source": [
    "my_list = [1, 2, 3, 4, 5]\n",
    "print(my_list.pop())  # <-- Why does this line work...\n",
    "\n",
    "my_string = 'hello world'\n",
    "print(my_string.pop())  # <-- ... but not this one?"
   ]
  },
  {
   "cell_type": "markdown",
   "metadata": {},
   "source": [
    "Python is an object-oriented programming language. We have objects, which are instances of a particular class. These objects can contain data or attributes, and can interact with each other. We can compare this to something like R or Scala which are more functional, we have objects or data, and we modify them by functions.\n",
    "\n",
    "This gets a bit theoretical so we can use Pac-Man as an example. In Pac-Man, we can say we have the class of ghosts, and each ghost: Inky, Blinky, Pinky and Clyde are instances of the type. They share general attributes such as wanting to chase pacman and having similar appearances and general behavior. However, they are different when it comes to other attributes such as color, speed and behavior. \n",
    "\n",
    "<img src =\"https://drive.google.com/uc?export=view&id=11ZQuip9lTodnAjNRXzHn79SHMOOW7Z4Y\" />\n",
    "\n",
    "If we treat these ghosts as objects it is easier to talk about them and how they work, rather than if they are arrays which are updated by functions in every frame. However, if we want to treat their behavior strictly mathematically, it is easier to treat them functionally."
   ]
  },
  {
   "cell_type": "markdown",
   "metadata": {},
   "source": [
    "#### What is a Class?\n",
    "\n",
    "When we define a Class, we are defining a blueprint for creating similar objects. DataFrame is a Class of objects, and while any 2 instances of a DataFrame may seem different in terms of their content, all DataFrames share some fundamental structural and functional similarities, (e.g. they all have an attribute called `columns`, and they all have a method called `.head()`)\n",
    "\n",
    "Once we define a class of objects, we can create as many instances of that class as we like. (There's no limit to the number of individual DataFrames or lists or dictionaries that we can create!)"
   ]
  },
  {
   "cell_type": "markdown",
   "metadata": {},
   "source": [
    "### Case Study: Grocery Store Software"
   ]
  },
  {
   "cell_type": "markdown",
   "metadata": {},
   "source": [
    "Suppose we are building software to digitize the operations of a chain of grocery stores. We'll want to define classes of objects that characterize a business of this type, like Stores, Shopping Baskets, and Customers. \n",
    "\n",
    "Let's start with a Store class."
   ]
  },
  {
   "cell_type": "code",
   "execution_count": null,
   "metadata": {},
   "outputs": [],
   "source": [
    "#function\n",
    "def my_func():\n",
    "    pass\n",
    "    kfdgdkgkld\n",
    "\n",
    "class Store:\n",
    "    \n",
    "    \n",
    "    \n",
    "    #convention is to use capitals\n",
    "    pass"
   ]
  },
  {
   "cell_type": "markdown",
   "metadata": {},
   "source": [
    "This is actually all we need to start creating instances of our Store class, which are called objects (although they won't be very interesting)."
   ]
  },
  {
   "cell_type": "code",
   "execution_count": null,
   "metadata": {},
   "outputs": [],
   "source": [
    "s1 = Store()\n",
    "s2 = Store()\n",
    "\n",
    "print(s1) \n",
    "print(s2)"
   ]
  },
  {
   "cell_type": "markdown",
   "metadata": {},
   "source": [
    "An important bit of terminology here is the difference between **classes** and **objects**\n",
    "\n",
    "* `Store` is a **class**, it is a blueprint telling us how to make Store objects\n",
    "* `s1` and `s2` are **objects**, they are instances of the `Store` class. They use the blueprint we defined in the `Store` class"
   ]
  },
  {
   "cell_type": "markdown",
   "metadata": {},
   "source": [
    "Let's change our class so that we can give these Stores some attributes when we create them. (Specifically a location, employee count, and a manager name). \n",
    "\n",
    "To set this up, we will need to add an _initialization method_ to our class. This is a method that takes in arguments when the user creates the object and assigns them to attributes."
   ]
  },
  {
   "cell_type": "code",
   "execution_count": null,
   "metadata": {},
   "outputs": [],
   "source": [
    "class Store:\n",
    "    \n",
    "    def __init__(self, location, employees, manager):\n",
    "\n",
    "        self.location = location \n",
    "        self.employees = employees \n",
    "        self.manager = manager\n",
    "        \n",
    "        \n",
    "#     def change_location(self):\n",
    "#         self.location = \"nwew loca\"\n",
    "\n",
    "# in the init method\n",
    "# the arguments have the same name as the attributes they define"
   ]
  },
  {
   "cell_type": "code",
   "execution_count": null,
   "metadata": {},
   "outputs": [],
   "source": [
    "# object1 \n",
    "# self.\n"
   ]
  },
  {
   "cell_type": "markdown",
   "metadata": {},
   "source": [
    "This initialization method must be called `__init__` and has a very specific syntax. Its arguments are the attributes that we'd like the Store to have when it is created, along with a special argument called `self`, which is always the first argument. The reason for having the `self` argument is a bit advanced, so for now we will just take it as fact that we need that keyword as the first argument in our functions. \n",
    "\n",
    "Let's recreate some Stores now that we can give them attributes."
   ]
  },
  {
   "cell_type": "code",
   "execution_count": null,
   "metadata": {},
   "outputs": [],
   "source": [
    "s1 = Store(\"commerical\")"
   ]
  },
  {
   "cell_type": "code",
   "execution_count": 3,
   "metadata": {},
   "outputs": [
    {
     "ename": "NameError",
     "evalue": "name 'Store' is not defined",
     "output_type": "error",
     "traceback": [
      "\u001b[0;31m---------------------------------------------------------------------------\u001b[0m",
      "\u001b[0;31mNameError\u001b[0m                                 Traceback (most recent call last)",
      "\u001b[0;32m/var/folders/l_/s2stp_4940d5h7pgt3_4rl040000gn/T/ipykernel_64415/3448798654.py\u001b[0m in \u001b[0;36m<module>\u001b[0;34m\u001b[0m\n\u001b[0;32m----> 1\u001b[0;31m \u001b[0ms1\u001b[0m \u001b[0;34m=\u001b[0m \u001b[0mStore\u001b[0m\u001b[0;34m(\u001b[0m\u001b[0;34m'downtown'\u001b[0m\u001b[0;34m,\u001b[0m \u001b[0;36m100\u001b[0m\u001b[0;34m,\u001b[0m \u001b[0;34m'Josh Brown'\u001b[0m\u001b[0;34m)\u001b[0m\u001b[0;34m\u001b[0m\u001b[0;34m\u001b[0m\u001b[0m\n\u001b[0m\u001b[1;32m      2\u001b[0m \u001b[0ms2\u001b[0m \u001b[0;34m=\u001b[0m \u001b[0mStore\u001b[0m\u001b[0;34m(\u001b[0m\u001b[0;34m'rural'\u001b[0m\u001b[0;34m,\u001b[0m \u001b[0;36m25\u001b[0m\u001b[0;34m,\u001b[0m \u001b[0;34m'Sally Fields'\u001b[0m\u001b[0;34m)\u001b[0m\u001b[0;34m\u001b[0m\u001b[0;34m\u001b[0m\u001b[0m\n",
      "\u001b[0;31mNameError\u001b[0m: name 'Store' is not defined"
     ]
    }
   ],
   "source": [
    "s1 = Store('downtown', 100, 'Josh Brown')\n",
    "s2 = Store('rural', 25, 'Sally Fields')"
   ]
  },
  {
   "cell_type": "code",
   "execution_count": 4,
   "metadata": {},
   "outputs": [
    {
     "ename": "NameError",
     "evalue": "name 's1' is not defined",
     "output_type": "error",
     "traceback": [
      "\u001b[0;31m---------------------------------------------------------------------------\u001b[0m",
      "\u001b[0;31mNameError\u001b[0m                                 Traceback (most recent call last)",
      "\u001b[0;32m/var/folders/l_/s2stp_4940d5h7pgt3_4rl040000gn/T/ipykernel_64415/2981698964.py\u001b[0m in \u001b[0;36m<module>\u001b[0;34m\u001b[0m\n\u001b[0;32m----> 1\u001b[0;31m \u001b[0mprint\u001b[0m\u001b[0;34m(\u001b[0m\u001b[0ms1\u001b[0m\u001b[0;34m.\u001b[0m\u001b[0mlocation\u001b[0m\u001b[0;34m)\u001b[0m\u001b[0;34m\u001b[0m\u001b[0;34m\u001b[0m\u001b[0m\n\u001b[0m\u001b[1;32m      2\u001b[0m \u001b[0mprint\u001b[0m\u001b[0;34m(\u001b[0m\u001b[0ms2\u001b[0m\u001b[0;34m.\u001b[0m\u001b[0memployees\u001b[0m\u001b[0;34m)\u001b[0m\u001b[0;34m\u001b[0m\u001b[0;34m\u001b[0m\u001b[0m\n",
      "\u001b[0;31mNameError\u001b[0m: name 's1' is not defined"
     ]
    }
   ],
   "source": [
    "print(s1.location)\n",
    "print(s2.employees)"
   ]
  },
  {
   "cell_type": "markdown",
   "metadata": {},
   "source": [
    "Now that we can access the Item attributes, we can also modify them. \n",
    "\n",
    "The route 23 location just hired an apprentice fishmonger, the employees attribute for this store needs to be updated."
   ]
  },
  {
   "cell_type": "code",
   "execution_count": 5,
   "metadata": {},
   "outputs": [
    {
     "ename": "NameError",
     "evalue": "name 's2' is not defined",
     "output_type": "error",
     "traceback": [
      "\u001b[0;31m---------------------------------------------------------------------------\u001b[0m",
      "\u001b[0;31mNameError\u001b[0m                                 Traceback (most recent call last)",
      "\u001b[0;32m/var/folders/l_/s2stp_4940d5h7pgt3_4rl040000gn/T/ipykernel_64415/2460605219.py\u001b[0m in \u001b[0;36m<module>\u001b[0;34m\u001b[0m\n\u001b[0;32m----> 1\u001b[0;31m \u001b[0ms2\u001b[0m\u001b[0;34m.\u001b[0m\u001b[0memployees\u001b[0m \u001b[0;34m=\u001b[0m \u001b[0;36m26\u001b[0m\u001b[0;34m\u001b[0m\u001b[0;34m\u001b[0m\u001b[0m\n\u001b[0m\u001b[1;32m      2\u001b[0m \u001b[0mprint\u001b[0m\u001b[0;34m(\u001b[0m\u001b[0ms2\u001b[0m\u001b[0;34m.\u001b[0m\u001b[0memployees\u001b[0m\u001b[0;34m)\u001b[0m\u001b[0;34m\u001b[0m\u001b[0;34m\u001b[0m\u001b[0m\n",
      "\u001b[0;31mNameError\u001b[0m: name 's2' is not defined"
     ]
    }
   ],
   "source": [
    "s2.employees = 26\n",
    "print(s2.employees)"
   ]
  },
  {
   "cell_type": "code",
   "execution_count": 6,
   "metadata": {},
   "outputs": [
    {
     "ename": "NameError",
     "evalue": "name 's1' is not defined",
     "output_type": "error",
     "traceback": [
      "\u001b[0;31m---------------------------------------------------------------------------\u001b[0m",
      "\u001b[0;31mNameError\u001b[0m                                 Traceback (most recent call last)",
      "\u001b[0;32m/var/folders/l_/s2stp_4940d5h7pgt3_4rl040000gn/T/ipykernel_64415/2198748134.py\u001b[0m in \u001b[0;36m<module>\u001b[0;34m\u001b[0m\n\u001b[0;32m----> 1\u001b[0;31m \u001b[0ms1\u001b[0m\u001b[0;34m.\u001b[0m\u001b[0memployees\u001b[0m\u001b[0;34m\u001b[0m\u001b[0;34m\u001b[0m\u001b[0m\n\u001b[0m",
      "\u001b[0;31mNameError\u001b[0m: name 's1' is not defined"
     ]
    }
   ],
   "source": [
    "s1.employees"
   ]
  },
  {
   "cell_type": "markdown",
   "metadata": {},
   "source": [
    "In addition to attributes, classes also have ___methods___. Recall that a method is similar to a function, but can only operate on objects in its class. (For example, lists have a method called `.append()`, OLS models have a method called `.summary()`.) \n",
    "\n",
    "Let's add a new method to our Store class:"
   ]
  },
  {
   "cell_type": "code",
   "execution_count": 7,
   "metadata": {},
   "outputs": [],
   "source": [
    "# Redefine the class with this new method\n",
    "class Store:\n",
    "    def __init__(self, location, employees, manager):\n",
    "\n",
    "        self.location = location \n",
    "        self.employees = employees \n",
    "        self.manager = manager\n",
    "        \n",
    "    def print_job_ad(self,role = 'cashier'):\n",
    "        '''\n",
    "        Creates a job ad for a store\n",
    "        '''\n",
    "        print(f'Now Hiring {role} at our {self.location} location')\n",
    "        print(f'No experience necessary! Ask to speak to {self.manager} for more information')\n",
    "        \n",
    "        \n",
    "#     def another)functio:\n",
    "        \n",
    "#         self.ma\n",
    "        \n",
    "\n",
    "\n",
    "# Recreate our Item objects\n",
    "s1 = Store('downtown', 100, 'Josh Brown')\n",
    "s2 = Store('rural', 25, 'Sally Fields')"
   ]
  },
  {
   "cell_type": "code",
   "execution_count": 8,
   "metadata": {},
   "outputs": [],
   "source": [
    "# dir(s1)"
   ]
  },
  {
   "cell_type": "code",
   "execution_count": 9,
   "metadata": {},
   "outputs": [
    {
     "name": "stdout",
     "output_type": "stream",
     "text": [
      "Now Hiring cashier at our downtown location\n",
      "No experience necessary! Ask to speak to Josh Brown for more information\n"
     ]
    }
   ],
   "source": [
    "s1.print_job_ad()"
   ]
  },
  {
   "cell_type": "code",
   "execution_count": 10,
   "metadata": {},
   "outputs": [
    {
     "name": "stdout",
     "output_type": "stream",
     "text": [
      "Now Hiring baker at our rural location\n",
      "No experience necessary! Ask to speak to Sally Fields for more information\n"
     ]
    }
   ],
   "source": [
    "s2.print_job_ad('baker')"
   ]
  },
  {
   "cell_type": "markdown",
   "metadata": {},
   "source": [
    "Our `.print_job_ad()` method also takes in the `self` argument. (In fact, all methods will have `self` as their first argument.) This gives our method access to all of the attributes of the particular Store object that we call it on. \n",
    "\n",
    "We're able to print out unique advertisements for each object in our Store class, just like we can get unique summaries for each of our DataFrames, or unique movements for each ghost in our game of Pac-Man."
   ]
  },
  {
   "cell_type": "markdown",
   "metadata": {},
   "source": [
    "#### Exercise 1\n",
    "\n",
    "Write a new method for our Store class called `change_manager()`. This method should take in a new manager and set it as the Store's manager."
   ]
  },
  {
   "cell_type": "code",
   "execution_count": 11,
   "metadata": {},
   "outputs": [],
   "source": [
    "class Store:\n",
    "    def __init__(self, location, employees, manager):\n",
    "\n",
    "        self.location = location \n",
    "        self.employees = employees \n",
    "        self.manager = manager\n",
    "        \n",
    "    def print_job_ad(self,role = 'cashier'):\n",
    "        '''\n",
    "        Creates a job ad for a store\n",
    "        '''\n",
    "        print(f'Now Hiring {role} at our {self.location} location')\n",
    "        print(f'No experience necessary! Ask to speak to {self.manager} for more information')\n",
    "        \n",
    "    def change_manager(self,new_manager):\n",
    "        '''\n",
    "        INPUT: new_manager\n",
    "        OUTPUT: none\n",
    "        \n",
    "        takes in new manager, and overrides manager with it\n",
    "        \n",
    "        '''\n",
    "        self.manager = new_manager\n",
    "        \n",
    "    def print_my_store(self):\n",
    "        print(\"this is my store \",  self.location)\n",
    "        \n"
   ]
  },
  {
   "cell_type": "code",
   "execution_count": 12,
   "metadata": {},
   "outputs": [],
   "source": [
    "# dir(s1)"
   ]
  },
  {
   "cell_type": "code",
   "execution_count": 13,
   "metadata": {},
   "outputs": [],
   "source": [
    "s1 = Store(\"acb\", 132, \"old\")"
   ]
  },
  {
   "cell_type": "code",
   "execution_count": 14,
   "metadata": {},
   "outputs": [],
   "source": [
    "s1.change_manager(\"new\")"
   ]
  },
  {
   "cell_type": "code",
   "execution_count": 15,
   "metadata": {},
   "outputs": [
    {
     "name": "stdout",
     "output_type": "stream",
     "text": [
      "this is my store  acb\n"
     ]
    }
   ],
   "source": [
    "s1.print_my_store()"
   ]
  },
  {
   "cell_type": "code",
   "execution_count": 16,
   "metadata": {},
   "outputs": [
    {
     "name": "stdout",
     "output_type": "stream",
     "text": [
      "[1, 3, 4, 5, 5]\n",
      "<__main__.Store object at 0x7f9dbabfb430>\n"
     ]
    }
   ],
   "source": [
    "l1 = [1,3,4,5,5]\n",
    "\n",
    "print(l1)\n",
    "\n",
    "\n",
    "print(s1)"
   ]
  },
  {
   "cell_type": "markdown",
   "metadata": {},
   "source": [
    "---"
   ]
  },
  {
   "cell_type": "markdown",
   "metadata": {},
   "source": [
    "#### Classes that interact\n",
    "\n",
    "Now that we've seen the basics, let's look at a more complex case. Classes rarely live in isolation. Typically, instances of one class will interact with instances of another class. (For example, we regularly create DataFrames from dictionaries, and we regularly pass arrays into OLS models.)\n",
    "\n",
    "Now that we've laid the foundation for our grocery management software by creating the Store class, we will proceed to create a class called Basket, which represents a customer's shopping basket for transactions at one of our grocery stores. We will also work our way toward building a Customer class, which represents the different users who may be creating baskets while shopping.\n",
    "\n",
    "Let's start with Basket:"
   ]
  },
  {
   "cell_type": "code",
   "execution_count": 17,
   "metadata": {},
   "outputs": [
    {
     "name": "stdout",
     "output_type": "stream",
     "text": [
      "100\n"
     ]
    }
   ],
   "source": [
    "class Basket:\n",
    "    '''\n",
    "    We can use docstrings in objects, just like functions\n",
    "    '''\n",
    "\n",
    "    max_size = 100\n",
    "\n",
    "\n",
    "# Create an instance\n",
    "b = Basket()\n",
    "print(b.max_size)\n",
    "# help(Basket) # we have help implemented using our docstring and defined attributes"
   ]
  },
  {
   "cell_type": "code",
   "execution_count": 18,
   "metadata": {},
   "outputs": [
    {
     "name": "stdout",
     "output_type": "stream",
     "text": [
      "Help on class Basket in module __main__:\n",
      "\n",
      "class Basket(builtins.object)\n",
      " |  We can use docstrings in objects, just like functions\n",
      " |  \n",
      " |  Data descriptors defined here:\n",
      " |  \n",
      " |  __dict__\n",
      " |      dictionary for instance variables (if defined)\n",
      " |  \n",
      " |  __weakref__\n",
      " |      list of weak references to the object (if defined)\n",
      " |  \n",
      " |  ----------------------------------------------------------------------\n",
      " |  Data and other attributes defined here:\n",
      " |  \n",
      " |  max_size = 100\n",
      "\n"
     ]
    }
   ],
   "source": [
    "help(Basket)"
   ]
  },
  {
   "cell_type": "markdown",
   "metadata": {},
   "source": [
    "Notice here we created an attribute called `max_size` that doesn't use the `self` prefix. This means that this attribute is applied to *all* baskets. We've chosen to set a hard upper limit on the size of the transaction baskets.\n",
    "\n",
    "Let's use the initialization method to create some object-specific attributes:"
   ]
  },
  {
   "cell_type": "code",
   "execution_count": 19,
   "metadata": {},
   "outputs": [],
   "source": [
    "class Basket:\n",
    "    '''\n",
    "    A Class to represent a shopping basket\n",
    "    '''\n",
    "    \n",
    "    max_size = 100\n",
    "\n",
    "    def __init__(self, items, amounts, costs):\n",
    "        \n",
    "\n",
    "\n",
    "        self.items = items\n",
    "        self.amounts = amounts\n",
    "        self.costs = costs\n",
    "        \n",
    "        \n",
    "\n"
   ]
  },
  {
   "cell_type": "code",
   "execution_count": 20,
   "metadata": {},
   "outputs": [
    {
     "name": "stdout",
     "output_type": "stream",
     "text": [
      "['Razor', 'Milk', 'Bread']\n",
      "['apples']\n"
     ]
    }
   ],
   "source": [
    "b1 = Basket(['Razor', 'Milk', 'Bread'], \n",
    "            [1, 2, 3], \n",
    "            [12.99, 4.99, 2.99])\n",
    "print(b1.items)\n",
    "\n",
    "b2 = Basket(['apples'], [3], [0.70])\n",
    "print(b2.items)"
   ]
  },
  {
   "cell_type": "code",
   "execution_count": 21,
   "metadata": {},
   "outputs": [
    {
     "data": {
      "text/plain": [
       "100"
      ]
     },
     "execution_count": 21,
     "metadata": {},
     "output_type": "execute_result"
    }
   ],
   "source": [
    "b1.max_size"
   ]
  },
  {
   "cell_type": "code",
   "execution_count": 22,
   "metadata": {},
   "outputs": [],
   "source": [
    "b1.max_size = 200"
   ]
  },
  {
   "cell_type": "code",
   "execution_count": 23,
   "metadata": {},
   "outputs": [
    {
     "data": {
      "text/plain": [
       "200"
      ]
     },
     "execution_count": 23,
     "metadata": {},
     "output_type": "execute_result"
    }
   ],
   "source": [
    "b1.max_size"
   ]
  },
  {
   "cell_type": "markdown",
   "metadata": {},
   "source": [
    "We now have a mildly useful Class. We can hold transactions as Baskets, and in the next exercise we will enforce the types and data structures we expect."
   ]
  },
  {
   "cell_type": "markdown",
   "metadata": {},
   "source": [
    "---\n",
    "#### Exercise 2\n",
    "\n",
    "1. We can use assertions inside classes and methods, just like in functions. Add assertions inside the `__init__` to ensure that items is a list with all strings, amounts is a list with all integers, and costs is a list with all floats.\n",
    "\n",
    "2. Write an assertion, inside the `__init__`, which enforces the max_size attribute (hint, access it using `self.max_size`).\n",
    "\n",
    "3. Write a new method called `add_item()`, which takes an (item, amount, price) tuple and adds the elements onto the appropriate basket attributes."
   ]
  },
  {
   "cell_type": "code",
   "execution_count": 24,
   "metadata": {},
   "outputs": [],
   "source": [
    "class Basket: \n",
    "    '''\n",
    "    A Class to represent a shopping basket\n",
    "    '''\n",
    "    \n",
    "    max_size = 100\n",
    "    \n",
    "    def __init__(self, items, amounts, costs):\n",
    "        \n",
    "        ### your code here\n",
    "\n",
    "        self.items = items\n",
    "        self.amounts = amounts\n",
    "        self.costs = costs\n",
    "        \n",
    "    ### your code here\n",
    "        "
   ]
  },
  {
   "cell_type": "code",
   "execution_count": null,
   "metadata": {},
   "outputs": [],
   "source": []
  },
  {
   "cell_type": "code",
   "execution_count": null,
   "metadata": {},
   "outputs": [],
   "source": []
  },
  {
   "cell_type": "code",
   "execution_count": 25,
   "metadata": {},
   "outputs": [],
   "source": [
    "# question 1\n",
    "\n",
    "class Basket: \n",
    "    '''\n",
    "    A Class to represent a shopping basket\n",
    "    '''\n",
    "    \n",
    "    max_size = 100\n",
    "    \n",
    "    def __init__(self, items, amounts, costs):\n",
    "        \n",
    "        # \n",
    "        assert isinstance(items,list), \"items should be a list\"\n",
    "        \n",
    "        #\n",
    "        for i in range(len(items)):\n",
    "            assert isinstance(items[i],str),'item should be a string'\n",
    "            \n",
    "        # \n",
    "        assert isinstance(amounts,list), \"amounts should be a list\"\n",
    "        \n",
    "        #\n",
    "        for i in range(len(amounts)):\n",
    "            assert isinstance(amounts[i],int),'amount should be an int'\n",
    "        \n",
    "        # \n",
    "        assert isinstance(costs,list), \"costs should be a list\"\n",
    "        \n",
    "        #\n",
    "        for i in range(len(costs)):\n",
    "            assert isinstance(costs[i],float),'cost should be a float'\n",
    "            \n",
    "        \n",
    "            \n",
    "        \n",
    "\n",
    "        self.items = items\n",
    "        self.amounts = amounts\n",
    "        self.costs = costs\n",
    "        "
   ]
  },
  {
   "cell_type": "code",
   "execution_count": null,
   "metadata": {},
   "outputs": [],
   "source": []
  },
  {
   "cell_type": "code",
   "execution_count": null,
   "metadata": {},
   "outputs": [],
   "source": []
  },
  {
   "cell_type": "code",
   "execution_count": 26,
   "metadata": {},
   "outputs": [],
   "source": [
    "b = Basket(['a'],[1],[1.0])"
   ]
  },
  {
   "cell_type": "code",
   "execution_count": 27,
   "metadata": {},
   "outputs": [
    {
     "ename": "AssertionError",
     "evalue": "item should be a string",
     "output_type": "error",
     "traceback": [
      "\u001b[0;31m---------------------------------------------------------------------------\u001b[0m",
      "\u001b[0;31mAssertionError\u001b[0m                            Traceback (most recent call last)",
      "\u001b[0;32m/var/folders/l_/s2stp_4940d5h7pgt3_4rl040000gn/T/ipykernel_64415/2557275279.py\u001b[0m in \u001b[0;36m<module>\u001b[0;34m\u001b[0m\n\u001b[0;32m----> 1\u001b[0;31m \u001b[0mb1\u001b[0m \u001b[0;34m=\u001b[0m \u001b[0mBasket\u001b[0m\u001b[0;34m(\u001b[0m\u001b[0;34m[\u001b[0m\u001b[0;36m1\u001b[0m\u001b[0;34m,\u001b[0m\u001b[0;36m2\u001b[0m\u001b[0;34m]\u001b[0m\u001b[0;34m,\u001b[0m\u001b[0;34m[\u001b[0m\u001b[0;36m1\u001b[0m\u001b[0;34m,\u001b[0m\u001b[0;36m2\u001b[0m\u001b[0;34m]\u001b[0m\u001b[0;34m,\u001b[0m\u001b[0;34m[\u001b[0m\u001b[0;36m1.9\u001b[0m\u001b[0;34m,\u001b[0m\u001b[0;36m1.0\u001b[0m\u001b[0;34m]\u001b[0m\u001b[0;34m)\u001b[0m\u001b[0;34m\u001b[0m\u001b[0;34m\u001b[0m\u001b[0m\n\u001b[0m",
      "\u001b[0;32m/var/folders/l_/s2stp_4940d5h7pgt3_4rl040000gn/T/ipykernel_64415/1601991506.py\u001b[0m in \u001b[0;36m__init__\u001b[0;34m(self, items, amounts, costs)\u001b[0m\n\u001b[1;32m     15\u001b[0m         \u001b[0;31m#\u001b[0m\u001b[0;34m\u001b[0m\u001b[0;34m\u001b[0m\u001b[0m\n\u001b[1;32m     16\u001b[0m         \u001b[0;32mfor\u001b[0m \u001b[0mi\u001b[0m \u001b[0;32min\u001b[0m \u001b[0mrange\u001b[0m\u001b[0;34m(\u001b[0m\u001b[0mlen\u001b[0m\u001b[0;34m(\u001b[0m\u001b[0mitems\u001b[0m\u001b[0;34m)\u001b[0m\u001b[0;34m)\u001b[0m\u001b[0;34m:\u001b[0m\u001b[0;34m\u001b[0m\u001b[0;34m\u001b[0m\u001b[0m\n\u001b[0;32m---> 17\u001b[0;31m             \u001b[0;32massert\u001b[0m \u001b[0misinstance\u001b[0m\u001b[0;34m(\u001b[0m\u001b[0mitems\u001b[0m\u001b[0;34m[\u001b[0m\u001b[0mi\u001b[0m\u001b[0;34m]\u001b[0m\u001b[0;34m,\u001b[0m\u001b[0mstr\u001b[0m\u001b[0;34m)\u001b[0m\u001b[0;34m,\u001b[0m\u001b[0;34m'item should be a string'\u001b[0m\u001b[0;34m\u001b[0m\u001b[0;34m\u001b[0m\u001b[0m\n\u001b[0m\u001b[1;32m     18\u001b[0m \u001b[0;34m\u001b[0m\u001b[0m\n\u001b[1;32m     19\u001b[0m         \u001b[0;31m#\u001b[0m\u001b[0;34m\u001b[0m\u001b[0;34m\u001b[0m\u001b[0m\n",
      "\u001b[0;31mAssertionError\u001b[0m: item should be a string"
     ]
    }
   ],
   "source": [
    "b1 = Basket([1,2],[1,2],[1.9,1.0])"
   ]
  },
  {
   "cell_type": "code",
   "execution_count": null,
   "metadata": {},
   "outputs": [],
   "source": []
  },
  {
   "cell_type": "code",
   "execution_count": 28,
   "metadata": {},
   "outputs": [],
   "source": [
    "# question 2, add enforcement of max_size\n",
    "\n",
    "\n",
    "class Basket: \n",
    "    '''\n",
    "    A Class to represent a shopping basket\n",
    "    '''\n",
    "    \n",
    "    max_size = 100\n",
    "    \n",
    "    def __init__(self, items, amounts, costs):\n",
    "        \n",
    "        # \n",
    "        assert isinstance(items,list), \"items should be a list\"\n",
    "        \n",
    "        #\n",
    "        for i in range(len(items)):\n",
    "            assert isinstance(items[i],str),'item should be a string'\n",
    "            \n",
    "        # \n",
    "        assert isinstance(amounts,list), \"amounts should be a list\"\n",
    "        \n",
    "        #\n",
    "        for i in range(len(amounts)):\n",
    "            assert isinstance(amounts[i],int),'amount should be an int'\n",
    "        \n",
    "        # \n",
    "        assert isinstance(costs,list), \"costs should be a list\"\n",
    "        \n",
    "        #\n",
    "        for i in range(len(costs)):\n",
    "            assert isinstance(costs[i],float),'cost should be a float'\n",
    "            \n",
    "        #\n",
    "        assert max(len(items),len(amounts),len(costs)) <= self.max_size and min(len(items),len(amounts),len(costs)) > 0 , f'Basket cant be of size greater than {self.max_size}'\n",
    "\n",
    "        self.items = items\n",
    "        self.amounts = amounts\n",
    "        self.costs = costs\n",
    "        "
   ]
  },
  {
   "cell_type": "code",
   "execution_count": 29,
   "metadata": {},
   "outputs": [],
   "source": [
    "b = Basket(['a'*i for i in range(-1,99)],[-111,2,3],[1.0,1.0,1.0])"
   ]
  },
  {
   "cell_type": "code",
   "execution_count": null,
   "metadata": {},
   "outputs": [],
   "source": []
  },
  {
   "cell_type": "code",
   "execution_count": null,
   "metadata": {},
   "outputs": [],
   "source": []
  },
  {
   "cell_type": "code",
   "execution_count": 30,
   "metadata": {},
   "outputs": [],
   "source": [
    "# question 3, add method add_item\n",
    "\n",
    "\n",
    "class Basket: \n",
    "    '''\n",
    "    A Class to represent a shopping basket\n",
    "    '''\n",
    "    \n",
    "    max_size = 100\n",
    "    \n",
    "    def __init__(self, items, amounts, costs):\n",
    "        \n",
    "        # \n",
    "        assert isinstance(items,list), \"items should be a list\"\n",
    "        \n",
    "        #\n",
    "        for i in range(len(items)):\n",
    "            assert isinstance(items[i],str),'item should be a string'\n",
    "            \n",
    "        # \n",
    "        assert isinstance(amounts,list), \"amounts should be a list\"\n",
    "        \n",
    "        #\n",
    "        for i in range(len(amounts)):\n",
    "            assert isinstance(amounts[i],int),'amount should be an int'\n",
    "        \n",
    "        # \n",
    "        assert isinstance(costs,list), \"costs should be a list\"\n",
    "        \n",
    "        #\n",
    "        for i in range(len(costs)):\n",
    "            assert isinstance(costs[i],float),'cost should be a float'\n",
    "            \n",
    "        #\n",
    "        assert max(len(items),len(amounts),len(costs)) <= self.max_size, f'Basket cant be of size greater than {self.max_size}'\n",
    "\n",
    "        self.items = items\n",
    "        self.amounts = amounts\n",
    "        self.costs = costs\n",
    "        \n",
    "    def add_item(self,new_item):\n",
    "        \n",
    "        \n",
    "        assert isinstance(new_item,tuple),'new item should be tuple'\n",
    "        assert len(new_item) == 3, 'new item should have length 3'\n",
    "        \n",
    "        item,amount,cost = new_item\n",
    "        \n",
    "        assert isinstance(item,str),'new item should be string'\n",
    "        assert isinstance(amount,int), 'amount should be int'\n",
    "        assert isinstance(cost,float), 'cost should be float'\n",
    "        \n",
    "        assert max(len(self.items),len(self.amounts),len(self.costs)) + 1 <= self.max_size, 'max basket size violation'\n",
    "        \n",
    "        self.items.append(item)\n",
    "        self.amounts.append(amount)\n",
    "        self.costs.append(cost)\n",
    "        \n",
    "        "
   ]
  },
  {
   "cell_type": "code",
   "execution_count": null,
   "metadata": {},
   "outputs": [],
   "source": []
  },
  {
   "cell_type": "code",
   "execution_count": null,
   "metadata": {},
   "outputs": [],
   "source": []
  },
  {
   "cell_type": "code",
   "execution_count": null,
   "metadata": {},
   "outputs": [],
   "source": []
  },
  {
   "cell_type": "code",
   "execution_count": 31,
   "metadata": {},
   "outputs": [],
   "source": [
    "b = Basket(['my item'],[10],[1.0])"
   ]
  },
  {
   "cell_type": "code",
   "execution_count": 32,
   "metadata": {},
   "outputs": [
    {
     "data": {
      "text/plain": [
       "['my item', 'new_item']"
      ]
     },
     "execution_count": 32,
     "metadata": {},
     "output_type": "execute_result"
    }
   ],
   "source": [
    "b.add_item(('new_item',20,2.0))\n",
    "b.items"
   ]
  },
  {
   "cell_type": "markdown",
   "metadata": {},
   "source": [
    "---"
   ]
  },
  {
   "cell_type": "code",
   "execution_count": null,
   "metadata": {},
   "outputs": [],
   "source": []
  },
  {
   "cell_type": "markdown",
   "metadata": {},
   "source": [
    "Let's create a new method for our Basket class that calculates the total cost of the basket:"
   ]
  },
  {
   "cell_type": "code",
   "execution_count": 33,
   "metadata": {},
   "outputs": [],
   "source": [
    "class Basket:\n",
    "    '''\n",
    "    A Class to represent a shopping basket\n",
    "    '''\n",
    "\n",
    "    max_size = 100\n",
    "\n",
    "    def __init__(self, items, amounts, costs):\n",
    "\n",
    "        self.items = items\n",
    "        self.amounts = amounts\n",
    "        self.costs = costs\n",
    "\n",
    "    def cost(self):\n",
    "        '''\n",
    "        Calculates the total cost of a basket\n",
    "        '''\n",
    "        basket_cost = 0\n",
    "        \n",
    "        for i in range(len(self.amounts)):\n",
    "            basket_cost += (self.amounts[i]*self.costs[i])\n",
    "        \n",
    "        return round(basket_cost,4)"
   ]
  },
  {
   "cell_type": "code",
   "execution_count": 34,
   "metadata": {},
   "outputs": [
    {
     "name": "stdout",
     "output_type": "stream",
     "text": [
      "169.84\n",
      "2.1\n"
     ]
    }
   ],
   "source": [
    "b1 = Basket(['Razor', 'Milk', 'Bread'], \n",
    "            [12, 1, 3], \n",
    "            [12.99, 4.99, 2.99])\n",
    "print(b1.cost())\n",
    "\n",
    "b2 = Basket(['apples'], [3], [0.70])\n",
    "print(b2.cost())"
   ]
  },
  {
   "cell_type": "code",
   "execution_count": null,
   "metadata": {},
   "outputs": [],
   "source": []
  },
  {
   "cell_type": "markdown",
   "metadata": {},
   "source": [
    "Question: how can the cost method be implemented using numpy?"
   ]
  },
  {
   "cell_type": "code",
   "execution_count": 35,
   "metadata": {},
   "outputs": [],
   "source": [
    "import numpy as np"
   ]
  },
  {
   "cell_type": "code",
   "execution_count": 36,
   "metadata": {},
   "outputs": [],
   "source": [
    "amounts = np.array([12, 1, 3]) \n",
    "costs =  np.array([12.99, 4.99, 2.99])"
   ]
  },
  {
   "cell_type": "code",
   "execution_count": 37,
   "metadata": {},
   "outputs": [
    {
     "data": {
      "text/plain": [
       "169.84"
      ]
     },
     "execution_count": 37,
     "metadata": {},
     "output_type": "execute_result"
    }
   ],
   "source": [
    "np.sum(amounts*costs)"
   ]
  },
  {
   "cell_type": "code",
   "execution_count": null,
   "metadata": {},
   "outputs": [],
   "source": []
  },
  {
   "cell_type": "code",
   "execution_count": null,
   "metadata": {},
   "outputs": [],
   "source": []
  },
  {
   "cell_type": "markdown",
   "metadata": {},
   "source": [
    "---\n",
    "\n",
    "Now that we've built out a fairly robust Basket class, we can implement a class to represent our customers.\n",
    "\n",
    "#### Exercise 3\n",
    "\n",
    "Finish building the Customer class below. A customer can have multiple baskets in their history, which were either added as arguments in the `init` call or via the `add_basket` method. Complete the `total_spent` method."
   ]
  },
  {
   "cell_type": "code",
   "execution_count": 38,
   "metadata": {},
   "outputs": [],
   "source": [
    "class Customer:\n",
    "    \n",
    "    \n",
    "    def __init__(self, cust_id, baskets = None):\n",
    "        \n",
    "        \"\"\"\n",
    "        \n",
    "        \"\"\"\n",
    "        self.cust_id = cust_id\n",
    "        self.baskets = []\n",
    "        if baskets is not None:\n",
    "            self.add_basket(baskets)\n",
    "    \n",
    "    def add_basket(self, baskets):\n",
    "        for i in baskets:\n",
    "            self.baskets.append(i)\n",
    "            \n",
    "    def total_spent(self):\n",
    "        \n",
    "        '''\n",
    "        calculates how much customer has spent\n",
    "        '''\n",
    "        \n",
    "        mybasket_sum = 0\n",
    "        for basket in self.baskets:\n",
    "            mybasket_sum = mybasket_sum + basket.cost()\n",
    "            \n",
    "        \n",
    "        \n",
    "            \n",
    "\n",
    "           \n",
    "    "
   ]
  },
  {
   "cell_type": "code",
   "execution_count": null,
   "metadata": {},
   "outputs": [],
   "source": []
  },
  {
   "cell_type": "code",
   "execution_count": null,
   "metadata": {},
   "outputs": [],
   "source": []
  },
  {
   "cell_type": "code",
   "execution_count": null,
   "metadata": {},
   "outputs": [],
   "source": []
  },
  {
   "cell_type": "code",
   "execution_count": 39,
   "metadata": {},
   "outputs": [],
   "source": [
    "class Customer:\n",
    "    \n",
    "    def __init__(self, cust_id, baskets = None):\n",
    "        self.cust_id = cust_id\n",
    "        self.baskets = []\n",
    "        if baskets is not None:\n",
    "            self.add_basket(baskets)\n",
    "    \n",
    "    def add_basket(self, baskets):\n",
    "        for i in baskets:\n",
    "            self.baskets.append(i)\n",
    "            \n",
    "    def total_spent(self):\n",
    "        \n",
    "        '''\n",
    "        calculates how much customer has spent\n",
    "        '''\n",
    "        total_spent = 0\n",
    "        for basket in self.baskets:\n",
    "            print(\"current_basket\",  basket.items, basket.amounts, basket.costs )\n",
    "            print(\"current basket cost\", basket.cost())\n",
    "            total_spent += basket.cost()\n",
    "        \n",
    "        return total_spent\n",
    "\n",
    "           \n",
    "    "
   ]
  },
  {
   "cell_type": "code",
   "execution_count": 40,
   "metadata": {},
   "outputs": [
    {
     "name": "stdout",
     "output_type": "stream",
     "text": [
      "current_basket ['Razor', 'Milk', 'Bread'] [1, 2, 3] [12.99, 4.99, 2.99]\n",
      "current basket cost 31.94\n",
      "31.94\n",
      "current_basket ['Razor', 'Milk', 'Bread'] [1, 2, 3] [12.99, 4.99, 2.99]\n",
      "current basket cost 31.94\n",
      "current_basket ['apples'] [3] [0.7]\n",
      "current basket cost 2.1\n",
      "current_basket ['bananas'] [7] [0.33]\n",
      "current basket cost 2.31\n",
      "36.35\n"
     ]
    }
   ],
   "source": [
    "### Testing the Customer class\n",
    "    \n",
    "# Test 1:\n",
    "\n",
    "# Create an instance of a Basket\n",
    "b1 = Basket(['Razor', 'Milk', 'Bread'], \n",
    "            [1, 2, 3], \n",
    "            [12.99, 4.99, 2.99])\n",
    "\n",
    "# Create a Customer with that Basket\n",
    "customer1 = Customer(1, [b1])\n",
    "\n",
    "print( customer1.total_spent() ) # should return $31.94\n",
    "\n",
    "# Test 2:\n",
    "\n",
    "# Create more baskets\n",
    "b2 = Basket(['apples'], [3], [0.70])\n",
    "b3 = Basket(['bananas'], [7], [0.33])\n",
    "\n",
    "# Add it to this Customer's basket history \n",
    "customer1.add_basket([b2,b3])\n",
    "\n",
    "print( customer1.total_spent() ) # should return $36.35"
   ]
  },
  {
   "cell_type": "code",
   "execution_count": 41,
   "metadata": {},
   "outputs": [
    {
     "name": "stdout",
     "output_type": "stream",
     "text": [
      "[1, 3, 5]\n"
     ]
    },
    {
     "data": {
      "text/plain": [
       "True"
      ]
     },
     "execution_count": 41,
     "metadata": {},
     "output_type": "execute_result"
    }
   ],
   "source": [
    "print([1,3,5])\n",
    "1==1"
   ]
  },
  {
   "cell_type": "code",
   "execution_count": 42,
   "metadata": {},
   "outputs": [
    {
     "ename": "NameError",
     "evalue": "name 'df1' is not defined",
     "output_type": "error",
     "traceback": [
      "\u001b[0;31m---------------------------------------------------------------------------\u001b[0m",
      "\u001b[0;31mNameError\u001b[0m                                 Traceback (most recent call last)",
      "\u001b[0;32m/var/folders/l_/s2stp_4940d5h7pgt3_4rl040000gn/T/ipykernel_64415/2430427046.py\u001b[0m in \u001b[0;36m<module>\u001b[0;34m\u001b[0m\n\u001b[0;32m----> 1\u001b[0;31m \u001b[0mdf1\u001b[0m\u001b[0;34m.\u001b[0m\u001b[0mmerge\u001b[0m\u001b[0;34m(\u001b[0m\u001b[0mdf2\u001b[0m\u001b[0;34m)\u001b[0m\u001b[0;34m\u001b[0m\u001b[0;34m\u001b[0m\u001b[0m\n\u001b[0m",
      "\u001b[0;31mNameError\u001b[0m: name 'df1' is not defined"
     ]
    }
   ],
   "source": [
    "df1.merge(df2)"
   ]
  },
  {
   "cell_type": "markdown",
   "metadata": {},
   "source": [
    "---"
   ]
  },
  {
   "cell_type": "markdown",
   "metadata": {},
   "source": [
    "### Special Methods\n",
    "\n",
    "Along with `__init__`, there are many other special methods. [You can see the docs here](https://docs.python.org/3/reference/datamodel.html#basic-customization). A useful method is `__str__` which determines how we print our object, as well as `__eq__`, which determines how equality is defined. You can imagine we could use `__eq__` to easily compare basket costs."
   ]
  },
  {
   "cell_type": "code",
   "execution_count": 43,
   "metadata": {},
   "outputs": [],
   "source": [
    "class Basket: \n",
    "    '''\n",
    "    A Class to represent a shopping basket\n",
    "    '''\n",
    "    max_size = 100\n",
    "    \n",
    "    def __init__(self, items, amounts, costs):\n",
    "\n",
    "        self.items = items\n",
    "        self.amounts = amounts\n",
    "        self.costs = costs\n",
    "    \n",
    "    def cost(self):\n",
    "        '''\n",
    "        Calculates the total cost of a basket\n",
    "        '''\n",
    "        \n",
    "        basket_cost = 0\n",
    "        \n",
    "        for i in range(len(self.amounts)):\n",
    "            basket_cost += (self.amounts[i]*self.costs[i])\n",
    "        \n",
    "        return round(basket_cost,4)\n",
    "    \n",
    "    def __eq__(self, other):\n",
    "        \n",
    "        \"\"\"other argument is of type basket class \"\"\"\n",
    "        \n",
    "        \n",
    "        return self.cost() == other.cost()\n",
    "    \n",
    "    def __str__(self):\n",
    "        return \"Print in a good way\" + str(self.items)\n",
    "    "
   ]
  },
  {
   "cell_type": "code",
   "execution_count": null,
   "metadata": {},
   "outputs": [],
   "source": []
  },
  {
   "cell_type": "code",
   "execution_count": 44,
   "metadata": {},
   "outputs": [
    {
     "name": "stdout",
     "output_type": "stream",
     "text": [
      "False\n",
      "True\n"
     ]
    }
   ],
   "source": [
    "# We've modified how equality is defined for this class\n",
    "b1 = Basket(['Bread'], [2], [2.99])\n",
    "b2 = Basket(['Bread'], [3], [2.99])\n",
    "\n",
    "print(b1 == b2)\n",
    "\n",
    "b3 = Basket(['Honey'], [1], [5.98])\n",
    "print(b1 == b3)\n",
    "\n",
    "# b1 ==1"
   ]
  },
  {
   "cell_type": "code",
   "execution_count": 45,
   "metadata": {},
   "outputs": [
    {
     "name": "stdout",
     "output_type": "stream",
     "text": [
      "Print in a good way['Bread']\n"
     ]
    }
   ],
   "source": [
    "print(b1)"
   ]
  },
  {
   "cell_type": "code",
   "execution_count": null,
   "metadata": {},
   "outputs": [],
   "source": []
  },
  {
   "cell_type": "code",
   "execution_count": 46,
   "metadata": {},
   "outputs": [
    {
     "name": "stdout",
     "output_type": "stream",
     "text": [
      "Print in a good way['Bread']\n"
     ]
    }
   ],
   "source": [
    "print(b1)"
   ]
  },
  {
   "cell_type": "markdown",
   "metadata": {},
   "source": [
    "---\n",
    "\n",
    "#### Exercise 4\n",
    "\n",
    "Modify our Basket class to include a new `__str__` method. \n",
    "\n",
    "\n",
    "1. When we call `print()` on a basket, we want to see each item and its quantity displayed side-by-side.\n",
    "\n",
    "    For example: <br>\n",
    "        Apples, 5\n",
    "        Bananas, 7\n",
    "        ...\n",
    "        \n",
    "**hint**: you might find the \"\\n\" new line character useful"
   ]
  },
  {
   "cell_type": "code",
   "execution_count": 47,
   "metadata": {},
   "outputs": [],
   "source": [
    "class Basket: \n",
    "    '''\n",
    "    A Class to represent an online shopping basket\n",
    "    '''\n",
    "    \n",
    "    max_size = 100\n",
    "    \n",
    "    def __init__(self, items, amounts, costs):\n",
    "\n",
    "        self.items = items\n",
    "        self.amounts = amounts\n",
    "        self.costs = costs\n",
    "    \n",
    "    def cost(self):\n",
    "        '''\n",
    "        Calculates the total cost of a basket\n",
    "        '''\n",
    "        \n",
    "        basket_cost = 0\n",
    "        \n",
    "        for i in range(len(self.amounts)):\n",
    "            basket_cost += (self.amounts[i]*self.costs[i])\n",
    "        \n",
    "        return round(basket_cost,4)\n",
    "    \n",
    "    ### your code here\n",
    "    \n",
    "    def __str__():\n",
    "        \n",
    "        sdfdlasdf\n",
    "        asdf\n",
    "        \n",
    "        \n",
    "            \n"
   ]
  },
  {
   "cell_type": "code",
   "execution_count": null,
   "metadata": {},
   "outputs": [],
   "source": []
  },
  {
   "cell_type": "code",
   "execution_count": null,
   "metadata": {},
   "outputs": [],
   "source": []
  },
  {
   "cell_type": "code",
   "execution_count": null,
   "metadata": {},
   "outputs": [],
   "source": []
  },
  {
   "cell_type": "code",
   "execution_count": null,
   "metadata": {},
   "outputs": [],
   "source": []
  },
  {
   "cell_type": "code",
   "execution_count": null,
   "metadata": {},
   "outputs": [],
   "source": []
  },
  {
   "cell_type": "code",
   "execution_count": null,
   "metadata": {},
   "outputs": [],
   "source": []
  },
  {
   "cell_type": "code",
   "execution_count": null,
   "metadata": {},
   "outputs": [],
   "source": []
  },
  {
   "cell_type": "code",
   "execution_count": 48,
   "metadata": {},
   "outputs": [],
   "source": [
    "\n",
    "\n",
    "class Basket: \n",
    "    '''\n",
    "    A Class to represent an online shopping basket\n",
    "    '''\n",
    "    \n",
    "    max_size = 100\n",
    "    \n",
    "    def __init__(self, items, amounts, costs):\n",
    "\n",
    "        self.items = items\n",
    "        self.amounts = amounts\n",
    "        self.costs = costs\n",
    "    \n",
    "    def cost(self):\n",
    "        '''\n",
    "        Calculates the total cost of a basket\n",
    "        '''\n",
    "        \n",
    "        basket_cost = 0\n",
    "        \n",
    "        for i in range(len(self.amounts)):\n",
    "            basket_cost += (self.amounts[i]*self.costs[i])\n",
    "        \n",
    "        return round(basket_cost,4)\n",
    "    \n",
    "    def __str__(self):\n",
    "        \n",
    "        basketstring = ''\n",
    "        \n",
    "        for i in range(len(self.items)):\n",
    "            basketstring += self.items[i]\n",
    "            basketstring += \", \"\n",
    "            basketstring += str(self.amounts[i])\n",
    "            # basketstring += \"\\n\"\n",
    "        \n",
    "        return basketstring\n",
    "            \n"
   ]
  },
  {
   "cell_type": "code",
   "execution_count": 49,
   "metadata": {},
   "outputs": [
    {
     "name": "stdout",
     "output_type": "stream",
     "text": [
      "Razor, 1Milk, 2Bread, 3\n"
     ]
    }
   ],
   "source": [
    "# We've modified how the `print()` function works for this class\n",
    "b4= Basket(['Razor', 'Milk', 'Bread'], \n",
    "            [1, 2, 3], \n",
    "            [12.99, 4.99, 2.99])\n",
    "print(b4)"
   ]
  },
  {
   "cell_type": "markdown",
   "metadata": {},
   "source": [
    "### Inheritance\n",
    "\n",
    "Inheritance refers to objects which are 'subtypes' of other objects. When we want to inherit from another class type, we put the class we want to inherit from (called the **superclass**) in brackets\n",
    "\n",
    "We keep all of the attributes and methods from our superclass, but add or overwrite any we include in our new class.\n",
    "\n",
    "In our case, we'd like to build a class of objects that give our customers the ability to make shopping lists in a consumer facing app. Most of the functionality we need is already defined in Python's List. So we will make our Shopping List a **subclass** of List."
   ]
  },
  {
   "cell_type": "code",
   "execution_count": 50,
   "metadata": {},
   "outputs": [
    {
     "ename": "NameError",
     "evalue": "name 'parent_class' is not defined",
     "output_type": "error",
     "traceback": [
      "\u001b[0;31m---------------------------------------------------------------------------\u001b[0m",
      "\u001b[0;31mNameError\u001b[0m                                 Traceback (most recent call last)",
      "\u001b[0;32m/var/folders/l_/s2stp_4940d5h7pgt3_4rl040000gn/T/ipykernel_64415/2250237677.py\u001b[0m in \u001b[0;36m<module>\u001b[0;34m\u001b[0m\n\u001b[0;32m----> 1\u001b[0;31m \u001b[0;32mclass\u001b[0m \u001b[0mSubClass\u001b[0m\u001b[0;34m(\u001b[0m\u001b[0mparent_class\u001b[0m\u001b[0;34m)\u001b[0m\u001b[0;34m:\u001b[0m\u001b[0;34m\u001b[0m\u001b[0;34m\u001b[0m\u001b[0m\n\u001b[0m\u001b[1;32m      2\u001b[0m     \u001b[0;32mpass\u001b[0m\u001b[0;34m\u001b[0m\u001b[0;34m\u001b[0m\u001b[0m\n",
      "\u001b[0;31mNameError\u001b[0m: name 'parent_class' is not defined"
     ]
    }
   ],
   "source": [
    "class SubClass(parent_class):\n",
    "    pass"
   ]
  },
  {
   "cell_type": "code",
   "execution_count": 51,
   "metadata": {},
   "outputs": [
    {
     "data": {
      "text/plain": [
       "[1, 3, 5]"
      ]
     },
     "execution_count": 51,
     "metadata": {},
     "output_type": "execute_result"
    }
   ],
   "source": [
    "[1,3,5]"
   ]
  },
  {
   "cell_type": "code",
   "execution_count": 52,
   "metadata": {},
   "outputs": [
    {
     "ename": "IndentationError",
     "evalue": "expected an indented block (2565924746.py, line 7)",
     "output_type": "error",
     "traceback": [
      "\u001b[0;36m  File \u001b[0;32m\"/var/folders/l_/s2stp_4940d5h7pgt3_4rl040000gn/T/ipykernel_64415/2565924746.py\"\u001b[0;36m, line \u001b[0;32m7\u001b[0m\n\u001b[0;31m    \u001b[0m\n\u001b[0m    ^\u001b[0m\n\u001b[0;31mIndentationError\u001b[0m\u001b[0;31m:\u001b[0m expected an indented block\n"
     ]
    }
   ],
   "source": [
    "class list:\n",
    "    def __str__(self):\n",
    "        \n",
    "        return print_list\n",
    "    \n",
    "    def append(self, l2):\n",
    "        "
   ]
  },
  {
   "cell_type": "code",
   "execution_count": 53,
   "metadata": {},
   "outputs": [
    {
     "name": "stdout",
     "output_type": "stream",
     "text": [
      "Your shopping list contains: ['grapes', 'cookies', 'milk', 'eggs']\n"
     ]
    }
   ],
   "source": [
    "class ShoppingList(list): # list is a superclass of ShoppingList, ShoppingList is a subclass of list\n",
    "    def __str__(self):\n",
    "        \n",
    "        return 'Your shopping list contains: ' + super.__str__(self)\n",
    "\n",
    "# Initializing is a bit different\n",
    "sl1 = ShoppingList(['grapes','cookies','milk'])\n",
    "\n",
    "#Just like an old list:\n",
    "sl1.append('eggs')\n",
    "# print(sl1.pop())\n",
    "\n",
    "# #But with the cool print:\n",
    "print(sl1)"
   ]
  },
  {
   "cell_type": "code",
   "execution_count": 54,
   "metadata": {},
   "outputs": [
    {
     "data": {
      "text/plain": [
       "'milk'"
      ]
     },
     "execution_count": 54,
     "metadata": {},
     "output_type": "execute_result"
    }
   ],
   "source": [
    "sl1.pop(2)"
   ]
  },
  {
   "cell_type": "code",
   "execution_count": 55,
   "metadata": {},
   "outputs": [
    {
     "data": {
      "text/plain": [
       "['grapes', 'cookies', 'eggs']"
      ]
     },
     "execution_count": 55,
     "metadata": {},
     "output_type": "execute_result"
    }
   ],
   "source": [
    "sl1"
   ]
  },
  {
   "cell_type": "code",
   "execution_count": 56,
   "metadata": {},
   "outputs": [],
   "source": [
    "a = [1,3,556]\n",
    "\n",
    "b = a.pop()\n"
   ]
  },
  {
   "cell_type": "code",
   "execution_count": 57,
   "metadata": {},
   "outputs": [
    {
     "data": {
      "text/plain": [
       "[1, 3]"
      ]
     },
     "execution_count": 57,
     "metadata": {},
     "output_type": "execute_result"
    }
   ],
   "source": [
    "a"
   ]
  },
  {
   "cell_type": "markdown",
   "metadata": {},
   "source": [
    "### Advanced Functions\n",
    "\n",
    "Let's write a function that would be useful for our grocery store software. We will define it in the usual way, using the `def` expression. "
   ]
  },
  {
   "cell_type": "code",
   "execution_count": 58,
   "metadata": {},
   "outputs": [
    {
     "data": {
      "text/plain": [
       "3.21"
      ]
     },
     "execution_count": 58,
     "metadata": {},
     "output_type": "execute_result"
    }
   ],
   "source": [
    "def price_plus_tax(price):\n",
    "    return price*1.07 # hard coded 7% sales tax\n",
    "\n",
    "price_plus_tax(3)"
   ]
  },
  {
   "cell_type": "markdown",
   "metadata": {},
   "source": [
    "If we only use this function once, we can use what is known as a `lambda` expression. `lambda` functions are a useful way of referring to a custom function without naming the function with the `def` expression. "
   ]
  },
  {
   "cell_type": "code",
   "execution_count": 59,
   "metadata": {},
   "outputs": [
    {
     "data": {
      "text/plain": [
       "3.21"
      ]
     },
     "execution_count": 59,
     "metadata": {},
     "output_type": "execute_result"
    }
   ],
   "source": [
    "#anonymous functions\n",
    "\n",
    "# (lambda var1,var2: <definition of thibgs u want to do>) (argyments)\n",
    "\n",
    "(lambda price: price*1.07)(3)"
   ]
  },
  {
   "cell_type": "markdown",
   "metadata": {},
   "source": [
    "Another example, a function that takes in a customers name and outputs a welcome message, defined first the usual way, and then using a `lambda`:"
   ]
  },
  {
   "cell_type": "code",
   "execution_count": 60,
   "metadata": {},
   "outputs": [
    {
     "name": "stdout",
     "output_type": "stream",
     "text": [
      "Welcome Adam!\n"
     ]
    }
   ],
   "source": [
    "def customer_welcome(name):\n",
    "    return print(f\"Welcome {name}!\")\n",
    "\n",
    "customer_welcome(\"Adam\")"
   ]
  },
  {
   "cell_type": "code",
   "execution_count": 61,
   "metadata": {},
   "outputs": [
    {
     "name": "stdout",
     "output_type": "stream",
     "text": [
      "Welcome Adam!\n"
     ]
    }
   ],
   "source": [
    "# print custom hello with a lambda function\n",
    "\n",
    "(lambda name: print(f\"Welcome {name}!\"))(\"Adam\")"
   ]
  },
  {
   "cell_type": "markdown",
   "metadata": {},
   "source": [
    "`lambda` functions help when you need to pass a function to another method, like when using custom `pandas` transformations. But if you plan on naming and reusing your function or assigning it to a variable, you should use `def` instead:"
   ]
  },
  {
   "cell_type": "code",
   "execution_count": 62,
   "metadata": {
    "scrolled": true
   },
   "outputs": [
    {
     "name": "stdout",
     "output_type": "stream",
     "text": [
      "2.2\n",
      "2.2\n"
     ]
    }
   ],
   "source": [
    "# good practice\n",
    "\n",
    "def price_plus_tax(price, tax_rate): \n",
    "    return price*tax_rate\n",
    "\n",
    "print(price_plus_tax(2.00,1.10))\n",
    "\n",
    "# the following declaration also works but is considered an ANTI-PATTERN\n",
    "# anti-patterns are bad coding practice that should be avoided\n",
    "# using a syntactic pattern in a way other than the way it was designed to be used\n",
    "\n",
    "price_plus_tax = lambda price,tax_rate: price*tax_rate\n",
    "print(price_plus_tax(2.00,1.10))\n"
   ]
  },
  {
   "cell_type": "markdown",
   "metadata": {},
   "source": [
    "You might already be familiar with lambdas as they are often used in conjunction with pandas DataFrames. Let's demonstrate this by making up a dataset with information about customer shopping baskets. In addition to a key field called basket_id, our dataset will have a column representing the size (number of items) contained in the basket."
   ]
  },
  {
   "cell_type": "code",
   "execution_count": 63,
   "metadata": {},
   "outputs": [
    {
     "data": {
      "text/plain": [
       "array([3, 3, 3, 5, 5, 2, 3, 3, 3, 3, 3, 2, 3, 3, 3, 3, 0, 3, 3, 3, 2, 2,\n",
       "       5, 3, 3, 3, 2, 3, 5, 3, 3, 3, 2, 5, 2, 3, 3, 3, 3, 2, 3, 2, 3, 5,\n",
       "       3, 3, 2, 0, 2, 2, 0, 0, 3, 3, 5, 0, 3, 3, 5, 2, 3, 2, 3, 3, 2, 3,\n",
       "       3, 3, 2, 2, 2, 2, 2, 2, 3, 0, 3, 2, 3, 2, 3, 3, 3, 3, 2, 2, 3, 3,\n",
       "       2, 3, 3, 5, 3, 5, 0, 3, 3, 3, 3, 3, 2, 3, 3, 3, 0, 2, 2, 3, 3, 2,\n",
       "       2, 3, 0, 3, 2, 2, 3, 2, 3, 3, 3, 2, 0, 0, 3, 2, 3, 3, 3, 3, 3, 3,\n",
       "       3, 0, 3, 5, 3, 3, 3, 3, 2, 0, 2, 2, 0, 2, 0, 3, 0, 3, 2, 2, 3, 2,\n",
       "       3, 0, 2, 0, 2, 3, 2, 0, 3, 2, 3, 2, 2, 2, 3, 3, 3, 2, 3, 0, 3, 3,\n",
       "       2, 3, 0, 3, 5, 3, 2, 2, 3, 2, 3, 2, 2, 2, 2, 3, 3, 3, 3, 3, 2, 2,\n",
       "       3, 3, 3, 3, 5, 2, 2, 3, 2, 0, 3, 2, 3, 3, 5, 3, 2, 3, 3, 3, 3, 2,\n",
       "       3, 3, 0, 3, 2, 2, 5, 3, 3, 2, 2, 3, 2, 2, 3, 3, 5, 3, 0, 3, 3, 3,\n",
       "       3, 2, 2, 3, 3, 3, 3, 3, 2, 3, 0, 3, 3, 3, 2, 3, 5, 3, 2, 3, 3, 3,\n",
       "       2, 0, 3, 2, 3, 3, 3, 3, 3, 3, 0, 3, 3, 3, 2, 2, 3, 5, 5, 5, 3, 2,\n",
       "       3, 2, 3, 2, 2, 3, 2, 3, 3, 3, 2, 3, 3, 3, 3, 3, 5, 0, 3, 2, 2, 2,\n",
       "       0, 3, 5, 3, 5, 3, 2, 2, 3, 3, 3, 5, 2, 0, 5, 3, 2, 3, 3, 3, 3, 2,\n",
       "       3, 3, 5, 5, 3, 2, 0, 2, 5, 3, 3, 3, 3, 3, 3, 5, 2, 2, 3, 0, 0, 0,\n",
       "       5, 2, 2, 3, 2, 2, 2, 2, 2, 3, 3, 0, 3, 3, 0, 3, 3, 2, 0, 3, 2, 0,\n",
       "       3, 3, 2, 3, 2, 3, 2, 2, 3, 2, 3, 3, 2, 5, 0, 2, 3, 3, 0, 3, 3, 2,\n",
       "       2, 0, 2, 3, 2, 2, 2, 2, 2, 0, 3, 3, 3, 5, 3, 3, 3, 2, 0, 3, 3, 3,\n",
       "       0, 3, 5, 2, 3, 3, 3, 3, 5, 3, 3, 5, 3, 3, 3, 2, 3, 0, 3, 3, 0, 3,\n",
       "       5, 5, 2, 5, 3, 3, 3, 2, 2, 2, 3, 3, 3, 2, 3, 2, 3, 2, 3, 2, 2, 0,\n",
       "       5, 3, 3, 3, 3, 3, 3, 0, 5, 3, 3, 2, 2, 0, 2, 3, 3, 2, 2, 0, 3, 0,\n",
       "       2, 5, 3, 3, 5, 0, 5, 0, 2, 2, 2, 3, 2, 2, 3, 3, 3, 2, 0, 2, 3, 3,\n",
       "       2, 0, 3, 2, 2, 0, 3, 3, 2, 3, 2, 2, 3, 2, 3, 0, 3, 2, 2, 3, 0, 2,\n",
       "       2, 3, 3, 3, 2, 3, 2, 2, 3, 0, 3, 3, 2, 3, 3, 3, 2, 3, 3, 3, 3, 2,\n",
       "       3, 3, 3, 3, 2, 2, 2, 0, 3, 2, 3, 3, 3, 2, 2, 2, 2, 2, 2, 2, 2, 3,\n",
       "       5, 5, 3, 3, 5, 2, 3, 3, 3, 2, 2, 3, 3, 2, 5, 3, 3, 3, 2, 5, 2, 3,\n",
       "       5, 3, 5, 3, 2, 2, 2, 2, 3, 5, 3, 2, 3, 3, 2, 3, 3, 2, 2, 2, 2, 3,\n",
       "       3, 0, 3, 3, 2, 3, 3, 2, 3, 5, 3, 0, 2, 3, 3, 0, 2, 5, 2, 3, 3, 2,\n",
       "       0, 3, 3, 5, 2, 2, 3, 3, 3, 3, 3, 2, 3, 3, 2, 3, 2, 3, 0, 2, 3, 3,\n",
       "       0, 2, 2, 3, 2, 2, 5, 2, 3, 3, 3, 3, 3, 3, 5, 3, 3, 2, 3, 3, 3, 2,\n",
       "       3, 3, 3, 3, 3, 2, 2, 0, 3, 3, 2, 3, 5, 3, 2, 2, 2, 0, 2, 2, 2, 0,\n",
       "       0, 3, 2, 2, 2, 3, 2, 2, 0, 5, 3, 3, 5, 3, 3, 5, 2, 2, 0, 0, 2, 2,\n",
       "       2, 5, 0, 2, 5, 3, 2, 2, 2, 2, 2, 2, 2, 3, 5, 3, 3, 5, 0, 3, 2, 3,\n",
       "       0, 3, 3, 3, 2, 3, 2, 3, 3, 3, 0, 3, 3, 0, 2, 3, 2, 2, 0, 2, 3, 2,\n",
       "       2, 2, 3, 3, 2, 3, 0, 5, 2, 0, 2, 5, 2, 3, 3, 3, 2, 2, 3, 5, 2, 2,\n",
       "       3, 3, 2, 3, 3, 3, 0, 2, 3, 3, 5, 3, 0, 3, 5, 5, 2, 3, 3, 5, 3, 3,\n",
       "       3, 3, 5, 3, 2, 0, 3, 2, 5, 3, 3, 2, 2, 2, 2, 2, 3, 3, 3, 3, 3, 5,\n",
       "       3, 2, 0, 3, 2, 3, 3, 5, 2, 3, 3, 2, 3, 3, 5, 2, 3, 3, 2, 5, 2, 2,\n",
       "       3, 3, 0, 3, 3, 0, 3, 2, 3, 0, 3, 3, 2, 3, 3, 3, 3, 3, 3, 2, 3, 3,\n",
       "       2, 2, 0, 3, 3, 5, 3, 3, 3, 0, 3, 3, 2, 3, 5, 2, 3, 2, 5, 2, 3, 2,\n",
       "       3, 3, 3, 3, 2, 2, 2, 2, 3, 0, 3, 3, 3, 2, 3, 3, 2, 2, 3, 3, 0, 3,\n",
       "       5, 2, 2, 3, 2, 3, 3, 0, 2, 3, 2, 3, 2, 3, 2, 3, 3, 5, 5, 3, 3, 2,\n",
       "       3, 0, 2, 3, 3, 0, 3, 3, 3, 2, 3, 2, 5, 3, 2, 5, 3, 5, 3, 2, 2, 2,\n",
       "       3, 2, 3, 0, 2, 3, 3, 5, 2, 3, 3, 2, 3, 3, 2, 3, 0, 2, 2, 3, 3, 2,\n",
       "       5, 2, 2, 2, 3, 5, 0, 3, 3, 2])"
      ]
     },
     "execution_count": 63,
     "metadata": {},
     "output_type": "execute_result"
    }
   ],
   "source": [
    "np.random.choice(6, 1000, p=[0.1, 0, 0.3, 0.5, 0,0.1])"
   ]
  },
  {
   "cell_type": "code",
   "execution_count": 65,
   "metadata": {},
   "outputs": [
    {
     "data": {
      "text/plain": [
       "[(0, 3),\n",
       " (1, 3),\n",
       " (2, 2),\n",
       " (3, 3),\n",
       " (4, 3),\n",
       " (5, 3),\n",
       " (6, 0),\n",
       " (7, 3),\n",
       " (8, 2),\n",
       " (9, 2),\n",
       " (10, 3),\n",
       " (11, 2),\n",
       " (12, 2),\n",
       " (13, 0),\n",
       " (14, 3),\n",
       " (15, 3),\n",
       " (16, 2),\n",
       " (17, 2),\n",
       " (18, 3),\n",
       " (19, 3),\n",
       " (20, 2),\n",
       " (21, 3),\n",
       " (22, 2),\n",
       " (23, 3),\n",
       " (24, 3),\n",
       " (25, 2),\n",
       " (26, 2),\n",
       " (27, 3),\n",
       " (28, 2),\n",
       " (29, 2),\n",
       " (30, 2),\n",
       " (31, 2),\n",
       " (32, 3),\n",
       " (33, 3),\n",
       " (34, 3),\n",
       " (35, 2),\n",
       " (36, 3),\n",
       " (37, 2),\n",
       " (38, 3),\n",
       " (39, 3),\n",
       " (40, 3),\n",
       " (41, 2),\n",
       " (42, 2),\n",
       " (43, 3),\n",
       " (44, 2),\n",
       " (45, 3),\n",
       " (46, 2),\n",
       " (47, 2),\n",
       " (48, 2),\n",
       " (49, 3),\n",
       " (50, 5),\n",
       " (51, 2),\n",
       " (52, 3),\n",
       " (53, 3),\n",
       " (54, 0),\n",
       " (55, 5),\n",
       " (56, 3),\n",
       " (57, 3),\n",
       " (58, 5),\n",
       " (59, 2),\n",
       " (60, 5),\n",
       " (61, 3),\n",
       " (62, 3),\n",
       " (63, 2),\n",
       " (64, 3),\n",
       " (65, 2),\n",
       " (66, 2),\n",
       " (67, 3),\n",
       " (68, 5),\n",
       " (69, 3),\n",
       " (70, 3),\n",
       " (71, 3),\n",
       " (72, 0),\n",
       " (73, 2),\n",
       " (74, 3),\n",
       " (75, 3),\n",
       " (76, 2),\n",
       " (77, 3),\n",
       " (78, 3),\n",
       " (79, 2),\n",
       " (80, 3),\n",
       " (81, 3),\n",
       " (82, 3),\n",
       " (83, 2),\n",
       " (84, 3),\n",
       " (85, 3),\n",
       " (86, 2),\n",
       " (87, 3),\n",
       " (88, 2),\n",
       " (89, 5),\n",
       " (90, 5),\n",
       " (91, 3),\n",
       " (92, 2),\n",
       " (93, 0),\n",
       " (94, 3),\n",
       " (95, 3),\n",
       " (96, 2),\n",
       " (97, 3),\n",
       " (98, 0),\n",
       " (99, 0),\n",
       " (100, 2),\n",
       " (101, 2),\n",
       " (102, 2),\n",
       " (103, 5),\n",
       " (104, 5),\n",
       " (105, 3),\n",
       " (106, 2),\n",
       " (107, 3),\n",
       " (108, 3),\n",
       " (109, 3),\n",
       " (110, 3),\n",
       " (111, 3),\n",
       " (112, 0),\n",
       " (113, 2),\n",
       " (114, 2),\n",
       " (115, 2),\n",
       " (116, 2),\n",
       " (117, 2),\n",
       " (118, 3),\n",
       " (119, 2),\n",
       " (120, 3),\n",
       " (121, 2),\n",
       " (122, 0),\n",
       " (123, 2),\n",
       " (124, 3),\n",
       " (125, 2),\n",
       " (126, 3),\n",
       " (127, 2),\n",
       " (128, 0),\n",
       " (129, 3),\n",
       " (130, 3),\n",
       " (131, 5),\n",
       " (132, 3),\n",
       " (133, 2),\n",
       " (134, 3),\n",
       " (135, 3),\n",
       " (136, 0),\n",
       " (137, 2),\n",
       " (138, 2),\n",
       " (139, 3),\n",
       " (140, 2),\n",
       " (141, 3),\n",
       " (142, 3),\n",
       " (143, 0),\n",
       " (144, 5),\n",
       " (145, 5),\n",
       " (146, 2),\n",
       " (147, 3),\n",
       " (148, 5),\n",
       " (149, 2),\n",
       " (150, 3),\n",
       " (151, 2),\n",
       " (152, 0),\n",
       " (153, 0),\n",
       " (154, 2),\n",
       " (155, 3),\n",
       " (156, 2),\n",
       " (157, 5),\n",
       " (158, 3),\n",
       " (159, 3),\n",
       " (160, 3),\n",
       " (161, 2),\n",
       " (162, 3),\n",
       " (163, 3),\n",
       " (164, 3),\n",
       " (165, 0),\n",
       " (166, 2),\n",
       " (167, 2),\n",
       " (168, 2),\n",
       " (169, 0),\n",
       " (170, 3),\n",
       " (171, 3),\n",
       " (172, 2),\n",
       " (173, 0),\n",
       " (174, 2),\n",
       " (175, 0),\n",
       " (176, 0),\n",
       " (177, 5),\n",
       " (178, 3),\n",
       " (179, 3),\n",
       " (180, 3),\n",
       " (181, 3),\n",
       " (182, 2),\n",
       " (183, 3),\n",
       " (184, 3),\n",
       " (185, 3),\n",
       " (186, 3),\n",
       " (187, 3),\n",
       " (188, 3),\n",
       " (189, 3),\n",
       " (190, 2),\n",
       " (191, 3),\n",
       " (192, 5),\n",
       " (193, 3),\n",
       " (194, 3),\n",
       " (195, 2),\n",
       " (196, 3),\n",
       " (197, 3),\n",
       " (198, 3),\n",
       " (199, 3),\n",
       " (200, 3),\n",
       " (201, 2),\n",
       " (202, 2),\n",
       " (203, 2),\n",
       " (204, 2),\n",
       " (205, 3),\n",
       " (206, 3),\n",
       " (207, 2),\n",
       " (208, 3),\n",
       " (209, 3),\n",
       " (210, 3),\n",
       " (211, 2),\n",
       " (212, 0),\n",
       " (213, 2),\n",
       " (214, 0),\n",
       " (215, 3),\n",
       " (216, 2),\n",
       " (217, 3),\n",
       " (218, 3),\n",
       " (219, 0),\n",
       " (220, 5),\n",
       " (221, 3),\n",
       " (222, 3),\n",
       " (223, 3),\n",
       " (224, 0),\n",
       " (225, 3),\n",
       " (226, 2),\n",
       " (227, 3),\n",
       " (228, 3),\n",
       " (229, 3),\n",
       " (230, 3),\n",
       " (231, 3),\n",
       " (232, 3),\n",
       " (233, 3),\n",
       " (234, 2),\n",
       " (235, 3),\n",
       " (236, 5),\n",
       " (237, 3),\n",
       " (238, 3),\n",
       " (239, 3),\n",
       " (240, 0),\n",
       " (241, 5),\n",
       " (242, 2),\n",
       " (243, 2),\n",
       " (244, 2),\n",
       " (245, 3),\n",
       " (246, 3),\n",
       " (247, 0),\n",
       " (248, 5),\n",
       " (249, 5),\n",
       " (250, 3),\n",
       " (251, 3),\n",
       " (252, 3),\n",
       " (253, 2),\n",
       " (254, 3),\n",
       " (255, 2),\n",
       " (256, 3),\n",
       " (257, 3),\n",
       " (258, 2),\n",
       " (259, 2),\n",
       " (260, 3),\n",
       " (261, 5),\n",
       " (262, 3),\n",
       " (263, 5),\n",
       " (264, 2),\n",
       " (265, 3),\n",
       " (266, 3),\n",
       " (267, 3),\n",
       " (268, 2),\n",
       " (269, 3),\n",
       " (270, 5),\n",
       " (271, 3),\n",
       " (272, 3),\n",
       " (273, 3),\n",
       " (274, 5),\n",
       " (275, 0),\n",
       " (276, 0),\n",
       " (277, 3),\n",
       " (278, 0),\n",
       " (279, 2),\n",
       " (280, 3),\n",
       " (281, 2),\n",
       " (282, 5),\n",
       " (283, 3),\n",
       " (284, 3),\n",
       " (285, 5),\n",
       " (286, 2),\n",
       " (287, 0),\n",
       " (288, 3),\n",
       " (289, 3),\n",
       " (290, 2),\n",
       " (291, 0),\n",
       " (292, 2),\n",
       " (293, 0),\n",
       " (294, 3),\n",
       " (295, 3),\n",
       " (296, 3),\n",
       " (297, 3),\n",
       " (298, 2),\n",
       " (299, 3),\n",
       " (300, 3),\n",
       " (301, 3),\n",
       " (302, 2),\n",
       " (303, 0),\n",
       " (304, 2),\n",
       " (305, 3),\n",
       " (306, 3),\n",
       " (307, 3),\n",
       " (308, 3),\n",
       " (309, 3),\n",
       " (310, 2),\n",
       " (311, 3),\n",
       " (312, 2),\n",
       " (313, 2),\n",
       " (314, 5),\n",
       " (315, 2),\n",
       " (316, 2),\n",
       " (317, 2),\n",
       " (318, 3),\n",
       " (319, 3),\n",
       " (320, 5),\n",
       " (321, 3),\n",
       " (322, 2),\n",
       " (323, 5),\n",
       " (324, 3),\n",
       " (325, 3),\n",
       " (326, 0),\n",
       " (327, 3),\n",
       " (328, 3),\n",
       " (329, 3),\n",
       " (330, 2),\n",
       " (331, 3),\n",
       " (332, 2),\n",
       " (333, 2),\n",
       " (334, 2),\n",
       " (335, 3),\n",
       " (336, 3),\n",
       " (337, 3),\n",
       " (338, 3),\n",
       " (339, 5),\n",
       " (340, 3),\n",
       " (341, 2),\n",
       " (342, 3),\n",
       " (343, 3),\n",
       " (344, 0),\n",
       " (345, 3),\n",
       " (346, 5),\n",
       " (347, 3),\n",
       " (348, 2),\n",
       " (349, 5),\n",
       " (350, 2),\n",
       " (351, 3),\n",
       " (352, 2),\n",
       " (353, 3),\n",
       " (354, 2),\n",
       " (355, 2),\n",
       " (356, 2),\n",
       " (357, 0),\n",
       " (358, 0),\n",
       " (359, 2),\n",
       " (360, 3),\n",
       " (361, 3),\n",
       " (362, 2),\n",
       " (363, 3),\n",
       " (364, 2),\n",
       " (365, 2),\n",
       " (366, 5),\n",
       " (367, 2),\n",
       " (368, 3),\n",
       " (369, 3),\n",
       " (370, 5),\n",
       " (371, 3),\n",
       " (372, 5),\n",
       " (373, 2),\n",
       " (374, 5),\n",
       " (375, 2),\n",
       " (376, 2),\n",
       " (377, 3),\n",
       " (378, 5),\n",
       " (379, 2),\n",
       " (380, 3),\n",
       " (381, 2),\n",
       " (382, 3),\n",
       " (383, 2),\n",
       " (384, 3),\n",
       " (385, 5),\n",
       " (386, 2),\n",
       " (387, 2),\n",
       " (388, 0),\n",
       " (389, 2),\n",
       " (390, 3),\n",
       " (391, 0),\n",
       " (392, 5),\n",
       " (393, 2),\n",
       " (394, 3),\n",
       " (395, 2),\n",
       " (396, 2),\n",
       " (397, 3),\n",
       " (398, 3),\n",
       " (399, 3),\n",
       " (400, 3),\n",
       " (401, 0),\n",
       " (402, 5),\n",
       " (403, 2),\n",
       " (404, 0),\n",
       " (405, 3),\n",
       " (406, 3),\n",
       " (407, 2),\n",
       " (408, 2),\n",
       " (409, 3),\n",
       " (410, 3),\n",
       " (411, 2),\n",
       " (412, 3),\n",
       " (413, 2),\n",
       " (414, 2),\n",
       " (415, 3),\n",
       " (416, 5),\n",
       " (417, 3),\n",
       " (418, 3),\n",
       " (419, 2),\n",
       " (420, 3),\n",
       " (421, 5),\n",
       " (422, 2),\n",
       " (423, 2),\n",
       " (424, 3),\n",
       " (425, 3),\n",
       " (426, 3),\n",
       " (427, 3),\n",
       " (428, 2),\n",
       " (429, 3),\n",
       " (430, 3),\n",
       " (431, 2),\n",
       " (432, 3),\n",
       " (433, 0),\n",
       " (434, 2),\n",
       " (435, 3),\n",
       " (436, 5),\n",
       " (437, 2),\n",
       " (438, 3),\n",
       " (439, 2),\n",
       " (440, 3),\n",
       " (441, 3),\n",
       " (442, 3),\n",
       " (443, 2),\n",
       " (444, 2),\n",
       " (445, 3),\n",
       " (446, 0),\n",
       " (447, 3),\n",
       " (448, 3),\n",
       " (449, 2),\n",
       " (450, 3),\n",
       " (451, 0),\n",
       " (452, 0),\n",
       " (453, 3),\n",
       " (454, 3),\n",
       " (455, 3),\n",
       " (456, 3),\n",
       " (457, 2),\n",
       " (458, 3),\n",
       " (459, 0),\n",
       " (460, 2),\n",
       " (461, 3),\n",
       " (462, 3),\n",
       " (463, 3),\n",
       " (464, 3),\n",
       " (465, 3),\n",
       " (466, 3),\n",
       " (467, 0),\n",
       " (468, 3),\n",
       " (469, 5),\n",
       " (470, 0),\n",
       " (471, 2),\n",
       " (472, 3),\n",
       " (473, 2),\n",
       " (474, 3),\n",
       " (475, 3),\n",
       " (476, 3),\n",
       " (477, 5),\n",
       " (478, 2),\n",
       " (479, 2),\n",
       " (480, 3),\n",
       " (481, 3),\n",
       " (482, 5),\n",
       " (483, 2),\n",
       " (484, 3),\n",
       " (485, 3),\n",
       " (486, 2),\n",
       " (487, 3),\n",
       " (488, 5),\n",
       " (489, 3),\n",
       " (490, 2),\n",
       " (491, 3),\n",
       " (492, 2),\n",
       " (493, 5),\n",
       " (494, 3),\n",
       " (495, 0),\n",
       " (496, 5),\n",
       " (497, 0),\n",
       " (498, 3),\n",
       " (499, 3),\n",
       " (500, 3),\n",
       " (501, 3),\n",
       " (502, 0),\n",
       " (503, 2),\n",
       " (504, 2),\n",
       " (505, 3),\n",
       " (506, 2),\n",
       " (507, 2),\n",
       " (508, 3),\n",
       " (509, 2),\n",
       " (510, 3),\n",
       " (511, 2),\n",
       " (512, 0),\n",
       " (513, 3),\n",
       " (514, 2),\n",
       " (515, 3),\n",
       " (516, 2),\n",
       " (517, 2),\n",
       " (518, 2),\n",
       " (519, 2),\n",
       " (520, 0),\n",
       " (521, 2),\n",
       " (522, 3),\n",
       " (523, 3),\n",
       " (524, 3),\n",
       " (525, 5),\n",
       " (526, 0),\n",
       " (527, 3),\n",
       " (528, 3),\n",
       " (529, 0),\n",
       " (530, 3),\n",
       " (531, 3),\n",
       " (532, 5),\n",
       " (533, 2),\n",
       " (534, 2),\n",
       " (535, 3),\n",
       " (536, 3),\n",
       " (537, 3),\n",
       " (538, 5),\n",
       " (539, 5),\n",
       " (540, 3),\n",
       " (541, 0),\n",
       " (542, 0),\n",
       " (543, 2),\n",
       " (544, 0),\n",
       " (545, 2),\n",
       " (546, 2),\n",
       " (547, 3),\n",
       " (548, 2),\n",
       " (549, 0),\n",
       " (550, 5),\n",
       " (551, 3),\n",
       " (552, 2),\n",
       " (553, 2),\n",
       " (554, 3),\n",
       " (555, 5),\n",
       " (556, 0),\n",
       " (557, 3),\n",
       " (558, 3),\n",
       " (559, 3),\n",
       " (560, 3),\n",
       " (561, 3),\n",
       " (562, 3),\n",
       " (563, 3),\n",
       " (564, 2),\n",
       " (565, 3),\n",
       " (566, 2),\n",
       " (567, 3),\n",
       " (568, 5),\n",
       " (569, 3),\n",
       " (570, 2),\n",
       " (571, 0),\n",
       " (572, 3),\n",
       " (573, 3),\n",
       " (574, 3),\n",
       " (575, 2),\n",
       " (576, 3),\n",
       " (577, 2),\n",
       " (578, 2),\n",
       " (579, 5),\n",
       " (580, 5),\n",
       " (581, 3),\n",
       " (582, 3),\n",
       " (583, 2),\n",
       " (584, 2),\n",
       " (585, 3),\n",
       " (586, 3),\n",
       " (587, 3),\n",
       " (588, 3),\n",
       " (589, 3),\n",
       " (590, 2),\n",
       " (591, 2),\n",
       " (592, 0),\n",
       " (593, 3),\n",
       " (594, 3),\n",
       " (595, 3),\n",
       " (596, 5),\n",
       " (597, 3),\n",
       " (598, 3),\n",
       " (599, 3),\n",
       " (600, 2),\n",
       " (601, 3),\n",
       " (602, 2),\n",
       " (603, 2),\n",
       " (604, 3),\n",
       " (605, 3),\n",
       " (606, 3),\n",
       " (607, 0),\n",
       " (608, 5),\n",
       " (609, 0),\n",
       " (610, 2),\n",
       " (611, 2),\n",
       " (612, 0),\n",
       " (613, 2),\n",
       " (614, 5),\n",
       " (615, 0),\n",
       " (616, 3),\n",
       " (617, 5),\n",
       " (618, 3),\n",
       " (619, 3),\n",
       " (620, 3),\n",
       " (621, 2),\n",
       " (622, 2),\n",
       " (623, 3),\n",
       " (624, 2),\n",
       " (625, 3),\n",
       " (626, 3),\n",
       " (627, 3),\n",
       " (628, 2),\n",
       " (629, 3),\n",
       " (630, 3),\n",
       " (631, 3),\n",
       " (632, 2),\n",
       " (633, 3),\n",
       " (634, 0),\n",
       " (635, 3),\n",
       " (636, 3),\n",
       " (637, 3),\n",
       " (638, 3),\n",
       " (639, 2),\n",
       " (640, 2),\n",
       " (641, 2),\n",
       " (642, 3),\n",
       " (643, 5),\n",
       " (644, 2),\n",
       " (645, 2),\n",
       " (646, 0),\n",
       " (647, 2),\n",
       " (648, 5),\n",
       " (649, 2),\n",
       " (650, 3),\n",
       " (651, 3),\n",
       " (652, 0),\n",
       " (653, 2),\n",
       " (654, 3),\n",
       " (655, 2),\n",
       " (656, 5),\n",
       " (657, 2),\n",
       " (658, 5),\n",
       " (659, 3),\n",
       " (660, 3),\n",
       " (661, 3),\n",
       " (662, 3),\n",
       " (663, 5),\n",
       " (664, 3),\n",
       " (665, 2),\n",
       " (666, 3),\n",
       " (667, 5),\n",
       " (668, 5),\n",
       " (669, 3),\n",
       " (670, 2),\n",
       " (671, 2),\n",
       " (672, 3),\n",
       " (673, 3),\n",
       " (674, 2),\n",
       " (675, 2),\n",
       " (676, 3),\n",
       " (677, 2),\n",
       " (678, 3),\n",
       " (679, 5),\n",
       " (680, 2),\n",
       " (681, 3),\n",
       " (682, 3),\n",
       " (683, 5),\n",
       " (684, 0),\n",
       " (685, 2),\n",
       " (686, 5),\n",
       " (687, 3),\n",
       " (688, 2),\n",
       " (689, 3),\n",
       " (690, 3),\n",
       " (691, 3),\n",
       " (692, 3),\n",
       " (693, 3),\n",
       " (694, 3),\n",
       " (695, 3),\n",
       " (696, 3),\n",
       " (697, 0),\n",
       " (698, 3),\n",
       " (699, 3),\n",
       " (700, 3),\n",
       " (701, 3),\n",
       " (702, 2),\n",
       " (703, 0),\n",
       " (704, 2),\n",
       " (705, 3),\n",
       " (706, 2),\n",
       " (707, 2),\n",
       " (708, 2),\n",
       " (709, 3),\n",
       " (710, 2),\n",
       " (711, 2),\n",
       " (712, 3),\n",
       " (713, 5),\n",
       " (714, 5),\n",
       " (715, 3),\n",
       " (716, 3),\n",
       " (717, 0),\n",
       " (718, 3),\n",
       " (719, 0),\n",
       " (720, 3),\n",
       " (721, 3),\n",
       " (722, 3),\n",
       " (723, 3),\n",
       " (724, 3),\n",
       " (725, 3),\n",
       " (726, 2),\n",
       " (727, 3),\n",
       " (728, 3),\n",
       " (729, 3),\n",
       " (730, 2),\n",
       " (731, 2),\n",
       " (732, 2),\n",
       " (733, 3),\n",
       " (734, 3),\n",
       " (735, 2),\n",
       " (736, 3),\n",
       " (737, 3),\n",
       " (738, 2),\n",
       " (739, 3),\n",
       " (740, 3),\n",
       " (741, 3),\n",
       " (742, 3),\n",
       " (743, 3),\n",
       " (744, 3),\n",
       " (745, 3),\n",
       " (746, 3),\n",
       " (747, 3),\n",
       " (748, 3),\n",
       " (749, 3),\n",
       " (750, 3),\n",
       " (751, 0),\n",
       " (752, 0),\n",
       " (753, 3),\n",
       " (754, 3),\n",
       " (755, 3),\n",
       " (756, 3),\n",
       " (757, 3),\n",
       " (758, 3),\n",
       " (759, 2),\n",
       " (760, 3),\n",
       " (761, 5),\n",
       " (762, 5),\n",
       " (763, 3),\n",
       " (764, 2),\n",
       " (765, 2),\n",
       " (766, 3),\n",
       " (767, 3),\n",
       " (768, 3),\n",
       " (769, 3),\n",
       " (770, 3),\n",
       " (771, 3),\n",
       " (772, 3),\n",
       " (773, 3),\n",
       " (774, 2),\n",
       " (775, 2),\n",
       " (776, 5),\n",
       " (777, 5),\n",
       " (778, 2),\n",
       " (779, 3),\n",
       " (780, 0),\n",
       " (781, 2),\n",
       " (782, 2),\n",
       " (783, 3),\n",
       " (784, 3),\n",
       " (785, 3),\n",
       " (786, 0),\n",
       " (787, 3),\n",
       " (788, 3),\n",
       " (789, 2),\n",
       " (790, 2),\n",
       " (791, 3),\n",
       " (792, 3),\n",
       " (793, 3),\n",
       " (794, 2),\n",
       " (795, 2),\n",
       " (796, 2),\n",
       " (797, 3),\n",
       " (798, 3),\n",
       " (799, 3),\n",
       " (800, 3),\n",
       " (801, 3),\n",
       " (802, 3),\n",
       " (803, 2),\n",
       " (804, 2),\n",
       " (805, 5),\n",
       " (806, 3),\n",
       " (807, 2),\n",
       " (808, 2),\n",
       " (809, 0),\n",
       " (810, 0),\n",
       " (811, 2),\n",
       " (812, 2),\n",
       " (813, 3),\n",
       " (814, 2),\n",
       " (815, 3),\n",
       " (816, 3),\n",
       " (817, 5),\n",
       " (818, 2),\n",
       " (819, 3),\n",
       " (820, 3),\n",
       " (821, 5),\n",
       " (822, 3),\n",
       " (823, 3),\n",
       " (824, 3),\n",
       " (825, 2),\n",
       " (826, 2),\n",
       " (827, 3),\n",
       " (828, 3),\n",
       " (829, 3),\n",
       " (830, 3),\n",
       " (831, 3),\n",
       " (832, 2),\n",
       " (833, 3),\n",
       " (834, 3),\n",
       " (835, 3),\n",
       " (836, 3),\n",
       " (837, 0),\n",
       " (838, 2),\n",
       " (839, 5),\n",
       " (840, 3),\n",
       " (841, 2),\n",
       " (842, 3),\n",
       " (843, 3),\n",
       " (844, 3),\n",
       " (845, 3),\n",
       " (846, 3),\n",
       " (847, 3),\n",
       " (848, 2),\n",
       " (849, 0),\n",
       " (850, 3),\n",
       " (851, 2),\n",
       " (852, 5),\n",
       " (853, 3),\n",
       " (854, 0),\n",
       " (855, 3),\n",
       " (856, 0),\n",
       " (857, 3),\n",
       " (858, 2),\n",
       " (859, 2),\n",
       " (860, 2),\n",
       " (861, 3),\n",
       " (862, 3),\n",
       " (863, 3),\n",
       " (864, 3),\n",
       " (865, 3),\n",
       " (866, 2),\n",
       " (867, 5),\n",
       " (868, 3),\n",
       " (869, 3),\n",
       " (870, 2),\n",
       " (871, 2),\n",
       " (872, 5),\n",
       " (873, 3),\n",
       " (874, 3),\n",
       " (875, 3),\n",
       " (876, 0),\n",
       " (877, 2),\n",
       " (878, 3),\n",
       " (879, 2),\n",
       " (880, 2),\n",
       " (881, 2),\n",
       " (882, 0),\n",
       " (883, 2),\n",
       " (884, 3),\n",
       " (885, 3),\n",
       " (886, 5),\n",
       " (887, 3),\n",
       " (888, 0),\n",
       " (889, 3),\n",
       " (890, 5),\n",
       " (891, 2),\n",
       " (892, 3),\n",
       " (893, 3),\n",
       " (894, 3),\n",
       " (895, 5),\n",
       " (896, 3),\n",
       " (897, 3),\n",
       " (898, 0),\n",
       " (899, 3),\n",
       " (900, 0),\n",
       " (901, 2),\n",
       " (902, 2),\n",
       " (903, 3),\n",
       " (904, 2),\n",
       " (905, 2),\n",
       " (906, 3),\n",
       " (907, 0),\n",
       " (908, 3),\n",
       " (909, 3),\n",
       " (910, 3),\n",
       " (911, 3),\n",
       " (912, 3),\n",
       " (913, 2),\n",
       " (914, 5),\n",
       " (915, 3),\n",
       " (916, 3),\n",
       " (917, 2),\n",
       " (918, 3),\n",
       " (919, 5),\n",
       " (920, 2),\n",
       " (921, 5),\n",
       " (922, 5),\n",
       " (923, 3),\n",
       " (924, 0),\n",
       " (925, 0),\n",
       " (926, 2),\n",
       " (927, 3),\n",
       " (928, 0),\n",
       " (929, 2),\n",
       " (930, 3),\n",
       " (931, 2),\n",
       " (932, 2),\n",
       " (933, 3),\n",
       " (934, 3),\n",
       " (935, 3),\n",
       " (936, 3),\n",
       " (937, 0),\n",
       " (938, 3),\n",
       " (939, 3),\n",
       " (940, 3),\n",
       " (941, 2),\n",
       " (942, 3),\n",
       " (943, 3),\n",
       " (944, 2),\n",
       " (945, 3),\n",
       " (946, 3),\n",
       " (947, 3),\n",
       " (948, 3),\n",
       " (949, 2),\n",
       " (950, 2),\n",
       " (951, 2),\n",
       " (952, 0),\n",
       " (953, 3),\n",
       " (954, 3),\n",
       " (955, 5),\n",
       " (956, 2),\n",
       " (957, 0),\n",
       " (958, 3),\n",
       " (959, 2),\n",
       " (960, 2),\n",
       " (961, 5),\n",
       " (962, 3),\n",
       " (963, 3),\n",
       " (964, 5),\n",
       " (965, 0),\n",
       " (966, 3),\n",
       " (967, 3),\n",
       " (968, 3),\n",
       " (969, 2),\n",
       " (970, 3),\n",
       " (971, 0),\n",
       " (972, 2),\n",
       " (973, 3),\n",
       " (974, 2),\n",
       " (975, 2),\n",
       " (976, 3),\n",
       " (977, 2),\n",
       " (978, 3),\n",
       " (979, 2),\n",
       " (980, 3),\n",
       " (981, 0),\n",
       " (982, 3),\n",
       " (983, 2),\n",
       " (984, 2),\n",
       " (985, 3),\n",
       " (986, 0),\n",
       " (987, 3),\n",
       " (988, 3),\n",
       " (989, 3),\n",
       " (990, 3),\n",
       " (991, 3),\n",
       " (992, 0),\n",
       " (993, 3),\n",
       " (994, 3),\n",
       " (995, 2),\n",
       " (996, 2),\n",
       " (997, 3),\n",
       " (998, 3),\n",
       " (999, 3)]"
      ]
     },
     "execution_count": 65,
     "metadata": {},
     "output_type": "execute_result"
    }
   ],
   "source": [
    "list(zip(range(1000),np.random.choice(6, 1000, p=[0.1, 0, 0.3, 0.5, 0,0.1]))) "
   ]
  },
  {
   "cell_type": "code",
   "execution_count": null,
   "metadata": {},
   "outputs": [],
   "source": []
  },
  {
   "cell_type": "code",
   "execution_count": null,
   "metadata": {},
   "outputs": [],
   "source": []
  },
  {
   "cell_type": "code",
   "execution_count": null,
   "metadata": {},
   "outputs": [],
   "source": []
  },
  {
   "cell_type": "code",
   "execution_count": 66,
   "metadata": {
    "scrolled": true
   },
   "outputs": [],
   "source": [
    "# define list of tuples with basket id and random numbers of items\n",
    "baskets  = list(zip(range(1000),np.random.choice(6, 1000, p=[0.1, 0, 0.3, 0.5, 0,0.1]))) \n",
    "# put into a DataFrame\n",
    "shopping_basket_df = pd.DataFrame(baskets,columns = ['basket_id','n_items'])"
   ]
  },
  {
   "cell_type": "code",
   "execution_count": 67,
   "metadata": {
    "scrolled": true
   },
   "outputs": [
    {
     "ename": "SyntaxError",
     "evalue": "invalid syntax (1445261508.py, line 3)",
     "output_type": "error",
     "traceback": [
      "\u001b[0;36m  File \u001b[0;32m\"/var/folders/l_/s2stp_4940d5h7pgt3_4rl040000gn/T/ipykernel_64415/1445261508.py\"\u001b[0;36m, line \u001b[0;32m3\u001b[0m\n\u001b[0;31m    df['size'] df.\u001b[0m\n\u001b[0m               ^\u001b[0m\n\u001b[0;31mSyntaxError\u001b[0m\u001b[0;31m:\u001b[0m invalid syntax\n"
     ]
    }
   ],
   "source": [
    "shopping_basket_df.head()\n",
    "\n",
    "df['size'] df."
   ]
  },
  {
   "cell_type": "code",
   "execution_count": 136,
   "metadata": {},
   "outputs": [
    {
     "data": {
      "text/plain": [
       "0       7\n",
       "1       5\n",
       "2       7\n",
       "3       5\n",
       "4       7\n",
       "       ..\n",
       "995     1\n",
       "996     5\n",
       "997     7\n",
       "998    11\n",
       "999     5\n",
       "Name: n_items, Length: 1000, dtype: int64"
      ]
     },
     "execution_count": 136,
     "metadata": {},
     "output_type": "execute_result"
    }
   ],
   "source": [
    "shopping_basket_df['n_items'].apply(lambda x: 2*x +1)"
   ]
  },
  {
   "cell_type": "markdown",
   "metadata": {},
   "source": [
    "Now we want to label encode baskets depending on their size. Baskets with more than 5 items are considered big, and those with 5 or fewer are considered not big. We will see a few ways of doing this, all of which make use of the `apply` method. "
   ]
  },
  {
   "cell_type": "code",
   "execution_count": 137,
   "metadata": {},
   "outputs": [
    {
     "data": {
      "text/plain": [
       "0      not big\n",
       "1      not big\n",
       "2      not big\n",
       "3      not big\n",
       "4      not big\n",
       "        ...   \n",
       "995    not big\n",
       "996    not big\n",
       "997    not big\n",
       "998    not big\n",
       "999    not big\n",
       "Name: n_items, Length: 1000, dtype: object"
      ]
     },
     "execution_count": 137,
     "metadata": {},
     "output_type": "execute_result"
    }
   ],
   "source": [
    "# define a lambda and pass it through the apply method to decide if\n",
    "# the size of the shopping basket is big or not\n",
    "\n",
    "# df.groupby.agg(sum, sf,)\n",
    "shopping_basket_df['n_items'].apply(lambda x: 'big' if x > 5 else 'not big')"
   ]
  },
  {
   "cell_type": "code",
   "execution_count": 147,
   "metadata": {},
   "outputs": [],
   "source": [
    "def big_basket(x):\n",
    "\n",
    "    \n",
    "    if x > 5:\n",
    "        return 'big'\n",
    "    else:\n",
    "        return 'not big'"
   ]
  },
  {
   "cell_type": "code",
   "execution_count": 148,
   "metadata": {},
   "outputs": [
    {
     "data": {
      "text/plain": [
       "0      not big\n",
       "1      not big\n",
       "2      not big\n",
       "3      not big\n",
       "4      not big\n",
       "        ...   \n",
       "995    not big\n",
       "996    not big\n",
       "997    not big\n",
       "998    not big\n",
       "999    not big\n",
       "Name: n_items, Length: 1000, dtype: object"
      ]
     },
     "execution_count": 148,
     "metadata": {},
     "output_type": "execute_result"
    }
   ],
   "source": [
    "shopping_basket_df['n_items'].apply(lambda x: big_basket(x))"
   ]
  },
  {
   "cell_type": "code",
   "execution_count": 149,
   "metadata": {
    "scrolled": true
   },
   "outputs": [
    {
     "data": {
      "text/plain": [
       "0      not big\n",
       "1      not big\n",
       "2      not big\n",
       "3      not big\n",
       "4      not big\n",
       "        ...   \n",
       "995    not big\n",
       "996    not big\n",
       "997    not big\n",
       "998    not big\n",
       "999    not big\n",
       "Name: n_items, Length: 1000, dtype: object"
      ]
     },
     "execution_count": 149,
     "metadata": {},
     "output_type": "execute_result"
    }
   ],
   "source": [
    "shopping_basket_df['n_items'].apply(big_basket)"
   ]
  },
  {
   "cell_type": "markdown",
   "metadata": {},
   "source": [
    "`apply` is a method associated with the class DataFrame. A method is a function that can only operate on objects of the class it is defined for. But the apply method is a also an example of a functional, a function that takes functions as input. Take another glance at the examples above to see this clearly."
   ]
  },
  {
   "cell_type": "markdown",
   "metadata": {},
   "source": [
    "We can also write functions that return functions as output. These are sometimes called function factories.\n",
    "\n",
    "Our grocery stores might be spread across jurisdictions with different rates of sales tax. We can generate a price-plus-tax function for a range of tax rates."
   ]
  },
  {
   "cell_type": "code",
   "execution_count": 69,
   "metadata": {},
   "outputs": [
    {
     "name": "stdout",
     "output_type": "stream",
     "text": [
      "\n"
     ]
    },
    {
     "data": {
      "text/plain": [
       "4.28"
      ]
     },
     "execution_count": 69,
     "metadata": {},
     "output_type": "execute_result"
    }
   ],
   "source": [
    "def make_tax_calculator(tax_rate):\n",
    "    '''\n",
    "    Return a function that calculates price plus tax given .\n",
    "    '''\n",
    "    \n",
    "    # print(\"i am in outer function\")\n",
    "    def price_plus_tax(price):\n",
    "        # print(\"I am in inner function\")\n",
    "        return round(price*tax_rate,3)\n",
    "    \n",
    "    return price_plus_tax\n",
    "\n",
    "\n",
    "# we want the function price + 7% sales tax\n",
    "sales_tax_7p = make_tax_calculator(1.07)\n",
    "sales_tax_7p\n",
    "# # # test it with 3**2\n",
    "\n",
    "print(\"\")\n",
    "sales_tax_7p(4)"
   ]
  },
  {
   "cell_type": "code",
   "execution_count": 71,
   "metadata": {},
   "outputs": [],
   "source": [
    "# make a list of price-plus-tax calculators\n",
    "\n",
    "my_list_of_tax_calculators = [make_tax_calculator(y) for y in np.arange(1,1.1,.01)]"
   ]
  },
  {
   "cell_type": "code",
   "execution_count": 72,
   "metadata": {},
   "outputs": [
    {
     "data": {
      "text/plain": [
       "[<function __main__.make_tax_calculator.<locals>.price_plus_tax(price)>,\n",
       " <function __main__.make_tax_calculator.<locals>.price_plus_tax(price)>,\n",
       " <function __main__.make_tax_calculator.<locals>.price_plus_tax(price)>,\n",
       " <function __main__.make_tax_calculator.<locals>.price_plus_tax(price)>,\n",
       " <function __main__.make_tax_calculator.<locals>.price_plus_tax(price)>,\n",
       " <function __main__.make_tax_calculator.<locals>.price_plus_tax(price)>,\n",
       " <function __main__.make_tax_calculator.<locals>.price_plus_tax(price)>,\n",
       " <function __main__.make_tax_calculator.<locals>.price_plus_tax(price)>,\n",
       " <function __main__.make_tax_calculator.<locals>.price_plus_tax(price)>,\n",
       " <function __main__.make_tax_calculator.<locals>.price_plus_tax(price)>,\n",
       " <function __main__.make_tax_calculator.<locals>.price_plus_tax(price)>]"
      ]
     },
     "execution_count": 72,
     "metadata": {},
     "output_type": "execute_result"
    }
   ],
   "source": [
    "my_list_of_tax_calculators"
   ]
  },
  {
   "cell_type": "code",
   "execution_count": 76,
   "metadata": {},
   "outputs": [
    {
     "data": {
      "text/plain": [
       "5.0"
      ]
     },
     "execution_count": 76,
     "metadata": {},
     "output_type": "execute_result"
    }
   ],
   "source": [
    "my_list_of_tax_calculators[0](5)"
   ]
  },
  {
   "cell_type": "markdown",
   "metadata": {},
   "source": [
    "What can we do with this list of functions? we can apply them each to a single item and store the outputs. You can think of this as the reverse of an apply method, instead of mapping a single function to a bunch of items (like rows in a DataFrame), we can map a bunch of functions to a single item."
   ]
  },
  {
   "cell_type": "code",
   "execution_count": 169,
   "metadata": {},
   "outputs": [],
   "source": [
    "# make a function that takes an object\n",
    "# applies a list of functions to the object\n",
    "# and puts the outputs into a list\n",
    "\n",
    "def map_funcs(obj, func_list):\n",
    "    \n",
    "    '''take and object and a list of functions and apply each function to the object and return a list'''\n",
    "    \n",
    "    return [func(obj) for func in func_list]"
   ]
  },
  {
   "cell_type": "markdown",
   "metadata": {},
   "source": [
    "What is the final price of a 12 dollar item, depending on tax rate?"
   ]
  },
  {
   "cell_type": "code",
   "execution_count": 170,
   "metadata": {},
   "outputs": [
    {
     "data": {
      "text/plain": [
       "[12.0, 12.12, 12.24, 12.36, 12.48, 12.6, 12.72, 12.84, 12.96, 13.08, 13.2]"
      ]
     },
     "execution_count": 170,
     "metadata": {},
     "output_type": "execute_result"
    }
   ],
   "source": [
    "map_funcs(12.0,my_list_of_tax_calculators)"
   ]
  },
  {
   "cell_type": "markdown",
   "metadata": {},
   "source": [
    "The examples in this section have been demonstrations of the 'functional style' of programming. We have seen functions that take functions as input, functions that generate other functions, and more. It is not easy or natural to do this in some languages like C or Java, but it is fairly straightforward to do in Python."
   ]
  },
  {
   "cell_type": "markdown",
   "metadata": {},
   "source": [
    "When we write functions, or any kind of code, we have to be mindful of the the names we give our variables so as to limit confusion and ensure our code executes as intended. This is where scoping comes in."
   ]
  },
  {
   "cell_type": "markdown",
   "metadata": {},
   "source": [
    "\n",
    "\n",
    "### Scoping\n",
    "\n",
    "Scoping is the process of determining which value to use for a given variable.\n"
   ]
  },
  {
   "cell_type": "code",
   "execution_count": 173,
   "metadata": {},
   "outputs": [
    {
     "name": "stdout",
     "output_type": "stream",
     "text": [
      "Welcome Larry!\n"
     ]
    }
   ],
   "source": [
    "name = \"Adam\"\n",
    "\n",
    "def customer_welcome(name):\n",
    "    return print(f\"Welcome {name}!\")\n",
    "\n",
    "customer_welcome(\"Larry\")"
   ]
  },
  {
   "cell_type": "markdown",
   "metadata": {},
   "source": [
    "We can see that we used `name` in **two contexts**. We used it outside the function as \"Adam\" and then inside the function where we reassigned it, **they did not interact with each other**.\n",
    "\n",
    "This is because `name` is _scoped_ locally inside the function.\n",
    "\n",
    "Python uses LEGB scoping. This means that if we try and find the value for a given variable, we first look **l**ocally (ie. inside the function), then in the **e**nclosing environment, then **g**lobally, and then at **b**uilt-ins:"
   ]
  },
  {
   "cell_type": "code",
   "execution_count": 177,
   "metadata": {},
   "outputs": [],
   "source": [
    "del(a)"
   ]
  },
  {
   "cell_type": "code",
   "execution_count": 179,
   "metadata": {},
   "outputs": [],
   "source": [
    "# a"
   ]
  },
  {
   "cell_type": "code",
   "execution_count": 187,
   "metadata": {},
   "outputs": [],
   "source": [
    "c = 3\n",
    "\n",
    "def my_func(a, b):\n",
    "    print(a, ' is local to the function')\n",
    "\n",
    "    def my_func2():\n",
    "        print(b, ' is in the enclosing environment')\n",
    "    \n",
    "    my_func2()\n",
    "    c = 5\n",
    "    \n",
    "    print(c, ' ')\n",
    "    print(abs, ' is a built in function')\n",
    "    \n"
   ]
  },
  {
   "cell_type": "code",
   "execution_count": 188,
   "metadata": {},
   "outputs": [
    {
     "name": "stdout",
     "output_type": "stream",
     "text": [
      "1  is local to the function\n",
      "2  is in the enclosing environment\n",
      "5  \n",
      "<built-in function abs>  is a built in function\n",
      "3\n"
     ]
    }
   ],
   "source": [
    "my_func(1,2)\n",
    "print(c)"
   ]
  },
  {
   "cell_type": "code",
   "execution_count": 182,
   "metadata": {},
   "outputs": [
    {
     "name": "stdout",
     "output_type": "stream",
     "text": [
      "3\n"
     ]
    },
    {
     "ename": "NameError",
     "evalue": "name 'a' is not defined",
     "output_type": "error",
     "traceback": [
      "\u001b[0;31m---------------------------------------------------------------------------\u001b[0m",
      "\u001b[0;31mNameError\u001b[0m                                 Traceback (most recent call last)",
      "\u001b[0;32m/var/folders/vl/f3n053vd2wj__79df10p2kch0000gn/T/ipykernel_77401/1362798335.py\u001b[0m in \u001b[0;36m<module>\u001b[0;34m\u001b[0m\n\u001b[1;32m      1\u001b[0m \u001b[0mprint\u001b[0m\u001b[0;34m(\u001b[0m\u001b[0mc\u001b[0m\u001b[0;34m)\u001b[0m\u001b[0;34m\u001b[0m\u001b[0;34m\u001b[0m\u001b[0m\n\u001b[0;32m----> 2\u001b[0;31m \u001b[0mprint\u001b[0m\u001b[0;34m(\u001b[0m\u001b[0ma\u001b[0m\u001b[0;34m)\u001b[0m \u001b[0;31m# a is not in global scope\u001b[0m\u001b[0;34m\u001b[0m\u001b[0;34m\u001b[0m\u001b[0m\n\u001b[0m",
      "\u001b[0;31mNameError\u001b[0m: name 'a' is not defined"
     ]
    }
   ],
   "source": [
    "print(c)\n",
    "print(a) # a is not in global scope"
   ]
  },
  {
   "cell_type": "markdown",
   "metadata": {},
   "source": [
    "Getting globally scoped objects is pretty risky! It is generally sensible to use them as arguments to your function. \n",
    "\n",
    "We can modify values from inside functions by using the `global` function, but again, this is not usually good practice:"
   ]
  },
  {
   "cell_type": "code",
   "execution_count": 190,
   "metadata": {},
   "outputs": [
    {
     "name": "stdout",
     "output_type": "stream",
     "text": [
      "Welcome Larry!\n",
      "Larry\n"
     ]
    }
   ],
   "source": [
    "name = \"Adam\"\n",
    "\n",
    "def customer_welcome(customer_name):\n",
    "    global name\n",
    "    name = customer_name\n",
    "    return print(f\"Welcome {customer_name}!\")\n",
    "\n",
    "customer_welcome(\"Larry\")\n",
    "print(name)"
   ]
  },
  {
   "cell_type": "markdown",
   "metadata": {},
   "source": [
    "### Iterators, Generators and Range"
   ]
  },
  {
   "cell_type": "markdown",
   "metadata": {},
   "source": [
    "Recall our Basket class and its `cost` method. Here is how we defined it:"
   ]
  },
  {
   "cell_type": "markdown",
   "metadata": {},
   "source": [
    "```\n",
    "    def cost(self):\n",
    "        '''\n",
    "        Calculates the total cost of a basket\n",
    "        '''\n",
    "        basket_cost = 0\n",
    "        \n",
    "        for i in range(len(self.amounts)):\n",
    "            basket_cost += (self.amounts[i]*self.costs[i])\n",
    "        \n",
    "        return round(basket_cost,4)\n",
    "```\n"
   ]
  },
  {
   "cell_type": "markdown",
   "metadata": {},
   "source": [
    "We made use of `range` to iterate over a pair of lists. You have probably used it many times yourself to write code similar to this, but what exactly is `range`? It sure does give a strange print out:"
   ]
  },
  {
   "cell_type": "code",
   "execution_count": 191,
   "metadata": {},
   "outputs": [
    {
     "data": {
      "text/plain": [
       "range(0, 10)"
      ]
     },
     "execution_count": 191,
     "metadata": {},
     "output_type": "execute_result"
    }
   ],
   "source": [
    "range(10)"
   ]
  },
  {
   "cell_type": "markdown",
   "metadata": {},
   "source": [
    "Let's take a look at a more interesting example:"
   ]
  },
  {
   "cell_type": "code",
   "execution_count": 192,
   "metadata": {},
   "outputs": [
    {
     "data": {
      "text/plain": [
       "range(0, 10000000000000000000000000000000000000000000000000000000000000000000000000000000000000000000000000000)"
      ]
     },
     "execution_count": 192,
     "metadata": {},
     "output_type": "execute_result"
    }
   ],
   "source": [
    "range(10**100)"
   ]
  },
  {
   "cell_type": "markdown",
   "metadata": {},
   "source": [
    "Given that there are about $10^{80}$ atoms in the universe, it is likely that we have not constructed a list which contains them all.\n",
    "\n",
    "Actually, `range` is a class! A class with a method that allows it to perform lazy evaluation, meaning we get the next item in the range only when we need it. This is extremely useful for conserving memory and helps us write more efficient programs.\n",
    "\n",
    "Here are a couple of other built in functions that work in a similar manner:"
   ]
  },
  {
   "cell_type": "code",
   "execution_count": 194,
   "metadata": {
    "scrolled": true
   },
   "outputs": [
    {
     "name": "stdout",
     "output_type": "stream",
     "text": [
      "<map object at 0x7fe5e910f040>\n",
      "<zip object at 0x7fe5b81be2c0>\n"
     ]
    }
   ],
   "source": [
    "print(map(lambda x: x*1.07, [1, 2, 3, 4, 5]))\n",
    "print(zip(['banana', 'iced tea', 'shrimp'], [1, 2, 3]))"
   ]
  },
  {
   "cell_type": "markdown",
   "metadata": {},
   "source": [
    "\n",
    "`Map` here is mapping the given function onto each item in the list.\n",
    "\n",
    "`Zip` zips together items - useful if we want to iterate over more than one item at a time.\n",
    "\n",
    "Map and zip objects are examples of **iterators**. \n",
    "\n",
    "Iterator objects are characterized by two special methods, `__iter__` and `__next__`. The special method `__iter__` gives the object a state such that it \"remembers where it is\" during iteration, and `__next__` tells the object how to get its next value.\n"
   ]
  },
  {
   "cell_type": "code",
   "execution_count": 205,
   "metadata": {},
   "outputs": [],
   "source": [
    "item_quantity = zip(['banana', 'iced tea', 'shrimp'], [1, 2, 3])"
   ]
  },
  {
   "cell_type": "code",
   "execution_count": 202,
   "metadata": {},
   "outputs": [
    {
     "data": {
      "text/plain": [
       "('iced tea', 2)"
      ]
     },
     "execution_count": 202,
     "metadata": {},
     "output_type": "execute_result"
    }
   ],
   "source": [
    "next(item_quantity)"
   ]
  },
  {
   "cell_type": "code",
   "execution_count": 203,
   "metadata": {},
   "outputs": [
    {
     "data": {
      "text/plain": [
       "['__class__',\n",
       " '__delattr__',\n",
       " '__dir__',\n",
       " '__doc__',\n",
       " '__eq__',\n",
       " '__format__',\n",
       " '__ge__',\n",
       " '__getattribute__',\n",
       " '__gt__',\n",
       " '__hash__',\n",
       " '__init__',\n",
       " '__init_subclass__',\n",
       " '__iter__',\n",
       " '__le__',\n",
       " '__lt__',\n",
       " '__ne__',\n",
       " '__new__',\n",
       " '__next__',\n",
       " '__reduce__',\n",
       " '__reduce_ex__',\n",
       " '__repr__',\n",
       " '__setattr__',\n",
       " '__sizeof__',\n",
       " '__str__',\n",
       " '__subclasshook__']"
      ]
     },
     "execution_count": 203,
     "metadata": {},
     "output_type": "execute_result"
    }
   ],
   "source": [
    "dir(item_quantity)"
   ]
  },
  {
   "cell_type": "code",
   "execution_count": 206,
   "metadata": {},
   "outputs": [
    {
     "name": "stdout",
     "output_type": "stream",
     "text": [
      "[('banana', 1), ('iced tea', 2), ('shrimp', 3)]\n"
     ]
    }
   ],
   "source": [
    "print(list(item_quantity))"
   ]
  },
  {
   "cell_type": "markdown",
   "metadata": {},
   "source": [
    "Is a list an iterator? Well, we can check the special methods it has implemented using the `dir` function. "
   ]
  },
  {
   "cell_type": "code",
   "execution_count": 207,
   "metadata": {},
   "outputs": [
    {
     "name": "stdout",
     "output_type": "stream",
     "text": [
      "['__add__', '__class__', '__class_getitem__', '__contains__', '__delattr__', '__delitem__', '__dir__', '__doc__', '__eq__', '__format__', '__ge__', '__getattribute__', '__getitem__', '__gt__', '__hash__', '__iadd__', '__imul__', '__init__', '__init_subclass__', '__iter__', '__le__', '__len__', '__lt__', '__mul__', '__ne__', '__new__', '__reduce__', '__reduce_ex__', '__repr__', '__reversed__', '__rmul__', '__setattr__', '__setitem__', '__sizeof__', '__str__', '__subclasshook__', 'append', 'clear', 'copy', 'count', 'extend', 'index', 'insert', 'pop', 'remove', 'reverse', 'sort']\n"
     ]
    }
   ],
   "source": [
    "print(dir(list()))"
   ]
  },
  {
   "cell_type": "markdown",
   "metadata": {},
   "source": [
    "Nope, list is not an iterator. You'll notice `__iter__` is implemented but not `__next__`. This seems odd, since we iterate over lists all the time.\n",
    "\n",
    "When you write a for loop on a list, what happens is that the special `__iter__` method is called and the list is made to be an iterator. We can force a list to be an iterator by calling the `iter` function on it."
   ]
  },
  {
   "cell_type": "code",
   "execution_count": 208,
   "metadata": {
    "scrolled": true
   },
   "outputs": [
    {
     "name": "stdout",
     "output_type": "stream",
     "text": [
      "['__class__', '__delattr__', '__dir__', '__doc__', '__eq__', '__format__', '__ge__', '__getattribute__', '__gt__', '__hash__', '__init__', '__init_subclass__', '__iter__', '__le__', '__length_hint__', '__lt__', '__ne__', '__new__', '__next__', '__reduce__', '__reduce_ex__', '__repr__', '__setattr__', '__setstate__', '__sizeof__', '__str__', '__subclasshook__']\n"
     ]
    }
   ],
   "source": [
    "my_items = ['apple','bbq sauce']\n",
    "my_items_iter = iter(my_items) # put list in iter function to make it an iterator\n",
    "print(dir(my_items_iter)) # notice now we have __next__"
   ]
  },
  {
   "cell_type": "code",
   "execution_count": 209,
   "metadata": {
    "scrolled": true
   },
   "outputs": [
    {
     "name": "stdout",
     "output_type": "stream",
     "text": [
      "apple\n",
      "bbq sauce\n"
     ]
    }
   ],
   "source": [
    "print(next(my_items_iter))\n",
    "print(next(my_items_iter))"
   ]
  },
  {
   "cell_type": "markdown",
   "metadata": {},
   "source": [
    "What happens when we call `next` once we've run out of items to iterate over?"
   ]
  },
  {
   "cell_type": "code",
   "execution_count": 210,
   "metadata": {
    "scrolled": true
   },
   "outputs": [
    {
     "ename": "StopIteration",
     "evalue": "",
     "output_type": "error",
     "traceback": [
      "\u001b[0;31m---------------------------------------------------------------------------\u001b[0m",
      "\u001b[0;31mStopIteration\u001b[0m                             Traceback (most recent call last)",
      "\u001b[0;32m/var/folders/vl/f3n053vd2wj__79df10p2kch0000gn/T/ipykernel_77401/2273279305.py\u001b[0m in \u001b[0;36m<module>\u001b[0;34m\u001b[0m\n\u001b[0;32m----> 1\u001b[0;31m \u001b[0mprint\u001b[0m\u001b[0;34m(\u001b[0m\u001b[0mnext\u001b[0m\u001b[0;34m(\u001b[0m\u001b[0mmy_items_iter\u001b[0m\u001b[0;34m)\u001b[0m\u001b[0;34m)\u001b[0m\u001b[0;34m\u001b[0m\u001b[0;34m\u001b[0m\u001b[0m\n\u001b[0m",
      "\u001b[0;31mStopIteration\u001b[0m: "
     ]
    }
   ],
   "source": [
    "print(next(my_items_iter))"
   ]
  },
  {
   "cell_type": "markdown",
   "metadata": {},
   "source": [
    "Once an iterator has hit the _StopIteration_ error, it is empty, and we have to reinitialize it."
   ]
  },
  {
   "cell_type": "markdown",
   "metadata": {},
   "source": [
    "**Range is not 100% the same**, we cannot call `next` on it, and it has some extra attributes:"
   ]
  },
  {
   "cell_type": "code",
   "execution_count": 211,
   "metadata": {},
   "outputs": [
    {
     "name": "stdout",
     "output_type": "stream",
     "text": [
      "['__bool__', '__class__', '__contains__', '__delattr__', '__dir__', '__doc__', '__eq__', '__format__', '__ge__', '__getattribute__', '__getitem__', '__gt__', '__hash__', '__init__', '__init_subclass__', '__iter__', '__le__', '__len__', '__lt__', '__ne__', '__new__', '__reduce__', '__reduce_ex__', '__repr__', '__reversed__', '__setattr__', '__sizeof__', '__str__', '__subclasshook__', 'count', 'index', 'start', 'step', 'stop']\n"
     ]
    }
   ],
   "source": [
    "print(dir(range(1)))"
   ]
  },
  {
   "cell_type": "code",
   "execution_count": 212,
   "metadata": {
    "scrolled": true
   },
   "outputs": [
    {
     "name": "stdout",
     "output_type": "stream",
     "text": [
      "0\n",
      "1\n"
     ]
    },
    {
     "ename": "TypeError",
     "evalue": "'range' object is not an iterator",
     "output_type": "error",
     "traceback": [
      "\u001b[0;31m---------------------------------------------------------------------------\u001b[0m",
      "\u001b[0;31mTypeError\u001b[0m                                 Traceback (most recent call last)",
      "\u001b[0;32m/var/folders/vl/f3n053vd2wj__79df10p2kch0000gn/T/ipykernel_77401/3882953812.py\u001b[0m in \u001b[0;36m<module>\u001b[0;34m\u001b[0m\n\u001b[1;32m      6\u001b[0m \u001b[0;34m\u001b[0m\u001b[0m\n\u001b[1;32m      7\u001b[0m \u001b[0;31m#But it's not an iterator...\u001b[0m\u001b[0;34m\u001b[0m\u001b[0;34m\u001b[0m\u001b[0m\n\u001b[0;32m----> 8\u001b[0;31m \u001b[0mnext\u001b[0m\u001b[0;34m(\u001b[0m\u001b[0mx\u001b[0m\u001b[0;34m)\u001b[0m\u001b[0;34m\u001b[0m\u001b[0;34m\u001b[0m\u001b[0m\n\u001b[0m",
      "\u001b[0;31mTypeError\u001b[0m: 'range' object is not an iterator"
     ]
    }
   ],
   "source": [
    "x = range(10)\n",
    "\n",
    "#Get some elements from range\n",
    "print(x.start)\n",
    "print(x.step)\n",
    "\n",
    "#But it's not an iterator...\n",
    "next(x)"
   ]
  },
  {
   "cell_type": "markdown",
   "metadata": {},
   "source": [
    "We can make iterators in one of two easy ways. The first is by wrapping an iterable in the `iter` function as we did in the list example above. Here we apply `iter` to a range object."
   ]
  },
  {
   "cell_type": "code",
   "execution_count": 215,
   "metadata": {},
   "outputs": [
    {
     "name": "stdout",
     "output_type": "stream",
     "text": [
      "4\n",
      "5\n"
     ]
    }
   ],
   "source": [
    "# we can make a range object an iterator by feeding it to the iter function\n",
    "\n",
    "# x = range(10)\n",
    "# range_iter = iter(x)\n",
    "\n",
    "print(next(range_iter))\n",
    "print(next(range_iter))"
   ]
  },
  {
   "cell_type": "markdown",
   "metadata": {},
   "source": [
    "The second is by making our own, by replacing the `return` keyword in a function with the `yield` keyword:"
   ]
  },
  {
   "cell_type": "code",
   "execution_count": 216,
   "metadata": {},
   "outputs": [],
   "source": [
    "# if you use the yield keyword instead of return\n",
    "# your function will have the iterator property\n",
    "prices = [1, 2, 3, 4, 5]\n",
    "\n",
    "def price_plus_tax(prices):\n",
    "    for price in prices:\n",
    "        yield price*1.07 # 7% sales tax\n",
    "\n"
   ]
  },
  {
   "cell_type": "code",
   "execution_count": 217,
   "metadata": {},
   "outputs": [
    {
     "data": {
      "text/plain": [
       "<generator object price_plus_tax at 0x7fe60920e190>"
      ]
     },
     "execution_count": 217,
     "metadata": {},
     "output_type": "execute_result"
    }
   ],
   "source": [
    "price_plus_tax(prices)"
   ]
  },
  {
   "cell_type": "markdown",
   "metadata": {},
   "source": [
    "Technically, what we've created here is a generator, which is a special case of iterator. You can make your own iterators that handle special/complex state that go beyond the capability of a generator. But for most tasks generators are sufficient.\n",
    "\n",
    "We mentioned earlier that one reason to use iterators is because of computational efficiency. Let's demonstrate this with an example.\n",
    "\n",
    "Suppose we want to write a program to adjust prices on our goods due to changing market conditions."
   ]
  },
  {
   "cell_type": "code",
   "execution_count": 218,
   "metadata": {},
   "outputs": [],
   "source": [
    "def list_new_prices(item_prices):\n",
    "    new_item_prices = []\n",
    "    for item_price in item_prices:\n",
    "        new_price = item_price*1.01 # raise price by 1%\n",
    "        new_item_prices.append(new_price)\n",
    "        \n",
    "    return new_item_prices"
   ]
  },
  {
   "cell_type": "code",
   "execution_count": 219,
   "metadata": {},
   "outputs": [],
   "source": [
    "old_prices = range(10000000)\n",
    "new_prices = list_new_prices(old_prices)"
   ]
  },
  {
   "cell_type": "markdown",
   "metadata": {},
   "source": [
    "How much memory does it take up to calculate all new prices and store in a list?"
   ]
  },
  {
   "cell_type": "code",
   "execution_count": 220,
   "metadata": {},
   "outputs": [
    {
     "name": "stdout",
     "output_type": "stream",
     "text": [
      "89.0952 MB\n"
     ]
    }
   ],
   "source": [
    "print(f\"{round(sys.getsizeof(new_prices)/(1e6),4)} MB\")"
   ]
  },
  {
   "cell_type": "markdown",
   "metadata": {},
   "source": [
    "`get_new_prices` can be written as a generator instead as follows:"
   ]
  },
  {
   "cell_type": "code",
   "execution_count": 221,
   "metadata": {},
   "outputs": [],
   "source": [
    "def generate_new_prices(item_prices):\n",
    "    for item_price in item_prices:\n",
    "        yield item_price*1.01 # raise price by 1%"
   ]
  },
  {
   "cell_type": "code",
   "execution_count": 222,
   "metadata": {},
   "outputs": [],
   "source": [
    "new_prices = generate_new_prices(old_prices)"
   ]
  },
  {
   "cell_type": "code",
   "execution_count": 223,
   "metadata": {},
   "outputs": [
    {
     "data": {
      "text/plain": [
       "<generator object generate_new_prices at 0x7fe60920e5f0>"
      ]
     },
     "execution_count": 223,
     "metadata": {},
     "output_type": "execute_result"
    }
   ],
   "source": [
    "new_prices"
   ]
  },
  {
   "cell_type": "markdown",
   "metadata": {},
   "source": [
    "How does memory consumption of the generator compare to that of the list?"
   ]
  },
  {
   "cell_type": "code",
   "execution_count": 224,
   "metadata": {},
   "outputs": [
    {
     "name": "stdout",
     "output_type": "stream",
     "text": [
      "0.0001 MB\n"
     ]
    }
   ],
   "source": [
    "print(f\"{round(sys.getsizeof(new_prices)/(1e6),4)} MB\")"
   ]
  },
  {
   "cell_type": "markdown",
   "metadata": {},
   "source": [
    "When we need a price update, we can call `next`."
   ]
  },
  {
   "cell_type": "code",
   "execution_count": 227,
   "metadata": {},
   "outputs": [
    {
     "data": {
      "text/plain": [
       "2.02"
      ]
     },
     "execution_count": 227,
     "metadata": {},
     "output_type": "execute_result"
    }
   ],
   "source": [
    "next(new_prices)"
   ]
  },
  {
   "cell_type": "markdown",
   "metadata": {},
   "source": [
    "Iterators do not need to be finite, the following iterator mints new customer id's by yielding the next natural number every time it is called."
   ]
  },
  {
   "cell_type": "code",
   "execution_count": 232,
   "metadata": {},
   "outputs": [],
   "source": [
    "def customer_id_generator():\n",
    "    cust_id = 0\n",
    "    while True :\n",
    "    \n",
    "        yield cust_id\n",
    "        print(\"i am here\")\n",
    "        cust_id += 1\n",
    "        \n",
    "mint_new_customer_id = customer_id_generator()"
   ]
  },
  {
   "cell_type": "code",
   "execution_count": 235,
   "metadata": {},
   "outputs": [
    {
     "name": "stdout",
     "output_type": "stream",
     "text": [
      "i am here\n"
     ]
    },
    {
     "data": {
      "text/plain": [
       "2"
      ]
     },
     "execution_count": 235,
     "metadata": {},
     "output_type": "execute_result"
    }
   ],
   "source": [
    "next(mint_new_customer_id)\n"
   ]
  },
  {
   "cell_type": "code",
   "execution_count": 231,
   "metadata": {},
   "outputs": [
    {
     "name": "stdout",
     "output_type": "stream",
     "text": [
      "0\n",
      "1\n",
      "2\n",
      "3\n",
      "4\n"
     ]
    }
   ],
   "source": [
    "# # let's see\n",
    "\n",
    "# for i in range(5) :\n",
    "#         print(next(mint_new_customer_id))\n",
    "    "
   ]
  },
  {
   "cell_type": "markdown",
   "metadata": {},
   "source": [
    "We can also use comprehension syntax to create a generator. Just replace the square brackets of a list comprehension with round brackets as shown below."
   ]
  },
  {
   "cell_type": "code",
   "execution_count": 236,
   "metadata": {},
   "outputs": [],
   "source": [
    "new_prices = [old_price*1.01 for old_price in old_prices]\n",
    "new_prices = (old_price*1.01 for old_price in old_prices)"
   ]
  },
  {
   "cell_type": "code",
   "execution_count": 237,
   "metadata": {},
   "outputs": [
    {
     "data": {
      "text/plain": [
       "0.0"
      ]
     },
     "execution_count": 237,
     "metadata": {},
     "output_type": "execute_result"
    }
   ],
   "source": [
    "next(new_prices)"
   ]
  },
  {
   "cell_type": "code",
   "execution_count": null,
   "metadata": {},
   "outputs": [],
   "source": []
  },
  {
   "cell_type": "code",
   "execution_count": null,
   "metadata": {},
   "outputs": [],
   "source": []
  },
  {
   "cell_type": "code",
   "execution_count": null,
   "metadata": {},
   "outputs": [],
   "source": []
  },
  {
   "cell_type": "code",
   "execution_count": null,
   "metadata": {},
   "outputs": [],
   "source": []
  },
  {
   "cell_type": "markdown",
   "metadata": {},
   "source": [
    "--- \n",
    "\n",
    "#### Exercise 5\n",
    "\n",
    "In data science we will often have to create combinations of variables, columns or data points. Iterators give us a fast and efficient way of doing this.\n",
    "\n",
    "The `itertools` package is part of the standard library, and contains many useful combinatorial functions, which mostly produce iterators. Take a look at the [documentation here](https://docs.python.org/3/library/itertools.html).\n",
    "\n",
    "The Deli departments at our stores are launching a new 'Charcuterie Snack Pack' product line, where they will sell packaged pairings of meats and cheeses for on-the-go customers who need a quick but hearty treat. We need to create labels for each meat/cheese combination.\n",
    "\n",
    "1. Create a nested for loop to generate all pairwise combinations of `meat_list` and `cheese_list`\n",
    "2. Create the same using an itertools function"
   ]
  },
  {
   "cell_type": "code",
   "execution_count": 239,
   "metadata": {},
   "outputs": [],
   "source": [
    "meat_list = ['genoa salami',\n",
    "             'oven gold turkey',\n",
    "             'spicy cappicola',\n",
    "             'mortadella',\n",
    "             'roast beef']\n",
    "\n",
    "\n",
    "cheese_list = ['mozzarella',\n",
    "               'pepper jack',\n",
    "               'vermont cheddar',\n",
    "               'smoked gouda',\n",
    "               'provolone']"
   ]
  },
  {
   "cell_type": "code",
   "execution_count": null,
   "metadata": {},
   "outputs": [],
   "source": []
  },
  {
   "cell_type": "code",
   "execution_count": null,
   "metadata": {},
   "outputs": [],
   "source": []
  },
  {
   "cell_type": "code",
   "execution_count": null,
   "metadata": {},
   "outputs": [],
   "source": []
  },
  {
   "cell_type": "code",
   "execution_count": null,
   "metadata": {},
   "outputs": [],
   "source": []
  },
  {
   "cell_type": "code",
   "execution_count": null,
   "metadata": {},
   "outputs": [],
   "source": []
  },
  {
   "cell_type": "code",
   "execution_count": 240,
   "metadata": {},
   "outputs": [
    {
     "name": "stdout",
     "output_type": "stream",
     "text": [
      "[('genoa salami', 'mozzarella'), ('genoa salami', 'pepper jack'), ('genoa salami', 'vermont cheddar'), ('genoa salami', 'smoked gouda'), ('genoa salami', 'provolone'), ('oven gold turkey', 'mozzarella'), ('oven gold turkey', 'pepper jack'), ('oven gold turkey', 'vermont cheddar'), ('oven gold turkey', 'smoked gouda'), ('oven gold turkey', 'provolone'), ('spicy cappicola', 'mozzarella'), ('spicy cappicola', 'pepper jack'), ('spicy cappicola', 'vermont cheddar'), ('spicy cappicola', 'smoked gouda'), ('spicy cappicola', 'provolone'), ('mortadella', 'mozzarella'), ('mortadella', 'pepper jack'), ('mortadella', 'vermont cheddar'), ('mortadella', 'smoked gouda'), ('mortadella', 'provolone'), ('roast beef', 'mozzarella'), ('roast beef', 'pepper jack'), ('roast beef', 'vermont cheddar'), ('roast beef', 'smoked gouda'), ('roast beef', 'provolone')]\n"
     ]
    }
   ],
   "source": [
    "set_of_pairwise_combos = list()\n",
    "\n",
    "for i in meat_list:\n",
    "    for j in cheese_list:\n",
    "        set_of_pairwise_combos.append((i,j))\n",
    "\n",
    "print(set_of_pairwise_combos)"
   ]
  },
  {
   "cell_type": "code",
   "execution_count": 241,
   "metadata": {},
   "outputs": [
    {
     "name": "stdout",
     "output_type": "stream",
     "text": [
      "[('genoa salami', 'mozzarella'), ('genoa salami', 'pepper jack'), ('genoa salami', 'vermont cheddar'), ('genoa salami', 'smoked gouda'), ('genoa salami', 'provolone'), ('oven gold turkey', 'mozzarella'), ('oven gold turkey', 'pepper jack'), ('oven gold turkey', 'vermont cheddar'), ('oven gold turkey', 'smoked gouda'), ('oven gold turkey', 'provolone'), ('spicy cappicola', 'mozzarella'), ('spicy cappicola', 'pepper jack'), ('spicy cappicola', 'vermont cheddar'), ('spicy cappicola', 'smoked gouda'), ('spicy cappicola', 'provolone'), ('mortadella', 'mozzarella'), ('mortadella', 'pepper jack'), ('mortadella', 'vermont cheddar'), ('mortadella', 'smoked gouda'), ('mortadella', 'provolone'), ('roast beef', 'mozzarella'), ('roast beef', 'pepper jack'), ('roast beef', 'vermont cheddar'), ('roast beef', 'smoked gouda'), ('roast beef', 'provolone')]\n"
     ]
    }
   ],
   "source": [
    "\n",
    "import itertools\n",
    "\n",
    "pairlists = itertools.product(meat_list,cheese_list)\n",
    "\n",
    "print(list(pairlists))"
   ]
  },
  {
   "cell_type": "markdown",
   "metadata": {},
   "source": [
    "---"
   ]
  },
  {
   "cell_type": "markdown",
   "metadata": {},
   "source": [
    "### Bonus: Recursion (plus Caching and Decorators)\n",
    "\n",
    "A common interview question is to create the nth number in the Fibonacci sequence:\n",
    "\n",
    "$$ F_n = F_{n-1} + F_{n-2} $$\n",
    "\n",
    "There are many, many ways of implementing this.\n",
    "\n",
    "One of the main things they are looking for is clean, efficient code. One way to measure efficiency is run time. We will write several different solutions for the Fibonacci question above, and use run time to decide which solution is optimal."
   ]
  },
  {
   "cell_type": "markdown",
   "metadata": {},
   "source": [
    "Before we try implementing it, let's make sure we understand what is happening with the Fibonacci sequence.\n",
    "\n",
    "How does the sequence grow?\n",
    "\n",
    "$$ 1,1,? $$\n",
    "$$ 1,1,2,? $$\n",
    "$$ 1,1,2,3,? $$\n",
    "$$ 1,1,2,3,5,? $$\n",
    "\n",
    "We have a sequence of numbers where each number is the sum of the preceding two."
   ]
  },
  {
   "cell_type": "code",
   "execution_count": null,
   "metadata": {},
   "outputs": [],
   "source": [
    "# here's one way\n",
    "def fib1(x):\n",
    "    n = 2\n",
    "    a, b = 1,1\n",
    "    \n",
    "    if x < 2:\n",
    "        return a\n",
    "    else:\n",
    "        while n <= x:\n",
    "            a, b = b, a + b\n",
    "            n += 1\n",
    "            \n",
    "    return b"
   ]
  },
  {
   "cell_type": "code",
   "execution_count": null,
   "metadata": {},
   "outputs": [],
   "source": [
    "fib1(3)"
   ]
  },
  {
   "cell_type": "code",
   "execution_count": null,
   "metadata": {},
   "outputs": [],
   "source": [
    "%%timeit\n",
    "[fib1(i) for i in range(10)]"
   ]
  },
  {
   "cell_type": "markdown",
   "metadata": {},
   "source": [
    "This is nice code, but we can think a little harder, and make a recursive solution.\n",
    "\n",
    "Recursion allows us to loop back, and use the same function inside itself. Fibonacci is the classic example of recursion:"
   ]
  },
  {
   "cell_type": "code",
   "execution_count": null,
   "metadata": {},
   "outputs": [],
   "source": [
    "def fib2(x):\n",
    "    if x < 2:\n",
    "        return 1\n",
    "    else:\n",
    "        return fib2(x - 1) + fib2(x - 2)"
   ]
  },
  {
   "cell_type": "markdown",
   "metadata": {},
   "source": [
    "How does this work?\n",
    "\n",
    "To understand this recursion, think about `fib2` for smaller $ x $ and then bootstrap this logic. consider $ x $ = 3.\n",
    "\n",
    "$$ fib2(3) = fib2(2) + fib2(1) = (fib2(1) + fib2(0)) + 1 = (1 + 1) + 1 $$\n",
    "\n",
    "This works for any $ x $."
   ]
  },
  {
   "cell_type": "code",
   "execution_count": null,
   "metadata": {},
   "outputs": [],
   "source": [
    "fib2(3)"
   ]
  },
  {
   "cell_type": "markdown",
   "metadata": {},
   "source": [
    "But how efficient is this implementation from a runtime perspective? In Jupyter notebooks, we have a convenient method to measure runtime.\n",
    "\n",
    "We can use [IPython magic function](https://ipython.readthedocs.io/en/stable/interactive/magics.html) `%timeit` to see how long a line takes to run, or `%%timeit` to see the whole cell."
   ]
  },
  {
   "cell_type": "code",
   "execution_count": null,
   "metadata": {},
   "outputs": [],
   "source": [
    "%%timeit\n",
    "[fib2(i) for i in range(10)] "
   ]
  },
  {
   "cell_type": "markdown",
   "metadata": {},
   "source": [
    "Cool, but what if we want a few more numbers:"
   ]
  },
  {
   "cell_type": "code",
   "execution_count": null,
   "metadata": {},
   "outputs": [],
   "source": [
    "%timeit [fib1(i) for i in range(30)]"
   ]
  },
  {
   "cell_type": "code",
   "execution_count": null,
   "metadata": {},
   "outputs": [],
   "source": [
    "%timeit [fib2(i) for i in range(30)]"
   ]
  },
  {
   "cell_type": "markdown",
   "metadata": {},
   "source": [
    "Our performance is terrible! With a bit of thinking, we can see that if we call fib2(5), we have to calculate fib2(4) and fib2(3), but fib2(4) calls fib2(3) again, and it multiplies out.\n",
    "\n",
    "One of the key parts of recursive programming is to make sure we do not run the same function on the same value more than once.\n",
    "\n",
    "We can cache the results!"
   ]
  },
  {
   "cell_type": "code",
   "execution_count": null,
   "metadata": {},
   "outputs": [],
   "source": [
    "# caching just means storing the results of the work we've already done\n",
    "# so we don't have to re-do operations\n",
    "# remember, when we call fib2(5), we do a lot of redundant work"
   ]
  },
  {
   "cell_type": "code",
   "execution_count": null,
   "metadata": {},
   "outputs": [],
   "source": [
    "fib_cache = {}\n",
    "def fib3(x):\n",
    "    if x in fib_cache:\n",
    "        return fib_cache[x]\n",
    "    else:\n",
    "        if x < 2:\n",
    "            fib_cache[x] = 1\n",
    "        else:\n",
    "            fib_cache[x] = fib3(x - 1) + fib3(x - 2)\n",
    "            \n",
    "    return fib_cache[x]\n",
    "\n",
    "print(fib3(3))\n",
    "print(fib_cache)       "
   ]
  },
  {
   "cell_type": "code",
   "execution_count": null,
   "metadata": {},
   "outputs": [],
   "source": [
    "# we store the results of our computation as we move along\n",
    "# this function has memory"
   ]
  },
  {
   "cell_type": "markdown",
   "metadata": {},
   "source": [
    "What have we done here? We have a function, which checks if the value already exists in a dictionary. If it is found, we return the value from the dict, otherwise we run the function, and put the results in the dict.\n",
    "\n",
    "Let's time it:"
   ]
  },
  {
   "cell_type": "code",
   "execution_count": null,
   "metadata": {},
   "outputs": [],
   "source": [
    "%%timeit\n",
    "\n",
    "[fib3(i) for i in range(100)]"
   ]
  },
  {
   "cell_type": "markdown",
   "metadata": {},
   "source": [
    "So, we can see this is super fast but it was a bit of work!\n",
    "\n",
    "Can we generalize this?\n",
    "\n",
    "The answer is yes, we have a way of adding this functionality to arbitrary functions:"
   ]
  },
  {
   "cell_type": "code",
   "execution_count": null,
   "metadata": {},
   "outputs": [],
   "source": [
    "from functools import lru_cache\n",
    "\n",
    "@lru_cache()\n",
    "def fib4(x):\n",
    "    if x < 2:\n",
    "        return 1\n",
    "    else:\n",
    "        return fib4(x - 1) + fib4(x - 2)"
   ]
  },
  {
   "cell_type": "code",
   "execution_count": null,
   "metadata": {},
   "outputs": [],
   "source": [
    "fib4(3)"
   ]
  },
  {
   "cell_type": "code",
   "execution_count": null,
   "metadata": {},
   "outputs": [],
   "source": [
    "%%timeit \n",
    "[fib4(i) for i in range(100)]"
   ]
  },
  {
   "cell_type": "markdown",
   "metadata": {},
   "source": [
    "What exactly have we done here? And what is that `@` symbol?\n",
    "\n",
    "If a function returns a function, we can use it to modify our own functions. For example:"
   ]
  },
  {
   "cell_type": "code",
   "execution_count": null,
   "metadata": {},
   "outputs": [],
   "source": [
    "def my_decorator(function):\n",
    "    \n",
    "    def my_func(x):\n",
    "        print('running your function now')\n",
    "        output_of_function = function(x)\n",
    "        print('done running')\n",
    "        \n",
    "        return output_of_function * output_of_function\n",
    "    \n",
    "    return my_func\n",
    "\n",
    "def my_adder(x):\n",
    "    return x + 1\n",
    "\n",
    "wrapped_function = my_decorator(my_adder)\n",
    "wrapped_function(5)"
   ]
  },
  {
   "cell_type": "markdown",
   "metadata": {},
   "source": [
    "A shortcut for this is to use the decorator notation:"
   ]
  },
  {
   "cell_type": "code",
   "execution_count": null,
   "metadata": {},
   "outputs": [],
   "source": [
    "@my_decorator\n",
    "def my_adder(x):\n",
    "    return x + 1"
   ]
  },
  {
   "cell_type": "code",
   "execution_count": null,
   "metadata": {},
   "outputs": [],
   "source": [
    "my_adder(5)"
   ]
  },
  {
   "cell_type": "markdown",
   "metadata": {},
   "source": [
    "`lru_cache` stands for least recently used. We keep the n most recently used calls (by default 128) in our cache, and return them if found, rather than running the function. This used the same dict implementation as our naive cache.\n",
    "\n",
    "Today we have had a whirlwind tour of some of the more pythonic features of the language. Don't worry too much if you didn't follow everything. Python skills come with practice, some good resources are: \n",
    "* [Stack Overflow](https://stackoverflow.com/questions/tagged/python), where you can see the most common, or most recent python questions from users around the world. \n",
    "* [Project Euler](https://projecteuler.net/) which is a series of math and programming problems with a focus on smart implementations.\n",
    "* [Rosalind](http://rosalind.info/about/) which is a series of questions based on biology.\n",
    "* [HackerRank](https://www.hackerrank.com/), which is a site used to screen applicants, but has practice question banks.\n",
    "\n",
    "The best resource however is just practice. Work on your project, google around, and always be thinking of whether  there is a better way."
   ]
  },
  {
   "cell_type": "markdown",
   "metadata": {},
   "source": [
    "---\n",
    "#### Exercise 6\n",
    "\n",
    "##### Compound Interest\n",
    "1. In finance, the formula for compound interest refers to the total amount of principal ($P$) invested, plus annual interest rate of $i$ compounded (usually annually) over  number of time periods $n$. Mathematically, this can be expressed as \n",
    "$$ A = P \\cdot (1+i) ^ n $$   \n",
    "where $A$ is the final balance. Using the above expression, calculate the final balance on a $100,000 investment with 5% interest compounding annually over a 12 year period.\n",
    "\n",
    "2. Compound interest can also be calculated using the following [recurrence relation](https://en.wikipedia.org/wiki/Recurrence_relation):  \n",
    "$$ A_0 = P $$\n",
    "$$ A_{t+1} = (1 + i) \\cdot A_t $$  \n",
    "That is to say, the amount at time $t=0$ is just the starting principal, $P$, and at each future time $t+1$, is just the one plus the interest rate multiplied by the amount at the previous time period, $t$.\n",
    "\n",
    " Given the above, write a recursive function to calculate the final balance which takes the parameters $P$, $i$, and $n$ as input. Use this function to also provide the answer to question 1 above and check that they match.\n",
    "\n",
    "##### Population Growth\n",
    "https://www.cs.sfu.ca/~ggbaker/zju/math/recursion.html\n",
    "3. Another recurrence relation is that of the [logistic map](https://en.wikipedia.org/wiki/Logistic_map), which describes population growth. The population at time $n+1$, expressed as a fraction of the maximum population that can be sustained by the environment, is the product of the rate of reproduction ($r$), and growth and starvation components based upon the population at previous time $n$:  \n",
    "$$x_{n+1}=rx_{n}\\left(1-x_{n}\\right)$$\n",
    "\n",
    " where $0 < x_{n} < 1$ for all $n$, and some starting population proportion, $x_0$ is specified.\n",
    " \n",
    "Using a `for` loop and/or numpy array, plot the population cycles for 100 periods with initial starting population $x=0.3$ for $r = 3.4$ and $r = 3.8$.\n",
    "\n",
    "4. Write a recursive function, `logistic_map`, that takes the starting population, $x$, the rate of reproduction, $r$, and number of cycles, $n$, as parameters and returns the current population $x_n$.\n",
    "\n",
    " Use this to calculate the population proportion $x$ at cycle $n=100$ for a starting population of $x=0.3$ and rate of reproduction $r=3.4$ as in the previous question.\n",
    "\n",
    "5. Using `map` and a lambda function using the above, calculate the population for times $n = 1$ to $n = 100$ as in Question 3 ($x_0 = 0.3$ and $r = 3.4$) and plot.\n",
    "\n",
    " Explore different values for the reproduction rate, $r$ for $1 \\le r \\le 4$. What effect does this have the population dynamics?\n",
    " \n",
    "--- "
   ]
  },
  {
   "cell_type": "code",
   "execution_count": null,
   "metadata": {},
   "outputs": [],
   "source": []
  },
  {
   "cell_type": "markdown",
   "metadata": {},
   "source": [
    "<div id=\"container\" style=\"position:relative;\">\n",
    "<div style=\"position:relative; float:right\"><img style=\"height:25px\"\"width: 50px\" src =\"https://drive.google.com/uc?export=view&id=14VoXUJftgptWtdNhtNYVm6cjVmEWpki1\" />\n",
    "</div>\n",
    "</div>"
   ]
  }
 ],
 "metadata": {
  "kernelspec": {
   "display_name": "Python 3 (ipykernel)",
   "language": "python",
   "name": "python3"
  },
  "language_info": {
   "codemirror_mode": {
    "name": "ipython",
    "version": 3
   },
   "file_extension": ".py",
   "mimetype": "text/x-python",
   "name": "python",
   "nbconvert_exporter": "python",
   "pygments_lexer": "ipython3",
   "version": "3.9.13"
  }
 },
 "nbformat": 4,
 "nbformat_minor": 4
}
