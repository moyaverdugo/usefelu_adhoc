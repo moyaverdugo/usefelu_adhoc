{
 "cells": [
  {
   "cell_type": "code",
   "execution_count": 1,
   "id": "f0a6d062-67a9-4c1e-87ba-31c25648fae9",
   "metadata": {},
   "outputs": [],
   "source": [
    "import pandas as pd\n",
    "import numpy as np\n",
    "import matplotlib.pyplot as plt\n",
    "\n",
    "from sklearn.linear_model import LogisticRegression\n",
    "from sklearn.model_selection import train_test_split\n",
    "\n",
    "import warnings\n",
    "warnings.filterwarnings('ignore')"
   ]
  },
  {
   "cell_type": "markdown",
   "id": "f6b4a51a-8778-454c-8b27-971a6a4ea855",
   "metadata": {},
   "source": [
    "Text data can be one of the most challenging types of data to work with. People can speak to each other and grab meaning pretty quickly, but the built-in context, grammar, and meaning is incredibly difficult to code.\n",
    "\n",
    "The process of working with text data is called natural language processing (NLP).\n",
    "\n",
    "The techniques used to encode text data into something that a computer can understand can be incredibly complex! We will start with the building blocks today, although there are much more complex neural network methods to encode text, one of the most popular of which is `word2vec`."
   ]
  },
  {
   "cell_type": "markdown",
   "id": "d7b11a92-faba-46b5-8627-72aa7d9d92db",
   "metadata": {},
   "source": [
    "### Text as Data\n",
    "\n",
    "We have already seen at least some text treated as features in our models. When we have simple categorical data, with labels like red, green, or blue, we know that we can simply code them as integers (if they are ordinal) or dummy variables (if they are nominal), depending on our model.\n",
    "\n",
    "This is the essence of what we will do with any text data: find a numeric representation that we can feed into our models.\n",
    "\n",
    "### Common Vocabulary in Text Analysis\n",
    "When working with text data, we'll usually be dealing with many individual text files, each usually considered to be an individual data point (e.g. product reviews, documents, song lyrics, etc.)\n",
    "\n",
    "When working with text data, there is some common language that we'll use. \n",
    "\n",
    "**Corpus**: The entire data set or collection of text files. If working with product reviews, the corpus would be all of the individual reviews. \n",
    "\n",
    "**Document**: One individual text file. If working with product reviews, a document would be one individual review. \n",
    "\n",
    "**Tokens**: In processing the documents, we will break them down into paragraphs and sentences into sequences of short strings called tokens. These could be the (processed) words/phrases from the original document, maybe pairs of consecutive words or even just parts of words.\n",
    "* I love Brainstation: [I, love, Brainstation]\n",
    "* showering: 'shower' + 'ing'\n",
    "* faster: 'fast' + 'er'\n",
    "\n",
    "**Vocabulary**: the collection of all unique words/tokens from the corpus.\n",
    "\n",
    "### The text data workflow\n",
    "\n",
    "The basic steps of working with text data is: \n",
    "\n",
    "- Step 1: Convert text data into numeric data (the step that is unique to NLP)\n",
    "\n",
    "- Step 2: Feed numeric data into required model\n",
    "\n",
    "\n",
    "#### Step 1 \n",
    "This is the part that requires a lot of detailed preprocessing. There are many ways to convert text data into numeric data. We usually want to make some kind of matrix that stores information about the frequency of individual words or phrases in the data set. The unique words or phrases are the tokens. "
   ]
  },
  {
   "cell_type": "markdown",
   "id": "d7682106-7ae5-4d81-8331-8f9d075a9db8",
   "metadata": {},
   "source": [
    "---\n",
    "#### Exercise 1\n",
    "\n",
    "If we consider tokens to be unique words, what would the tokens be in this corpus? How often does each token occur? Place the counts of each token into a table where the tokens are the columns and each document is a row. \n",
    "\n",
    "Corpus: \n",
    "\n",
    "`BrainStation is awesome!`\n",
    "\n",
    "`We are learning so much at BrainStation.`\n",
    "\n",
    "`The learning is so great...`\n",
    "<br><br>\n",
    "Use the following table to fill in the correct counts:\n",
    "\n",
    "\n",
    "|          | BrainStation | is | awesome | we | are | learning | so | much | at | the | great |\n",
    "|----------|--------------|----|---------|----|-----|----------|----|------|----|-----|-------|\n",
    "|sentence1 |              |    |         |    |     |          |    |      |    |     |       |\n",
    "|sentence2 |              |    |         |    |     |          |    |      |    |     |       |\n",
    "|sentence3 |              |    |         |    |     |          |    |      |    |     |      |\n",
    "\n",
    "\n",
    "\n",
    "---"
   ]
  },
  {
   "cell_type": "markdown",
   "id": "af1476ac-f9ac-4363-b67a-9521dd2994be",
   "metadata": {
    "jp-MarkdownHeadingCollapsed": true,
    "tags": []
   },
   "source": [
    "#### Solution"
   ]
  },
  {
   "cell_type": "markdown",
   "id": "16edb477-9b88-48ba-8000-79816b6de125",
   "metadata": {},
   "source": [
    "|          | BrainStation | is | awesome | we | are | learning | so | much | at | the  | great |\n",
    "|----------|--------------|----|---------|----|-----|----------|----|------|----|-----|-------|\n",
    "|sentence1 |        1     |  1 |    1    |  0  |   0  |    0      |   0 |   0   |   0 |    0  |   0    |\n",
    "|sentence2 |        1     |  0  |    0     |  1 | 1   |   1      | 1  |  1   | 1  |   0     |    0   |\n",
    "|sentence3 |         0     | 1  |     0    |  0  |   0  |   1      | 1  |    0  | 0   |  1     |   1   |\n",
    "\n",
    "\n",
    "sentence1: `[1 1 1 0 0 0 0 0 0 0 0]`\\\n",
    "sentence2: `[1 0 0 1 1 1 1 1 1 0 0]`\\\n",
    "sentence3: `[0 1 0 0 0 1 1 0 0 1 1]`"
   ]
  },
  {
   "cell_type": "markdown",
   "id": "09e5d84b-eefd-48fa-ae42-90ed08d844d7",
   "metadata": {},
   "source": [
    "#### Vectorization\n",
    "\n",
    "In the above example, you performed NLP! In particular, you created a **document-term matrix**, that is you encoded text data into a numeric matrix that any computer can understand. \n",
    "\n",
    "This idea of making a document-term matrix, where each row is a document and each column is a unique token, is the basic idea of NLP. \n",
    "\n",
    "The methods for creating these document-term matrices are called **vectorizers** and we'll look at two today:\n",
    "\n",
    "- **Bag of Words**: Storing the counts of each unique word from our corpus for each document.\n",
    "\n",
    "\n",
    "- **TF-IDF**: Storing a measure of the *relevance* of every word in each document by reweighing the counts. In other words, it reflects how important a word is to a document in a corpus\n",
    "\n",
    "\n",
    "#### Text Processing\n",
    "\n",
    "A key part of NLP is simplifying our text data to allow our models to focus on the most *meaningful* tokens within each document. We will cover a number of steps to clean our text and bring it to the best form for exploration and modeling. The most important steps include:\n",
    "\n",
    "- **Tokenizing**: Something that might have come up in Exercise 1 is the issue of punctuation. Do we include that in the token or just remove it? This is a common issue in NLP, along with a few other problems when we talk about *tokenizing* text data. \n",
    "\n",
    "\n",
    "- **Stop word removal**: You might have also considered how to deal with common stop words (and, or, the, etc.). These words are very common in language and usually link parts of sentences rather than conveying particular meaning or information. \n",
    "\n",
    "\n",
    "- **Stemming and lemmatization**: Another example is actually modifying the unique words like shortening words from *working* to *work* to try and reduce the number of columns in the matrix and encode commonality between sentences like: \n",
    "\n",
    "`I am working.` \n",
    "\n",
    "`I am at work.`\n",
    "\n",
    "\n",
    "The above sentences have very similar meaning, but if we put them into a document-term matrix, the two sentences are going to look different because `working` and `work` are considered different tokens.\n",
    "\n",
    "This are just some steps of the preprocessing we'll need to complete before implementing the vectorization mentioned above.\n",
    "\n",
    "#### Step 2\n",
    "After our data is transformed into a matrix of numerical values, we can easily feed that into any required model. Some common text data problems that require model fitting are document sorting (into categories like financial, medical, etc.) or sentiment analysis, which refers to learning if the text is positive or negative in sentiment. \n",
    "\n",
    "We'll explore NLP (i.e. Step 1) through building a model for sentiment analysis."
   ]
  },
  {
   "cell_type": "markdown",
   "id": "8bcf3eae-65b8-4c4c-a7e2-1e12442e4b67",
   "metadata": {},
   "source": [
    "### Sentiment Analysis\n",
    "\n",
    "Sentiment analysis refers to the understanding of the mood of text. For example, if our company is suddenly trending on Twitter, we care a lot about if they are tweeting good things or bad things. Similarly, reviews of restaurants and movies often have a \"sentiment\" or star rating, that we can tie back to the text. \n",
    "\n",
    "Most sentiment analysis models are built on the use of certain keywords - like good, great, bad, terrible - or a model based on known sentiments (e.g. a Yelp review, with a star rating) compared to an unknown text.\n",
    "\n",
    "Let's load some data. The data here is single sentences from reviews of movies on [Rotten Tomatoes](https://www.rottentomatoes.com/). Download it [from here](https://drive.google.com/open?id=1cxSoOz4zdVJoMe8uvUp7K1tJ0C58iXa0)."
   ]
  },
  {
   "cell_type": "code",
   "execution_count": 3,
   "id": "dfe831bc-07c8-4b58-92ea-9cc79120f472",
   "metadata": {},
   "outputs": [
    {
     "data": {
      "text/html": [
       "<div>\n",
       "<style scoped>\n",
       "    .dataframe tbody tr th:only-of-type {\n",
       "        vertical-align: middle;\n",
       "    }\n",
       "\n",
       "    .dataframe tbody tr th {\n",
       "        vertical-align: top;\n",
       "    }\n",
       "\n",
       "    .dataframe thead th {\n",
       "        text-align: right;\n",
       "    }\n",
       "</style>\n",
       "<table border=\"1\" class=\"dataframe\">\n",
       "  <thead>\n",
       "    <tr style=\"text-align: right;\">\n",
       "      <th></th>\n",
       "      <th>SentenceId</th>\n",
       "      <th>Phrase</th>\n",
       "      <th>Sentiment</th>\n",
       "    </tr>\n",
       "  </thead>\n",
       "  <tbody>\n",
       "    <tr>\n",
       "      <th>0</th>\n",
       "      <td>1</td>\n",
       "      <td>A series of escapades demonstrating the adage ...</td>\n",
       "      <td>1</td>\n",
       "    </tr>\n",
       "    <tr>\n",
       "      <th>1</th>\n",
       "      <td>2</td>\n",
       "      <td>This quiet , introspective and entertaining in...</td>\n",
       "      <td>4</td>\n",
       "    </tr>\n",
       "    <tr>\n",
       "      <th>2</th>\n",
       "      <td>3</td>\n",
       "      <td>Even fans of Ismail Merchant 's work , I suspe...</td>\n",
       "      <td>1</td>\n",
       "    </tr>\n",
       "    <tr>\n",
       "      <th>3</th>\n",
       "      <td>4</td>\n",
       "      <td>A positively thrilling combination of ethnogra...</td>\n",
       "      <td>3</td>\n",
       "    </tr>\n",
       "    <tr>\n",
       "      <th>4</th>\n",
       "      <td>5</td>\n",
       "      <td>Aggressive self-glorification and a manipulati...</td>\n",
       "      <td>1</td>\n",
       "    </tr>\n",
       "  </tbody>\n",
       "</table>\n",
       "</div>"
      ],
      "text/plain": [
       "   SentenceId                                             Phrase  Sentiment\n",
       "0           1  A series of escapades demonstrating the adage ...          1\n",
       "1           2  This quiet , introspective and entertaining in...          4\n",
       "2           3  Even fans of Ismail Merchant 's work , I suspe...          1\n",
       "3           4  A positively thrilling combination of ethnogra...          3\n",
       "4           5  Aggressive self-glorification and a manipulati...          1"
      ]
     },
     "execution_count": 3,
     "metadata": {},
     "output_type": "execute_result"
    }
   ],
   "source": [
    "data = pd.read_csv('rottentomatoes.csv')\n",
    "data.head()"
   ]
  },
  {
   "cell_type": "markdown",
   "id": "0329faf7-8e03-4dc5-86cc-eddce38630ac",
   "metadata": {},
   "source": [
    "The data is a `SentenceId` for each sentence, the review as `Phrase`, and the rating given by the user, `Sentiment`. In this data set, the rating ranges from 0 to 4. We can look at samples of the data to see phrases and their associated reviews:"
   ]
  },
  {
   "cell_type": "code",
   "execution_count": 4,
   "id": "3888a620-6d05-49e3-aaf4-bffed2fde1a8",
   "metadata": {},
   "outputs": [
    {
     "name": "stdout",
     "output_type": "stream",
     "text": [
      "<class 'pandas.core.frame.DataFrame'>\n",
      "RangeIndex: 8529 entries, 0 to 8528\n",
      "Data columns (total 3 columns):\n",
      " #   Column      Non-Null Count  Dtype \n",
      "---  ------      --------------  ----- \n",
      " 0   SentenceId  8529 non-null   int64 \n",
      " 1   Phrase      8529 non-null   object\n",
      " 2   Sentiment   8529 non-null   int64 \n",
      "dtypes: int64(2), object(1)\n",
      "memory usage: 200.0+ KB\n"
     ]
    }
   ],
   "source": [
    "data.info()"
   ]
  },
  {
   "cell_type": "code",
   "execution_count": 5,
   "id": "39b80f6b-74ed-4bec-9977-eeb4150b14e5",
   "metadata": {},
   "outputs": [
    {
     "name": "stdout",
     "output_type": "stream",
     "text": [
      "[[\"This is not Chabrol 's best , but even his lesser works outshine the best some directors can offer .\"\n",
      "  2]\n",
      " [\"A muddled limp biscuit of a movie , a vampire soap opera that does n't make much sense even on its own terms .\"\n",
      "  0]\n",
      " [\"Completely creatively stillborn and executed in a manner that I 'm not sure could be a single iota worse ... a soulless hunk of exploitative garbage .\"\n",
      "  0]\n",
      " [\"Though Tom Shadyac 's film kicks off spookily enough , around the halfway mark it takes an abrupt turn into glucose sentimentality and laughable contrivance .\"\n",
      "  1]]\n"
     ]
    }
   ],
   "source": [
    "print(data[['Phrase', 'Sentiment']].sample(4).values)"
   ]
  },
  {
   "cell_type": "markdown",
   "id": "caf47b73-966f-41c2-abf1-38d505a767a6",
   "metadata": {},
   "source": [
    "Let's look at the distribution of ratings:"
   ]
  },
  {
   "cell_type": "code",
   "execution_count": 6,
   "id": "0cd2a635-f058-4912-82d1-bd53d26d6d45",
   "metadata": {},
   "outputs": [
    {
     "data": {
      "image/png": "[encoded data removed]",
      "text/plain": [
       "<Figure size 640x480 with 1 Axes>"
      ]
     },
     "metadata": {},
     "output_type": "display_data"
    }
   ],
   "source": [
    "values, counts = np.unique(data['Sentiment'], return_counts=True)\n",
    "normalized_counts = counts/counts.sum()\n",
    "\n",
    "plt.figure()\n",
    "plt.bar(values, normalized_counts * 100)\n",
    "plt.xlabel('Review rating')\n",
    "plt.ylabel('% of reviews')\n",
    "plt.title(\"Rating distribution\")\n",
    "plt.show()"
   ]
  },
  {
   "cell_type": "code",
   "execution_count": 7,
   "id": "ae1d7622-23e4-4419-81e8-08e2d41307e6",
   "metadata": {},
   "outputs": [],
   "source": [
    "data['word_count'] = data.Phrase.str.split().str.len()"
   ]
  },
  {
   "cell_type": "code",
   "execution_count": 8,
   "id": "8203fad4-7e76-48b8-9f2e-8ee618ce845c",
   "metadata": {},
   "outputs": [
    {
     "data": {
      "text/plain": [
       "count    8529.000000\n",
       "mean       18.999179\n",
       "std         9.361656\n",
       "min         0.000000\n",
       "25%        12.000000\n",
       "50%        18.000000\n",
       "75%        25.000000\n",
       "max        52.000000\n",
       "Name: word_count, dtype: float64"
      ]
     },
     "execution_count": 8,
     "metadata": {},
     "output_type": "execute_result"
    }
   ],
   "source": [
    "data.word_count.describe()"
   ]
  },
  {
   "cell_type": "markdown",
   "id": "f18a759c-6d40-4767-98b5-b59941513cb0",
   "metadata": {},
   "source": [
    "How do we move from our human understanding that these are good or bad reviews, to modeling it?"
   ]
  },
  {
   "cell_type": "markdown",
   "id": "4634f865-2618-437c-b333-19d3b17c72e3",
   "metadata": {},
   "source": [
    "### Simplifying the Problem\n",
    "\n",
    "Let's start with a simpler version of this problem to get an idea of how much information our data can give us.\n",
    "\n",
    "We will create a new set of ratings where 0, 1, and 2 will count as 0 (bad), , and 3 and 4 will count as 1 (good)."
   ]
  },
  {
   "cell_type": "code",
   "execution_count": 9,
   "id": "8f87297e-d9d9-4ebe-b9a4-d1b26e090b7a",
   "metadata": {},
   "outputs": [
    {
     "data": {
      "text/html": [
       "<div>\n",
       "<style scoped>\n",
       "    .dataframe tbody tr th:only-of-type {\n",
       "        vertical-align: middle;\n",
       "    }\n",
       "\n",
       "    .dataframe tbody tr th {\n",
       "        vertical-align: top;\n",
       "    }\n",
       "\n",
       "    .dataframe thead th {\n",
       "        text-align: right;\n",
       "    }\n",
       "</style>\n",
       "<table border=\"1\" class=\"dataframe\">\n",
       "  <thead>\n",
       "    <tr style=\"text-align: right;\">\n",
       "      <th></th>\n",
       "      <th>SentenceId</th>\n",
       "      <th>Phrase</th>\n",
       "      <th>Sentiment</th>\n",
       "      <th>word_count</th>\n",
       "    </tr>\n",
       "  </thead>\n",
       "  <tbody>\n",
       "    <tr>\n",
       "      <th>0</th>\n",
       "      <td>1</td>\n",
       "      <td>A series of escapades demonstrating the adage ...</td>\n",
       "      <td>1</td>\n",
       "      <td>37</td>\n",
       "    </tr>\n",
       "    <tr>\n",
       "      <th>1</th>\n",
       "      <td>2</td>\n",
       "      <td>This quiet , introspective and entertaining in...</td>\n",
       "      <td>4</td>\n",
       "      <td>11</td>\n",
       "    </tr>\n",
       "    <tr>\n",
       "      <th>2</th>\n",
       "      <td>3</td>\n",
       "      <td>Even fans of Ismail Merchant 's work , I suspe...</td>\n",
       "      <td>1</td>\n",
       "      <td>21</td>\n",
       "    </tr>\n",
       "    <tr>\n",
       "      <th>3</th>\n",
       "      <td>4</td>\n",
       "      <td>A positively thrilling combination of ethnogra...</td>\n",
       "      <td>3</td>\n",
       "      <td>26</td>\n",
       "    </tr>\n",
       "    <tr>\n",
       "      <th>4</th>\n",
       "      <td>5</td>\n",
       "      <td>Aggressive self-glorification and a manipulati...</td>\n",
       "      <td>1</td>\n",
       "      <td>7</td>\n",
       "    </tr>\n",
       "  </tbody>\n",
       "</table>\n",
       "</div>"
      ],
      "text/plain": [
       "   SentenceId                                             Phrase  Sentiment  \\\n",
       "0           1  A series of escapades demonstrating the adage ...          1   \n",
       "1           2  This quiet , introspective and entertaining in...          4   \n",
       "2           3  Even fans of Ismail Merchant 's work , I suspe...          1   \n",
       "3           4  A positively thrilling combination of ethnogra...          3   \n",
       "4           5  Aggressive self-glorification and a manipulati...          1   \n",
       "\n",
       "   word_count  \n",
       "0          37  \n",
       "1          11  \n",
       "2          21  \n",
       "3          26  \n",
       "4           7  "
      ]
     },
     "execution_count": 9,
     "metadata": {},
     "output_type": "execute_result"
    }
   ],
   "source": [
    "simple_data = data.copy()\n",
    "simple_data.head()"
   ]
  },
  {
   "cell_type": "code",
   "execution_count": 10,
   "id": "2a9e27c2-da97-4452-abc5-bff1e4ea6f84",
   "metadata": {},
   "outputs": [
    {
     "data": {
      "text/html": [
       "<div>\n",
       "<style scoped>\n",
       "    .dataframe tbody tr th:only-of-type {\n",
       "        vertical-align: middle;\n",
       "    }\n",
       "\n",
       "    .dataframe tbody tr th {\n",
       "        vertical-align: top;\n",
       "    }\n",
       "\n",
       "    .dataframe thead th {\n",
       "        text-align: right;\n",
       "    }\n",
       "</style>\n",
       "<table border=\"1\" class=\"dataframe\">\n",
       "  <thead>\n",
       "    <tr style=\"text-align: right;\">\n",
       "      <th></th>\n",
       "      <th>SentenceId</th>\n",
       "      <th>Phrase</th>\n",
       "      <th>Sentiment</th>\n",
       "      <th>word_count</th>\n",
       "    </tr>\n",
       "  </thead>\n",
       "  <tbody>\n",
       "    <tr>\n",
       "      <th>0</th>\n",
       "      <td>1</td>\n",
       "      <td>A series of escapades demonstrating the adage ...</td>\n",
       "      <td>0</td>\n",
       "      <td>37</td>\n",
       "    </tr>\n",
       "    <tr>\n",
       "      <th>1</th>\n",
       "      <td>2</td>\n",
       "      <td>This quiet , introspective and entertaining in...</td>\n",
       "      <td>1</td>\n",
       "      <td>11</td>\n",
       "    </tr>\n",
       "    <tr>\n",
       "      <th>2</th>\n",
       "      <td>3</td>\n",
       "      <td>Even fans of Ismail Merchant 's work , I suspe...</td>\n",
       "      <td>0</td>\n",
       "      <td>21</td>\n",
       "    </tr>\n",
       "    <tr>\n",
       "      <th>3</th>\n",
       "      <td>4</td>\n",
       "      <td>A positively thrilling combination of ethnogra...</td>\n",
       "      <td>1</td>\n",
       "      <td>26</td>\n",
       "    </tr>\n",
       "    <tr>\n",
       "      <th>4</th>\n",
       "      <td>5</td>\n",
       "      <td>Aggressive self-glorification and a manipulati...</td>\n",
       "      <td>0</td>\n",
       "      <td>7</td>\n",
       "    </tr>\n",
       "  </tbody>\n",
       "</table>\n",
       "</div>"
      ],
      "text/plain": [
       "   SentenceId                                             Phrase  Sentiment  \\\n",
       "0           1  A series of escapades demonstrating the adage ...          0   \n",
       "1           2  This quiet , introspective and entertaining in...          1   \n",
       "2           3  Even fans of Ismail Merchant 's work , I suspe...          0   \n",
       "3           4  A positively thrilling combination of ethnogra...          1   \n",
       "4           5  Aggressive self-glorification and a manipulati...          0   \n",
       "\n",
       "   word_count  \n",
       "0          37  \n",
       "1          11  \n",
       "2          21  \n",
       "3          26  \n",
       "4           7  "
      ]
     },
     "execution_count": 10,
     "metadata": {},
     "output_type": "execute_result"
    }
   ],
   "source": [
    "simple_data['Sentiment'] = np.where(simple_data['Sentiment'] >= 3, 1, 0)\n",
    "simple_data.head()"
   ]
  },
  {
   "cell_type": "code",
   "execution_count": 11,
   "id": "9d6f3037-9e14-4f78-a298-66e7f146e255",
   "metadata": {},
   "outputs": [
    {
     "data": {
      "image/png": "[encoded data removed]",
      "text/plain": [
       "<Figure size 640x480 with 1 Axes>"
      ]
     },
     "metadata": {},
     "output_type": "display_data"
    },
    {
     "name": "stdout",
     "output_type": "stream",
     "text": [
      "Class imbalance: [0.58 0.42]\n"
     ]
    }
   ],
   "source": [
    "values, counts = np.unique(simple_data['Sentiment'], return_counts=True)\n",
    "normalized_counts = counts/counts.sum()\n",
    "\n",
    "plt.figure()\n",
    "plt.bar([\"0\", \"1\"], normalized_counts*100) # plot normalized counts\n",
    "plt.xlabel('Review Rating')\n",
    "plt.ylabel('% of Reviews')\n",
    "plt.show()\n",
    "\n",
    "print(f\"Class imbalance: {np.round(normalized_counts, 2)}\")"
   ]
  },
  {
   "cell_type": "code",
   "execution_count": 12,
   "id": "5455e729-3bf4-413a-b8db-c5384477dc18",
   "metadata": {},
   "outputs": [],
   "source": [
    "# store simplified data in X and y\n",
    "X = simple_data['Phrase']\n",
    "y = simple_data['Sentiment']"
   ]
  },
  {
   "cell_type": "markdown",
   "id": "7546e7c5-c115-4541-9a21-e1499ccaf6b8",
   "metadata": {},
   "source": [
    "This is quite common if we're about to approach a serious problem (and sentiment analysis is very serious business). We first create a simpler representation and find out if we can even tell apart \"good\" from \"bad.\""
   ]
  },
  {
   "cell_type": "markdown",
   "id": "3e975211-fa79-4fbd-84d9-58a74c570921",
   "metadata": {},
   "source": [
    "### The Bag-of-Words model\n",
    "\n",
    "In a [bag-of-words model](https://en.wikipedia.org/wiki/Bag-of-words_model), we take each word that exists in our corpus, count its occurrences in each document, and make this count a feature to form the document-term matrix. So, each document is a row and each unique word in the corpus is a column.\n",
    "\n",
    "\n",
    "|          | BrainStation | is | awesome | we | are | learning | so | much | at | the  | great |\n",
    "|----------|--------------|----|---------|----|-----|----------|----|------|----|-----|-------|\n",
    "|sentence1 |        1     |  1 |    1    |  0  |   0  |    0      |   0 |   0   |   0 |    0  |   0    |\n",
    "|sentence2 |        1     |  0  |    0     |  1 | 1   |   1      | 1  |  1   | 1  |   0     |    0   |\n",
    "|sentence3 |         0     | 1  |     0    |  0  |   0  |   1      | 1  |    0  | 0   |  1     |   1   |\n"
   ]
  },
  {
   "cell_type": "markdown",
   "id": "11a4af7d-1516-4f5e-9f60-566de217a67e",
   "metadata": {},
   "source": [
    "The first step in any NLP task is  to _tokenize_ our data - this is splitting it into individual words, or tokens. There are many different kinds of tokenizer, But let's start with a simple one, which is just to split each string on the whitespace between the words.\n",
    "\n",
    "Let's start with a very simple corpus."
   ]
  },
  {
   "cell_type": "code",
   "execution_count": 13,
   "id": "e6240e49-81b0-4028-9aa2-7765c8cb2787",
   "metadata": {},
   "outputs": [
    {
     "data": {
      "text/html": [
       "<div>\n",
       "<style scoped>\n",
       "    .dataframe tbody tr th:only-of-type {\n",
       "        vertical-align: middle;\n",
       "    }\n",
       "\n",
       "    .dataframe tbody tr th {\n",
       "        vertical-align: top;\n",
       "    }\n",
       "\n",
       "    .dataframe thead th {\n",
       "        text-align: right;\n",
       "    }\n",
       "</style>\n",
       "<table border=\"1\" class=\"dataframe\">\n",
       "  <thead>\n",
       "    <tr style=\"text-align: right;\">\n",
       "      <th></th>\n",
       "      <th>Review</th>\n",
       "    </tr>\n",
       "  </thead>\n",
       "  <tbody>\n",
       "    <tr>\n",
       "      <th>0</th>\n",
       "      <td>This was absolutely the best movie I have ever...</td>\n",
       "    </tr>\n",
       "    <tr>\n",
       "      <th>1</th>\n",
       "      <td>This was absolutely not the best movie I have ...</td>\n",
       "    </tr>\n",
       "    <tr>\n",
       "      <th>2</th>\n",
       "      <td>This was absolutely the best movie I have ever...</td>\n",
       "    </tr>\n",
       "  </tbody>\n",
       "</table>\n",
       "</div>"
      ],
      "text/plain": [
       "                                              Review\n",
       "0  This was absolutely the best movie I have ever...\n",
       "1  This was absolutely not the best movie I have ...\n",
       "2  This was absolutely the best movie I have ever..."
      ]
     },
     "execution_count": 13,
     "metadata": {},
     "output_type": "execute_result"
    }
   ],
   "source": [
    "review1 = 'This was absolutely the best movie I have ever seen, not sure it can ever be beaten'\n",
    "review2 = 'This was absolutely not the best movie I have ever seen, sure it can be beaten'\n",
    "review3 = 'This was absolutely the best movie I have ever seen'\n",
    "\n",
    "small_reviews = pd.DataFrame({\"Review\": [review1, review2, review3]})\n",
    "small_reviews"
   ]
  },
  {
   "cell_type": "code",
   "execution_count": 14,
   "id": "af8a7cd0-db28-4df2-a76b-fed56927aca5",
   "metadata": {},
   "outputs": [
    {
     "data": {
      "text/plain": [
       "0    [This, was, absolutely, the, best, movie, I, h...\n",
       "1    [This, was, absolutely, not, the, best, movie,...\n",
       "2    [This, was, absolutely, the, best, movie, I, h...\n",
       "Name: Review, dtype: object"
      ]
     },
     "execution_count": 14,
     "metadata": {},
     "output_type": "execute_result"
    }
   ],
   "source": [
    "#Tokenizing these reviews\n",
    "\n",
    "small_reviews['Review'].str.split(' ')"
   ]
  },
  {
   "cell_type": "markdown",
   "id": "308a1251-3f08-45bf-a3dd-aa8333b3b616",
   "metadata": {},
   "source": [
    "We now need to take this  tokenized  corpus and make the document-term matrix using the bag of words model. We can do that using the `CountVectorizer()` function from Sklearn. One useful feature of the `CountVectorizer()` function is that by default it will perform the same form of tokenization for us (i.e it will split the strings on the whitespace). So we can just feed in our reviews column.\n",
    "\n",
    "Let's fit it first and talk about what we are seeing."
   ]
  },
  {
   "cell_type": "code",
   "execution_count": 15,
   "id": "a5546204-7508-47bf-81a9-d33bae83244b",
   "metadata": {},
   "outputs": [],
   "source": [
    "from sklearn.feature_extraction.text import CountVectorizer"
   ]
  },
  {
   "cell_type": "code",
   "execution_count": 17,
   "id": "55351954-2227-425a-9492-e9ae13f96916",
   "metadata": {},
   "outputs": [],
   "source": [
    "small_transformed = []"
   ]
  },
  {
   "cell_type": "code",
   "execution_count": 18,
   "id": "7092d785-7e7b-4c1d-9066-489a2a495600",
   "metadata": {},
   "outputs": [
    {
     "data": {
      "text/plain": [
       "<3x15 sparse matrix of type '<class 'numpy.int64'>'\n",
       "\twith 39 stored elements in Compressed Sparse Row format>"
      ]
     },
     "execution_count": 18,
     "metadata": {},
     "output_type": "execute_result"
    }
   ],
   "source": [
    "# 1. Instantiate \n",
    "bagofwords = CountVectorizer()\n",
    "\n",
    "# 2. Fit \n",
    "bagofwords.fit(small_reviews[\"Review\"])\n",
    "\n",
    "# 3. Transform\n",
    "small_transformed = bagofwords.transform(small_reviews[\"Review\"])\n",
    "small_transformed"
   ]
  },
  {
   "cell_type": "markdown",
   "id": "ffc7b104-bcf8-43e2-93db-90468ff33078",
   "metadata": {},
   "source": [
    "We can see that the the output of the `CountVectorizer()` is a sparse matrix. This will always be the case because the matrix that is returned is usually very large and contains lots of 0s. "
   ]
  },
  {
   "cell_type": "markdown",
   "id": "d1c5c0b4-cc63-492d-9966-c8b5b012c986",
   "metadata": {},
   "source": [
    "So how does this document-term matrix look? We can extract the information out of the sparse matrix with the following functions: "
   ]
  },
  {
   "cell_type": "code",
   "execution_count": 19,
   "id": "2ed0f4b0-e2af-4e3b-b338-13a0a52329dd",
   "metadata": {},
   "outputs": [
    {
     "data": {
      "text/plain": [
       "['absolutely',\n",
       " 'be',\n",
       " 'beaten',\n",
       " 'best',\n",
       " 'can',\n",
       " 'ever',\n",
       " 'have',\n",
       " 'it',\n",
       " 'movie',\n",
       " 'not',\n",
       " 'seen',\n",
       " 'sure',\n",
       " 'the',\n",
       " 'this',\n",
       " 'was']"
      ]
     },
     "execution_count": 19,
     "metadata": {},
     "output_type": "execute_result"
    }
   ],
   "source": [
    "# these are now the features, they are the individual tokens\n",
    "bagofwords.get_feature_names()"
   ]
  },
  {
   "cell_type": "code",
   "execution_count": 20,
   "id": "88f06ca1-bdf6-4614-b87a-b2522007c16f",
   "metadata": {},
   "outputs": [
    {
     "data": {
      "text/plain": [
       "array([[1, 1, 1, 1, 1, 2, 1, 1, 1, 1, 1, 1, 1, 1, 1],\n",
       "       [1, 1, 1, 1, 1, 1, 1, 1, 1, 1, 1, 1, 1, 1, 1],\n",
       "       [1, 0, 0, 1, 0, 1, 1, 0, 1, 0, 1, 0, 1, 1, 1]])"
      ]
     },
     "execution_count": 20,
     "metadata": {},
     "output_type": "execute_result"
    }
   ],
   "source": [
    "# converting the sparse matrix into a numpy array\n",
    "small_transformed.toarray()"
   ]
  },
  {
   "cell_type": "code",
   "execution_count": 40,
   "id": "b9e6bef9-bdc1-44b5-8376-dc4164f31807",
   "metadata": {},
   "outputs": [
    {
     "data": {
      "text/html": [
       "<div>\n",
       "<style scoped>\n",
       "    .dataframe tbody tr th:only-of-type {\n",
       "        vertical-align: middle;\n",
       "    }\n",
       "\n",
       "    .dataframe tbody tr th {\n",
       "        vertical-align: top;\n",
       "    }\n",
       "\n",
       "    .dataframe thead th {\n",
       "        text-align: right;\n",
       "    }\n",
       "</style>\n",
       "<table border=\"1\" class=\"dataframe\">\n",
       "  <thead>\n",
       "    <tr style=\"text-align: right;\">\n",
       "      <th></th>\n",
       "      <th>absolutely</th>\n",
       "      <th>be</th>\n",
       "      <th>beaten</th>\n",
       "      <th>best</th>\n",
       "      <th>can</th>\n",
       "      <th>ever</th>\n",
       "      <th>have</th>\n",
       "      <th>it</th>\n",
       "      <th>movie</th>\n",
       "      <th>not</th>\n",
       "      <th>seen</th>\n",
       "      <th>sure</th>\n",
       "      <th>the</th>\n",
       "      <th>this</th>\n",
       "      <th>was</th>\n",
       "    </tr>\n",
       "  </thead>\n",
       "  <tbody>\n",
       "    <tr>\n",
       "      <th>0</th>\n",
       "      <td>1</td>\n",
       "      <td>1</td>\n",
       "      <td>1</td>\n",
       "      <td>1</td>\n",
       "      <td>1</td>\n",
       "      <td>2</td>\n",
       "      <td>1</td>\n",
       "      <td>1</td>\n",
       "      <td>1</td>\n",
       "      <td>1</td>\n",
       "      <td>1</td>\n",
       "      <td>1</td>\n",
       "      <td>1</td>\n",
       "      <td>1</td>\n",
       "      <td>1</td>\n",
       "    </tr>\n",
       "    <tr>\n",
       "      <th>1</th>\n",
       "      <td>1</td>\n",
       "      <td>1</td>\n",
       "      <td>1</td>\n",
       "      <td>1</td>\n",
       "      <td>1</td>\n",
       "      <td>1</td>\n",
       "      <td>1</td>\n",
       "      <td>1</td>\n",
       "      <td>1</td>\n",
       "      <td>1</td>\n",
       "      <td>1</td>\n",
       "      <td>1</td>\n",
       "      <td>1</td>\n",
       "      <td>1</td>\n",
       "      <td>1</td>\n",
       "    </tr>\n",
       "    <tr>\n",
       "      <th>2</th>\n",
       "      <td>1</td>\n",
       "      <td>0</td>\n",
       "      <td>0</td>\n",
       "      <td>1</td>\n",
       "      <td>0</td>\n",
       "      <td>1</td>\n",
       "      <td>1</td>\n",
       "      <td>0</td>\n",
       "      <td>1</td>\n",
       "      <td>0</td>\n",
       "      <td>1</td>\n",
       "      <td>0</td>\n",
       "      <td>1</td>\n",
       "      <td>1</td>\n",
       "      <td>1</td>\n",
       "    </tr>\n",
       "  </tbody>\n",
       "</table>\n",
       "</div>"
      ],
      "text/plain": [
       "   absolutely  be  beaten  best  can  ever  have  it  movie  not  seen  sure  \\\n",
       "0           1   1       1     1    1     2     1   1      1    1     1     1   \n",
       "1           1   1       1     1    1     1     1   1      1    1     1     1   \n",
       "2           1   0       0     1    0     1     1   0      1    0     1     0   \n",
       "\n",
       "   the  this  was  \n",
       "0    1     1    1  \n",
       "1    1     1    1  \n",
       "2    1     1    1  "
      ]
     },
     "metadata": {},
     "output_type": "display_data"
    }
   ],
   "source": [
    "# We can extract the information and put it in a data frame to make it easier to see what has occured\n",
    "my_df = pd.DataFrame(columns=bagofwords.get_feature_names(), data=small_transformed.toarray())\n",
    "display(my_df)"
   ]
  },
  {
   "cell_type": "markdown",
   "id": "bc1318f0-c819-4536-aba2-a50d68b80dfa",
   "metadata": {},
   "source": [
    "You can see that the information contained is just the counts of how many times each token occurs in each document (in this case each document refers to a review)."
   ]
  },
  {
   "cell_type": "markdown",
   "id": "b5bf731a-de0b-4520-b443-2e5187dc9266",
   "metadata": {},
   "source": [
    "This is a good start, but we have some problems - think about the sentences:\n",
    "\n",
    "`This was absolutely the best movie I have ever seen, not sure it can ever be beaten.`\n",
    "\n",
    "`This was absolutely not the best movie I have ever seen, sure it can be beaten.`\n",
    "\n",
    "These look identical to a bag of words model - a 'not' can be in any place, and can substantially modify the meaning of a sentence.\n",
    "\n",
    "Or:\n",
    "\n",
    "`This is the best Adam Sandler movie I have ever seen.`\n",
    "\n",
    "Depending on the user, this might be a great compliment, or a sarcastic jab.\n",
    "\n",
    "We will look at ways to deal with these issues. For now let's implement a bag-of-words model to our reviews data."
   ]
  },
  {
   "cell_type": "markdown",
   "id": "86efa162-6fcd-4cab-a3fb-98f25f4d303f",
   "metadata": {},
   "source": [
    "### Bag-of-Words on the Reviews Data"
   ]
  },
  {
   "cell_type": "code",
   "execution_count": 150,
   "id": "f8c7ac8a-ab28-454e-8c9c-a80597a424a8",
   "metadata": {},
   "outputs": [],
   "source": [
    "# splitting our data into train and test sets\n",
    "from sklearn.model_selection import train_test_split\n",
    "\n",
    "X_train, X_test, y_train, y_test = train_test_split(X, y, test_size=0.33, random_state=42)"
   ]
  },
  {
   "cell_type": "markdown",
   "id": "bc9f2fe8-df59-4785-98a9-811f9771103b",
   "metadata": {},
   "source": [
    "Remember that the ultimate goal is to perform classification on each document, to say whether there is a positive or negative sentiment in each review. Hence, the actual reviews become our `X` and the 0 or 1 column we made becomes our `y`."
   ]
  },
  {
   "cell_type": "code",
   "execution_count": 42,
   "id": "34b66650-a67d-475e-ab03-479b41c8b2f0",
   "metadata": {},
   "outputs": [
    {
     "data": {
      "text/plain": [
       "(5714,)"
      ]
     },
     "execution_count": 42,
     "metadata": {},
     "output_type": "execute_result"
    }
   ],
   "source": [
    "# size of training data\n",
    "X_train.shape"
   ]
  },
  {
   "cell_type": "markdown",
   "id": "b275e455-f7f0-4f8a-b69b-89054e5bcbc1",
   "metadata": {},
   "source": [
    "Let's now make a document-term matrix that's based on our training data."
   ]
  },
  {
   "cell_type": "code",
   "execution_count": 43,
   "id": "df873d9e-8f46-46e8-8515-f967d345e780",
   "metadata": {},
   "outputs": [
    {
     "data": {
      "text/plain": [
       "<5714x12530 sparse matrix of type '<class 'numpy.int64'>'\n",
       "\twith 86463 stored elements in Compressed Sparse Row format>"
      ]
     },
     "execution_count": 43,
     "metadata": {},
     "output_type": "execute_result"
    }
   ],
   "source": [
    "# 1. Instantiate\n",
    "bagofwords = CountVectorizer()\n",
    "\n",
    "# 2. Fit\n",
    "bagofwords.fit(X_train)\n",
    "\n",
    "# 3. Transform\n",
    "X_train_transformed = bagofwords.transform(X_train)\n",
    "X_train_transformed"
   ]
  },
  {
   "cell_type": "code",
   "execution_count": 52,
   "id": "a38a851c-5f50-4511-afb2-c3849303a473",
   "metadata": {},
   "outputs": [
    {
     "data": {
      "text/plain": [
       "array([[0, 0, 0, ..., 0, 0, 0],\n",
       "       [0, 0, 0, ..., 0, 0, 0],\n",
       "       [0, 0, 0, ..., 0, 0, 0],\n",
       "       ...,\n",
       "       [0, 0, 0, ..., 0, 0, 0],\n",
       "       [0, 0, 0, ..., 0, 0, 0],\n",
       "       [0, 0, 0, ..., 0, 0, 0]])"
      ]
     },
     "execution_count": 52,
     "metadata": {},
     "output_type": "execute_result"
    }
   ],
   "source": [
    "X_train_transformed.toarray()"
   ]
  },
  {
   "cell_type": "markdown",
   "id": "172bcbe3-ec5f-45dd-9cda-946883f96662",
   "metadata": {},
   "source": [
    "We can see that the sparse matrix has 5,714 rows and 12,530 columns. This means that there are 12,530 unique terms or tokens. \n",
    "\n",
    "---\n",
    "### (Supplementary) Why Sparse Matrices?"
   ]
  },
  {
   "cell_type": "markdown",
   "id": "2e4100d9-0ba5-46d8-a1a1-912dc945d3ec",
   "metadata": {},
   "source": [
    "A `5714x12530` matrix would take ~0.5GB (500MB) to store in a dense matrix as opposed to about 8MB in CSR format:"
   ]
  },
  {
   "cell_type": "code",
   "execution_count": 53,
   "id": "4ac6a747-f792-4021-baa0-6f0a22e6fd4e",
   "metadata": {},
   "outputs": [
    {
     "data": {
      "text/plain": [
       "546.2373352050781"
      ]
     },
     "execution_count": 53,
     "metadata": {},
     "output_type": "execute_result"
    }
   ],
   "source": [
    "# calculation of how many MB a dense matrix would take up\n",
    "# 5714 sentences * 12530 terms * 8 bits in a byte / 1024b per kb / 1024 kb per Mb \n",
    "5714*12530 * 8/1024/1024"
   ]
  },
  {
   "cell_type": "code",
   "execution_count": 54,
   "id": "c2def35a-b009-4b88-938e-f18e9dfb7d0f",
   "metadata": {},
   "outputs": [
    {
     "data": {
      "text/plain": [
       "8.09033203125"
      ]
     },
     "execution_count": 54,
     "metadata": {},
     "output_type": "execute_result"
    }
   ],
   "source": [
    "# how much memory does our sparse matrix take up?\n",
    "(X_train_transformed.data.nbytes + X_train_transformed.indptr.nbytes + X_train_transformed.indices.nbytes)*8/1024/1024"
   ]
  },
  {
   "cell_type": "markdown",
   "id": "1b9b8340-6ac9-4646-b39c-1b40a7b091af",
   "metadata": {},
   "source": [
    "The sparse matrix takes up 8MB.\n",
    "\n",
    "----"
   ]
  },
  {
   "cell_type": "markdown",
   "id": "b6daff46-c34f-4be9-8a8e-7c3f5bd69014",
   "metadata": {},
   "source": [
    "**Transforming the test set**\n",
    "\n",
    "We know that when we train a model on some training data and want to test the same model, the testing data has to be in the exact same format as the training data. This means that the train and test data have to contain the same features. **This means that we have to use the bag-of-words vectorizer fitted to our training data to transform our test data as well.** "
   ]
  },
  {
   "cell_type": "code",
   "execution_count": 55,
   "id": "98b40151-e810-4202-a17a-a61584242385",
   "metadata": {},
   "outputs": [
    {
     "data": {
      "text/plain": [
       "<2815x12530 sparse matrix of type '<class 'numpy.int64'>'\n",
       "\twith 39166 stored elements in Compressed Sparse Row format>"
      ]
     },
     "execution_count": 55,
     "metadata": {},
     "output_type": "execute_result"
    }
   ],
   "source": [
    "X_test_transformed = bagofwords.transform(X_test)\n",
    "X_test_transformed"
   ]
  },
  {
   "cell_type": "markdown",
   "id": "6da0d7f0-6a26-4c71-9f2f-91624c187bac",
   "metadata": {},
   "source": [
    "If there are new words in the test set that were not present in the training data, they get ignored.\n"
   ]
  },
  {
   "cell_type": "markdown",
   "id": "99e61f09-dd35-44f7-b126-7735ca659a52",
   "metadata": {},
   "source": [
    "**Looking at frequent tokens**\n",
    "\n",
    "Let's take a look at some of our features/words, taking a sample first:"
   ]
  },
  {
   "cell_type": "code",
   "execution_count": 56,
   "id": "343cb351-bdd9-425e-99ce-807cafeb2086",
   "metadata": {},
   "outputs": [
    {
     "name": "stdout",
     "output_type": "stream",
     "text": [
      "['10', 'bluescreen', 'cowering', 'equal', 'hackneyed', 'landbound', 'nourishing', 'rap', 'six', 'toes']\n"
     ]
    }
   ],
   "source": [
    "words = bagofwords.get_feature_names()\n",
    "some_indices = range(1, 12530, round(12530/10)) # just pick some indices\n",
    "\n",
    "samples = [words[i] for i in some_indices]\n",
    "print(samples)"
   ]
  },
  {
   "cell_type": "markdown",
   "id": "b777a7a4-ceae-4edb-8741-d8609e787bf8",
   "metadata": {},
   "source": [
    "And lets extract the total counts for how many times they occur:"
   ]
  },
  {
   "cell_type": "code",
   "execution_count": 57,
   "id": "0f5c3acf-4b5b-42e6-9b4a-3fd2df1456bd",
   "metadata": {},
   "outputs": [
    {
     "data": {
      "text/html": [
       "<div>\n",
       "<style scoped>\n",
       "    .dataframe tbody tr th:only-of-type {\n",
       "        vertical-align: middle;\n",
       "    }\n",
       "\n",
       "    .dataframe tbody tr th {\n",
       "        vertical-align: top;\n",
       "    }\n",
       "\n",
       "    .dataframe thead th {\n",
       "        text-align: right;\n",
       "    }\n",
       "</style>\n",
       "<table border=\"1\" class=\"dataframe\">\n",
       "  <thead>\n",
       "    <tr style=\"text-align: right;\">\n",
       "      <th></th>\n",
       "      <th>10</th>\n",
       "      <th>bluescreen</th>\n",
       "      <th>cowering</th>\n",
       "      <th>equal</th>\n",
       "      <th>hackneyed</th>\n",
       "      <th>landbound</th>\n",
       "      <th>nourishing</th>\n",
       "      <th>rap</th>\n",
       "      <th>six</th>\n",
       "      <th>toes</th>\n",
       "    </tr>\n",
       "  </thead>\n",
       "  <tbody>\n",
       "    <tr>\n",
       "      <th>total_corpus_count</th>\n",
       "      <td>12</td>\n",
       "      <td>2</td>\n",
       "      <td>1</td>\n",
       "      <td>3</td>\n",
       "      <td>8</td>\n",
       "      <td>1</td>\n",
       "      <td>2</td>\n",
       "      <td>4</td>\n",
       "      <td>3</td>\n",
       "      <td>1</td>\n",
       "    </tr>\n",
       "  </tbody>\n",
       "</table>\n",
       "</div>"
      ],
      "text/plain": [
       "                    10  bluescreen  cowering  equal  hackneyed  landbound  \\\n",
       "total_corpus_count  12           2         1      3          8          1   \n",
       "\n",
       "                    nourishing  rap  six  toes  \n",
       "total_corpus_count           2    4    3     1  "
      ]
     },
     "metadata": {},
     "output_type": "display_data"
    }
   ],
   "source": [
    "counts = np.array(X_train_transformed[:, some_indices].sum(axis = 0))\n",
    "\n",
    "display(pd.DataFrame({\"total_corpus_count\": counts[0]}, index=samples).T)"
   ]
  },
  {
   "cell_type": "markdown",
   "id": "ee8343e0-c331-4b06-b4a4-56f1857c902d",
   "metadata": {},
   "source": [
    "Cool, we can see that summing up a column of our `X_train` document-term matrix gives how many times a token appeared in our overall corpus. \n",
    "\n",
    "Let's find the most frequently occurring words next."
   ]
  },
  {
   "cell_type": "code",
   "execution_count": 58,
   "id": "73fa12ba-fa3f-472a-a948-d780e09b97e5",
   "metadata": {},
   "outputs": [
    {
     "data": {
      "text/plain": [
       "12530"
      ]
     },
     "execution_count": 58,
     "metadata": {},
     "output_type": "execute_result"
    }
   ],
   "source": [
    "len(bagofwords.get_feature_names())"
   ]
  },
  {
   "cell_type": "code",
   "execution_count": 59,
   "id": "87f6719e-919c-475b-ac7e-f7368cb79628",
   "metadata": {},
   "outputs": [
    {
     "data": {
      "text/plain": [
       "array([ 2, 12,  7, ...,  1,  1,  1])"
      ]
     },
     "execution_count": 59,
     "metadata": {},
     "output_type": "execute_result"
    }
   ],
   "source": [
    "X_train_transformed.toarray().sum(axis=0)"
   ]
  },
  {
   "cell_type": "markdown",
   "id": "3b46c7b3-3fa9-4b51-a5c1-4e33751e6446",
   "metadata": {},
   "source": [
    "Now, we are ready to look at the top 20 words and visualize the distribution of counts:"
   ]
  },
  {
   "cell_type": "code",
   "execution_count": 60,
   "id": "31abecd9-0421-477f-8c74-cf8e4e74a51d",
   "metadata": {},
   "outputs": [
    {
     "data": {
      "image/png": "[encoded data removed]",
      "text/plain": [
       "<Figure size 1500x500 with 1 Axes>"
      ]
     },
     "metadata": {},
     "output_type": "display_data"
    }
   ],
   "source": [
    "word_counts = pd.DataFrame(\n",
    "    {\"counts\": X_train_transformed.toarray().sum(axis=0)},\n",
    "    index=bagofwords.get_feature_names()\n",
    ").sort_values(\"counts\", ascending=False)\n",
    "\n",
    "word_counts.head(20).plot(kind=\"bar\", figsize=(15, 5), legend=False)\n",
    "plt.title(\"Top 20 most frequently occurring words\")\n",
    "plt.ylabel(\"Count\")\n",
    "plt.xticks(rotation=45)\n",
    "plt.show()"
   ]
  },
  {
   "cell_type": "markdown",
   "id": "ea12dc8d-3865-49be-87dd-5c7730358fed",
   "metadata": {},
   "source": [
    "Unsuprisingly the most common tokens are words like 'the', 'of', and 'and.'\n",
    "These common words are known as **stopwords** and are not really useful in understanding of the text. Fortunately, there is a quick solve for this."
   ]
  },
  {
   "cell_type": "markdown",
   "id": "ccac886c-137f-4627-bdd3-5bfec5bd1b33",
   "metadata": {},
   "source": [
    "#### Stopwords"
   ]
  },
  {
   "cell_type": "markdown",
   "id": "1c98929a-3d4c-4222-82ea-b8e693182579",
   "metadata": {},
   "source": [
    "Our goal is to remove very frequent words that do not have a lot of extra content or enrich our understanding of the text. These could be articles ('the'), prepositions ('ago'), pronouns ('her'), conjunctions ('or'), and simple verbs like 'be' and 'have'. These words are categorized as **stop words** and a common text processing step is to remove them completely. \n",
    "\n",
    "We will now use the same `CountVectorizer()` function, but add in an argument which takes away common stop words. You can also provide your own stop word collection as a list."
   ]
  },
  {
   "cell_type": "code",
   "execution_count": 62,
   "id": "832281aa-5385-4118-b023-189e2d759349",
   "metadata": {},
   "outputs": [
    {
     "data": {
      "text/plain": [
       "(5714, 12257)"
      ]
     },
     "execution_count": 62,
     "metadata": {},
     "output_type": "execute_result"
    }
   ],
   "source": [
    "bagofwords = CountVectorizer(stop_words=\"english\")\n",
    "bagofwords.fit(X_train)\n",
    "\n",
    "X_train_transformed = bagofwords.transform(X_train) \n",
    "X_test_transformed = bagofwords.transform(X_test) \n",
    "\n",
    "X_train_transformed.shape"
   ]
  },
  {
   "cell_type": "markdown",
   "id": "31815974-e636-4df2-b564-c9682eac9a26",
   "metadata": {},
   "source": [
    "We have reduces the number of features from 12530 to 12257. What are the most common words now?"
   ]
  },
  {
   "cell_type": "code",
   "execution_count": 63,
   "id": "16cec56d-057e-4d84-8e52-6025b04932df",
   "metadata": {},
   "outputs": [
    {
     "data": {
      "image/png": "[encoded data removed]",
      "text/plain": [
       "<Figure size 1500x500 with 1 Axes>"
      ]
     },
     "metadata": {},
     "output_type": "display_data"
    }
   ],
   "source": [
    "word_counts = pd.DataFrame(\n",
    "    {\"counts\": X_train_transformed.toarray().sum(axis=0)},\n",
    "    index=bagofwords.get_feature_names()\n",
    ").sort_values(\"counts\", ascending=False)\n",
    "\n",
    "word_counts.head(20).plot(kind=\"bar\", figsize=(15, 5), legend=False)\n",
    "plt.title(\"Top 20 most frequently occurring words\")\n",
    "plt.ylabel(\"Count\")\n",
    "plt.xticks(rotation=45)\n",
    "plt.show()"
   ]
  },
  {
   "cell_type": "markdown",
   "id": "5fd1fbdb-6406-4fd0-8648-b358d91eccf5",
   "metadata": {},
   "source": [
    "### Fitting a classifier"
   ]
  },
  {
   "cell_type": "markdown",
   "id": "4f03509d-b5e5-4cfe-a6bf-308720d56070",
   "metadata": {},
   "source": [
    "Next, let's fit a model - remember we have not done anything super complicated, just counted each word. For now we will use a Logistic Regression model to predict if a review is positive or negative."
   ]
  },
  {
   "cell_type": "code",
   "execution_count": 67,
   "id": "810413a2-f3db-47f6-aa9b-0339621ce0bd",
   "metadata": {},
   "outputs": [
    {
     "name": "stdout",
     "output_type": "stream",
     "text": [
      "Train score: 0.8412670633531677\n",
      "Test score: 0.7072824156305506\n"
     ]
    }
   ],
   "source": [
    "# Fitting a model\n",
    "logreg = LogisticRegression(C = 0.1)\n",
    "logreg.fit(X_train_transformed, y_train)\n",
    "\n",
    "# Training and test score\n",
    "print(f\"Train score: {logreg.score(X_train_transformed, y_train)}\")\n",
    "print(f\"Test score: {logreg.score(X_test_transformed, y_test)}\")"
   ]
  },
  {
   "cell_type": "markdown",
   "id": "d63dd545-785f-4512-a2e8-a4ad8732eae0",
   "metadata": {},
   "source": [
    "Not bad for a binary classification problem, although we definitely see some overfitting. Keep in mind that by random guessing we would have gotten slightly over 50% correctly (since there are more \"bad\" reviews than \"good\" ones), so we are doing better than just randomly guessing. So our model has learned something!"
   ]
  },
  {
   "cell_type": "markdown",
   "id": "227ac905-12ba-49d2-87d2-45a96d15859c",
   "metadata": {
    "tags": []
   },
   "source": [
    "### Something to always consider: Stratifying your data\n",
    "\n",
    "This is important to make sure the distribution of your data between the train and test set is similar. This is especially important when you deal with unbalanced classes "
   ]
  },
  {
   "cell_type": "code",
   "execution_count": 183,
   "id": "a8a80f4b-cf4f-46a1-8d62-9ed669f81ead",
   "metadata": {},
   "outputs": [
    {
     "name": "stdout",
     "output_type": "stream",
     "text": [
      "% of bad reviews in training set: 57.96289814490725\n",
      "% of good reviews in training set: 42.03710185509276\n",
      "\n",
      "% of bad reviews in test set: 57.37122557726465\n",
      "% of good reviews in test set: 42.62877442273535\n"
     ]
    }
   ],
   "source": [
    "print(\"% of bad reviews in training set:\", y_train.value_counts()[0]/len(y_train) * 100)\n",
    "print(\"% of good reviews in training set:\", y_train.value_counts()[1]/len(y_train) * 100)\n",
    "\n",
    "print(\"\\n% of bad reviews in test set:\", y_test.value_counts()[0]/len(y_test) * 100)\n",
    "print(\"% of good reviews in test set:\", y_test.value_counts()[1]/len(y_test) * 100)"
   ]
  },
  {
   "cell_type": "code",
   "execution_count": null,
   "id": "d20b3b9e-3872-4d83-ab5a-fe3b9d736c9f",
   "metadata": {},
   "outputs": [],
   "source": [
    "X_train1, X_test1, y_train1, y_test1 = train_test_split(X, y, test_size=0.33, random_state=42, stratify=y)"
   ]
  },
  {
   "cell_type": "code",
   "execution_count": 186,
   "id": "79215233-926a-444b-9c57-aa3f8b8c271a",
   "metadata": {},
   "outputs": [
    {
     "name": "stdout",
     "output_type": "stream",
     "text": [
      "% of bad reviews in training set (after stratifying): 57.77038851942598\n",
      "% of good reviews in training set (after stratifying): 42.22961148057403\n",
      "\n",
      "% of bad reviews in test set (after stratifying): 57.761989342806395\n",
      "% of good reviews in test set (after stratifying): 42.238010657193605\n"
     ]
    }
   ],
   "source": [
    "print(\"% of bad reviews in training set (after stratifying):\", y_train1.value_counts()[0]/len(y_train1) * 100)\n",
    "print(\"% of good reviews in training set (after stratifying):\", y_train1.value_counts()[1]/len(y_train1) * 100)\n",
    "\n",
    "print(\"\\n% of bad reviews in test set (after stratifying):\", y_test1.value_counts()[0]/len(y_test1) * 100)\n",
    "print(\"% of good reviews in test set (after stratifying):\", y_test1.value_counts()[1]/len(y_test1) * 100)"
   ]
  },
  {
   "cell_type": "code",
   "execution_count": 187,
   "id": "4cec4339-28b4-4602-ac9d-3f6382e6c139",
   "metadata": {},
   "outputs": [
    {
     "name": "stdout",
     "output_type": "stream",
     "text": [
      "Train score: 0.8461673083654183\n",
      "Test score: 0.7197158081705151\n"
     ]
    }
   ],
   "source": [
    "## After stratifying\n",
    "bagofwords = CountVectorizer(stop_words=\"english\")\n",
    "bagofwords.fit(X_train1)\n",
    "\n",
    "X_train_transformed1 = bagofwords.transform(X_train1) \n",
    "X_test_transformed1 = bagofwords.transform(X_test1) \n",
    "\n",
    "# Fitting a model\n",
    "logreg1 = LogisticRegression(C = 0.1)\n",
    "logreg1.fit(X_train_transformed1, y_train1)\n",
    "\n",
    "# Training and test score\n",
    "print(f\"Train score: {logreg1.score(X_train_transformed1, y_train1)}\")\n",
    "print(f\"Test score: {logreg1.score(X_test_transformed1, y_test1)}\")"
   ]
  },
  {
   "cell_type": "markdown",
   "id": "8dd25e52-044b-49ae-8d6c-453e084c3c17",
   "metadata": {
    "tags": []
   },
   "source": [
    "### Let's look at the coefficients of our model:"
   ]
  },
  {
   "cell_type": "code",
   "execution_count": 68,
   "id": "e17e3eac-d5f0-4fdb-a941-90fd56bca48e",
   "metadata": {},
   "outputs": [
    {
     "data": {
      "image/png": "[encoded data removed]",
      "text/plain": [
       "<Figure size 1500x500 with 1 Axes>"
      ]
     },
     "metadata": {},
     "output_type": "display_data"
    }
   ],
   "source": [
    "word_counts = pd.DataFrame(\n",
    "    {\"coefficients\": logreg.coef_[0]},\n",
    "    index=bagofwords.get_feature_names()\n",
    ").sort_values(\"coefficients\", ascending=False)\n",
    "\n",
    "word_counts.head(20).plot(kind=\"bar\", figsize=(15, 5), legend=False)\n",
    "plt.title(\"The 20 highest model coefficients indicating positive sentiment\")\n",
    "plt.ylabel(\"Coefficients\")\n",
    "plt.xticks(rotation=45)\n",
    "plt.show()"
   ]
  },
  {
   "cell_type": "code",
   "execution_count": 77,
   "id": "5eabce49-8d0c-4d72-826f-df2c67cd3e11",
   "metadata": {},
   "outputs": [
    {
     "data": {
      "image/png": "[encoded data removed]",
      "text/plain": [
       "<Figure size 1500x500 with 1 Axes>"
      ]
     },
     "metadata": {},
     "output_type": "display_data"
    }
   ],
   "source": [
    "word_counts.sort_values(\"coefficients\", ascending=True).head(20).plot(kind=\"bar\", figsize=(15, 5), legend=False)\n",
    "plt.title(\"The 20 lowest model coefficients indicating negative sentiment\")\n",
    "plt.ylabel(\"Coefficients\")\n",
    "plt.xticks(rotation=45)\n",
    "plt.show()"
   ]
  },
  {
   "cell_type": "markdown",
   "id": "bfa8cf73-a209-48c9-b45b-1cc711492c8b",
   "metadata": {
    "jp-MarkdownHeadingCollapsed": true,
    "tags": []
   },
   "source": [
    "---\n",
    "\n",
    "#### Exercise 2\n",
    "\n",
    "Fit a Logistic Regression, KNN and a decision tree model. How do they compare in terms of model performance? \n",
    "\n",
    "---"
   ]
  },
  {
   "cell_type": "code",
   "execution_count": 78,
   "id": "645e8932-5ff0-4573-82f7-91b9529b45d6",
   "metadata": {},
   "outputs": [],
   "source": [
    "from sklearn.linear_model import LogisticRegression\n",
    "from sklearn.neighbors import KNeighborsClassifier\n",
    "from sklearn.tree import DecisionTreeClassifier"
   ]
  },
  {
   "cell_type": "code",
   "execution_count": 79,
   "id": "8baf6baf-0cf1-4984-abc2-a27a2f9a0a9a",
   "metadata": {},
   "outputs": [
    {
     "data": {
      "text/plain": [
       "DecisionTreeClassifier(max_depth=10)"
      ]
     },
     "execution_count": 79,
     "metadata": {},
     "output_type": "execute_result"
    }
   ],
   "source": [
    "# Random seed for reproducibility\n",
    "np.random.seed(123)\n",
    "\n",
    "# Instantiate models\n",
    "logreg = LogisticRegression(C = 1.0)\n",
    "knn = KNeighborsClassifier()\n",
    "dt = DecisionTreeClassifier(max_depth=10)\n",
    "\n",
    "# Fit models\n",
    "logreg.fit(X_train_transformed, y_train)\n",
    "knn.fit(X_train_transformed, y_train)\n",
    "dt.fit(X_train_transformed, y_train)"
   ]
  },
  {
   "cell_type": "code",
   "execution_count": 80,
   "id": "57fddaf3-333f-4bcf-a579-91e4cc09dec4",
   "metadata": {},
   "outputs": [
    {
     "name": "stdout",
     "output_type": "stream",
     "text": [
      "Log Reg train: 0.9660483024151207 Log Reg test:0.7364120781527531\n",
      "KNN train: 0.708260413020651 KNN test:0.5658969804618117\n",
      "DT train: 0.6335316765838291 DT test:0.5985790408525755\n"
     ]
    }
   ],
   "source": [
    "# Score Models\n",
    "print(f'Log Reg train: {logreg.score(X_train_transformed, y_train)} Log Reg test:{logreg.score(X_test_transformed, y_test)}')\n",
    "print(f'KNN train: {knn.score(X_train_transformed, y_train)} KNN test:{knn.score(X_test_transformed, y_test)}')\n",
    "print(f'DT train: {dt.score(X_train_transformed, y_train)} DT test:{dt.score(X_test_transformed, y_test)}')"
   ]
  },
  {
   "cell_type": "markdown",
   "id": "5b8cc90c-7e3b-4cbb-80f6-c1a8d3d148e1",
   "metadata": {
    "tags": []
   },
   "source": [
    "### Removing Infrequent Words\n",
    "\n",
    "We saw that our document-term matrix had a huge number of columns. `CountVectorizer` allows us to remedy this by removing infrequent words which occur in a small number of documents only. This can be useful for two reasons:\n",
    "\n",
    "1. If someone wrote a certain actor is \"an utter failure\" and their review is bad, it makes sense. But is that really a trend our models should pay attention to?\n",
    "2. There may be a large group of words that each appear in only in a few documents. Ignoring those words reduces our memory and run-time consumption even more, allowing us to do faster processing on laptops and desktops.\n",
    "\n",
    "In our vectorizer, we can \n",
    "\n",
    "* add a `min_df` parameter to exclude any token that occurs in less than `min_df` documents (i.e, remove terms that appear too infrequently)\n",
    "* add a `max_df` parameter to exclude any token that occurs in more than `max_df` documents, (i.e, remove terms that appear too frequently) and\n",
    "* add a `max_features` parameter to restrict the vectorization to the `max_features`-many most frequent tokens (hence explicitly limiting our column count to `max_features`)."
   ]
  },
  {
   "cell_type": "code",
   "execution_count": 82,
   "id": "801df189-0cb7-4830-87de-b1ebdfeb49d2",
   "metadata": {},
   "outputs": [
    {
     "data": {
      "text/plain": [
       "(5714, 2197)"
      ]
     },
     "execution_count": 82,
     "metadata": {},
     "output_type": "execute_result"
    }
   ],
   "source": [
    "bagofwords = CountVectorizer(stop_words=\"english\", min_df=5) #ignore terms that appear in less than 5 documents\n",
    "bagofwords.fit(X_train)\n",
    "\n",
    "X_train_transformed = bagofwords.transform(X_train)\n",
    "\n",
    "X_train_transformed.shape"
   ]
  },
  {
   "cell_type": "markdown",
   "id": "3d43fe96-3b97-4777-888f-9f9ea2090b28",
   "metadata": {},
   "source": [
    "We have dropped the number of words down to 2197! That is a much bigger reduction. You can check that the `max_df` parameter does not make a huge difference here, especially after we removed the stop words already. The `max_features` parameter is still useful though:"
   ]
  },
  {
   "cell_type": "code",
   "execution_count": 85,
   "id": "19ae9b1d-c6b8-4e20-be4d-7ff57435636f",
   "metadata": {},
   "outputs": [
    {
     "data": {
      "text/plain": [
       "(5714, 1000)"
      ]
     },
     "execution_count": 85,
     "metadata": {},
     "output_type": "execute_result"
    }
   ],
   "source": [
    "bagofwords = CountVectorizer(stop_words=\"english\",\n",
    "                             min_df=5,\n",
    "                             max_features=1000)\n",
    "bagofwords.fit(X_train)\n",
    "\n",
    "X_train_transformed = bagofwords.transform(X_train)\n",
    "\n",
    "X_train_transformed.shape"
   ]
  },
  {
   "cell_type": "markdown",
   "id": "9f6caeb1-5edb-473d-a560-71a9657d2f5a",
   "metadata": {},
   "source": [
    "These are huge improvements that could help us build better and faster models, especially when high dimensionality is a problem."
   ]
  },
  {
   "cell_type": "markdown",
   "id": "4e02ea26-5b9e-462b-a228-979d9445ae40",
   "metadata": {
    "tags": []
   },
   "source": [
    "### Stemming and Lemmatization\n",
    "\n",
    "In language, we often use variations on the same word or meaning: run, runs, running, ran, jogged, jogging, jogs......  These examples are all forms of the word 'run' in different tenses. We need to make the decision on whether the added context provided by the tenses is worth the additional complexity for our model. When working with more simple vectorization techniques and standard models such as logistic regression, the answer is often no.\n",
    "\n",
    "You might have noticed during our vectorizing, we removed the punctuation and capitals by default - this is part of the normalization process build into `CountVectorizer`. There are two ways to find a common root form of words:\n",
    "\n",
    "- **stemming**: stemming is a heuristic (rules-based) way of cutting off 's', 'ing' and other endings to reduce words to a basic root form. There are various strategies for carrying this out and these are obviously language specific. Also, note that stemming does not guarantee that you end up with a meaningful word (laziness -> lazi).\n",
    "\n",
    "- **lemmatization**: is a lexicographic look-up, where each word is mapped to a fixed, meaningful common root form (laziness -> lazy).  While its beneficial to map back to a meaningful common root form, lemmatization is a lot more complex. For example, the root form of a word can actually change depending on whether it is used as a verb or a noun.\n",
    "    * A good example of this is the word *saw*:\n",
    "        * *saw* (verb) -> *see* \n",
    "        * *saw* (noun) -> *saw*\n",
    "        \n",
    "|  Word  | Stemming (Rule based) | Lemmatization (Dictionary based) |\n",
    "|----------|--------------|----|\n",
    "|information | inform  |  information |\n",
    "|informative | inform  |  informative | \n",
    "|computer    | comput  |  computer    |\n",
    "|laziness    | lazi    |  lazy    |  \n",
    "        \n",
    "\n",
    "We will look into stemming with the Porter Stemmer from [nltk](http://www.nltk.org/howto/stem.html), one of the most widely used NLP packages. "
   ]
  },
  {
   "cell_type": "code",
   "execution_count": 87,
   "id": "97828880-c0b8-4eb4-864b-76a496e59340",
   "metadata": {},
   "outputs": [
    {
     "data": {
      "text/plain": [
       "['run', 'run', 'run', 'ran', 'jog', 'jog', 'jog']"
      ]
     },
     "execution_count": 87,
     "metadata": {},
     "output_type": "execute_result"
    }
   ],
   "source": [
    "import nltk\n",
    "\n",
    "# Let's test it out\n",
    "stemmer = nltk.stem.PorterStemmer()\n",
    "\n",
    "[stemmer.stem(i) for i in ['run', 'runs', 'running', 'ran', 'jogged', 'jogging', 'jogs']]"
   ]
  },
  {
   "cell_type": "markdown",
   "id": "7220af66-4308-4fe7-a654-b404b9f8cfa2",
   "metadata": {},
   "source": [
    "We can see exactly what the `PorterStemmer()` function above. Let's now apply it to our data. `CountVectorizer`, has a tokenizer parameter where we can pass in our own function to tokenize and process the text"
   ]
  },
  {
   "cell_type": "code",
   "execution_count": 88,
   "id": "e6b036bb-f744-4269-a87c-921acfea6374",
   "metadata": {},
   "outputs": [],
   "source": [
    "bagofwords = CountVectorizer(min_df=5, \n",
    "                             tokenizer = lambda x: [stemmer.stem(i) for i in x.split(' ')], \n",
    "                             stop_words='english')\n",
    "bagofwords.fit(X_train)\n",
    "\n",
    "X_train_transformed = bagofwords.transform(X_train)\n",
    "X_test_transformed = bagofwords.transform(X_test)"
   ]
  },
  {
   "cell_type": "markdown",
   "id": "f2179459-6b9a-4684-9462-9595f01c86e0",
   "metadata": {},
   "source": [
    "In the above bag-of-words model, we are actually changing the tokenizer itself. Rather than having the tokens be the unique words, we are adding stemming in the process. "
   ]
  },
  {
   "cell_type": "code",
   "execution_count": 91,
   "id": "0341861d-4115-4c30-9508-43f269b1f5f0",
   "metadata": {},
   "outputs": [
    {
     "data": {
      "image/png": "[encoded data removed]",
      "text/plain": [
       "<Figure size 1500x500 with 1 Axes>"
      ]
     },
     "metadata": {},
     "output_type": "display_data"
    }
   ],
   "source": [
    "word_counts = pd.DataFrame(\n",
    "    {\"counts\": X_train_transformed.toarray().sum(axis=0)},\n",
    "    index=bagofwords.get_feature_names()\n",
    ").sort_values(\"counts\", ascending=False)\n",
    "\n",
    "word_counts.head(20).plot(kind=\"bar\", figsize=(15, 5), legend=False)\n",
    "plt.title(\"Top 20 most frequently occurring words\")\n",
    "plt.ylabel(\"Count\")\n",
    "plt.xticks(rotation=45)\n",
    "plt.show()"
   ]
  },
  {
   "cell_type": "markdown",
   "id": "72876b7b-6ad2-4f12-beee-ad2a88619d7e",
   "metadata": {},
   "source": [
    "Notice this time we got some strange results such as punctuation marks, and some other unclear words. This is because our custom tokenizer lacked many features that the built-in one had, we only split the words into tokens and then stemmed them. "
   ]
  },
  {
   "cell_type": "markdown",
   "id": "38c71443-5c2a-4b81-b29c-854b3e496906",
   "metadata": {},
   "source": [
    "### Custom Tokenizers "
   ]
  },
  {
   "cell_type": "markdown",
   "id": "4da3273c-af7a-4e86-94d1-a88b5b7a86df",
   "metadata": {},
   "source": [
    "By default, Sklearn vectorizers will perform basic tokenization for us including removal of punctuation (as best as it can) and lowercasing all text. However we can define our own function to do this and pass this in as an argument to the vectorizer. This allows us to incorporate more advanced techniques such as stemming or lemmatization or other NLP techniques\n",
    "\n",
    "Lets go ahead and define our own function that will deal with punctuation prior to stemming. \n"
   ]
  },
  {
   "cell_type": "code",
   "execution_count": 92,
   "id": "c3b686da-c91f-456c-ab0e-1234fc7b5300",
   "metadata": {},
   "outputs": [
    {
     "name": "stdout",
     "output_type": "stream",
     "text": [
      "!\"#$%&'()*+,-./:;<=>?@[\\]^_`{|}~\n"
     ]
    }
   ],
   "source": [
    "# the python string package has a helpful punctuation list\n",
    "import string\n",
    "print(string.punctuation)"
   ]
  },
  {
   "cell_type": "markdown",
   "id": "0bd04294-6cc2-4fd3-9f7d-a73f41d400f5",
   "metadata": {},
   "source": [
    "Next, we upgrade our tokenizer to remove punctuation marks before stemming. Similarly, we could remove numerical values and take any other text cleaning steps such as bringing short-hand words like *be4* or *4ever* into their proper form."
   ]
  },
  {
   "cell_type": "code",
   "execution_count": 93,
   "id": "43f8cae3-3864-4598-b077-a3a23f59b413",
   "metadata": {},
   "outputs": [
    {
     "name": "stdout",
     "output_type": "stream",
     "text": [
      "['the', 'quick', 'brown', 'fox', 'jump', 'over', 'the', 'lazi', 'dog']\n"
     ]
    }
   ],
   "source": [
    "# a dummy sentence used for checking our process\n",
    "sentence = \"The quick brown fox, jumped over the lazy dog!!\"\n",
    "\n",
    "# after splitting the text based on spaces\n",
    "split_sentence = sentence.split(' ')\n",
    "\n",
    "# we stem and remove punctuation\n",
    "tokenized_sentence = []\n",
    "for word in split_sentence:\n",
    "    for punctuation_mark in string.punctuation:\n",
    "        word = word.replace(punctuation_mark, '')\n",
    "    stemmed_word = stemmer.stem(word)\n",
    "    tokenized_sentence.append(stemmed_word)\n",
    "    \n",
    "print(tokenized_sentence)"
   ]
  },
  {
   "cell_type": "markdown",
   "id": "0692dd2f-2c7d-4f21-98c7-b933f82f3489",
   "metadata": {},
   "source": [
    "Our final tokenizer will also remove stopwords."
   ]
  },
  {
   "cell_type": "code",
   "execution_count": 98,
   "id": "6eff4036-5a2e-4f01-9ebe-018c94d1d318",
   "metadata": {},
   "outputs": [
    {
     "name": "stderr",
     "output_type": "stream",
     "text": [
      "[nltk_data] Downloading package stopwords to\n",
      "[nltk_data]     /home/jupyter/nltk_data...\n",
      "[nltk_data]   Package stopwords is already up-to-date!\n"
     ]
    }
   ],
   "source": [
    "%%time\n",
    "# import the nltk stopwords\n",
    "nltk.download('stopwords')\n",
    "from nltk.corpus import stopwords \n",
    "\n",
    "ENGLISH_STOP_WORDS = stopwords.words('english')\n",
    "\n",
    "def my_tokenizer(sentence):\n",
    "    # remove punctuation and set to lower case\n",
    "    for punctuation_mark in string.punctuation:\n",
    "        sentence = sentence.replace(punctuation_mark,'').lower()\n",
    "\n",
    "    # split sentence into words\n",
    "    listofwords = sentence.split(' ')\n",
    "    listofstemmed_words = []\n",
    "    \n",
    "    # remove stopwords and any tokens that are just empty strings\n",
    "    for word in listofwords:\n",
    "        if (not word in ENGLISH_STOP_WORDS) and (word!=''):\n",
    "            # Stem words\n",
    "            stemmed_word = stemmer.stem(word)\n",
    "            listofstemmed_words.append(stemmed_word)\n",
    "\n",
    "    return listofstemmed_words"
   ]
  },
  {
   "cell_type": "code",
   "execution_count": 99,
   "id": "f03e2e9e-59e8-4cec-b901-f74f11824147",
   "metadata": {},
   "outputs": [
    {
     "data": {
      "text/plain": [
       "['quick', 'brown', 'fox', 'jump', 'lazi', 'dog']"
      ]
     },
     "execution_count": 99,
     "metadata": {},
     "output_type": "execute_result"
    }
   ],
   "source": [
    "# checking tokenizer on simple sentence from above\n",
    "my_tokenizer(sentence)"
   ]
  },
  {
   "cell_type": "code",
   "execution_count": 100,
   "id": "c54a9c34-48c4-4938-af6c-f1ef6bf4f5b8",
   "metadata": {},
   "outputs": [
    {
     "data": {
      "text/plain": [
       "(5714, 2125)"
      ]
     },
     "execution_count": 100,
     "metadata": {},
     "output_type": "execute_result"
    }
   ],
   "source": [
    "bagofwords = CountVectorizer(min_df=5, \n",
    "                             tokenizer=my_tokenizer)\n",
    "bagofwords.fit(X_train)\n",
    "\n",
    "X_train_transformed = bagofwords.transform(X_train)\n",
    "X_test_transformed = bagofwords.transform(X_test)\n",
    "\n",
    "X_train_transformed.shape"
   ]
  },
  {
   "cell_type": "markdown",
   "id": "acf13179-eaff-4e40-a4cf-a4bce3a4b026",
   "metadata": {},
   "source": [
    "We have 2125 tokens now, but notice that the cell took a few seconds to run. So even a slightly more advanced bag-of-words model is already taking a bit more time to run."
   ]
  },
  {
   "cell_type": "code",
   "execution_count": 101,
   "id": "a45a2dec-3f12-4875-8406-054d844c07c6",
   "metadata": {},
   "outputs": [
    {
     "data": {
      "image/png": "[encoded data removed]",
      "text/plain": [
       "<Figure size 1500x500 with 1 Axes>"
      ]
     },
     "metadata": {},
     "output_type": "display_data"
    }
   ],
   "source": [
    "word_counts = pd.DataFrame(\n",
    "    {\"counts\": X_train_transformed.toarray().sum(axis=0)},\n",
    "    index=bagofwords.get_feature_names()\n",
    ").sort_values(\"counts\", ascending=False)\n",
    "\n",
    "word_counts.head(20).plot(kind=\"bar\", figsize=(15, 5), legend=False)\n",
    "plt.title(\"Top 20 most frequently occurring words\")\n",
    "plt.ylabel(\"Count\")\n",
    "plt.xticks(rotation=45)\n",
    "plt.show()"
   ]
  },
  {
   "cell_type": "markdown",
   "id": "7328523a-a649-4076-9661-1fede8c71a56",
   "metadata": {},
   "source": [
    "Our most common words might not make a lot of sense and some are cut off, but at least they are not stop words or punctuation. \n",
    "\n",
    "Let's see how our model will do. "
   ]
  },
  {
   "cell_type": "code",
   "execution_count": 102,
   "id": "87884e30-3632-46bc-aa5b-9434b82f176e",
   "metadata": {},
   "outputs": [
    {
     "name": "stdout",
     "output_type": "stream",
     "text": [
      "Train score: 0.8036401820091005\n",
      "Test score: 0.7200710479573712\n"
     ]
    }
   ],
   "source": [
    "# Random seed for reproducibility\n",
    "np.random.seed(123)\n",
    "\n",
    "# Fitting a model\n",
    "logreg = LogisticRegression(C = 0.1)\n",
    "logreg.fit(X_train_transformed, y_train)\n",
    "\n",
    "# Training and test score\n",
    "print(f\"Train score: {logreg.score(X_train_transformed, y_train)}\")\n",
    "print(f\"Test score: {logreg.score(X_test_transformed, y_test)}\")"
   ]
  },
  {
   "cell_type": "markdown",
   "id": "9db308e7-b6d5-4374-91d7-a7c0fc72aeb8",
   "metadata": {},
   "source": [
    "Not bad! We get clean tokens, much less features than before and the accuracy on the test set has actually improved ~2%."
   ]
  },
  {
   "cell_type": "markdown",
   "id": "c9caf981-dc75-4b18-a7cf-09ba9313ac35",
   "metadata": {},
   "source": [
    "### Adding N-grams to the vocabulary\n",
    "\n",
    "As well as single words, we can start to put in multiple combinations of words into the bag. This will explode out feature space but should lead to better fitting models: \"not great\" is a lot more informative than \"not\" and \"great\" separately. Adding n-grams also helps to preserve some of the sequential nature of text data that is mostly lost in the bag-of-words model.\n",
    "\n",
    "Two-grams in the following toy sentence:\n",
    "\n",
    "`the turtle is not fast`\n",
    "\n",
    "would be: \n",
    "\n",
    "`the turtle`\n",
    "\n",
    "`turtle is`\n",
    "\n",
    "`is not`\n",
    "\n",
    "`not fast`\n",
    "\n",
    "\n",
    "These n-grams usually get added as tokens to our document-term matrix. So the tokens for the above sentence (without other processing) would be:\n",
    "\n",
    "`the` `turtle` `is` `not` `fast`\n",
    "`the turtle`\n",
    "`turtle is`\n",
    "`is not`\n",
    "`not fast`. \n",
    "\n"
   ]
  },
  {
   "cell_type": "markdown",
   "id": "7ecdc769-38af-4201-8632-195050d632d7",
   "metadata": {},
   "source": [
    "To do this in Python, we can pass an argument `ngram_range` into our vectorizer:"
   ]
  },
  {
   "cell_type": "code",
   "execution_count": 104,
   "id": "45db37e1-8aac-4739-8979-0aab557111d8",
   "metadata": {},
   "outputs": [
    {
     "data": {
      "text/plain": [
       "(5714, 2362)"
      ]
     },
     "execution_count": 104,
     "metadata": {},
     "output_type": "execute_result"
    }
   ],
   "source": [
    "bagofwords = CountVectorizer(min_df=5,\n",
    "                             tokenizer=my_tokenizer,\n",
    "                             ngram_range=(1, 3))\n",
    "bagofwords.fit(X_train)\n",
    "\n",
    "X_train_transformed = bagofwords.transform(X_train)\n",
    "X_test_transformed = bagofwords.transform(X_test)\n",
    "\n",
    "X_train_transformed.shape"
   ]
  },
  {
   "cell_type": "markdown",
   "id": "5f4cd3bb-8783-432b-9160-11de5209d6cd",
   "metadata": {},
   "source": [
    "We have 2362 tokens now, (it was previously 2125), so we ended up adding some tokens, hopefully they are the 2 or 3 grams. \n",
    "\n",
    "You will try to find all of the n-grams in the exercise below. "
   ]
  },
  {
   "cell_type": "markdown",
   "id": "5da8d45c-ffeb-4058-84d1-21357d400f4c",
   "metadata": {
    "jp-MarkdownHeadingCollapsed": true,
    "tags": []
   },
   "source": [
    "---\n",
    "\n",
    "#### Exercise 3\n",
    "\n",
    "Pull out the most frequent bigrams (2-grams) which were found by the vectorizer. Hint: they contain a space in the string.\n",
    "\n",
    "---"
   ]
  },
  {
   "cell_type": "markdown",
   "id": "e0fe2b0b-1017-4607-a907-227c82e0fd56",
   "metadata": {
    "jp-MarkdownHeadingCollapsed": true,
    "tags": []
   },
   "source": [
    "#### Solution"
   ]
  },
  {
   "cell_type": "code",
   "execution_count": 119,
   "id": "b2bf6c55-fc04-4d68-963b-9e57b6f99818",
   "metadata": {},
   "outputs": [
    {
     "data": {
      "text/html": [
       "<div>\n",
       "<style scoped>\n",
       "    .dataframe tbody tr th:only-of-type {\n",
       "        vertical-align: middle;\n",
       "    }\n",
       "\n",
       "    .dataframe tbody tr th {\n",
       "        vertical-align: top;\n",
       "    }\n",
       "\n",
       "    .dataframe thead th {\n",
       "        text-align: right;\n",
       "    }\n",
       "</style>\n",
       "<table border=\"1\" class=\"dataframe\">\n",
       "  <thead>\n",
       "    <tr style=\"text-align: right;\">\n",
       "      <th></th>\n",
       "      <th>token</th>\n",
       "      <th>counts</th>\n",
       "    </tr>\n",
       "  </thead>\n",
       "  <tbody>\n",
       "    <tr>\n",
       "      <th>0</th>\n",
       "      <td>1</td>\n",
       "      <td>5</td>\n",
       "    </tr>\n",
       "    <tr>\n",
       "      <th>1</th>\n",
       "      <td>10</td>\n",
       "      <td>7</td>\n",
       "    </tr>\n",
       "    <tr>\n",
       "      <th>2</th>\n",
       "      <td>10 minut</td>\n",
       "      <td>5</td>\n",
       "    </tr>\n",
       "    <tr>\n",
       "      <th>3</th>\n",
       "      <td>100</td>\n",
       "      <td>5</td>\n",
       "    </tr>\n",
       "    <tr>\n",
       "      <th>4</th>\n",
       "      <td>1960</td>\n",
       "      <td>5</td>\n",
       "    </tr>\n",
       "    <tr>\n",
       "      <th>5</th>\n",
       "      <td>2</td>\n",
       "      <td>10</td>\n",
       "    </tr>\n",
       "    <tr>\n",
       "      <th>6</th>\n",
       "      <td>20</td>\n",
       "      <td>10</td>\n",
       "    </tr>\n",
       "    <tr>\n",
       "      <th>7</th>\n",
       "      <td>20 year</td>\n",
       "      <td>5</td>\n",
       "    </tr>\n",
       "    <tr>\n",
       "      <th>8</th>\n",
       "      <td>2002</td>\n",
       "      <td>10</td>\n",
       "    </tr>\n",
       "    <tr>\n",
       "      <th>9</th>\n",
       "      <td>30</td>\n",
       "      <td>5</td>\n",
       "    </tr>\n",
       "  </tbody>\n",
       "</table>\n",
       "</div>"
      ],
      "text/plain": [
       "      token  counts\n",
       "0         1       5\n",
       "1        10       7\n",
       "2  10 minut       5\n",
       "3       100       5\n",
       "4      1960       5\n",
       "5         2      10\n",
       "6        20      10\n",
       "7   20 year       5\n",
       "8      2002      10\n",
       "9        30       5"
      ]
     },
     "execution_count": 119,
     "metadata": {},
     "output_type": "execute_result"
    }
   ],
   "source": [
    "words = bagofwords.get_feature_names()\n",
    "word_counts = X_train_transformed.toarray().sum(axis=0)\n",
    "count_df = pd.DataFrame({'token': words, 'counts': word_counts})\n",
    "count_df.head(10)"
   ]
  },
  {
   "cell_type": "code",
   "execution_count": 120,
   "id": "987574e6-1844-4e6b-b5d8-cedac5c3038c",
   "metadata": {},
   "outputs": [
    {
     "data": {
      "text/html": [
       "<div>\n",
       "<style scoped>\n",
       "    .dataframe tbody tr th:only-of-type {\n",
       "        vertical-align: middle;\n",
       "    }\n",
       "\n",
       "    .dataframe tbody tr th {\n",
       "        vertical-align: top;\n",
       "    }\n",
       "\n",
       "    .dataframe thead th {\n",
       "        text-align: right;\n",
       "    }\n",
       "</style>\n",
       "<table border=\"1\" class=\"dataframe\">\n",
       "  <thead>\n",
       "    <tr style=\"text-align: right;\">\n",
       "      <th></th>\n",
       "      <th>token</th>\n",
       "      <th>counts</th>\n",
       "    </tr>\n",
       "  </thead>\n",
       "  <tbody>\n",
       "    <tr>\n",
       "      <th>264</th>\n",
       "      <td>ca nt</td>\n",
       "      <td>59</td>\n",
       "    </tr>\n",
       "    <tr>\n",
       "      <th>757</th>\n",
       "      <td>feel like</td>\n",
       "      <td>49</td>\n",
       "    </tr>\n",
       "    <tr>\n",
       "      <th>1217</th>\n",
       "      <td>lrb rrb</td>\n",
       "      <td>36</td>\n",
       "    </tr>\n",
       "    <tr>\n",
       "      <th>1735</th>\n",
       "      <td>romant comedi</td>\n",
       "      <td>32</td>\n",
       "    </tr>\n",
       "    <tr>\n",
       "      <th>2310</th>\n",
       "      <td>wo nt</td>\n",
       "      <td>32</td>\n",
       "    </tr>\n",
       "    <tr>\n",
       "      <th>1538</th>\n",
       "      <td>play like</td>\n",
       "      <td>24</td>\n",
       "    </tr>\n",
       "    <tr>\n",
       "      <th>2005</th>\n",
       "      <td>subject matter</td>\n",
       "      <td>21</td>\n",
       "    </tr>\n",
       "    <tr>\n",
       "      <th>1746</th>\n",
       "      <td>run time</td>\n",
       "      <td>18</td>\n",
       "    </tr>\n",
       "    <tr>\n",
       "      <th>775</th>\n",
       "      <td>film nt</td>\n",
       "      <td>18</td>\n",
       "    </tr>\n",
       "    <tr>\n",
       "      <th>1212</th>\n",
       "      <td>love stori</td>\n",
       "      <td>18</td>\n",
       "    </tr>\n",
       "    <tr>\n",
       "      <th>1202</th>\n",
       "      <td>look like</td>\n",
       "      <td>17</td>\n",
       "    </tr>\n",
       "    <tr>\n",
       "      <th>1892</th>\n",
       "      <td>soap opera</td>\n",
       "      <td>15</td>\n",
       "    </tr>\n",
       "    <tr>\n",
       "      <th>1385</th>\n",
       "      <td>new york</td>\n",
       "      <td>14</td>\n",
       "    </tr>\n",
       "    <tr>\n",
       "      <th>774</th>\n",
       "      <td>film never</td>\n",
       "      <td>14</td>\n",
       "    </tr>\n",
       "    <tr>\n",
       "      <th>1343</th>\n",
       "      <td>movi nt</td>\n",
       "      <td>13</td>\n",
       "    </tr>\n",
       "    <tr>\n",
       "      <th>1449</th>\n",
       "      <td>one best</td>\n",
       "      <td>13</td>\n",
       "    </tr>\n",
       "    <tr>\n",
       "      <th>1928</th>\n",
       "      <td>special effect</td>\n",
       "      <td>13</td>\n",
       "    </tr>\n",
       "    <tr>\n",
       "      <th>1122</th>\n",
       "      <td>kind movi</td>\n",
       "      <td>13</td>\n",
       "    </tr>\n",
       "    <tr>\n",
       "      <th>1238</th>\n",
       "      <td>make movi</td>\n",
       "      <td>12</td>\n",
       "    </tr>\n",
       "    <tr>\n",
       "      <th>1425</th>\n",
       "      <td>nt quit</td>\n",
       "      <td>12</td>\n",
       "    </tr>\n",
       "  </tbody>\n",
       "</table>\n",
       "</div>"
      ],
      "text/plain": [
       "               token  counts\n",
       "264            ca nt      59\n",
       "757        feel like      49\n",
       "1217         lrb rrb      36\n",
       "1735   romant comedi      32\n",
       "2310           wo nt      32\n",
       "1538       play like      24\n",
       "2005  subject matter      21\n",
       "1746        run time      18\n",
       "775          film nt      18\n",
       "1212      love stori      18\n",
       "1202       look like      17\n",
       "1892      soap opera      15\n",
       "1385        new york      14\n",
       "774       film never      14\n",
       "1343         movi nt      13\n",
       "1449        one best      13\n",
       "1928  special effect      13\n",
       "1122       kind movi      13\n",
       "1238       make movi      12\n",
       "1425         nt quit      12"
      ]
     },
     "execution_count": 120,
     "metadata": {},
     "output_type": "execute_result"
    }
   ],
   "source": [
    "#filter for bigrams\n",
    "\n",
    "count_df[count_df['token'].str.split(' ').apply(len) == 2].sort_values('counts', ascending=False).head(20)"
   ]
  },
  {
   "cell_type": "markdown",
   "id": "bf969f7c-c229-4426-95c1-40bb57c4b029",
   "metadata": {
    "tags": []
   },
   "source": [
    "## TF-IDF Vectorization\n",
    "\n",
    "Using our `CountVectorizer` and `min_df`, we've only enforced that words that appear in less than 5 documents should be discarded, while all other words are kept. In essence we are saying that words that appear less frequently may not be so important.\n",
    "\n",
    "There is, however, also the argument that words that appear infrequently are VERY important. Using either \"good\" or \"bad\" might be very common, but more uncommon words like \"terrific\" or \"atrocious\" should be given more weight.  \n",
    "\n",
    "For this purpose we have the TF-IDF Vectorizer, which is composed of multiplying the following: \n",
    "\n",
    "1. **Term Frequency (TF)** - which is the number of times a given word appears in a document (review), this is the same as the content of our bag-of-words document-term matrix;\n",
    "2. **Inverse Document Frequency (IDF)** - Inverse of the number of documents (reviews) a given word appears in.\n",
    "\n",
    "TF-IDF is scored between 0 and 1. The higher the numerical weight value, the rarer the term. The smaller the weight, the more common the term. \n",
    "\n",
    "Assuming we have a collection of tokens $[t_1, t_2, t_3, ..., t_n]$, and a collection of documents $D = [d_1, d_2, d_3, ... d_m]$ the overall formula for a TF-IDF score is:\n",
    "\n",
    "$$TF(t_i, d_j) \\times IDF(t_i, D)$$\n",
    "\n",
    "Where:\n",
    "* $TF(t_i, d_j)$ is the term frequency of token $i$ in document $j$. \n",
    "* $IDF(t_i, D)$ is the inverse document frequency of term $i$ in all documents (corpus). In the simplest case it is:\n",
    "\n",
    "$$\\frac{len(D)}{len(\\{\\text{all $d_k$ such that $t_i \\in d_k$} \\})+1}$$\n",
    "\n",
    "For example:\n",
    "* When a 100-word document contains the term “Chipotle” 5 times, the TF for the word ‘Chipotle’ is TF(Chipotle) = 5/100 i.e. 0.05\n",
    "* Say the size of the corpus is 2000, and we calculate that \"Chipotle\" occurs in 700 of those document, then IDF(Chipotle) = 2000/700 = 2.86\n",
    "\n",
    "$$ \\text{TF-IDF(Chipotle)} = 0.05 \\times 2.857 = 0.143 $$\n",
    "\n",
    "* What happens if \"Chipotle\" occurs in only 200 of those document? Then IDF(Chipotle) = 2000/200 = 10\n",
    "\n",
    "$$ \\text{TF-IDF(Chipotle)} = 0.05 \\times 10 = 0.5 $$\n",
    "\n",
    "\n",
    "\n",
    "\n",
    "\n",
    "In simple words, instead of our document-term matrix containing just the count of each token, it now contains a weight. \n",
    "\n",
    "- Words that are very common across documents are going to have their count be scaled down \n",
    "- Words that are less common across documents are going to have their count be scaled up\n",
    "\n",
    "That way, when any model is trying to learn whether a word is predictive of sentiment, it will put more focus on the less common words.\n",
    "\n",
    "In `sklearn`, we can use this vectorizer with the `TfidfVectorizer` function."
   ]
  },
  {
   "cell_type": "code",
   "execution_count": 132,
   "id": "171bec25-36f4-4340-a0fa-ec49fa7c1768",
   "metadata": {},
   "outputs": [],
   "source": [
    "from sklearn.feature_extraction.text import TfidfVectorizer"
   ]
  },
  {
   "cell_type": "code",
   "execution_count": 133,
   "id": "1788c924-4bf6-4d2f-87a9-3efe45cb7a45",
   "metadata": {},
   "outputs": [
    {
     "data": {
      "text/html": [
       "<div>\n",
       "<style scoped>\n",
       "    .dataframe tbody tr th:only-of-type {\n",
       "        vertical-align: middle;\n",
       "    }\n",
       "\n",
       "    .dataframe tbody tr th {\n",
       "        vertical-align: top;\n",
       "    }\n",
       "\n",
       "    .dataframe thead th {\n",
       "        text-align: right;\n",
       "    }\n",
       "</style>\n",
       "<table border=\"1\" class=\"dataframe\">\n",
       "  <thead>\n",
       "    <tr style=\"text-align: right;\">\n",
       "      <th></th>\n",
       "      <th>Review</th>\n",
       "    </tr>\n",
       "  </thead>\n",
       "  <tbody>\n",
       "    <tr>\n",
       "      <th>0</th>\n",
       "      <td>This was absolutely the best movie I have ever...</td>\n",
       "    </tr>\n",
       "    <tr>\n",
       "      <th>1</th>\n",
       "      <td>This was absolutely not the best movie I have ...</td>\n",
       "    </tr>\n",
       "    <tr>\n",
       "      <th>2</th>\n",
       "      <td>This was absolutely the best movie I have ever...</td>\n",
       "    </tr>\n",
       "  </tbody>\n",
       "</table>\n",
       "</div>"
      ],
      "text/plain": [
       "                                              Review\n",
       "0  This was absolutely the best movie I have ever...\n",
       "1  This was absolutely not the best movie I have ...\n",
       "2  This was absolutely the best movie I have ever..."
      ]
     },
     "metadata": {},
     "output_type": "display_data"
    }
   ],
   "source": [
    "# taking a toy data set\n",
    "review1 = 'This was absolutely the best movie I have ever seen, not sure it can ever be beaten'\n",
    "review2 = 'This was absolutely not the best movie I have ever seen, sure it can be beaten'\n",
    "review3 = 'This was absolutely the best movie I have ever seen. period!'\n",
    "\n",
    "small_reviews = pd.DataFrame({\"Review\": [review1, review2, review3]})\n",
    "display(small_reviews)"
   ]
  },
  {
   "cell_type": "code",
   "execution_count": 134,
   "id": "d0bb410c-d6bd-4169-bcb0-1e09af69c82a",
   "metadata": {},
   "outputs": [
    {
     "data": {
      "text/html": [
       "<div>\n",
       "<style scoped>\n",
       "    .dataframe tbody tr th:only-of-type {\n",
       "        vertical-align: middle;\n",
       "    }\n",
       "\n",
       "    .dataframe tbody tr th {\n",
       "        vertical-align: top;\n",
       "    }\n",
       "\n",
       "    .dataframe thead th {\n",
       "        text-align: right;\n",
       "    }\n",
       "</style>\n",
       "<table border=\"1\" class=\"dataframe\">\n",
       "  <thead>\n",
       "    <tr style=\"text-align: right;\">\n",
       "      <th></th>\n",
       "      <th>absolutely</th>\n",
       "      <th>be</th>\n",
       "      <th>beaten</th>\n",
       "      <th>best</th>\n",
       "      <th>can</th>\n",
       "      <th>ever</th>\n",
       "      <th>have</th>\n",
       "      <th>it</th>\n",
       "      <th>movie</th>\n",
       "      <th>not</th>\n",
       "      <th>period</th>\n",
       "      <th>seen</th>\n",
       "      <th>sure</th>\n",
       "      <th>the</th>\n",
       "      <th>this</th>\n",
       "      <th>was</th>\n",
       "    </tr>\n",
       "  </thead>\n",
       "  <tbody>\n",
       "    <tr>\n",
       "      <th>0</th>\n",
       "      <td>1</td>\n",
       "      <td>1</td>\n",
       "      <td>1</td>\n",
       "      <td>1</td>\n",
       "      <td>1</td>\n",
       "      <td>2</td>\n",
       "      <td>1</td>\n",
       "      <td>1</td>\n",
       "      <td>1</td>\n",
       "      <td>1</td>\n",
       "      <td>0</td>\n",
       "      <td>1</td>\n",
       "      <td>1</td>\n",
       "      <td>1</td>\n",
       "      <td>1</td>\n",
       "      <td>1</td>\n",
       "    </tr>\n",
       "    <tr>\n",
       "      <th>1</th>\n",
       "      <td>1</td>\n",
       "      <td>1</td>\n",
       "      <td>1</td>\n",
       "      <td>1</td>\n",
       "      <td>1</td>\n",
       "      <td>1</td>\n",
       "      <td>1</td>\n",
       "      <td>1</td>\n",
       "      <td>1</td>\n",
       "      <td>1</td>\n",
       "      <td>0</td>\n",
       "      <td>1</td>\n",
       "      <td>1</td>\n",
       "      <td>1</td>\n",
       "      <td>1</td>\n",
       "      <td>1</td>\n",
       "    </tr>\n",
       "    <tr>\n",
       "      <th>2</th>\n",
       "      <td>1</td>\n",
       "      <td>0</td>\n",
       "      <td>0</td>\n",
       "      <td>1</td>\n",
       "      <td>0</td>\n",
       "      <td>1</td>\n",
       "      <td>1</td>\n",
       "      <td>0</td>\n",
       "      <td>1</td>\n",
       "      <td>0</td>\n",
       "      <td>1</td>\n",
       "      <td>1</td>\n",
       "      <td>0</td>\n",
       "      <td>1</td>\n",
       "      <td>1</td>\n",
       "      <td>1</td>\n",
       "    </tr>\n",
       "  </tbody>\n",
       "</table>\n",
       "</div>"
      ],
      "text/plain": [
       "   absolutely  be  beaten  best  can  ever  have  it  movie  not  period  \\\n",
       "0           1   1       1     1    1     2     1   1      1    1       0   \n",
       "1           1   1       1     1    1     1     1   1      1    1       0   \n",
       "2           1   0       0     1    0     1     1   0      1    0       1   \n",
       "\n",
       "   seen  sure  the  this  was  \n",
       "0     1     1    1     1    1  \n",
       "1     1     1    1     1    1  \n",
       "2     1     0    1     1    1  "
      ]
     },
     "metadata": {},
     "output_type": "display_data"
    }
   ],
   "source": [
    "bagofwords = CountVectorizer().fit(small_reviews[\"Review\"])\n",
    "small_transformed = bagofwords.transform(small_reviews[\"Review\"])\n",
    "\n",
    "my_df = pd.DataFrame(columns=bagofwords.get_feature_names(), data=small_transformed.toarray())\n",
    "display(my_df)"
   ]
  },
  {
   "cell_type": "code",
   "execution_count": 135,
   "id": "e2c306b4-2e44-48f7-8ea1-70ab145fde6d",
   "metadata": {},
   "outputs": [
    {
     "data": {
      "text/html": [
       "<div>\n",
       "<style scoped>\n",
       "    .dataframe tbody tr th:only-of-type {\n",
       "        vertical-align: middle;\n",
       "    }\n",
       "\n",
       "    .dataframe tbody tr th {\n",
       "        vertical-align: top;\n",
       "    }\n",
       "\n",
       "    .dataframe thead th {\n",
       "        text-align: right;\n",
       "    }\n",
       "</style>\n",
       "<table border=\"1\" class=\"dataframe\">\n",
       "  <thead>\n",
       "    <tr style=\"text-align: right;\">\n",
       "      <th></th>\n",
       "      <th>absolutely</th>\n",
       "      <th>be</th>\n",
       "      <th>beaten</th>\n",
       "      <th>best</th>\n",
       "      <th>can</th>\n",
       "      <th>ever</th>\n",
       "      <th>have</th>\n",
       "      <th>it</th>\n",
       "      <th>movie</th>\n",
       "      <th>not</th>\n",
       "      <th>period</th>\n",
       "      <th>seen</th>\n",
       "      <th>sure</th>\n",
       "      <th>the</th>\n",
       "      <th>this</th>\n",
       "      <th>was</th>\n",
       "    </tr>\n",
       "  </thead>\n",
       "  <tbody>\n",
       "    <tr>\n",
       "      <th>0</th>\n",
       "      <td>0.213449</td>\n",
       "      <td>0.274855</td>\n",
       "      <td>0.274855</td>\n",
       "      <td>0.213449</td>\n",
       "      <td>0.274855</td>\n",
       "      <td>0.426899</td>\n",
       "      <td>0.213449</td>\n",
       "      <td>0.274855</td>\n",
       "      <td>0.213449</td>\n",
       "      <td>0.274855</td>\n",
       "      <td>0.000000</td>\n",
       "      <td>0.213449</td>\n",
       "      <td>0.274855</td>\n",
       "      <td>0.213449</td>\n",
       "      <td>0.213449</td>\n",
       "      <td>0.213449</td>\n",
       "    </tr>\n",
       "    <tr>\n",
       "      <th>1</th>\n",
       "      <td>0.229726</td>\n",
       "      <td>0.295814</td>\n",
       "      <td>0.295814</td>\n",
       "      <td>0.229726</td>\n",
       "      <td>0.295814</td>\n",
       "      <td>0.229726</td>\n",
       "      <td>0.229726</td>\n",
       "      <td>0.295814</td>\n",
       "      <td>0.229726</td>\n",
       "      <td>0.295814</td>\n",
       "      <td>0.000000</td>\n",
       "      <td>0.229726</td>\n",
       "      <td>0.295814</td>\n",
       "      <td>0.229726</td>\n",
       "      <td>0.229726</td>\n",
       "      <td>0.229726</td>\n",
       "    </tr>\n",
       "    <tr>\n",
       "      <th>2</th>\n",
       "      <td>0.290291</td>\n",
       "      <td>0.000000</td>\n",
       "      <td>0.000000</td>\n",
       "      <td>0.290291</td>\n",
       "      <td>0.000000</td>\n",
       "      <td>0.290291</td>\n",
       "      <td>0.290291</td>\n",
       "      <td>0.000000</td>\n",
       "      <td>0.290291</td>\n",
       "      <td>0.000000</td>\n",
       "      <td>0.491506</td>\n",
       "      <td>0.290291</td>\n",
       "      <td>0.000000</td>\n",
       "      <td>0.290291</td>\n",
       "      <td>0.290291</td>\n",
       "      <td>0.290291</td>\n",
       "    </tr>\n",
       "  </tbody>\n",
       "</table>\n",
       "</div>"
      ],
      "text/plain": [
       "   absolutely        be    beaten      best       can      ever      have  \\\n",
       "0    0.213449  0.274855  0.274855  0.213449  0.274855  0.426899  0.213449   \n",
       "1    0.229726  0.295814  0.295814  0.229726  0.295814  0.229726  0.229726   \n",
       "2    0.290291  0.000000  0.000000  0.290291  0.000000  0.290291  0.290291   \n",
       "\n",
       "         it     movie       not    period      seen      sure       the  \\\n",
       "0  0.274855  0.213449  0.274855  0.000000  0.213449  0.274855  0.213449   \n",
       "1  0.295814  0.229726  0.295814  0.000000  0.229726  0.295814  0.229726   \n",
       "2  0.000000  0.290291  0.000000  0.491506  0.290291  0.000000  0.290291   \n",
       "\n",
       "       this       was  \n",
       "0  0.213449  0.213449  \n",
       "1  0.229726  0.229726  \n",
       "2  0.290291  0.290291  "
      ]
     },
     "metadata": {},
     "output_type": "display_data"
    }
   ],
   "source": [
    "tfidf = TfidfVectorizer().fit(small_reviews[\"Review\"])\n",
    "small_transformed = tfidf.transform(small_reviews[\"Review\"])\n",
    "\n",
    "my_df = pd.DataFrame(columns=tfidf.get_feature_names(), data=small_transformed.toarray())\n",
    "display(my_df)"
   ]
  },
  {
   "cell_type": "markdown",
   "id": "a24c68b4-4bcb-4e71-a995-17ab805636ad",
   "metadata": {},
   "source": [
    "The `sklearn` implementation uses a more complex IDF count, so we will not get into the math of these numbers, but it is very customizable so feel free to look at the documentation."
   ]
  },
  {
   "cell_type": "markdown",
   "id": "f66749b5-fad7-4b0d-b369-21425d7bf1ec",
   "metadata": {},
   "source": [
    "Notice that while for the `CountVectorizer` the word \"absolutely\" got a value of 1 for all three documents, the `TfidfVectorizer` gave it a higher value for a short review (it makes up a bigger part of that sentence).\n",
    "\n",
    "Also notice that while for the `CountVectorizer`, the value for the word \"period\" is 1, the same value as for the words \"movie\", \"beaten\", and \"have\", the `TfidfVectorizer` gave it the highest value since it only appears in one document."
   ]
  },
  {
   "cell_type": "markdown",
   "id": "42fdfa18-2672-4b91-ae07-655f138a3a21",
   "metadata": {},
   "source": [
    "Now, looking at our reviews data:"
   ]
  },
  {
   "cell_type": "code",
   "execution_count": 136,
   "id": "42b1fe21-2fa5-4c04-989a-bb0edf8727d4",
   "metadata": {},
   "outputs": [
    {
     "data": {
      "text/plain": [
       "(5714, 2125)"
      ]
     },
     "execution_count": 136,
     "metadata": {},
     "output_type": "execute_result"
    }
   ],
   "source": [
    "# using our custom tokenizer in TfidfVectorizer\n",
    "tfidf = TfidfVectorizer(min_df=5,\n",
    "                        tokenizer=my_tokenizer)\n",
    "tfidf.fit(X_train)\n",
    "\n",
    "X_train_transformed = tfidf.transform(X_train)\n",
    "X_test_transformed = tfidf.transform(X_test)\n",
    "\n",
    "X_train_transformed.shape"
   ]
  },
  {
   "cell_type": "markdown",
   "id": "e19bd621-aa3c-4b7a-a457-691bbd15bc0e",
   "metadata": {},
   "source": [
    "We can also visualize the words with largest overall weight over the corpus:"
   ]
  },
  {
   "cell_type": "code",
   "execution_count": 137,
   "id": "fb12cb9b-f784-449c-b1bc-7611fd861478",
   "metadata": {},
   "outputs": [
    {
     "data": {
      "image/png": "[encoded data removed]",
      "text/plain": [
       "<Figure size 1500x500 with 1 Axes>"
      ]
     },
     "metadata": {},
     "output_type": "display_data"
    }
   ],
   "source": [
    "word_counts = pd.DataFrame(\n",
    "    {\"counts\": X_train_transformed.toarray().sum(axis=0)},\n",
    "    index=tfidf.get_feature_names()\n",
    ").sort_values(\"counts\", ascending=False)\n",
    "\n",
    "word_counts.head(20).plot(kind=\"bar\", figsize=(15, 5), legend=False)\n",
    "plt.title(\"Top 20 highest weighted words by TF-IDF\")\n",
    "plt.ylabel(\"Total TF-IDF weight\")\n",
    "plt.xticks(rotation=45)\n",
    "plt.show()"
   ]
  },
  {
   "cell_type": "markdown",
   "id": "d56948a7-926d-428e-a8f3-b55c7d483213",
   "metadata": {},
   "source": [
    "There is some difference in which tokens become more important compared to the `CountVectorizer`. You can rerun the model with this representation but note that you will need to tune the hyperparameters for good performance because we completely changed our data."
   ]
  },
  {
   "cell_type": "markdown",
   "id": "d7263a2b-b6fb-4359-8b79-392ca9ac2316",
   "metadata": {},
   "source": [
    "### (Supplementary) Sentiment Classification with Transformers\n",
    "\n",
    "Well, most of you have heard of ChatGPT. The \"GPT\" in ChatGPT stands for \"Generative Pretrained Transformer\". The underlying model architecture that powers ChatGPT is the Transformers. Transformers was first introduced in June 2017 by a team at Google Brain and it wasn't until late 2018, when the BERT model was introduced and NLP developement took off! "
   ]
  },
  {
   "cell_type": "code",
   "execution_count": 2,
   "id": "1993caa7-af6b-4a31-ac64-1079da279dc3",
   "metadata": {},
   "outputs": [
    {
     "name": "stdout",
     "output_type": "stream",
     "text": [
      "['i', \"'\", 'm', 'learning', 'about', 'transformers', 'at', 'brains', '##tation', '!']\n"
     ]
    }
   ],
   "source": [
    "from datasets import load_dataset, Dataset, load_metric\n",
    "from transformers import DataCollatorWithPadding, AutoModelForSequenceClassification, AutoTokenizer, TrainingArguments, Trainer\n",
    "\n",
    "tokenizer = AutoTokenizer.from_pretrained(\"distilbert-base-uncased\")\n",
    "tokens = tokenizer.tokenize(\"I'm learning about Transformers at BrainStation!\")\n",
    "print(tokens)"
   ]
  },
  {
   "cell_type": "code",
   "execution_count": 3,
   "id": "ff80e75e-8525-4b2a-ab68-c54b96efe225",
   "metadata": {},
   "outputs": [
    {
     "name": "stdout",
     "output_type": "stream",
     "text": [
      "[1045, 1005, 1049, 4083, 2055, 19081, 2012, 14332, 12516, 999]\n"
     ]
    }
   ],
   "source": [
    "ids = tokenizer.convert_tokens_to_ids(tokens)\n",
    "print(ids)"
   ]
  },
  {
   "cell_type": "code",
   "execution_count": 4,
   "id": "9f518d22-6320-468d-bee6-6d00fea26fa4",
   "metadata": {},
   "outputs": [
    {
     "data": {
      "text/plain": [
       "14332"
      ]
     },
     "execution_count": 4,
     "metadata": {},
     "output_type": "execute_result"
    }
   ],
   "source": [
    "tokenizer.get_vocab()['brains']"
   ]
  },
  {
   "cell_type": "code",
   "execution_count": 5,
   "id": "732a6774-b925-49b0-b5f7-fd5bad04d1d9",
   "metadata": {},
   "outputs": [
    {
     "data": {
      "text/plain": [
       "30522"
      ]
     },
     "execution_count": 5,
     "metadata": {},
     "output_type": "execute_result"
    }
   ],
   "source": [
    "len(tokenizer.get_vocab())"
   ]
  },
  {
   "cell_type": "code",
   "execution_count": 6,
   "id": "e70895b1-6946-4088-b390-401e03866568",
   "metadata": {},
   "outputs": [],
   "source": [
    "df = pd.read_csv(\"data/rottentomatoes.csv\")\n",
    "\n",
    "df['labels'] = np.where(df['Sentiment'] >= 3, 1, 0)\n",
    "df['text'] = df['Phrase']\n",
    "X_train, X_test, y_train, y_test = train_test_split(df, df.labels, test_size=0.33, random_state=42, stratify=df.labels)"
   ]
  },
  {
   "cell_type": "markdown",
   "id": "5c218801-bc74-49b8-9212-6815d1a2a926",
   "metadata": {},
   "source": [
    "Next, we'll  prepare the text inputs for the model for both splits of our dataset (training and test) by using the `map` method"
   ]
  },
  {
   "cell_type": "code",
   "execution_count": 7,
   "id": "83d59394-fedd-4112-a955-894b24613c20",
   "metadata": {},
   "outputs": [
    {
     "data": {
      "application/vnd.jupyter.widget-view+json": {
       "model_id": "",
       "version_major": 2,
       "version_minor": 0
      },
      "text/plain": [
       "Map:   0%|          | 0/5714 [00:00<?, ? examples/s]"
      ]
     },
     "metadata": {},
     "output_type": "display_data"
    },
    {
     "data": {
      "application/vnd.jupyter.widget-view+json": {
       "model_id": "",
       "version_major": 2,
       "version_minor": 0
      },
      "text/plain": [
       "Map:   0%|          | 0/2815 [00:00<?, ? examples/s]"
      ]
     },
     "metadata": {},
     "output_type": "display_data"
    }
   ],
   "source": [
    "train_df = Dataset.from_pandas(X_train[['text','labels']])\n",
    "test_df = Dataset.from_pandas(X_test[['text', 'labels']])\n",
    "\n",
    "def preprocess_function(examples):\n",
    "    return tokenizer(examples[\"text\"], truncation=True)\n",
    "\n",
    "tokenized_train = train_df.map(preprocess_function, batched=True)\n",
    "tokenized_test = test_df.map(preprocess_function, batched=True)\n",
    "\n",
    "\n",
    "#To speed up training, let's use a data_collator to convert our training samples to PyTorch tensors and concatenate them with the correct amount of padding\n",
    "data_collator = DataCollatorWithPadding(tokenizer=tokenizer)"
   ]
  },
  {
   "cell_type": "code",
   "execution_count": 8,
   "id": "7fef42c7-ba24-4222-8bee-bb5275bd419f",
   "metadata": {},
   "outputs": [],
   "source": [
    " def compute_metrics(eval_pred):\n",
    "    load_accuracy = load_metric(\"accuracy\")\n",
    "    load_precision = load_metric(\"precision\")\n",
    "    load_recall = load_metric(\"recall\")\n",
    "    load_f1 = load_metric(\"f1\")\n",
    "  \n",
    "    logits, labels = eval_pred\n",
    "    predictions = np.argmax(logits, axis=-1)\n",
    "    accuracy = load_accuracy.compute(predictions=predictions, references=labels)[\"accuracy\"]\n",
    "    f1 = load_f1.compute(predictions=predictions, references=labels)[\"f1\"]\n",
    "    return {\"accuracy\": accuracy, \"f1\": f1}"
   ]
  },
  {
   "cell_type": "code",
   "execution_count": 9,
   "id": "f5c337de-b94f-48f9-abab-1c15fdb901ac",
   "metadata": {},
   "outputs": [
    {
     "name": "stderr",
     "output_type": "stream",
     "text": [
      "Some weights of the model checkpoint at distilbert-base-uncased were not used when initializing DistilBertForSequenceClassification: ['vocab_projector.weight', 'vocab_projector.bias', 'vocab_layer_norm.bias', 'vocab_layer_norm.weight', 'vocab_transform.weight', 'vocab_transform.bias']\n",
      "- This IS expected if you are initializing DistilBertForSequenceClassification from the checkpoint of a model trained on another task or with another architecture (e.g. initializing a BertForSequenceClassification model from a BertForPreTraining model).\n",
      "- This IS NOT expected if you are initializing DistilBertForSequenceClassification from the checkpoint of a model that you expect to be exactly identical (initializing a BertForSequenceClassification model from a BertForSequenceClassification model).\n",
      "Some weights of DistilBertForSequenceClassification were not initialized from the model checkpoint at distilbert-base-uncased and are newly initialized: ['classifier.bias', 'pre_classifier.weight', 'pre_classifier.bias', 'classifier.weight']\n",
      "You should probably TRAIN this model on a down-stream task to be able to use it for predictions and inference.\n"
     ]
    }
   ],
   "source": [
    "model = AutoModelForSequenceClassification.from_pretrained(\"distilbert-base-uncased\", num_labels=2)"
   ]
  },
  {
   "cell_type": "code",
   "execution_count": 10,
   "id": "768ddaa8-6f08-411e-a9c6-bd6e96737de7",
   "metadata": {},
   "outputs": [
    {
     "name": "stderr",
     "output_type": "stream",
     "text": [
      "Using cuda_amp half precision backend\n"
     ]
    }
   ],
   "source": [
    "repo_name = \"finetuning_rottentomatoes\"\n",
    " \n",
    "training_args = TrainingArguments(\n",
    "    output_dir=repo_name,\n",
    "    learning_rate=2e-6,\n",
    "    per_device_train_batch_size=32,\n",
    "    per_device_eval_batch_size=16,\n",
    "    num_train_epochs=10,\n",
    "    save_total_limit = 2,\n",
    "    evaluation_strategy='epoch',\n",
    "    load_best_model_at_end=True,\n",
    "    seed=42,\n",
    "    lr_scheduler_type=\"cosine\",\n",
    "    warmup_ratio=0.05,\n",
    "    weight_decay=0.01,\n",
    "    save_strategy=\"epoch\",\n",
    "    fp16_full_eval=True,\n",
    "    fp16=True,\n",
    "    metric_for_best_model=\"f1\",\n",
    "    push_to_hub=False,\n",
    ")\n",
    " \n",
    "trainer = Trainer(\n",
    "    model=model,\n",
    "    args=training_args,\n",
    "    train_dataset=tokenized_train,\n",
    "    eval_dataset=tokenized_test,\n",
    "    tokenizer=tokenizer,\n",
    "    data_collator=data_collator,\n",
    "    compute_metrics=compute_metrics,\n",
    ")"
   ]
  },
  {
   "cell_type": "code",
   "execution_count": 11,
   "id": "5cfea9ad-b7dd-45e6-b0db-782cbf6ff7a5",
   "metadata": {},
   "outputs": [
    {
     "name": "stderr",
     "output_type": "stream",
     "text": [
      "The following columns in the training set don't have a corresponding argument in `DistilBertForSequenceClassification.forward` and have been ignored: text, __index_level_0__. If text, __index_level_0__ are not expected by `DistilBertForSequenceClassification.forward`,  you can safely ignore this message.\n",
      "/opt/conda/lib/python3.7/site-packages/transformers/optimization.py:310: FutureWarning: This implementation of AdamW is deprecated and will be removed in a future version. Use the PyTorch implementation torch.optim.AdamW instead, or set `no_deprecation_warning=True` to disable this warning\n",
      "  FutureWarning,\n",
      "***** Running training *****\n",
      "  Num examples = 5714\n",
      "  Num Epochs = 10\n",
      "  Instantaneous batch size per device = 32\n",
      "  Total train batch size (w. parallel, distributed & accumulation) = 32\n",
      "  Gradient Accumulation steps = 1\n",
      "  Total optimization steps = 1790\n",
      "  Number of trainable parameters = 66955010\n",
      "You're using a DistilBertTokenizerFast tokenizer. Please note that with a fast tokenizer, using the `__call__` method is faster than using a method to encode the text followed by a call to the `pad` method to get a padded encoding.\n"
     ]
    },
    {
     "data": {
      "text/html": [
       "\n",
       "    <div>\n",
       "      \n",
       "      <progress value='1790' max='1790' style='width:300px; height:20px; vertical-align: middle;'></progress>\n",
       "      [1790/1790 02:07, Epoch 10/10]\n",
       "    </div>\n",
       "    <table border=\"1\" class=\"dataframe\">\n",
       "  <thead>\n",
       " <tr style=\"text-align: left;\">\n",
       "      <th>Epoch</th>\n",
       "      <th>Training Loss</th>\n",
       "      <th>Validation Loss</th>\n",
       "      <th>Accuracy</th>\n",
       "      <th>F1</th>\n",
       "    </tr>\n",
       "  </thead>\n",
       "  <tbody>\n",
       "    <tr>\n",
       "      <td>1</td>\n",
       "      <td>No log</td>\n",
       "      <td>0.598251</td>\n",
       "      <td>0.698401</td>\n",
       "      <td>0.456814</td>\n",
       "    </tr>\n",
       "    <tr>\n",
       "      <td>2</td>\n",
       "      <td>No log</td>\n",
       "      <td>0.430293</td>\n",
       "      <td>0.816696</td>\n",
       "      <td>0.775457</td>\n",
       "    </tr>\n",
       "    <tr>\n",
       "      <td>3</td>\n",
       "      <td>0.539200</td>\n",
       "      <td>0.398308</td>\n",
       "      <td>0.825577</td>\n",
       "      <td>0.795842</td>\n",
       "    </tr>\n",
       "    <tr>\n",
       "      <td>4</td>\n",
       "      <td>0.539200</td>\n",
       "      <td>0.385378</td>\n",
       "      <td>0.833037</td>\n",
       "      <td>0.804817</td>\n",
       "    </tr>\n",
       "    <tr>\n",
       "      <td>5</td>\n",
       "      <td>0.539200</td>\n",
       "      <td>0.380399</td>\n",
       "      <td>0.838721</td>\n",
       "      <td>0.811148</td>\n",
       "    </tr>\n",
       "    <tr>\n",
       "      <td>6</td>\n",
       "      <td>0.355300</td>\n",
       "      <td>0.378086</td>\n",
       "      <td>0.839432</td>\n",
       "      <td>0.809924</td>\n",
       "    </tr>\n",
       "    <tr>\n",
       "      <td>7</td>\n",
       "      <td>0.355300</td>\n",
       "      <td>0.378108</td>\n",
       "      <td>0.841208</td>\n",
       "      <td>0.808565</td>\n",
       "    </tr>\n",
       "    <tr>\n",
       "      <td>8</td>\n",
       "      <td>0.355300</td>\n",
       "      <td>0.377319</td>\n",
       "      <td>0.840497</td>\n",
       "      <td>0.810308</td>\n",
       "    </tr>\n",
       "    <tr>\n",
       "      <td>9</td>\n",
       "      <td>0.320600</td>\n",
       "      <td>0.377144</td>\n",
       "      <td>0.841563</td>\n",
       "      <td>0.810857</td>\n",
       "    </tr>\n",
       "    <tr>\n",
       "      <td>10</td>\n",
       "      <td>0.320600</td>\n",
       "      <td>0.377194</td>\n",
       "      <td>0.841918</td>\n",
       "      <td>0.811201</td>\n",
       "    </tr>\n",
       "  </tbody>\n",
       "</table><p>"
      ],
      "text/plain": [
       "<IPython.core.display.HTML object>"
      ]
     },
     "metadata": {},
     "output_type": "display_data"
    },
    {
     "name": "stderr",
     "output_type": "stream",
     "text": [
      "The following columns in the evaluation set don't have a corresponding argument in `DistilBertForSequenceClassification.forward` and have been ignored: text, __index_level_0__. If text, __index_level_0__ are not expected by `DistilBertForSequenceClassification.forward`,  you can safely ignore this message.\n",
      "***** Running Evaluation *****\n",
      "  Num examples = 2815\n",
      "  Batch size = 16\n",
      "/opt/conda/lib/python3.7/site-packages/ipykernel_launcher.py:2: FutureWarning: load_metric is deprecated and will be removed in the next major version of datasets. Use 'evaluate.load' instead, from the new library 🤗 Evaluate: https://huggingface.co/docs/evaluate\n",
      "  \n",
      "Saving model checkpoint to finetuning_rottentomatoes/checkpoint-179\n",
      "Configuration saved in finetuning_rottentomatoes/checkpoint-179/config.json\n",
      "Model weights saved in finetuning_rottentomatoes/checkpoint-179/pytorch_model.bin\n",
      "tokenizer config file saved in finetuning_rottentomatoes/checkpoint-179/tokenizer_config.json\n",
      "Special tokens file saved in finetuning_rottentomatoes/checkpoint-179/special_tokens_map.json\n",
      "The following columns in the evaluation set don't have a corresponding argument in `DistilBertForSequenceClassification.forward` and have been ignored: text, __index_level_0__. If text, __index_level_0__ are not expected by `DistilBertForSequenceClassification.forward`,  you can safely ignore this message.\n",
      "***** Running Evaluation *****\n",
      "  Num examples = 2815\n",
      "  Batch size = 16\n",
      "Saving model checkpoint to finetuning_rottentomatoes/checkpoint-358\n",
      "Configuration saved in finetuning_rottentomatoes/checkpoint-358/config.json\n",
      "Model weights saved in finetuning_rottentomatoes/checkpoint-358/pytorch_model.bin\n",
      "tokenizer config file saved in finetuning_rottentomatoes/checkpoint-358/tokenizer_config.json\n",
      "Special tokens file saved in finetuning_rottentomatoes/checkpoint-358/special_tokens_map.json\n",
      "The following columns in the evaluation set don't have a corresponding argument in `DistilBertForSequenceClassification.forward` and have been ignored: text, __index_level_0__. If text, __index_level_0__ are not expected by `DistilBertForSequenceClassification.forward`,  you can safely ignore this message.\n",
      "***** Running Evaluation *****\n",
      "  Num examples = 2815\n",
      "  Batch size = 16\n",
      "Saving model checkpoint to finetuning_rottentomatoes/checkpoint-537\n",
      "Configuration saved in finetuning_rottentomatoes/checkpoint-537/config.json\n",
      "Model weights saved in finetuning_rottentomatoes/checkpoint-537/pytorch_model.bin\n",
      "tokenizer config file saved in finetuning_rottentomatoes/checkpoint-537/tokenizer_config.json\n",
      "Special tokens file saved in finetuning_rottentomatoes/checkpoint-537/special_tokens_map.json\n",
      "Deleting older checkpoint [finetuning_rottentomatoes/checkpoint-179] due to args.save_total_limit\n",
      "The following columns in the evaluation set don't have a corresponding argument in `DistilBertForSequenceClassification.forward` and have been ignored: text, __index_level_0__. If text, __index_level_0__ are not expected by `DistilBertForSequenceClassification.forward`,  you can safely ignore this message.\n",
      "***** Running Evaluation *****\n",
      "  Num examples = 2815\n",
      "  Batch size = 16\n",
      "Saving model checkpoint to finetuning_rottentomatoes/checkpoint-716\n",
      "Configuration saved in finetuning_rottentomatoes/checkpoint-716/config.json\n",
      "Model weights saved in finetuning_rottentomatoes/checkpoint-716/pytorch_model.bin\n",
      "tokenizer config file saved in finetuning_rottentomatoes/checkpoint-716/tokenizer_config.json\n",
      "Special tokens file saved in finetuning_rottentomatoes/checkpoint-716/special_tokens_map.json\n",
      "Deleting older checkpoint [finetuning_rottentomatoes/checkpoint-358] due to args.save_total_limit\n",
      "The following columns in the evaluation set don't have a corresponding argument in `DistilBertForSequenceClassification.forward` and have been ignored: text, __index_level_0__. If text, __index_level_0__ are not expected by `DistilBertForSequenceClassification.forward`,  you can safely ignore this message.\n",
      "***** Running Evaluation *****\n",
      "  Num examples = 2815\n",
      "  Batch size = 16\n",
      "Saving model checkpoint to finetuning_rottentomatoes/checkpoint-895\n",
      "Configuration saved in finetuning_rottentomatoes/checkpoint-895/config.json\n",
      "Model weights saved in finetuning_rottentomatoes/checkpoint-895/pytorch_model.bin\n",
      "tokenizer config file saved in finetuning_rottentomatoes/checkpoint-895/tokenizer_config.json\n",
      "Special tokens file saved in finetuning_rottentomatoes/checkpoint-895/special_tokens_map.json\n",
      "Deleting older checkpoint [finetuning_rottentomatoes/checkpoint-537] due to args.save_total_limit\n",
      "The following columns in the evaluation set don't have a corresponding argument in `DistilBertForSequenceClassification.forward` and have been ignored: text, __index_level_0__. If text, __index_level_0__ are not expected by `DistilBertForSequenceClassification.forward`,  you can safely ignore this message.\n",
      "***** Running Evaluation *****\n",
      "  Num examples = 2815\n",
      "  Batch size = 16\n",
      "Saving model checkpoint to finetuning_rottentomatoes/checkpoint-1074\n",
      "Configuration saved in finetuning_rottentomatoes/checkpoint-1074/config.json\n",
      "Model weights saved in finetuning_rottentomatoes/checkpoint-1074/pytorch_model.bin\n",
      "tokenizer config file saved in finetuning_rottentomatoes/checkpoint-1074/tokenizer_config.json\n",
      "Special tokens file saved in finetuning_rottentomatoes/checkpoint-1074/special_tokens_map.json\n",
      "Deleting older checkpoint [finetuning_rottentomatoes/checkpoint-716] due to args.save_total_limit\n",
      "The following columns in the evaluation set don't have a corresponding argument in `DistilBertForSequenceClassification.forward` and have been ignored: text, __index_level_0__. If text, __index_level_0__ are not expected by `DistilBertForSequenceClassification.forward`,  you can safely ignore this message.\n",
      "***** Running Evaluation *****\n",
      "  Num examples = 2815\n",
      "  Batch size = 16\n",
      "Saving model checkpoint to finetuning_rottentomatoes/checkpoint-1253\n",
      "Configuration saved in finetuning_rottentomatoes/checkpoint-1253/config.json\n",
      "Model weights saved in finetuning_rottentomatoes/checkpoint-1253/pytorch_model.bin\n",
      "tokenizer config file saved in finetuning_rottentomatoes/checkpoint-1253/tokenizer_config.json\n",
      "Special tokens file saved in finetuning_rottentomatoes/checkpoint-1253/special_tokens_map.json\n",
      "Deleting older checkpoint [finetuning_rottentomatoes/checkpoint-1074] due to args.save_total_limit\n",
      "The following columns in the evaluation set don't have a corresponding argument in `DistilBertForSequenceClassification.forward` and have been ignored: text, __index_level_0__. If text, __index_level_0__ are not expected by `DistilBertForSequenceClassification.forward`,  you can safely ignore this message.\n",
      "***** Running Evaluation *****\n",
      "  Num examples = 2815\n",
      "  Batch size = 16\n",
      "Saving model checkpoint to finetuning_rottentomatoes/checkpoint-1432\n",
      "Configuration saved in finetuning_rottentomatoes/checkpoint-1432/config.json\n",
      "Model weights saved in finetuning_rottentomatoes/checkpoint-1432/pytorch_model.bin\n",
      "tokenizer config file saved in finetuning_rottentomatoes/checkpoint-1432/tokenizer_config.json\n",
      "Special tokens file saved in finetuning_rottentomatoes/checkpoint-1432/special_tokens_map.json\n",
      "Deleting older checkpoint [finetuning_rottentomatoes/checkpoint-1253] due to args.save_total_limit\n",
      "The following columns in the evaluation set don't have a corresponding argument in `DistilBertForSequenceClassification.forward` and have been ignored: text, __index_level_0__. If text, __index_level_0__ are not expected by `DistilBertForSequenceClassification.forward`,  you can safely ignore this message.\n",
      "***** Running Evaluation *****\n",
      "  Num examples = 2815\n",
      "  Batch size = 16\n",
      "Saving model checkpoint to finetuning_rottentomatoes/checkpoint-1611\n",
      "Configuration saved in finetuning_rottentomatoes/checkpoint-1611/config.json\n",
      "Model weights saved in finetuning_rottentomatoes/checkpoint-1611/pytorch_model.bin\n",
      "tokenizer config file saved in finetuning_rottentomatoes/checkpoint-1611/tokenizer_config.json\n",
      "Special tokens file saved in finetuning_rottentomatoes/checkpoint-1611/special_tokens_map.json\n",
      "Deleting older checkpoint [finetuning_rottentomatoes/checkpoint-1432] due to args.save_total_limit\n",
      "The following columns in the evaluation set don't have a corresponding argument in `DistilBertForSequenceClassification.forward` and have been ignored: text, __index_level_0__. If text, __index_level_0__ are not expected by `DistilBertForSequenceClassification.forward`,  you can safely ignore this message.\n",
      "***** Running Evaluation *****\n",
      "  Num examples = 2815\n",
      "  Batch size = 16\n",
      "Saving model checkpoint to finetuning_rottentomatoes/checkpoint-1790\n",
      "Configuration saved in finetuning_rottentomatoes/checkpoint-1790/config.json\n",
      "Model weights saved in finetuning_rottentomatoes/checkpoint-1790/pytorch_model.bin\n",
      "tokenizer config file saved in finetuning_rottentomatoes/checkpoint-1790/tokenizer_config.json\n",
      "Special tokens file saved in finetuning_rottentomatoes/checkpoint-1790/special_tokens_map.json\n",
      "Deleting older checkpoint [finetuning_rottentomatoes/checkpoint-895] due to args.save_total_limit\n",
      "\n",
      "\n",
      "Training completed. Do not forget to share your model on huggingface.co/models =)\n",
      "\n",
      "\n",
      "Loading best model from finetuning_rottentomatoes/checkpoint-1790 (score: 0.8112006788290198).\n"
     ]
    },
    {
     "data": {
      "text/plain": [
       "TrainOutput(global_step=1790, training_loss=0.3894151783522281, metrics={'train_runtime': 128.2606, 'train_samples_per_second': 445.499, 'train_steps_per_second': 13.956, 'total_flos': 764119560919200.0, 'train_loss': 0.3894151783522281, 'epoch': 10.0})"
      ]
     },
     "execution_count": 11,
     "metadata": {},
     "output_type": "execute_result"
    }
   ],
   "source": [
    "trainer.train()"
   ]
  },
  {
   "cell_type": "code",
   "execution_count": 12,
   "id": "76bbea7b-4887-49fb-be76-6e0edbc292f1",
   "metadata": {},
   "outputs": [
    {
     "name": "stderr",
     "output_type": "stream",
     "text": [
      "The following columns in the evaluation set don't have a corresponding argument in `DistilBertForSequenceClassification.forward` and have been ignored: text, __index_level_0__. If text, __index_level_0__ are not expected by `DistilBertForSequenceClassification.forward`,  you can safely ignore this message.\n",
      "***** Running Evaluation *****\n",
      "  Num examples = 2815\n",
      "  Batch size = 16\n"
     ]
    },
    {
     "data": {
      "text/html": [
       "\n",
       "    <div>\n",
       "      \n",
       "      <progress value='176' max='176' style='width:300px; height:20px; vertical-align: middle;'></progress>\n",
       "      [176/176 00:01]\n",
       "    </div>\n",
       "    "
      ],
      "text/plain": [
       "<IPython.core.display.HTML object>"
      ]
     },
     "metadata": {},
     "output_type": "display_data"
    },
    {
     "data": {
      "text/plain": [
       "{'eval_loss': 0.3771865963935852,\n",
       " 'eval_accuracy': 0.8419182948490231,\n",
       " 'eval_f1': 0.8112006788290198,\n",
       " 'eval_runtime': 3.7747,\n",
       " 'eval_samples_per_second': 745.746,\n",
       " 'eval_steps_per_second': 46.626,\n",
       " 'epoch': 10.0}"
      ]
     },
     "execution_count": 12,
     "metadata": {},
     "output_type": "execute_result"
    }
   ],
   "source": [
    "trainer.evaluate()"
   ]
  },
  {
   "cell_type": "code",
   "execution_count": 32,
   "id": "344ed7c1-8d43-43e0-ae4e-628210e3d095",
   "metadata": {},
   "outputs": [],
   "source": [
    "transformers.logging.set_verbosity_info()"
   ]
  },
  {
   "cell_type": "code",
   "execution_count": 33,
   "id": "53e5a75a-fed7-4652-8bfb-be38ed324815",
   "metadata": {},
   "outputs": [
    {
     "name": "stderr",
     "output_type": "stream",
     "text": [
      "loading configuration file /home/jupyter/misc/finetuning_rottentomatoes/checkpoint-1790/config.json\n",
      "Model config DistilBertConfig {\n",
      "  \"_name_or_path\": \"/home/jupyter/misc/finetuning_rottentomatoes/checkpoint-1790/\",\n",
      "  \"activation\": \"gelu\",\n",
      "  \"architectures\": [\n",
      "    \"DistilBertForSequenceClassification\"\n",
      "  ],\n",
      "  \"attention_dropout\": 0.1,\n",
      "  \"dim\": 768,\n",
      "  \"dropout\": 0.1,\n",
      "  \"hidden_dim\": 3072,\n",
      "  \"initializer_range\": 0.02,\n",
      "  \"max_position_embeddings\": 512,\n",
      "  \"model_type\": \"distilbert\",\n",
      "  \"n_heads\": 12,\n",
      "  \"n_layers\": 6,\n",
      "  \"pad_token_id\": 0,\n",
      "  \"problem_type\": \"single_label_classification\",\n",
      "  \"qa_dropout\": 0.1,\n",
      "  \"seq_classif_dropout\": 0.2,\n",
      "  \"sinusoidal_pos_embds\": false,\n",
      "  \"tie_weights_\": true,\n",
      "  \"torch_dtype\": \"float32\",\n",
      "  \"transformers_version\": \"4.26.1\",\n",
      "  \"vocab_size\": 30522\n",
      "}\n",
      "\n",
      "loading configuration file /home/jupyter/misc/finetuning_rottentomatoes/checkpoint-1790/config.json\n",
      "Model config DistilBertConfig {\n",
      "  \"_name_or_path\": \"/home/jupyter/misc/finetuning_rottentomatoes/checkpoint-1790/\",\n",
      "  \"activation\": \"gelu\",\n",
      "  \"architectures\": [\n",
      "    \"DistilBertForSequenceClassification\"\n",
      "  ],\n",
      "  \"attention_dropout\": 0.1,\n",
      "  \"dim\": 768,\n",
      "  \"dropout\": 0.1,\n",
      "  \"hidden_dim\": 3072,\n",
      "  \"initializer_range\": 0.02,\n",
      "  \"max_position_embeddings\": 512,\n",
      "  \"model_type\": \"distilbert\",\n",
      "  \"n_heads\": 12,\n",
      "  \"n_layers\": 6,\n",
      "  \"pad_token_id\": 0,\n",
      "  \"problem_type\": \"single_label_classification\",\n",
      "  \"qa_dropout\": 0.1,\n",
      "  \"seq_classif_dropout\": 0.2,\n",
      "  \"sinusoidal_pos_embds\": false,\n",
      "  \"tie_weights_\": true,\n",
      "  \"torch_dtype\": \"float32\",\n",
      "  \"transformers_version\": \"4.26.1\",\n",
      "  \"vocab_size\": 30522\n",
      "}\n",
      "\n",
      "loading weights file /home/jupyter/misc/finetuning_rottentomatoes/checkpoint-1790/pytorch_model.bin\n",
      "All model checkpoint weights were used when initializing DistilBertForSequenceClassification.\n",
      "\n",
      "All the weights of DistilBertForSequenceClassification were initialized from the model checkpoint at /home/jupyter/misc/finetuning_rottentomatoes/checkpoint-1790/.\n",
      "If your task is similar to the task the model of the checkpoint was trained on, you can already use DistilBertForSequenceClassification for predictions without further training.\n",
      "loading file vocab.txt\n",
      "loading file tokenizer.json\n",
      "loading file added_tokens.json\n",
      "loading file special_tokens_map.json\n",
      "loading file tokenizer_config.json\n"
     ]
    },
    {
     "data": {
      "text/plain": [
       "[{'label': 'LABEL_1', 'score': 0.8936529159545898},\n",
       " {'label': 'LABEL_0', 'score': 0.9385617971420288},\n",
       " {'label': 'LABEL_1', 'score': 0.6809536218643188}]"
      ]
     },
     "execution_count": 33,
     "metadata": {},
     "output_type": "execute_result"
    }
   ],
   "source": [
    "from transformers import pipeline\n",
    " \n",
    "sentiment_model = pipeline(task='text-classification', model='/home/jupyter/misc/finetuning_rottentomatoes/checkpoint-1790/')\n",
    "sentiment_model([\"I love this movie\", \n",
    "                 \"This movie sucks!\",\n",
    "                 \"This movie was alright.\"])\n"
   ]
  },
  {
   "cell_type": "markdown",
   "id": "2b8eca99-8f8c-4c3e-894f-955351d70240",
   "metadata": {},
   "source": [
    "### (Supplementary) Text Similarity"
   ]
  },
  {
   "cell_type": "markdown",
   "id": "eeb4fce2-9a11-40e6-b411-2ee18971e818",
   "metadata": {},
   "source": [
    "We used nearest neighbour models for classification and regression. Once we represented our text data as numeric vectors, we can use the same models to find similar documents. Let's see how this would work with TF-IDF and our reviews data.\n",
    "\n",
    "We start by fitting a `NearestNeighbors` model that is used solely for finding nearest neighbors by a specific metric (and not for predicting any class label or target value)."
   ]
  },
  {
   "cell_type": "code",
   "execution_count": 143,
   "id": "acc6b8e0-f718-4d1a-87ff-6c8aa00fd0b0",
   "metadata": {},
   "outputs": [
    {
     "data": {
      "text/plain": [
       "NearestNeighbors(metric='cosine', n_neighbors=1)"
      ]
     },
     "execution_count": 143,
     "metadata": {},
     "output_type": "execute_result"
    }
   ],
   "source": [
    "from sklearn.neighbors import NearestNeighbors\n",
    "\n",
    "nn_model = NearestNeighbors(n_neighbors=1, metric=\"cosine\")\n",
    "nn_model.fit(X_train_transformed)"
   ]
  },
  {
   "cell_type": "markdown",
   "id": "1bba931e-c999-4e78-bf2b-716a38996e0b",
   "metadata": {},
   "source": [
    "We then select a document from the test set, query its tf-idf vector with our `nn_model` and look up the closest training document."
   ]
  },
  {
   "cell_type": "code",
   "execution_count": 144,
   "id": "865a386e-9c2e-4b48-822f-5dcbc0b4ce73",
   "metadata": {},
   "outputs": [
    {
     "name": "stdout",
     "output_type": "stream",
     "text": [
      "Selected test document:\n",
      " Initially gripping , eventually cloying POW drama .\n",
      "\n",
      "Closest training neighbour:\n",
      " A gripping drama .\n"
     ]
    }
   ],
   "source": [
    "idx = 6\n",
    "print(f\"Selected test document:\\n {X_test.iloc[idx]}\")\n",
    "\n",
    "# use the nearest neighbour model to find the closest document by the tf-idf representation\n",
    "dist, neighbour_ind = nn_model.kneighbors(X_test_transformed[idx])\n",
    "\n",
    "print(f\"\\nClosest training neighbour:\\n {X_train.iloc[neighbour_ind[0]].values[0]}\")"
   ]
  },
  {
   "cell_type": "markdown",
   "id": "c41e1c7d-e95c-4373-8a98-77f66562fa34",
   "metadata": {},
   "source": [
    "Quite close! Feel free to look up other documents and see how close the actual texts feel."
   ]
  },
  {
   "cell_type": "markdown",
   "id": "e0359d1c-313f-49d0-babd-63b95fb3ed8b",
   "metadata": {},
   "source": [
    "### (Supplementary) Topic modeling\n",
    "\n",
    "**Topic modeling or topic clustering** is another example applied to text - think of how Google News clusters articles into sport, business, international, politics, etc. A common method is to use **Latent Dirchlet Allocation** (LDA, not to be confused with Linear Discriminant Analysis, which is also abbreviated as LDA), which is a type of unsupervised learning.\n",
    "We could also use **Non-negative Matrix Factorization** (NMF). \n",
    "\n",
    "Both methods are available in sklearn and are demonstrated [here](https://scikit-learn.org/stable/auto_examples/applications/plot_topics_extraction_with_nmf_lda.html#sphx-glr-auto-examples-applications-plot-topics-extraction-with-nmf-lda-py).\n",
    "\n",
    "Using what we learned about text processing, we can quickly run an example of LDA on the `newsgroup` dataset which contains emails from 20 categories."
   ]
  },
  {
   "cell_type": "code",
   "execution_count": 138,
   "id": "30dadf91-8c2c-45ee-83ec-215e579b8ba7",
   "metadata": {},
   "outputs": [
    {
     "name": "stdout",
     "output_type": "stream",
     "text": [
      "Number of documents: 11314\n",
      "\n",
      "Sample document:\n",
      "\n",
      " From: ab245@cleveland.Freenet.Edu (Sam Latonia)\n",
      "Subject: Re: Need phone number for Western Digital (ESDI problem)\n",
      "Organization: Case Western Reserve University, Cleveland, Ohio (USA)\n",
      "Lines: 5\n",
      "NNTP-Posting-Host: slc10.ins.cwru.edu\n",
      "\n",
      "\n",
      "Western Digital 1-800-832-4778.....Sam\n",
      "-- \n",
      "Gosh..I think I just installed a virus..It was called MS DOS6...\n",
      "Don't copy that floppy..BURN IT...I just love Windows...CRASH...\n",
      "\n",
      "\n",
      "Original topics: ['alt.atheism', 'comp.graphics', 'comp.os.ms-windows.misc', 'comp.sys.ibm.pc.hardware', 'comp.sys.mac.hardware', 'comp.windows.x', 'misc.forsale', 'rec.autos', 'rec.motorcycles', 'rec.sport.baseball', 'rec.sport.hockey', 'sci.crypt', 'sci.electronics', 'sci.med', 'sci.space', 'soc.religion.christian', 'talk.politics.guns', 'talk.politics.mideast', 'talk.politics.misc', 'talk.religion.misc']\n"
     ]
    }
   ],
   "source": [
    "# parts of the example are from here\n",
    "# https://scikit-learn.org/stable/auto_examples/applications/plot_topics_extraction_with_nmf_lda.html#sphx-glr-auto-examples-applications-plot-topics-extraction-with-nmf-lda-py\n",
    "from sklearn.datasets import fetch_20newsgroups\n",
    "\n",
    "news_data = fetch_20newsgroups()\n",
    "\n",
    "print(f\"Number of documents: {len(news_data.data)}\")\n",
    "\n",
    "print(f\"\\nSample document:\\n\\n {news_data.data[42]}\")\n",
    "\n",
    "print(f\"\\nOriginal topics: {news_data.target_names}\")"
   ]
  },
  {
   "cell_type": "markdown",
   "id": "751e6e39-c2c0-4cb2-bc71-dec36cb92009",
   "metadata": {},
   "source": [
    "First, we vectorize our documents with TF-IDF."
   ]
  },
  {
   "cell_type": "code",
   "execution_count": 139,
   "id": "ef4d62d8-e824-4e58-be21-9c09d92e47d7",
   "metadata": {},
   "outputs": [],
   "source": [
    "#NLTK has a few prebuilt stopwords lists\n",
    "from nltk.corpus import stopwords\n",
    "\n",
    "stopwords = stopwords.words('english')\n",
    "# We can add in additional words to include further stopwords\n",
    "# We've added these to remove some email-specific words \n",
    "stopwords.extend(['edu','com','cc','gov'])\n"
   ]
  },
  {
   "cell_type": "code",
   "execution_count": 140,
   "id": "bd0c4a74-93bd-497d-a904-d905fd3c56b6",
   "metadata": {},
   "outputs": [
    {
     "data": {
      "text/plain": [
       "(11314, 1000)"
      ]
     },
     "execution_count": 140,
     "metadata": {},
     "output_type": "execute_result"
    }
   ],
   "source": [
    "# BoW vectorization\n",
    "bagofwords = CountVectorizer(min_df=5,\n",
    "                        max_df=0.95, # drop words that occur in at least 95% of the documents\n",
    "                        max_features=1000, \n",
    "                        stop_words=stopwords)\n",
    "\n",
    "news_transformed = bagofwords.fit_transform(news_data.data)\n",
    "\n",
    "news_transformed.shape"
   ]
  },
  {
   "cell_type": "markdown",
   "id": "616badb3-7748-4dcd-b372-f785aa376021",
   "metadata": {},
   "source": [
    "Next, we fit the **Latent Dirichlet Allocation** model to discover related sets of documents. We will set the `n_components` parameter to 10 so that the model looks for 10 topics and limit the fitting procedure to 5 iterations."
   ]
  },
  {
   "cell_type": "code",
   "execution_count": 141,
   "id": "8eefde4a-4036-417a-aacb-0e8dddc3bdf5",
   "metadata": {},
   "outputs": [
    {
     "name": "stdout",
     "output_type": "stream",
     "text": [
      "iteration: 1 of max_iter: 15\n",
      "iteration: 2 of max_iter: 15\n",
      "iteration: 3 of max_iter: 15\n",
      "iteration: 4 of max_iter: 15\n",
      "iteration: 5 of max_iter: 15\n",
      "iteration: 6 of max_iter: 15\n",
      "iteration: 7 of max_iter: 15\n",
      "iteration: 8 of max_iter: 15\n",
      "iteration: 9 of max_iter: 15\n",
      "iteration: 10 of max_iter: 15\n",
      "iteration: 11 of max_iter: 15\n",
      "iteration: 12 of max_iter: 15\n",
      "iteration: 13 of max_iter: 15\n",
      "iteration: 14 of max_iter: 15\n",
      "iteration: 15 of max_iter: 15\n"
     ]
    },
    {
     "data": {
      "text/plain": [
       "LatentDirichletAllocation(max_iter=15, random_state=1, verbose=1)"
      ]
     },
     "execution_count": 141,
     "metadata": {},
     "output_type": "execute_result"
    }
   ],
   "source": [
    "from sklearn.decomposition import LatentDirichletAllocation\n",
    "\n",
    "# fit the LDA topic model\n",
    "lda = LatentDirichletAllocation(\n",
    "    n_components=10, \n",
    "    max_iter=15,\n",
    "    random_state=1,\n",
    "    verbose=1\n",
    ")\n",
    "\n",
    "lda.fit(news_transformed)"
   ]
  },
  {
   "cell_type": "markdown",
   "id": "4dea5e76-bf54-4cad-aa3f-d5426d8f665d",
   "metadata": {},
   "source": [
    "Finally, we can look at which words represent the 10 topics best (these are the words that occurred most frequently for the particular topic)."
   ]
  },
  {
   "cell_type": "code",
   "execution_count": 142,
   "id": "44a71a4c-f9ab-443c-8497-7d0a2c0fa20f",
   "metadata": {},
   "outputs": [
    {
     "name": "stdout",
     "output_type": "stream",
     "text": [
      "Topic #0 words: ax max g9v b8f a86 145 pl 1d9 0d 34u\n",
      "Topic #1 words: posting host nntp university article writes distribution reply uk please\n",
      "Topic #2 words: file windows use program system drive files also software using\n",
      "Topic #3 words: people would gun one israel said government us right turkish\n",
      "Topic #4 words: space key nasa system would chip use government encryption one\n",
      "Topic #5 words: god one people would jesus think believe say writes christian\n",
      "Topic #6 words: writes would one like article get good think time know\n",
      "Topic #7 words: 00 10 16 15 25 20 14 11 12 17\n",
      "Topic #8 words: team game year games hockey __ play season players pitt\n",
      "Topic #9 words: article writes cs university state one science new people would\n"
     ]
    }
   ],
   "source": [
    "# for each topic, print the the top 10 most representative words\n",
    "words = bagofwords.get_feature_names()\n",
    "\n",
    "for i, topic in enumerate(lda.components_):\n",
    "    topic_words = \" \".join([words[j] for j in topic.argsort()[: -11: -1]])\n",
    "    print(f\"Topic #{i} words: {topic_words}\")"
   ]
  },
  {
   "cell_type": "markdown",
   "id": "e872db7c-bfff-414c-94ad-635ae563e19c",
   "metadata": {},
   "source": [
    "Can you recognize some of the original topics?"
   ]
  }
 ],
 "metadata": {
  "environment": {
   "kernel": "python3",
   "name": "pytorch-gpu.1-13.m103",
   "type": "gcloud",
   "uri": "gcr.io/deeplearning-platform-release/pytorch-gpu.1-13:m103"
  },
  "kernelspec": {
   "display_name": "Python 3 (ipykernel)",
   "language": "python",
   "name": "python3"
  },
  "language_info": {
   "codemirror_mode": {
    "name": "ipython",
    "version": 3
   },
   "file_extension": ".py",
   "mimetype": "text/x-python",
   "name": "python",
   "nbconvert_exporter": "python",
   "pygments_lexer": "ipython3",
   "version": "3.9.13"
  }
 },
 "nbformat": 4,
 "nbformat_minor": 5
}
