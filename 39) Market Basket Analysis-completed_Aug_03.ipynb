{
 "cells": [
  {
   "cell_type": "markdown",
   "metadata": {
    "id": "suVO4RPhxOkI"
   },
   "source": [
    "<div id=\"container\" style=\"position:relative;\">\n",
    "<div style=\"float:left\"><h1> Market Basket Analysis </h1></div>\n",
    "<div style=\"position:relative; float:right\"><img style=\"height:65px\" src =\"https://drive.google.com/uc?export=view&id=1EnB0x-fdqMp6I5iMoEBBEuxB_s7AmE2k\" />\n",
    "</div>\n",
    "</div>"
   ]
  },
  {
   "cell_type": "markdown",
   "metadata": {
    "id": "Qid50vzNxOkJ"
   },
   "source": [
    "So far, we have seen supervised learning, and unsupervised learning. Another kind of learning is *rules-based* learning, which debatedly belongs to the machine learning family. We will also briefly cover another type, reinforcement learning, in the future.\n",
    "\n",
    "In rules-based learning, rather than learning labels or clustering like in machine learning, or relationships like in regressions, we are trying to learn rules of associations between objects.\n",
    "\n",
    "A rule might look like: '*If* a customer bought a plane ticket, *then* they will buy a hotel room.' This example might be obvious, but a (possibly apocryphal) association rule:\n",
    "\n",
    "*If* the customer is male, aged 20-40, and buys diapers between 5 and 7pm, *then* customer will also buy beer.\n",
    "\n",
    "Mining retail datasets like this is done to find a number of relations:\n",
    "\n",
    "* **Complementary products**: products which are often bought together, like chips and salsa\n",
    "* **Substitute products**: products which replace each other, like Coke and Pepsi\n",
    "* **Trigger products**: products which when bought, trigger other purchases\n",
    "* **Common Baskets**: combinations of products that are often bought together\n",
    "\n",
    "This kind of data is gold to retailers: We can design promos where one complement is discounted and the rest of the items are marked up, offer discounts for commonly bought items, plan store layout, recommend items, and promote cross-sell and upsell."
   ]
  },
  {
   "cell_type": "markdown",
   "metadata": {
    "id": "OTywoBnFxOkK"
   },
   "source": [
    "### Coffee Preferences\n",
    "\n",
    "We have set up a store which only sells three items: Coffee, Milk and Sugar. Our basket types are thus all combinations between the three items.\n",
    "\n",
    "We have a dataset of 'baskets' - you can download [the data from here](https://drive.google.com/uc?export=view&id=1iI1IJZXlC0WgcSzQv40vl2fpXm-22aW-). Each transaction that comes through our system:"
   ]
  },
  {
   "cell_type": "code",
   "execution_count": 2,
   "metadata": {},
   "outputs": [],
   "source": [
    "import warnings\n",
    "warnings.filterwarnings('ignore')"
   ]
  },
  {
   "cell_type": "code",
   "execution_count": 3,
   "metadata": {
    "id": "7_DmCb2pP6ym",
    "outputId": "54404cd0-91fa-49cf-a772-b1031cb7d97d"
   },
   "outputs": [
    {
     "data": {
      "text/html": [
       "<div>\n",
       "<style scoped>\n",
       "    .dataframe tbody tr th:only-of-type {\n",
       "        vertical-align: middle;\n",
       "    }\n",
       "\n",
       "    .dataframe tbody tr th {\n",
       "        vertical-align: top;\n",
       "    }\n",
       "\n",
       "    .dataframe thead th {\n",
       "        text-align: right;\n",
       "    }\n",
       "</style>\n",
       "<table border=\"1\" class=\"dataframe\">\n",
       "  <thead>\n",
       "    <tr style=\"text-align: right;\">\n",
       "      <th></th>\n",
       "      <th>transaction_id</th>\n",
       "      <th>item</th>\n",
       "    </tr>\n",
       "  </thead>\n",
       "  <tbody>\n",
       "    <tr>\n",
       "      <th>0</th>\n",
       "      <td>916369</td>\n",
       "      <td>coffee</td>\n",
       "    </tr>\n",
       "    <tr>\n",
       "      <th>1</th>\n",
       "      <td>916369</td>\n",
       "      <td>milk</td>\n",
       "    </tr>\n",
       "    <tr>\n",
       "      <th>2</th>\n",
       "      <td>916369</td>\n",
       "      <td>sugar</td>\n",
       "    </tr>\n",
       "    <tr>\n",
       "      <th>3</th>\n",
       "      <td>743789</td>\n",
       "      <td>coffee</td>\n",
       "    </tr>\n",
       "    <tr>\n",
       "      <th>4</th>\n",
       "      <td>743789</td>\n",
       "      <td>milk</td>\n",
       "    </tr>\n",
       "    <tr>\n",
       "      <th>5</th>\n",
       "      <td>743789</td>\n",
       "      <td>sugar</td>\n",
       "    </tr>\n",
       "    <tr>\n",
       "      <th>6</th>\n",
       "      <td>169588</td>\n",
       "      <td>coffee</td>\n",
       "    </tr>\n",
       "    <tr>\n",
       "      <th>7</th>\n",
       "      <td>169588</td>\n",
       "      <td>milk</td>\n",
       "    </tr>\n",
       "    <tr>\n",
       "      <th>8</th>\n",
       "      <td>169588</td>\n",
       "      <td>sugar</td>\n",
       "    </tr>\n",
       "    <tr>\n",
       "      <th>9</th>\n",
       "      <td>723327</td>\n",
       "      <td>coffee</td>\n",
       "    </tr>\n",
       "  </tbody>\n",
       "</table>\n",
       "</div>"
      ],
      "text/plain": [
       "   transaction_id    item\n",
       "0          916369  coffee\n",
       "1          916369    milk\n",
       "2          916369   sugar\n",
       "3          743789  coffee\n",
       "4          743789    milk\n",
       "5          743789   sugar\n",
       "6          169588  coffee\n",
       "7          169588    milk\n",
       "8          169588   sugar\n",
       "9          723327  coffee"
      ]
     },
     "execution_count": 3,
     "metadata": {},
     "output_type": "execute_result"
    }
   ],
   "source": [
    "import pandas as pd\n",
    "basket_df = pd.read_csv(\"data/baskets.csv\")\n",
    "basket_df.head(10)"
   ]
  },
  {
   "cell_type": "code",
   "execution_count": null,
   "metadata": {},
   "outputs": [],
   "source": []
  },
  {
   "cell_type": "markdown",
   "metadata": {
    "id": "1mjV_sjbP6yn"
   },
   "source": [
    "In this dataframe, every item that was purchased has its transcation id associated with it, but we would like to group items into complete transcations."
   ]
  },
  {
   "cell_type": "markdown",
   "metadata": {
    "id": "EUCyBfnXP6yn"
   },
   "source": [
    "---\n",
    "### Exercise 1\n",
    "\n",
    "Group the dataframe into a pandas series so that each transaction id indexes a list of the items purchased with it.\n",
    "\n",
    "e.g.:\n",
    "\n",
    "```\n",
    "transaction_id\n",
    "2376      [coffee, milk, sugar]\n",
    "3688                   [coffee]\n",
    "10266            [coffee, milk]\n",
    "26740     [coffee, milk, sugar]\n",
    "40073     [coffee, milk, sugar]\n",
    "                  ...          \n",
    "```"
   ]
  },
  {
   "cell_type": "markdown",
   "metadata": {
    "id": "wV58UgyyP6yn"
   },
   "source": [
    "#### Solution"
   ]
  },
  {
   "cell_type": "markdown",
   "metadata": {
    "id": "oU1O379uP6yn"
   },
   "source": [
    "We group by transaction id and apply the `list` function to each group:"
   ]
  },
  {
   "cell_type": "code",
   "execution_count": 9,
   "metadata": {
    "id": "gL5hZp4jy6D5",
    "outputId": "1cf21a0b-9fdc-4170-b5ab-28afcc338f4d",
    "scrolled": true
   },
   "outputs": [
    {
     "data": {
      "text/plain": [
       "transaction_id\n",
       "2376      [coffee, milk, sugar]\n",
       "3688                   [coffee]\n",
       "10266            [coffee, milk]\n",
       "26740     [coffee, milk, sugar]\n",
       "40073     [coffee, milk, sugar]\n",
       "                  ...          \n",
       "961226                 [coffee]\n",
       "983283    [coffee, milk, sugar]\n",
       "986306    [coffee, milk, sugar]\n",
       "996478    [coffee, milk, sugar]\n",
       "999182           [coffee, milk]\n",
       "Name: item, Length: 100, dtype: object"
      ]
     },
     "execution_count": 9,
     "metadata": {},
     "output_type": "execute_result"
    }
   ],
   "source": [
    "#my_baskets_series = basket_df.groupby('transaction_id')['item'].apply(list)\n",
    "my_baskets_series = basket_df.groupby('transaction_id')['item'].agg(list)\n",
    "#my_baskets_series = basket_df.groupby('transaction_id')['item'].apply(lamda x: x)\n",
    "my_baskets_series"
   ]
  },
  {
   "cell_type": "markdown",
   "metadata": {
    "id": "CNDTRrDRP6yo"
   },
   "source": [
    "------------"
   ]
  },
  {
   "cell_type": "markdown",
   "metadata": {
    "id": "ASFaymttP6yo"
   },
   "source": [
    "This gives us a series of lists where the index of every list is its transaction id. We don't care about the transaction ids too much so we will just grab the values of that series. The values come back as a numpy array of lists (**NOTE: This is not the same as a 2D numpy array**)"
   ]
  },
  {
   "cell_type": "code",
   "execution_count": 10,
   "metadata": {
    "id": "wGnjH9Q_P6yo",
    "outputId": "9c64fdf3-cce7-42e0-eb7b-1d9940bfa1bc"
   },
   "outputs": [
    {
     "data": {
      "text/plain": [
       "array([list(['coffee', 'milk', 'sugar']), list(['coffee']),\n",
       "       list(['coffee', 'milk']), list(['coffee', 'milk', 'sugar']),\n",
       "       list(['coffee', 'milk', 'sugar']),\n",
       "       list(['coffee', 'milk', 'sugar']),\n",
       "       list(['coffee', 'milk', 'sugar']), list(['coffee']),\n",
       "       list(['coffee']), list(['coffee', 'milk', 'sugar']),\n",
       "       list(['coffee', 'milk', 'sugar']), list(['coffee', 'sugar']),\n",
       "       list(['coffee', 'milk', 'sugar']), list(['coffee', 'sugar']),\n",
       "       list(['coffee']), list(['coffee', 'milk', 'sugar']),\n",
       "       list(['coffee', 'milk', 'sugar']),\n",
       "       list(['coffee', 'milk', 'sugar']),\n",
       "       list(['coffee', 'milk', 'sugar']),\n",
       "       list(['coffee', 'milk', 'sugar']),\n",
       "       list(['coffee', 'milk', 'sugar']), list(['coffee']),\n",
       "       list(['coffee', 'milk']), list(['coffee', 'milk', 'sugar']),\n",
       "       list(['coffee', 'milk', 'sugar']), list(['coffee']),\n",
       "       list(['coffee', 'milk', 'sugar']),\n",
       "       list(['coffee', 'milk', 'sugar']),\n",
       "       list(['coffee', 'milk', 'sugar']), list(['coffee']),\n",
       "       list(['coffee', 'milk', 'sugar']),\n",
       "       list(['coffee', 'milk', 'sugar']), list(['coffee']),\n",
       "       list(['coffee']), list(['coffee']),\n",
       "       list(['coffee', 'milk', 'sugar']), list(['coffee', 'sugar']),\n",
       "       list(['coffee', 'milk', 'sugar']), list(['coffee']),\n",
       "       list(['coffee', 'milk', 'sugar']), list(['milk', 'sugar']),\n",
       "       list(['coffee']), list(['coffee', 'milk']),\n",
       "       list(['coffee', 'milk', 'sugar']), list(['coffee']),\n",
       "       list(['coffee', 'milk', 'sugar']),\n",
       "       list(['coffee', 'milk', 'sugar']),\n",
       "       list(['coffee', 'milk', 'sugar']), list(['coffee', 'milk']),\n",
       "       list(['coffee']), list(['milk', 'sugar']),\n",
       "       list(['coffee', 'milk']), list(['coffee', 'milk', 'sugar']),\n",
       "       list(['coffee', 'milk', 'sugar']), list(['milk', 'sugar']),\n",
       "       list(['coffee']), list(['coffee']), list(['coffee', 'milk']),\n",
       "       list(['milk', 'sugar']), list(['coffee']),\n",
       "       list(['coffee', 'milk', 'sugar']), list(['coffee']),\n",
       "       list(['coffee']), list(['coffee']), list(['coffee', 'milk']),\n",
       "       list(['coffee', 'milk', 'sugar']),\n",
       "       list(['coffee', 'milk', 'sugar']), list(['coffee', 'milk']),\n",
       "       list(['coffee']), list(['coffee', 'milk', 'sugar']),\n",
       "       list(['coffee', 'milk', 'sugar']), list(['coffee', 'milk']),\n",
       "       list(['coffee']), list(['milk', 'sugar']), list(['milk']),\n",
       "       list(['coffee', 'milk', 'sugar']),\n",
       "       list(['coffee', 'milk', 'sugar']),\n",
       "       list(['coffee', 'milk', 'sugar']), list(['coffee', 'milk']),\n",
       "       list(['coffee', 'milk', 'sugar']), list(['milk', 'sugar']),\n",
       "       list(['coffee']), list(['milk']),\n",
       "       list(['coffee', 'milk', 'sugar']),\n",
       "       list(['coffee', 'milk', 'sugar']),\n",
       "       list(['coffee', 'milk', 'sugar']),\n",
       "       list(['coffee', 'milk', 'sugar']),\n",
       "       list(['coffee', 'milk', 'sugar']),\n",
       "       list(['coffee', 'milk', 'sugar']),\n",
       "       list(['coffee', 'milk', 'sugar']),\n",
       "       list(['coffee', 'milk', 'sugar']),\n",
       "       list(['coffee', 'milk', 'sugar']), list(['coffee']),\n",
       "       list(['coffee']), list(['coffee', 'milk', 'sugar']),\n",
       "       list(['coffee']), list(['coffee', 'milk', 'sugar']),\n",
       "       list(['coffee', 'milk', 'sugar']),\n",
       "       list(['coffee', 'milk', 'sugar']), list(['coffee', 'milk'])],\n",
       "      dtype=object)"
      ]
     },
     "execution_count": 10,
     "metadata": {},
     "output_type": "execute_result"
    }
   ],
   "source": [
    "my_baskets = my_baskets_series.values\n",
    "my_baskets"
   ]
  },
  {
   "cell_type": "markdown",
   "metadata": {
    "id": "OrRiV0m-xOkQ"
   },
   "source": [
    "This is not nice data! We can't just put it into a dataframe - there is a different number of items bought each time.\n",
    "\n",
    "In R, the standard package to analyse this type of data is `arules`, but it is not very user-friendly. As we have been working with `scikit-learn`, let's stick to the same ecosystem.\n",
    "\n",
    "Unfortunately, `scikit-learn` does not have anything built in either - but we can use the `mlxtend` package, which contains a number of extensions to `scikit-learn`."
   ]
  },
  {
   "cell_type": "markdown",
   "metadata": {
    "id": "PbDwcu10xOkT"
   },
   "source": [
    "### Using mlxtend\n",
    "\n",
    "We follow the same basic API in `mlxtend` as in `scikit-learn`. We have preprocessing, along with models that we use to fit, transform and predict."
   ]
  },
  {
   "cell_type": "code",
   "execution_count": 11,
   "metadata": {
    "id": "yJVD9Gr1xOkU"
   },
   "outputs": [],
   "source": [
    "from mlxtend.preprocessing import TransactionEncoder"
   ]
  },
  {
   "cell_type": "code",
   "execution_count": 12,
   "metadata": {
    "id": "Dc1ySqxfP6yo",
    "outputId": "a86c52b7-271d-48cc-d505-514325276b5b"
   },
   "outputs": [
    {
     "data": {
      "text/html": [
       "<div>\n",
       "<style scoped>\n",
       "    .dataframe tbody tr th:only-of-type {\n",
       "        vertical-align: middle;\n",
       "    }\n",
       "\n",
       "    .dataframe tbody tr th {\n",
       "        vertical-align: top;\n",
       "    }\n",
       "\n",
       "    .dataframe thead th {\n",
       "        text-align: right;\n",
       "    }\n",
       "</style>\n",
       "<table border=\"1\" class=\"dataframe\">\n",
       "  <thead>\n",
       "    <tr style=\"text-align: right;\">\n",
       "      <th></th>\n",
       "      <th>coffee</th>\n",
       "      <th>milk</th>\n",
       "      <th>sugar</th>\n",
       "    </tr>\n",
       "  </thead>\n",
       "  <tbody>\n",
       "    <tr>\n",
       "      <th>0</th>\n",
       "      <td>True</td>\n",
       "      <td>True</td>\n",
       "      <td>True</td>\n",
       "    </tr>\n",
       "    <tr>\n",
       "      <th>1</th>\n",
       "      <td>True</td>\n",
       "      <td>False</td>\n",
       "      <td>False</td>\n",
       "    </tr>\n",
       "    <tr>\n",
       "      <th>2</th>\n",
       "      <td>True</td>\n",
       "      <td>True</td>\n",
       "      <td>False</td>\n",
       "    </tr>\n",
       "    <tr>\n",
       "      <th>3</th>\n",
       "      <td>True</td>\n",
       "      <td>True</td>\n",
       "      <td>True</td>\n",
       "    </tr>\n",
       "    <tr>\n",
       "      <th>4</th>\n",
       "      <td>True</td>\n",
       "      <td>True</td>\n",
       "      <td>True</td>\n",
       "    </tr>\n",
       "  </tbody>\n",
       "</table>\n",
       "</div>"
      ],
      "text/plain": [
       "   coffee   milk  sugar\n",
       "0    True   True   True\n",
       "1    True  False  False\n",
       "2    True   True  False\n",
       "3    True   True   True\n",
       "4    True   True   True"
      ]
     },
     "execution_count": 12,
     "metadata": {},
     "output_type": "execute_result"
    }
   ],
   "source": [
    "te = TransactionEncoder()\n",
    "coffee = te.fit_transform(my_baskets)\n",
    "coffee_df = pd.DataFrame(coffee, columns=te.columns_)\n",
    "coffee_df.head()"
   ]
  },
  {
   "cell_type": "code",
   "execution_count": 13,
   "metadata": {},
   "outputs": [
    {
     "data": {
      "text/plain": [
       "array([list(['coffee', 'milk', 'sugar']), list(['coffee']),\n",
       "       list(['coffee', 'milk']), list(['coffee', 'milk', 'sugar']),\n",
       "       list(['coffee', 'milk', 'sugar']),\n",
       "       list(['coffee', 'milk', 'sugar']),\n",
       "       list(['coffee', 'milk', 'sugar']), list(['coffee']),\n",
       "       list(['coffee']), list(['coffee', 'milk', 'sugar']),\n",
       "       list(['coffee', 'milk', 'sugar']), list(['coffee', 'sugar']),\n",
       "       list(['coffee', 'milk', 'sugar']), list(['coffee', 'sugar']),\n",
       "       list(['coffee']), list(['coffee', 'milk', 'sugar']),\n",
       "       list(['coffee', 'milk', 'sugar']),\n",
       "       list(['coffee', 'milk', 'sugar']),\n",
       "       list(['coffee', 'milk', 'sugar']),\n",
       "       list(['coffee', 'milk', 'sugar']),\n",
       "       list(['coffee', 'milk', 'sugar']), list(['coffee']),\n",
       "       list(['coffee', 'milk']), list(['coffee', 'milk', 'sugar']),\n",
       "       list(['coffee', 'milk', 'sugar']), list(['coffee']),\n",
       "       list(['coffee', 'milk', 'sugar']),\n",
       "       list(['coffee', 'milk', 'sugar']),\n",
       "       list(['coffee', 'milk', 'sugar']), list(['coffee']),\n",
       "       list(['coffee', 'milk', 'sugar']),\n",
       "       list(['coffee', 'milk', 'sugar']), list(['coffee']),\n",
       "       list(['coffee']), list(['coffee']),\n",
       "       list(['coffee', 'milk', 'sugar']), list(['coffee', 'sugar']),\n",
       "       list(['coffee', 'milk', 'sugar']), list(['coffee']),\n",
       "       list(['coffee', 'milk', 'sugar']), list(['milk', 'sugar']),\n",
       "       list(['coffee']), list(['coffee', 'milk']),\n",
       "       list(['coffee', 'milk', 'sugar']), list(['coffee']),\n",
       "       list(['coffee', 'milk', 'sugar']),\n",
       "       list(['coffee', 'milk', 'sugar']),\n",
       "       list(['coffee', 'milk', 'sugar']), list(['coffee', 'milk']),\n",
       "       list(['coffee']), list(['milk', 'sugar']),\n",
       "       list(['coffee', 'milk']), list(['coffee', 'milk', 'sugar']),\n",
       "       list(['coffee', 'milk', 'sugar']), list(['milk', 'sugar']),\n",
       "       list(['coffee']), list(['coffee']), list(['coffee', 'milk']),\n",
       "       list(['milk', 'sugar']), list(['coffee']),\n",
       "       list(['coffee', 'milk', 'sugar']), list(['coffee']),\n",
       "       list(['coffee']), list(['coffee']), list(['coffee', 'milk']),\n",
       "       list(['coffee', 'milk', 'sugar']),\n",
       "       list(['coffee', 'milk', 'sugar']), list(['coffee', 'milk']),\n",
       "       list(['coffee']), list(['coffee', 'milk', 'sugar']),\n",
       "       list(['coffee', 'milk', 'sugar']), list(['coffee', 'milk']),\n",
       "       list(['coffee']), list(['milk', 'sugar']), list(['milk']),\n",
       "       list(['coffee', 'milk', 'sugar']),\n",
       "       list(['coffee', 'milk', 'sugar']),\n",
       "       list(['coffee', 'milk', 'sugar']), list(['coffee', 'milk']),\n",
       "       list(['coffee', 'milk', 'sugar']), list(['milk', 'sugar']),\n",
       "       list(['coffee']), list(['milk']),\n",
       "       list(['coffee', 'milk', 'sugar']),\n",
       "       list(['coffee', 'milk', 'sugar']),\n",
       "       list(['coffee', 'milk', 'sugar']),\n",
       "       list(['coffee', 'milk', 'sugar']),\n",
       "       list(['coffee', 'milk', 'sugar']),\n",
       "       list(['coffee', 'milk', 'sugar']),\n",
       "       list(['coffee', 'milk', 'sugar']),\n",
       "       list(['coffee', 'milk', 'sugar']),\n",
       "       list(['coffee', 'milk', 'sugar']), list(['coffee']),\n",
       "       list(['coffee']), list(['coffee', 'milk', 'sugar']),\n",
       "       list(['coffee']), list(['coffee', 'milk', 'sugar']),\n",
       "       list(['coffee', 'milk', 'sugar']),\n",
       "       list(['coffee', 'milk', 'sugar']), list(['coffee', 'milk'])],\n",
       "      dtype=object)"
      ]
     },
     "execution_count": 13,
     "metadata": {},
     "output_type": "execute_result"
    }
   ],
   "source": [
    "my_baskets"
   ]
  },
  {
   "cell_type": "markdown",
   "metadata": {
    "id": "Y97P2lU-xOka"
   },
   "source": [
    "Great, so we now have a data frame with columns as dummy variables for each item in our store. The rows are each a basket. In association rules, we normally discount the total number of an item bought - though it is possible to add a 'fake item' flag to tag larger purchases of items.\n",
    "\n",
    "What if we have a large store/dataset? Our columns might number in the tens of thousands. Amazon sells over 500 million distinct items. We will discuss solutions shortly - for now let's keep working on our coffee shops data.\n",
    "\n",
    "First, we can do some simple exploratory data analysis:"
   ]
  },
  {
   "cell_type": "code",
   "execution_count": 14,
   "metadata": {
    "id": "iGuvQjNCP6yo",
    "outputId": "fcc75078-ad4f-4635-fcbe-9c3b7c3aa16d"
   },
   "outputs": [
    {
     "name": "stdout",
     "output_type": "stream",
     "text": [
      "coffee    92\n",
      "milk      71\n",
      "sugar     61\n",
      "dtype: int64\n"
     ]
    }
   ],
   "source": [
    "import matplotlib.pyplot as plt\n",
    "import seaborn as sns\n",
    "\n",
    "###How many in total:\n",
    "print(coffee_df.sum(axis = 0))"
   ]
  },
  {
   "cell_type": "code",
   "execution_count": 15,
   "metadata": {
    "id": "ZaCto6cKP6yo",
    "outputId": "f86813af-f8ee-4f03-9067-afe18df6ab0c"
   },
   "outputs": [
    {
     "data": {
      "text/html": [
       "<div>\n",
       "<style scoped>\n",
       "    .dataframe tbody tr th:only-of-type {\n",
       "        vertical-align: middle;\n",
       "    }\n",
       "\n",
       "    .dataframe tbody tr th {\n",
       "        vertical-align: top;\n",
       "    }\n",
       "\n",
       "    .dataframe thead th {\n",
       "        text-align: right;\n",
       "    }\n",
       "</style>\n",
       "<table border=\"1\" class=\"dataframe\">\n",
       "  <thead>\n",
       "    <tr style=\"text-align: right;\">\n",
       "      <th></th>\n",
       "      <th>coffee</th>\n",
       "      <th>milk</th>\n",
       "      <th>sugar</th>\n",
       "    </tr>\n",
       "  </thead>\n",
       "  <tbody>\n",
       "    <tr>\n",
       "      <th>coffee</th>\n",
       "      <td>0</td>\n",
       "      <td>0</td>\n",
       "      <td>0</td>\n",
       "    </tr>\n",
       "    <tr>\n",
       "      <th>milk</th>\n",
       "      <td>0</td>\n",
       "      <td>0</td>\n",
       "      <td>0</td>\n",
       "    </tr>\n",
       "    <tr>\n",
       "      <th>sugar</th>\n",
       "      <td>0</td>\n",
       "      <td>0</td>\n",
       "      <td>0</td>\n",
       "    </tr>\n",
       "  </tbody>\n",
       "</table>\n",
       "</div>"
      ],
      "text/plain": [
       "        coffee  milk  sugar\n",
       "coffee       0     0      0\n",
       "milk         0     0      0\n",
       "sugar        0     0      0"
      ]
     },
     "execution_count": 15,
     "metadata": {},
     "output_type": "execute_result"
    }
   ],
   "source": [
    "# make a co-occurrence table:\n",
    "co_occurrence = pd.DataFrame({\"coffee\": [0,0,0],\n",
    "                             \"milk\": [0,0,0],\n",
    "                             \"sugar\": [0,0,0]},\n",
    "                            index = [\"coffee\", \"milk\", \"sugar\"])\n",
    "co_occurrence"
   ]
  },
  {
   "cell_type": "code",
   "execution_count": 16,
   "metadata": {
    "id": "AmNPPpewP6yo",
    "outputId": "0511f459-4266-4eb5-c504-d512d2a9b1b7"
   },
   "outputs": [
    {
     "data": {
      "text/html": [
       "<div>\n",
       "<style scoped>\n",
       "    .dataframe tbody tr th:only-of-type {\n",
       "        vertical-align: middle;\n",
       "    }\n",
       "\n",
       "    .dataframe tbody tr th {\n",
       "        vertical-align: top;\n",
       "    }\n",
       "\n",
       "    .dataframe thead th {\n",
       "        text-align: right;\n",
       "    }\n",
       "</style>\n",
       "<table border=\"1\" class=\"dataframe\">\n",
       "  <thead>\n",
       "    <tr style=\"text-align: right;\">\n",
       "      <th></th>\n",
       "      <th>coffee</th>\n",
       "      <th>milk</th>\n",
       "      <th>sugar</th>\n",
       "    </tr>\n",
       "  </thead>\n",
       "  <tbody>\n",
       "    <tr>\n",
       "      <th>coffee</th>\n",
       "      <td>92</td>\n",
       "      <td>63</td>\n",
       "      <td>55</td>\n",
       "    </tr>\n",
       "    <tr>\n",
       "      <th>milk</th>\n",
       "      <td>63</td>\n",
       "      <td>71</td>\n",
       "      <td>58</td>\n",
       "    </tr>\n",
       "    <tr>\n",
       "      <th>sugar</th>\n",
       "      <td>55</td>\n",
       "      <td>58</td>\n",
       "      <td>61</td>\n",
       "    </tr>\n",
       "  </tbody>\n",
       "</table>\n",
       "</div>"
      ],
      "text/plain": [
       "        coffee  milk  sugar\n",
       "coffee      92    63     55\n",
       "milk        63    71     58\n",
       "sugar       55    58     61"
      ]
     },
     "execution_count": 16,
     "metadata": {},
     "output_type": "execute_result"
    }
   ],
   "source": [
    "# Iterate over each row\n",
    "for index, row in coffee_df.iterrows():\n",
    "    # For each item combination\n",
    "    for item1 in [\"coffee\", \"milk\", \"sugar\"]:\n",
    "        for item2 in [\"coffee\", \"milk\", \"sugar\"]:\n",
    "            # If both are true, add one to the associated index in the co-occurence table\n",
    "            if row[item1] and row[item2]:\n",
    "                co_occurrence.loc[item1, item2] += 1\n",
    "co_occurrence"
   ]
  },
  {
   "cell_type": "code",
   "execution_count": 17,
   "metadata": {
    "id": "5LqvkpHOxOkb",
    "outputId": "b3b5fff5-d7c1-47ee-bb94-13ea68e865f0"
   },
   "outputs": [
    {
     "data": {
      "text/html": [
       "<div>\n",
       "<style scoped>\n",
       "    .dataframe tbody tr th:only-of-type {\n",
       "        vertical-align: middle;\n",
       "    }\n",
       "\n",
       "    .dataframe tbody tr th {\n",
       "        vertical-align: top;\n",
       "    }\n",
       "\n",
       "    .dataframe thead th {\n",
       "        text-align: right;\n",
       "    }\n",
       "</style>\n",
       "<table border=\"1\" class=\"dataframe\">\n",
       "  <thead>\n",
       "    <tr style=\"text-align: right;\">\n",
       "      <th></th>\n",
       "      <th>coffee</th>\n",
       "      <th>milk</th>\n",
       "      <th>sugar</th>\n",
       "    </tr>\n",
       "  </thead>\n",
       "  <tbody>\n",
       "    <tr>\n",
       "      <th>coffee</th>\n",
       "      <td>0.92</td>\n",
       "      <td>0.63</td>\n",
       "      <td>0.55</td>\n",
       "    </tr>\n",
       "    <tr>\n",
       "      <th>milk</th>\n",
       "      <td>0.63</td>\n",
       "      <td>0.71</td>\n",
       "      <td>0.58</td>\n",
       "    </tr>\n",
       "    <tr>\n",
       "      <th>sugar</th>\n",
       "      <td>0.55</td>\n",
       "      <td>0.58</td>\n",
       "      <td>0.61</td>\n",
       "    </tr>\n",
       "  </tbody>\n",
       "</table>\n",
       "</div>"
      ],
      "text/plain": [
       "        coffee  milk  sugar\n",
       "coffee    0.92  0.63   0.55\n",
       "milk      0.63  0.71   0.58\n",
       "sugar     0.55  0.58   0.61"
      ]
     },
     "execution_count": 17,
     "metadata": {},
     "output_type": "execute_result"
    }
   ],
   "source": [
    "# Turn the table into percent\n",
    "co_occurrence/coffee_df.shape[0]"
   ]
  },
  {
   "cell_type": "code",
   "execution_count": 18,
   "metadata": {},
   "outputs": [
    {
     "data": {
      "text/html": [
       "<div>\n",
       "<style scoped>\n",
       "    .dataframe tbody tr th:only-of-type {\n",
       "        vertical-align: middle;\n",
       "    }\n",
       "\n",
       "    .dataframe tbody tr th {\n",
       "        vertical-align: top;\n",
       "    }\n",
       "\n",
       "    .dataframe thead th {\n",
       "        text-align: right;\n",
       "    }\n",
       "</style>\n",
       "<table border=\"1\" class=\"dataframe\">\n",
       "  <thead>\n",
       "    <tr style=\"text-align: right;\">\n",
       "      <th></th>\n",
       "      <th>coffee</th>\n",
       "      <th>milk</th>\n",
       "      <th>sugar</th>\n",
       "    </tr>\n",
       "  </thead>\n",
       "  <tbody>\n",
       "    <tr>\n",
       "      <th>0</th>\n",
       "      <td>True</td>\n",
       "      <td>True</td>\n",
       "      <td>True</td>\n",
       "    </tr>\n",
       "    <tr>\n",
       "      <th>1</th>\n",
       "      <td>True</td>\n",
       "      <td>False</td>\n",
       "      <td>False</td>\n",
       "    </tr>\n",
       "    <tr>\n",
       "      <th>2</th>\n",
       "      <td>True</td>\n",
       "      <td>True</td>\n",
       "      <td>False</td>\n",
       "    </tr>\n",
       "    <tr>\n",
       "      <th>3</th>\n",
       "      <td>True</td>\n",
       "      <td>True</td>\n",
       "      <td>True</td>\n",
       "    </tr>\n",
       "    <tr>\n",
       "      <th>4</th>\n",
       "      <td>True</td>\n",
       "      <td>True</td>\n",
       "      <td>True</td>\n",
       "    </tr>\n",
       "  </tbody>\n",
       "</table>\n",
       "</div>"
      ],
      "text/plain": [
       "   coffee   milk  sugar\n",
       "0    True   True   True\n",
       "1    True  False  False\n",
       "2    True   True  False\n",
       "3    True   True   True\n",
       "4    True   True   True"
      ]
     },
     "execution_count": 18,
     "metadata": {},
     "output_type": "execute_result"
    }
   ],
   "source": [
    "coffee_df.head()"
   ]
  },
  {
   "cell_type": "code",
   "execution_count": 19,
   "metadata": {
    "id": "BrboSW3RP6yp",
    "outputId": "58bf938c-eec9-4d11-ae1c-93bc17b8962c"
   },
   "outputs": [
    {
     "data": {
      "text/html": [
       "<div>\n",
       "<style scoped>\n",
       "    .dataframe tbody tr th:only-of-type {\n",
       "        vertical-align: middle;\n",
       "    }\n",
       "\n",
       "    .dataframe tbody tr th {\n",
       "        vertical-align: top;\n",
       "    }\n",
       "\n",
       "    .dataframe thead th {\n",
       "        text-align: right;\n",
       "    }\n",
       "</style>\n",
       "<table border=\"1\" class=\"dataframe\">\n",
       "  <thead>\n",
       "    <tr style=\"text-align: right;\">\n",
       "      <th></th>\n",
       "      <th>coffee</th>\n",
       "      <th>milk</th>\n",
       "      <th>sugar</th>\n",
       "    </tr>\n",
       "  </thead>\n",
       "  <tbody>\n",
       "    <tr>\n",
       "      <th>coffee</th>\n",
       "      <td>0.92</td>\n",
       "      <td>0.63</td>\n",
       "      <td>0.55</td>\n",
       "    </tr>\n",
       "    <tr>\n",
       "      <th>milk</th>\n",
       "      <td>0.63</td>\n",
       "      <td>0.71</td>\n",
       "      <td>0.58</td>\n",
       "    </tr>\n",
       "    <tr>\n",
       "      <th>sugar</th>\n",
       "      <td>0.55</td>\n",
       "      <td>0.58</td>\n",
       "      <td>0.61</td>\n",
       "    </tr>\n",
       "  </tbody>\n",
       "</table>\n",
       "</div>"
      ],
      "text/plain": [
       "        coffee  milk  sugar\n",
       "coffee    0.92  0.63   0.55\n",
       "milk      0.63  0.71   0.58\n",
       "sugar     0.55  0.58   0.61"
      ]
     },
     "execution_count": 19,
     "metadata": {},
     "output_type": "execute_result"
    }
   ],
   "source": [
    "# Can also be accomplished with some linear algebra magic\n",
    "ctable = coffee_df.T.dot(coffee_df.astype('int'))\n",
    "ctable = ctable/coffee_df.shape[0]\n",
    "ctable"
   ]
  },
  {
   "cell_type": "markdown",
   "metadata": {
    "id": "bVfelUHIxOke"
   },
   "source": [
    "By eyeballing the data, we can see that the coffee is most common, milk is less common, and sugar is the least common. It is hard to tell if there are any rules about which products co-occur in purchases.\n",
    "\n",
    "This is where association rules come in."
   ]
  },
  {
   "cell_type": "markdown",
   "metadata": {
    "id": "w5dErc37xOkf"
   },
   "source": [
    "### Apriori Algorithm\n",
    "\n",
    "Again, the problem of a large number of items rears its head. What we want to do is to create all possible combinations of items, then see which items are most commonly also purchased, given that one of these combinations has been purchased.\n",
    "\n",
    "We can see that for a number of objects, $n$, in our store, there are about $n^x$ possible $x$ sized baskets\n",
    "\n",
    "The method for creating our baskets is called the Apriori algorithm (Agrawal & Srikant, 1994<sup>[1](http://www.vldb.org/conf/1994/P487.PDF)</sup>). There are several other more efficient methods since proposed but not coded, so we will stick with it for now. [Wikipedia has the exact details](https://en.wikipedia.org/wiki/Apriori_algorithm).\n",
    "\n",
    "The idea is, we take a threshold occurrence, $C$, and find all individual items with occurence greater than $C$. Any items that are less than our threshold are removed from further analysis. We then go up a level and find all _pairs_ of non-excluded objects, and use the same threshold to exclude items. We can progressively widen the number of items in our sets while avoiding some of the explosion of computation size with sensible exclusions.\n",
    "\n",
    "This is implemented in mlxtend:"
   ]
  },
  {
   "cell_type": "code",
   "execution_count": 20,
   "metadata": {
    "id": "FpLQnXltxOkg",
    "outputId": "6afcb2a9-f35b-4664-9b4d-25487abab548"
   },
   "outputs": [],
   "source": [
    "from mlxtend.frequent_patterns import apriori\n",
    "from mlxtend.frequent_patterns import association_rules\n",
    "\n"
   ]
  },
  {
   "cell_type": "code",
   "execution_count": 21,
   "metadata": {},
   "outputs": [
    {
     "data": {
      "text/html": [
       "<div>\n",
       "<style scoped>\n",
       "    .dataframe tbody tr th:only-of-type {\n",
       "        vertical-align: middle;\n",
       "    }\n",
       "\n",
       "    .dataframe tbody tr th {\n",
       "        vertical-align: top;\n",
       "    }\n",
       "\n",
       "    .dataframe thead th {\n",
       "        text-align: right;\n",
       "    }\n",
       "</style>\n",
       "<table border=\"1\" class=\"dataframe\">\n",
       "  <thead>\n",
       "    <tr style=\"text-align: right;\">\n",
       "      <th></th>\n",
       "      <th>support</th>\n",
       "      <th>itemsets</th>\n",
       "    </tr>\n",
       "  </thead>\n",
       "  <tbody>\n",
       "    <tr>\n",
       "      <th>0</th>\n",
       "      <td>0.92</td>\n",
       "      <td>(coffee)</td>\n",
       "    </tr>\n",
       "    <tr>\n",
       "      <th>1</th>\n",
       "      <td>0.71</td>\n",
       "      <td>(milk)</td>\n",
       "    </tr>\n",
       "    <tr>\n",
       "      <th>2</th>\n",
       "      <td>0.61</td>\n",
       "      <td>(sugar)</td>\n",
       "    </tr>\n",
       "    <tr>\n",
       "      <th>3</th>\n",
       "      <td>0.63</td>\n",
       "      <td>(milk, coffee)</td>\n",
       "    </tr>\n",
       "    <tr>\n",
       "      <th>4</th>\n",
       "      <td>0.55</td>\n",
       "      <td>(sugar, coffee)</td>\n",
       "    </tr>\n",
       "    <tr>\n",
       "      <th>5</th>\n",
       "      <td>0.58</td>\n",
       "      <td>(milk, sugar)</td>\n",
       "    </tr>\n",
       "    <tr>\n",
       "      <th>6</th>\n",
       "      <td>0.52</td>\n",
       "      <td>(milk, sugar, coffee)</td>\n",
       "    </tr>\n",
       "  </tbody>\n",
       "</table>\n",
       "</div>"
      ],
      "text/plain": [
       "   support               itemsets\n",
       "0     0.92               (coffee)\n",
       "1     0.71                 (milk)\n",
       "2     0.61                (sugar)\n",
       "3     0.63         (milk, coffee)\n",
       "4     0.55        (sugar, coffee)\n",
       "5     0.58          (milk, sugar)\n",
       "6     0.52  (milk, sugar, coffee)"
      ]
     },
     "execution_count": 21,
     "metadata": {},
     "output_type": "execute_result"
    }
   ],
   "source": [
    "### create a df with all our items: threshold, names and len\n",
    "apriori(coffee_df, min_support=0.5, use_colnames=True, max_len = 3)"
   ]
  },
  {
   "cell_type": "code",
   "execution_count": 22,
   "metadata": {},
   "outputs": [
    {
     "data": {
      "text/html": [
       "<div>\n",
       "<style scoped>\n",
       "    .dataframe tbody tr th:only-of-type {\n",
       "        vertical-align: middle;\n",
       "    }\n",
       "\n",
       "    .dataframe tbody tr th {\n",
       "        vertical-align: top;\n",
       "    }\n",
       "\n",
       "    .dataframe thead th {\n",
       "        text-align: right;\n",
       "    }\n",
       "</style>\n",
       "<table border=\"1\" class=\"dataframe\">\n",
       "  <thead>\n",
       "    <tr style=\"text-align: right;\">\n",
       "      <th></th>\n",
       "      <th>support</th>\n",
       "      <th>itemsets</th>\n",
       "    </tr>\n",
       "  </thead>\n",
       "  <tbody>\n",
       "    <tr>\n",
       "      <th>0</th>\n",
       "      <td>0.92</td>\n",
       "      <td>(coffee)</td>\n",
       "    </tr>\n",
       "    <tr>\n",
       "      <th>1</th>\n",
       "      <td>0.71</td>\n",
       "      <td>(milk)</td>\n",
       "    </tr>\n",
       "  </tbody>\n",
       "</table>\n",
       "</div>"
      ],
      "text/plain": [
       "   support  itemsets\n",
       "0     0.92  (coffee)\n",
       "1     0.71    (milk)"
      ]
     },
     "execution_count": 22,
     "metadata": {},
     "output_type": "execute_result"
    }
   ],
   "source": [
    "### create a df with all our items: threshold, names and len\n",
    "apriori(coffee_df, min_support=0.7, use_colnames=True, max_len = 3)"
   ]
  },
  {
   "cell_type": "markdown",
   "metadata": {
    "id": "xaL76CfWxOkj"
   },
   "source": [
    "We can see the *support* score is the proportion of baskets that contain the given item, or combinations of items.\n",
    "\n",
    "In the case here with setting a minimum support of 0.5, all of our combinations are returned. In a larger example, we would start to find interesting co-occurrences here.\n",
    "\n",
    "The output is a pandas dataframe, so we can filter, sort, *etc.* as desired. The `itemsets` column is of object datatype, and contains tuples:\n"
   ]
  },
  {
   "cell_type": "code",
   "execution_count": 23,
   "metadata": {
    "id": "8vPW-0CNxOkk",
    "outputId": "536afc64-3fa1-4033-a48e-e0389e1b729e"
   },
   "outputs": [
    {
     "data": {
      "text/html": [
       "<div>\n",
       "<style scoped>\n",
       "    .dataframe tbody tr th:only-of-type {\n",
       "        vertical-align: middle;\n",
       "    }\n",
       "\n",
       "    .dataframe tbody tr th {\n",
       "        vertical-align: top;\n",
       "    }\n",
       "\n",
       "    .dataframe thead th {\n",
       "        text-align: right;\n",
       "    }\n",
       "</style>\n",
       "<table border=\"1\" class=\"dataframe\">\n",
       "  <thead>\n",
       "    <tr style=\"text-align: right;\">\n",
       "      <th></th>\n",
       "      <th>support</th>\n",
       "      <th>itemsets</th>\n",
       "      <th>length</th>\n",
       "    </tr>\n",
       "  </thead>\n",
       "  <tbody>\n",
       "    <tr>\n",
       "      <th>0</th>\n",
       "      <td>0.92</td>\n",
       "      <td>(coffee)</td>\n",
       "      <td>1</td>\n",
       "    </tr>\n",
       "    <tr>\n",
       "      <th>1</th>\n",
       "      <td>0.71</td>\n",
       "      <td>(milk)</td>\n",
       "      <td>1</td>\n",
       "    </tr>\n",
       "    <tr>\n",
       "      <th>2</th>\n",
       "      <td>0.61</td>\n",
       "      <td>(sugar)</td>\n",
       "      <td>1</td>\n",
       "    </tr>\n",
       "    <tr>\n",
       "      <th>3</th>\n",
       "      <td>0.63</td>\n",
       "      <td>(milk, coffee)</td>\n",
       "      <td>2</td>\n",
       "    </tr>\n",
       "    <tr>\n",
       "      <th>4</th>\n",
       "      <td>0.55</td>\n",
       "      <td>(sugar, coffee)</td>\n",
       "      <td>2</td>\n",
       "    </tr>\n",
       "    <tr>\n",
       "      <th>5</th>\n",
       "      <td>0.58</td>\n",
       "      <td>(milk, sugar)</td>\n",
       "      <td>2</td>\n",
       "    </tr>\n",
       "    <tr>\n",
       "      <th>6</th>\n",
       "      <td>0.52</td>\n",
       "      <td>(milk, sugar, coffee)</td>\n",
       "      <td>3</td>\n",
       "    </tr>\n",
       "  </tbody>\n",
       "</table>\n",
       "</div>"
      ],
      "text/plain": [
       "   support               itemsets  length\n",
       "0     0.92               (coffee)       1\n",
       "1     0.71                 (milk)       1\n",
       "2     0.61                (sugar)       1\n",
       "3     0.63         (milk, coffee)       2\n",
       "4     0.55        (sugar, coffee)       2\n",
       "5     0.58          (milk, sugar)       2\n",
       "6     0.52  (milk, sugar, coffee)       3"
      ]
     },
     "execution_count": 23,
     "metadata": {},
     "output_type": "execute_result"
    }
   ],
   "source": [
    "x = apriori(coffee_df, min_support=0.5, use_colnames=True, max_len = 3)\n",
    "x['length'] = x.itemsets.apply(lambda x: len(x))\n",
    "x"
   ]
  },
  {
   "cell_type": "markdown",
   "metadata": {
    "id": "cuq8Es_YxOko"
   },
   "source": [
    "### Determining Rules\n",
    "\n",
    "Once our data is in the format above, we can begin to determine association rules.\n",
    "\n",
    "Here, we calculate several metrics to analyse the rules. These are calculated automatically by the package, but we will take time to understand them.\n",
    "\n",
    "First, all of our groups are designated as 'antecedents' and 'consequents'. This allows us to say: 'given this group of antecedents, we see this group of consequents with frequency x'. We will designate antecedents as $X$ and consequents as $Y$ below.\n",
    "\n",
    "Let's make some rules for illustration of these measures:"
   ]
  },
  {
   "cell_type": "code",
   "execution_count": 24,
   "metadata": {
    "id": "C2d_oFrhN8z7",
    "outputId": "f27c361c-f5a9-497e-c5cf-472a73c37eb6"
   },
   "outputs": [
    {
     "data": {
      "text/html": [
       "<div>\n",
       "<style scoped>\n",
       "    .dataframe tbody tr th:only-of-type {\n",
       "        vertical-align: middle;\n",
       "    }\n",
       "\n",
       "    .dataframe tbody tr th {\n",
       "        vertical-align: top;\n",
       "    }\n",
       "\n",
       "    .dataframe thead th {\n",
       "        text-align: right;\n",
       "    }\n",
       "</style>\n",
       "<table border=\"1\" class=\"dataframe\">\n",
       "  <thead>\n",
       "    <tr style=\"text-align: right;\">\n",
       "      <th></th>\n",
       "      <th>antecedents</th>\n",
       "      <th>consequents</th>\n",
       "      <th>antecedent support</th>\n",
       "      <th>consequent support</th>\n",
       "      <th>support</th>\n",
       "      <th>confidence</th>\n",
       "      <th>lift</th>\n",
       "      <th>leverage</th>\n",
       "      <th>conviction</th>\n",
       "    </tr>\n",
       "  </thead>\n",
       "  <tbody>\n",
       "    <tr>\n",
       "      <th>0</th>\n",
       "      <td>(milk)</td>\n",
       "      <td>(sugar)</td>\n",
       "      <td>0.71</td>\n",
       "      <td>0.61</td>\n",
       "      <td>0.58</td>\n",
       "      <td>0.816901</td>\n",
       "      <td>1.339183</td>\n",
       "      <td>0.1469</td>\n",
       "      <td>2.130000</td>\n",
       "    </tr>\n",
       "    <tr>\n",
       "      <th>1</th>\n",
       "      <td>(sugar)</td>\n",
       "      <td>(milk)</td>\n",
       "      <td>0.61</td>\n",
       "      <td>0.71</td>\n",
       "      <td>0.58</td>\n",
       "      <td>0.950820</td>\n",
       "      <td>1.339183</td>\n",
       "      <td>0.1469</td>\n",
       "      <td>5.896667</td>\n",
       "    </tr>\n",
       "    <tr>\n",
       "      <th>2</th>\n",
       "      <td>(milk, coffee)</td>\n",
       "      <td>(sugar)</td>\n",
       "      <td>0.63</td>\n",
       "      <td>0.61</td>\n",
       "      <td>0.52</td>\n",
       "      <td>0.825397</td>\n",
       "      <td>1.353110</td>\n",
       "      <td>0.1357</td>\n",
       "      <td>2.233636</td>\n",
       "    </tr>\n",
       "    <tr>\n",
       "      <th>3</th>\n",
       "      <td>(sugar, coffee)</td>\n",
       "      <td>(milk)</td>\n",
       "      <td>0.55</td>\n",
       "      <td>0.71</td>\n",
       "      <td>0.52</td>\n",
       "      <td>0.945455</td>\n",
       "      <td>1.331626</td>\n",
       "      <td>0.1295</td>\n",
       "      <td>5.316667</td>\n",
       "    </tr>\n",
       "    <tr>\n",
       "      <th>4</th>\n",
       "      <td>(milk)</td>\n",
       "      <td>(sugar, coffee)</td>\n",
       "      <td>0.71</td>\n",
       "      <td>0.55</td>\n",
       "      <td>0.52</td>\n",
       "      <td>0.732394</td>\n",
       "      <td>1.331626</td>\n",
       "      <td>0.1295</td>\n",
       "      <td>1.681579</td>\n",
       "    </tr>\n",
       "    <tr>\n",
       "      <th>5</th>\n",
       "      <td>(sugar)</td>\n",
       "      <td>(milk, coffee)</td>\n",
       "      <td>0.61</td>\n",
       "      <td>0.63</td>\n",
       "      <td>0.52</td>\n",
       "      <td>0.852459</td>\n",
       "      <td>1.353110</td>\n",
       "      <td>0.1357</td>\n",
       "      <td>2.507778</td>\n",
       "    </tr>\n",
       "  </tbody>\n",
       "</table>\n",
       "</div>"
      ],
      "text/plain": [
       "       antecedents      consequents  antecedent support  consequent support  \\\n",
       "0           (milk)          (sugar)                0.71                0.61   \n",
       "1          (sugar)           (milk)                0.61                0.71   \n",
       "2   (milk, coffee)          (sugar)                0.63                0.61   \n",
       "3  (sugar, coffee)           (milk)                0.55                0.71   \n",
       "4           (milk)  (sugar, coffee)                0.71                0.55   \n",
       "5          (sugar)   (milk, coffee)                0.61                0.63   \n",
       "\n",
       "   support  confidence      lift  leverage  conviction  \n",
       "0     0.58    0.816901  1.339183    0.1469    2.130000  \n",
       "1     0.58    0.950820  1.339183    0.1469    5.896667  \n",
       "2     0.52    0.825397  1.353110    0.1357    2.233636  \n",
       "3     0.52    0.945455  1.331626    0.1295    5.316667  \n",
       "4     0.52    0.732394  1.331626    0.1295    1.681579  \n",
       "5     0.52    0.852459  1.353110    0.1357    2.507778  "
      ]
     },
     "execution_count": 24,
     "metadata": {},
     "output_type": "execute_result"
    }
   ],
   "source": [
    "from mlxtend.frequent_patterns import association_rules\n",
    "\n",
    "x = apriori(coffee_df, min_support=0.5, use_colnames=True)\n",
    "\n",
    "#take a look at the help for ways we can use this function\n",
    "association_rules(x, metric=\"lift\", min_threshold=1)"
   ]
  },
  {
   "cell_type": "markdown",
   "metadata": {
    "id": "EHyR5eukxOkv"
   },
   "source": [
    "We have already calculated **support**: How often our items, or group of items occur in the dataset.\n",
    "\n",
    "$$  \\text{support}(X \\cup Y) = \\frac{\\text{# of transactions with X and Y together}}{\\text{total number of transactions}} $$\n",
    "\n",
    "If items are not related, we would expect support of one to be independent of the support of the other. If item $X$, our antecedent, occurs in 0.7 of baskets, and item $Y$, our consequent, occurs in 0.6, we expect them to occur together in 0.7 * 0.6 = 0.42 (or 42%) of baskets.\n",
    "\n",
    "If the proportion is higher, then we have items which are occurring at a higher frequency than expected - this might indicate that we have a useful association rule. If `milk`, then `sugar`.\n",
    "\n",
    "**Confidence** is a measure of how much more likely one basket is to occur than another. It is calculated by dividing the support of our antecedent and consequent together by the support of our antecedent alone:\n",
    "\n",
    "$$ \\text{confidence}(X\\rightarrow Y) = \\frac{\\text{support}(X\\cup Y)}{\\text{support}(X)} = \\frac{\\text{proportion of transactions with X and Y}}{\\text{proportion of transactions with X}}$$\n",
    "\n",
    "If $X$ and $Y$ are unrelated, we expect $\\text{support}(X \\cup Y) = \\text{support}(X) \\times \\text{support}(Y)$, so a value of 1 indicates that our consequent is always bought with our antecedent. If $\\text{confidence}(X\\rightarrow Y) = \\text{support}(Y)$ this suggests no relationship between the two, and a lower value suggests that they are substitutes.\n",
    "\n",
    "**Lift** measures a similar idea: How much we have _lifted_ the purchase likelihood of the consequent by having antecedent included in our basket. A values of 1 represents no increase.\n",
    "\n",
    "$$ \\text{lift}(X\\rightarrow Y) = \\frac{\\text{confidence}(X\\rightarrow Y)}{\\text{support}(Y)} = \\frac{\\frac{\\text{support}(X\\cup Y)}{\\text{support}(X)}}{\\text{support}(Y)} = \\frac{\\text{support}(X\\cup Y)}{\\text{support}(X)\\times\\text{support}(Y)}$$\n",
    "\n",
    "We can think of lift as measuring how much more often $X$ and $Y$ occur together than expected if their purchase frequency were independent.\n",
    "\n",
    "**Leverage** is the difference in support of the larger group, than would be expected if the antecedent and consequent were independent:\n",
    "\n",
    "$$\\text{leverage}(X\\rightarrow Y) = \\text{support}(X\\cup Y) - \\text{support}(X) \\times \\text{support}(Y)$$\n",
    "\n",
    "**Conviction** is a measure of the dependence of the consequent on the antecedent. It compares the expected proportion of $X$ appearing without $Y$ if they were dependent with the actual proportion of baskets containing $X$ without $Y$. A high value denotes that we always see the consequent purchased with the antecedent:\n",
    "\n",
    "$$\\text{conviction}(X\\rightarrow Y) = \\frac{1 - \\text{support}(Y)}{1 - \\text{confidence}(X\\rightarrow Y)} = \\frac{\\text{proportion with $X$}\\times\\text{proportion without $Y$}}{\\text{proportion with $X$ and without $Y$}}$$"
   ]
  },
  {
   "cell_type": "markdown",
   "metadata": {
    "id": "_IM0_l_YxOkw"
   },
   "source": [
    "### How to interpret\n",
    "\n",
    "We have a range of metrics - how to we decide which to report, and what is significant?\n",
    "\n",
    "We would normally report the support, lift and confidence.\n",
    "\n",
    "**Support** allows us to see how often the basket occurs. We don't want to waste our time promoting strong links between items if only a few people buy them.\n",
    "\n",
    "**Confidence** allows us to see the strength of the rule. What proportion of transactions with our first item also contain the other item (or items)?\n",
    "\n",
    "**Lift** can be interpreted a measure of how much we potentially drive up the sales of the consequent by the relationship? In theory it can be seen as proportional to the increase of sales of the antecedent.\n",
    "\n",
    "In practice, we would start with all rules with lift above 1, and drill down into the pricing, sales, and desires of our store.\n",
    "\n",
    "---\n",
    "Additional Association Rules: Leverage and Conviction are less common options for assessing the strength of the co-occurrence relationship.\n",
    "\n",
    "**Leverage** computes the difference between the observed frequency of X and Y appearing together and the frequency that would be expected if X and Y were independent. A leverage value of 0 indicates independence.\n",
    "\n",
    "The rationale in a sales setting is to find out how many more units (items X and Y together) are sold than expected from the independent sales.\n",
    "\n",
    "**Conviction** looks at the ratio of the expected frequency that the rule makes an incorrect prediction if X and Y were independent, divided by the observed frequency of incorrect predictions.\n",
    "\n",
    "If the conviction value is greater than 1, then incorrect predictions occur less often compared to if these two actions were independent. A conviction of 1.5 for example, would indicate that if the variables were independent, the prediction would be incorrect 50% more often."
   ]
  },
  {
   "cell_type": "markdown",
   "metadata": {
    "id": "SLbLa9pOxOk1"
   },
   "source": [
    "### Caveats\n",
    "\n",
    "We can see from our table above that lift and leverage are reversible, whereas conviction and confidence are not (*i.e.* $\\text{lift}(X\\rightarrow Y) = \\text{lift}(Y\\rightarrow X)$, however $\\text{confidence}(X\\rightarrow Y) \\neq \\text{confidence}(Y\\rightarrow X)$)\n",
    "\n",
    "We need to be careful about inferring causation from lift or leverage: we cannot say that the lift in $X$ or $Y$ was caused by $X$ or $Y$, just whether they more frequently occur together than chance or not.\n",
    "\n",
    "Similarly, confidence needs to be taken carefully. If we have two baskets with kiwis and diamonds, and two with just diamonds, our confidence for kiwi $\\rightarrow$ diamonds is 1! Our confidence for diamonds to kiwi is 0.5."
   ]
  },
  {
   "cell_type": "markdown",
   "metadata": {
    "id": "dTEA1asQxOk1"
   },
   "source": [
    "### Working with larger data\n",
    "\n",
    "Creating the groups of all items is extremely expensive in larger sizes, and this is a constant problem in association rules.\n",
    "\n",
    "We could pool by product category - if all we want to predict is what categories of items go together, we could pool all game consoles, cables of a given type, or pastas.\n",
    "\n",
    "We could also run our model for each subcategory independently - when predicting rules for pasta, we could turn all basket items that are non-pasta into categories, and see if I bought a cheese item, I will buy rigatoni.\n",
    "\n",
    "One piece that can help is working with sparse matrices, which is implemented in this package. As well as scipy's sparse module, pandas has limited support for sparse matrices.\n",
    "\n",
    "In general, it is much more efficient to work in scipy and call `todense()` or `toarray()` when needed. However we can take advantage of Pandas DataFrame functionality to make easy to use dataframes with column names using the `DataFrame.sparse.from_spmatrix()` method. However, this will still consume more memory than using a pure scipy sparse matrix so be careful when you have large datasets."
   ]
  },
  {
   "cell_type": "code",
   "execution_count": 25,
   "metadata": {
    "id": "xhM0uS0EP6yp"
   },
   "outputs": [],
   "source": [
    "#Fit the TransactionEncoder and transform the buckets\n",
    "te = TransactionEncoder()\n",
    "coffee = te.fit_transform(my_baskets, sparse=True)#.transform(baskets, sparse=True)"
   ]
  },
  {
   "cell_type": "code",
   "execution_count": 26,
   "metadata": {
    "id": "rUqBA9qqP6yp",
    "outputId": "e80b0d60-2212-48c4-cec6-d966d46f3cb4"
   },
   "outputs": [
    {
     "data": {
      "text/plain": [
       "<100x3 sparse matrix of type '<class 'numpy.bool_'>'\n",
       "\twith 224 stored elements in Compressed Sparse Row format>"
      ]
     },
     "metadata": {},
     "output_type": "display_data"
    },
    {
     "name": "stdout",
     "output_type": "stream",
     "text": [
      "\n"
     ]
    },
    {
     "data": {
      "text/plain": [
       "scipy.sparse.csr.csr_matrix"
      ]
     },
     "metadata": {},
     "output_type": "display_data"
    }
   ],
   "source": [
    "display(coffee)\n",
    "print('')\n",
    "display(type(coffee))"
   ]
  },
  {
   "cell_type": "code",
   "execution_count": 27,
   "metadata": {
    "id": "T9tsNzzgP6yq",
    "outputId": "7205131a-e1ac-470c-f04e-34b942179c9b"
   },
   "outputs": [
    {
     "data": {
      "text/html": [
       "<div>\n",
       "<style scoped>\n",
       "    .dataframe tbody tr th:only-of-type {\n",
       "        vertical-align: middle;\n",
       "    }\n",
       "\n",
       "    .dataframe tbody tr th {\n",
       "        vertical-align: top;\n",
       "    }\n",
       "\n",
       "    .dataframe thead th {\n",
       "        text-align: right;\n",
       "    }\n",
       "</style>\n",
       "<table border=\"1\" class=\"dataframe\">\n",
       "  <thead>\n",
       "    <tr style=\"text-align: right;\">\n",
       "      <th></th>\n",
       "      <th>coffee</th>\n",
       "      <th>milk</th>\n",
       "      <th>sugar</th>\n",
       "    </tr>\n",
       "  </thead>\n",
       "  <tbody>\n",
       "    <tr>\n",
       "      <th>0</th>\n",
       "      <td>True</td>\n",
       "      <td>1</td>\n",
       "      <td>1</td>\n",
       "    </tr>\n",
       "    <tr>\n",
       "      <th>1</th>\n",
       "      <td>True</td>\n",
       "      <td>0</td>\n",
       "      <td>0</td>\n",
       "    </tr>\n",
       "    <tr>\n",
       "      <th>2</th>\n",
       "      <td>True</td>\n",
       "      <td>1</td>\n",
       "      <td>0</td>\n",
       "    </tr>\n",
       "    <tr>\n",
       "      <th>3</th>\n",
       "      <td>True</td>\n",
       "      <td>1</td>\n",
       "      <td>1</td>\n",
       "    </tr>\n",
       "    <tr>\n",
       "      <th>4</th>\n",
       "      <td>True</td>\n",
       "      <td>1</td>\n",
       "      <td>1</td>\n",
       "    </tr>\n",
       "  </tbody>\n",
       "</table>\n",
       "</div>"
      ],
      "text/plain": [
       "   coffee  milk  sugar\n",
       "0    True     1      1\n",
       "1    True     0      0\n",
       "2    True     1      0\n",
       "3    True     1      1\n",
       "4    True     1      1"
      ]
     },
     "execution_count": 27,
     "metadata": {},
     "output_type": "execute_result"
    }
   ],
   "source": [
    "# Create a DataFrame\n",
    "coffee_df = pd.DataFrame.sparse.from_spmatrix(coffee, columns=te.columns_)\n",
    "coffee_df.head()"
   ]
  },
  {
   "cell_type": "code",
   "execution_count": 28,
   "metadata": {
    "id": "kMEmFiR1P6yq",
    "outputId": "b9ca2dca-c7e6-4827-e07f-27cff27c077f"
   },
   "outputs": [
    {
     "data": {
      "text/plain": [
       "coffee    Sparse[bool, 0]\n",
       "milk      Sparse[bool, 0]\n",
       "sugar     Sparse[bool, 0]\n",
       "dtype: object"
      ]
     },
     "execution_count": 28,
     "metadata": {},
     "output_type": "execute_result"
    }
   ],
   "source": [
    "coffee_df.dtypes"
   ]
  },
  {
   "cell_type": "markdown",
   "metadata": {
    "id": "kdYrPyKiP6yq"
   },
   "source": [
    "We can see that the columns are using the Pandas Sparse dtypes. These are not exactly eqivalent to a standard scipy sparse matrix, however do help to reduce memory usage somewhat. You can read more about Pandas sparse data structures [here](https://pandas.pydata.org/docs/user_guide/sparse.html)."
   ]
  },
  {
   "cell_type": "markdown",
   "metadata": {
    "id": "QulrDxDkxOk5"
   },
   "source": [
    "### Recommender Systems\n",
    "\n",
    "Once we have our rules, we can start to recommend items to customers. If we have the current basket, we can check our association rules for the next most common item, based on highest lift (or, highest proft for our store). Stores like Amazon can use association rules to efficiently recommend the next $n$ items that we might purchase, based on lift, confidence, expected profit, or past purchases.\n",
    "\n",
    "In reality, most current recommender systems will use a combination of approaches (*e.g.* collaborative filtering, clustering, *etc.*) depending on their requirements and intent. Association rules can be used for promotions, product placement, and coupons, as they take considerable time to generate and are specifically well-suited for these applications."
   ]
  },
  {
   "cell_type": "markdown",
   "metadata": {
    "id": "bc-QYK-WxOk6"
   },
   "source": [
    "---\n",
    "#### Exercise 2\n",
    "\n",
    "Download the `Online Retail.csv` [here](https://drive.google.com/uc?export=view&id=1r2OjAHs6C27Z7Z59mex_XNZ5lbcsisp9). We've provided you with the code to read in the data, and transform it into a sparse DataFrame. Use the resulting DataFrame for this exercise:\n",
    "\n",
    "1. Use the apriori algorithm (use min_support ~0.02) to reduce the dataset and then create association rules. Feel free to play around with different metrics to use as the threshold.\n",
    "\n",
    "2. Sort your association rules dataframe by one of the metrics in descending order. Try looking up the product descriptions for the antecedent and consequent stockcodes for the first row in your rules dataframe and think of a reason behind this purchasing pattern.\n",
    "\n",
    "2. Complete the function listed in a cell below. The function takes in a basket of items (stock codes), an association rules dataframe, and a specific association rules metric. The function will return a recommended item to purchase based on an item in the basket (Just like on Amazon!). Feel free to try it with various item combinations.\n",
    "\n",
    "---"
   ]
  },
  {
   "cell_type": "code",
   "execution_count": 42,
   "metadata": {
    "id": "cCeh-WE8P6yt",
    "outputId": "ef8d7507-a8ee-4880-ef93-0e8059615a2e"
   },
   "outputs": [],
   "source": [
    "# Loading the data\n",
    "retail_df = pd.read_csv('data/Online Retail.csv')"
   ]
  },
  {
   "cell_type": "code",
   "execution_count": 44,
   "metadata": {},
   "outputs": [
    {
     "data": {
      "text/plain": [
       "(541909, 8)"
      ]
     },
     "execution_count": 44,
     "metadata": {},
     "output_type": "execute_result"
    }
   ],
   "source": [
    "retail_df.shape"
   ]
  },
  {
   "cell_type": "code",
   "execution_count": 45,
   "metadata": {},
   "outputs": [
    {
     "data": {
      "text/plain": [
       "InvoiceNo\n",
       "536365    [85123A, 71053, 84406B, 84029G, 84029E, 22752,...\n",
       "536366                                       [22633, 22632]\n",
       "536367    [84879, 22745, 22748, 22749, 22310, 84969, 226...\n",
       "536368                         [22960, 22913, 22912, 22914]\n",
       "536369                                              [21756]\n",
       "dtype: object"
      ]
     },
     "execution_count": 45,
     "metadata": {},
     "output_type": "execute_result"
    }
   ],
   "source": [
    "# Create our list of 'baskets' for use with the TransactionEncoder\n",
    "basket_series = retail_df.groupby('InvoiceNo').apply(lambda x: list(x['StockCode']))\n",
    "basket_series.head()"
   ]
  },
  {
   "cell_type": "markdown",
   "metadata": {
    "id": "EFrCwDTTP6yt"
   },
   "source": [
    "#### Solution\n",
    "\n",
    "First, we transform the data with the encoder:"
   ]
  },
  {
   "cell_type": "code",
   "execution_count": 46,
   "metadata": {
    "id": "ZNliDoj-y6EF",
    "outputId": "7d6fac4f-00df-4c30-8521-bd6cb973a77f"
   },
   "outputs": [
    {
     "data": {
      "text/html": [
       "<div>\n",
       "<style scoped>\n",
       "    .dataframe tbody tr th:only-of-type {\n",
       "        vertical-align: middle;\n",
       "    }\n",
       "\n",
       "    .dataframe tbody tr th {\n",
       "        vertical-align: top;\n",
       "    }\n",
       "\n",
       "    .dataframe thead th {\n",
       "        text-align: right;\n",
       "    }\n",
       "</style>\n",
       "<table border=\"1\" class=\"dataframe\">\n",
       "  <thead>\n",
       "    <tr style=\"text-align: right;\">\n",
       "      <th></th>\n",
       "      <th>10002</th>\n",
       "      <th>10080</th>\n",
       "      <th>10120</th>\n",
       "      <th>10123C</th>\n",
       "      <th>10123G</th>\n",
       "      <th>10124A</th>\n",
       "      <th>10124G</th>\n",
       "      <th>10125</th>\n",
       "      <th>10133</th>\n",
       "      <th>10134</th>\n",
       "      <th>...</th>\n",
       "      <th>M</th>\n",
       "      <th>PADS</th>\n",
       "      <th>POST</th>\n",
       "      <th>S</th>\n",
       "      <th>gift_0001_10</th>\n",
       "      <th>gift_0001_20</th>\n",
       "      <th>gift_0001_30</th>\n",
       "      <th>gift_0001_40</th>\n",
       "      <th>gift_0001_50</th>\n",
       "      <th>m</th>\n",
       "    </tr>\n",
       "  </thead>\n",
       "  <tbody>\n",
       "    <tr>\n",
       "      <th>0</th>\n",
       "      <td>0</td>\n",
       "      <td>0</td>\n",
       "      <td>0</td>\n",
       "      <td>0</td>\n",
       "      <td>0</td>\n",
       "      <td>0</td>\n",
       "      <td>0</td>\n",
       "      <td>0</td>\n",
       "      <td>0</td>\n",
       "      <td>0</td>\n",
       "      <td>...</td>\n",
       "      <td>0</td>\n",
       "      <td>0</td>\n",
       "      <td>0</td>\n",
       "      <td>0</td>\n",
       "      <td>0</td>\n",
       "      <td>0</td>\n",
       "      <td>0</td>\n",
       "      <td>0</td>\n",
       "      <td>0</td>\n",
       "      <td>0</td>\n",
       "    </tr>\n",
       "    <tr>\n",
       "      <th>1</th>\n",
       "      <td>0</td>\n",
       "      <td>0</td>\n",
       "      <td>0</td>\n",
       "      <td>0</td>\n",
       "      <td>0</td>\n",
       "      <td>0</td>\n",
       "      <td>0</td>\n",
       "      <td>0</td>\n",
       "      <td>0</td>\n",
       "      <td>0</td>\n",
       "      <td>...</td>\n",
       "      <td>0</td>\n",
       "      <td>0</td>\n",
       "      <td>0</td>\n",
       "      <td>0</td>\n",
       "      <td>0</td>\n",
       "      <td>0</td>\n",
       "      <td>0</td>\n",
       "      <td>0</td>\n",
       "      <td>0</td>\n",
       "      <td>0</td>\n",
       "    </tr>\n",
       "    <tr>\n",
       "      <th>2</th>\n",
       "      <td>0</td>\n",
       "      <td>0</td>\n",
       "      <td>0</td>\n",
       "      <td>0</td>\n",
       "      <td>0</td>\n",
       "      <td>0</td>\n",
       "      <td>0</td>\n",
       "      <td>0</td>\n",
       "      <td>0</td>\n",
       "      <td>0</td>\n",
       "      <td>...</td>\n",
       "      <td>0</td>\n",
       "      <td>0</td>\n",
       "      <td>0</td>\n",
       "      <td>0</td>\n",
       "      <td>0</td>\n",
       "      <td>0</td>\n",
       "      <td>0</td>\n",
       "      <td>0</td>\n",
       "      <td>0</td>\n",
       "      <td>0</td>\n",
       "    </tr>\n",
       "    <tr>\n",
       "      <th>3</th>\n",
       "      <td>0</td>\n",
       "      <td>0</td>\n",
       "      <td>0</td>\n",
       "      <td>0</td>\n",
       "      <td>0</td>\n",
       "      <td>0</td>\n",
       "      <td>0</td>\n",
       "      <td>0</td>\n",
       "      <td>0</td>\n",
       "      <td>0</td>\n",
       "      <td>...</td>\n",
       "      <td>0</td>\n",
       "      <td>0</td>\n",
       "      <td>0</td>\n",
       "      <td>0</td>\n",
       "      <td>0</td>\n",
       "      <td>0</td>\n",
       "      <td>0</td>\n",
       "      <td>0</td>\n",
       "      <td>0</td>\n",
       "      <td>0</td>\n",
       "    </tr>\n",
       "    <tr>\n",
       "      <th>4</th>\n",
       "      <td>0</td>\n",
       "      <td>0</td>\n",
       "      <td>0</td>\n",
       "      <td>0</td>\n",
       "      <td>0</td>\n",
       "      <td>0</td>\n",
       "      <td>0</td>\n",
       "      <td>0</td>\n",
       "      <td>0</td>\n",
       "      <td>0</td>\n",
       "      <td>...</td>\n",
       "      <td>0</td>\n",
       "      <td>0</td>\n",
       "      <td>0</td>\n",
       "      <td>0</td>\n",
       "      <td>0</td>\n",
       "      <td>0</td>\n",
       "      <td>0</td>\n",
       "      <td>0</td>\n",
       "      <td>0</td>\n",
       "      <td>0</td>\n",
       "    </tr>\n",
       "  </tbody>\n",
       "</table>\n",
       "<p>5 rows × 4070 columns</p>\n",
       "</div>"
      ],
      "text/plain": [
       "   10002  10080  10120  10123C  10123G  10124A  10124G  10125  10133  10134  \\\n",
       "0      0      0      0       0       0       0       0      0      0      0   \n",
       "1      0      0      0       0       0       0       0      0      0      0   \n",
       "2      0      0      0       0       0       0       0      0      0      0   \n",
       "3      0      0      0       0       0       0       0      0      0      0   \n",
       "4      0      0      0       0       0       0       0      0      0      0   \n",
       "\n",
       "   ...  M  PADS  POST  S  gift_0001_10  gift_0001_20  gift_0001_30  \\\n",
       "0  ...  0     0     0  0             0             0             0   \n",
       "1  ...  0     0     0  0             0             0             0   \n",
       "2  ...  0     0     0  0             0             0             0   \n",
       "3  ...  0     0     0  0             0             0             0   \n",
       "4  ...  0     0     0  0             0             0             0   \n",
       "\n",
       "   gift_0001_40  gift_0001_50  m  \n",
       "0             0             0  0  \n",
       "1             0             0  0  \n",
       "2             0             0  0  \n",
       "3             0             0  0  \n",
       "4             0             0  0  \n",
       "\n",
       "[5 rows x 4070 columns]"
      ]
     },
     "execution_count": 46,
     "metadata": {},
     "output_type": "execute_result"
    }
   ],
   "source": [
    "from mlxtend.preprocessing import TransactionEncoder\n",
    "\n",
    "# Transform our basket series into a transaction matrix\n",
    "te = TransactionEncoder()\n",
    "transaction_matrix = te.fit_transform(basket_series, sparse=True)\n",
    "\n",
    "# Convert to dataframe\n",
    "transaction_df = pd.DataFrame.sparse.from_spmatrix(transaction_matrix,\n",
    "                                                  columns = te.columns_)\n",
    "transaction_df.head()"
   ]
  },
  {
   "cell_type": "markdown",
   "metadata": {
    "id": "etUqEpGyP6yu"
   },
   "source": [
    "Next, we use the apriori algorithm:"
   ]
  },
  {
   "cell_type": "code",
   "execution_count": 47,
   "metadata": {
    "id": "SeeCgU5ry6EG",
    "outputId": "1ed0665c-54f8-4774-c111-3fcb681f8c73"
   },
   "outputs": [
    {
     "data": {
      "text/html": [
       "<div>\n",
       "<style scoped>\n",
       "    .dataframe tbody tr th:only-of-type {\n",
       "        vertical-align: middle;\n",
       "    }\n",
       "\n",
       "    .dataframe tbody tr th {\n",
       "        vertical-align: top;\n",
       "    }\n",
       "\n",
       "    .dataframe thead th {\n",
       "        text-align: right;\n",
       "    }\n",
       "</style>\n",
       "<table border=\"1\" class=\"dataframe\">\n",
       "  <thead>\n",
       "    <tr style=\"text-align: right;\">\n",
       "      <th></th>\n",
       "      <th>support</th>\n",
       "      <th>itemsets</th>\n",
       "    </tr>\n",
       "  </thead>\n",
       "  <tbody>\n",
       "    <tr>\n",
       "      <th>0</th>\n",
       "      <td>0.020193</td>\n",
       "      <td>(15036)</td>\n",
       "    </tr>\n",
       "    <tr>\n",
       "      <th>1</th>\n",
       "      <td>0.027181</td>\n",
       "      <td>(20685)</td>\n",
       "    </tr>\n",
       "    <tr>\n",
       "      <th>2</th>\n",
       "      <td>0.020541</td>\n",
       "      <td>(20711)</td>\n",
       "    </tr>\n",
       "    <tr>\n",
       "      <th>3</th>\n",
       "      <td>0.033668</td>\n",
       "      <td>(20712)</td>\n",
       "    </tr>\n",
       "    <tr>\n",
       "      <th>4</th>\n",
       "      <td>0.026023</td>\n",
       "      <td>(20713)</td>\n",
       "    </tr>\n",
       "    <tr>\n",
       "      <th>...</th>\n",
       "      <td>...</td>\n",
       "      <td>...</td>\n",
       "    </tr>\n",
       "    <tr>\n",
       "      <th>215</th>\n",
       "      <td>0.022471</td>\n",
       "      <td>(23203, 85099B)</td>\n",
       "    </tr>\n",
       "    <tr>\n",
       "      <th>216</th>\n",
       "      <td>0.021197</td>\n",
       "      <td>(23301, 23300)</td>\n",
       "    </tr>\n",
       "    <tr>\n",
       "      <th>217</th>\n",
       "      <td>0.022896</td>\n",
       "      <td>(85099B, 85099C)</td>\n",
       "    </tr>\n",
       "    <tr>\n",
       "      <th>218</th>\n",
       "      <td>0.021042</td>\n",
       "      <td>(85099F, 85099B)</td>\n",
       "    </tr>\n",
       "    <tr>\n",
       "      <th>219</th>\n",
       "      <td>0.021197</td>\n",
       "      <td>(22698, 22699, 22697)</td>\n",
       "    </tr>\n",
       "  </tbody>\n",
       "</table>\n",
       "<p>220 rows × 2 columns</p>\n",
       "</div>"
      ],
      "text/plain": [
       "      support               itemsets\n",
       "0    0.020193                (15036)\n",
       "1    0.027181                (20685)\n",
       "2    0.020541                (20711)\n",
       "3    0.033668                (20712)\n",
       "4    0.026023                (20713)\n",
       "..        ...                    ...\n",
       "215  0.022471        (23203, 85099B)\n",
       "216  0.021197         (23301, 23300)\n",
       "217  0.022896       (85099B, 85099C)\n",
       "218  0.021042       (85099F, 85099B)\n",
       "219  0.021197  (22698, 22699, 22697)\n",
       "\n",
       "[220 rows x 2 columns]"
      ]
     },
     "execution_count": 47,
     "metadata": {},
     "output_type": "execute_result"
    }
   ],
   "source": [
    "# Q1\n",
    "from mlxtend.frequent_patterns import apriori\n",
    "from mlxtend.frequent_patterns import association_rules\n",
    "\n",
    "x = apriori(transaction_df, min_support=0.02, use_colnames=True)\n",
    "x"
   ]
  },
  {
   "cell_type": "markdown",
   "metadata": {
    "id": "S4a1DJxlP6yu"
   },
   "source": [
    "We can look at the association rules and calculate the metrics we studied earlier. The table below is sorted by `lift`."
   ]
  },
  {
   "cell_type": "code",
   "execution_count": 48,
   "metadata": {
    "id": "JEfqG8cpy6EG",
    "outputId": "b5ee20d0-c9a9-41f1-db0e-d3ae7760799f"
   },
   "outputs": [
    {
     "data": {
      "text/html": [
       "<div>\n",
       "<style scoped>\n",
       "    .dataframe tbody tr th:only-of-type {\n",
       "        vertical-align: middle;\n",
       "    }\n",
       "\n",
       "    .dataframe tbody tr th {\n",
       "        vertical-align: top;\n",
       "    }\n",
       "\n",
       "    .dataframe thead th {\n",
       "        text-align: right;\n",
       "    }\n",
       "</style>\n",
       "<table border=\"1\" class=\"dataframe\">\n",
       "  <thead>\n",
       "    <tr style=\"text-align: right;\">\n",
       "      <th></th>\n",
       "      <th>antecedents</th>\n",
       "      <th>consequents</th>\n",
       "      <th>antecedent support</th>\n",
       "      <th>consequent support</th>\n",
       "      <th>support</th>\n",
       "      <th>confidence</th>\n",
       "      <th>lift</th>\n",
       "      <th>leverage</th>\n",
       "      <th>conviction</th>\n",
       "    </tr>\n",
       "  </thead>\n",
       "  <tbody>\n",
       "    <tr>\n",
       "      <th>72</th>\n",
       "      <td>(22699, 22697)</td>\n",
       "      <td>(22698)</td>\n",
       "      <td>0.030270</td>\n",
       "      <td>0.030965</td>\n",
       "      <td>0.021197</td>\n",
       "      <td>0.700255</td>\n",
       "      <td>22.614223</td>\n",
       "      <td>0.020260</td>\n",
       "      <td>3.232865</td>\n",
       "    </tr>\n",
       "    <tr>\n",
       "      <th>73</th>\n",
       "      <td>(22698)</td>\n",
       "      <td>(22699, 22697)</td>\n",
       "      <td>0.030965</td>\n",
       "      <td>0.030270</td>\n",
       "      <td>0.021197</td>\n",
       "      <td>0.684539</td>\n",
       "      <td>22.614223</td>\n",
       "      <td>0.020260</td>\n",
       "      <td>3.074005</td>\n",
       "    </tr>\n",
       "    <tr>\n",
       "      <th>75</th>\n",
       "      <td>(22697)</td>\n",
       "      <td>(22698, 22699)</td>\n",
       "      <td>0.040811</td>\n",
       "      <td>0.023707</td>\n",
       "      <td>0.021197</td>\n",
       "      <td>0.519395</td>\n",
       "      <td>21.909313</td>\n",
       "      <td>0.020229</td>\n",
       "      <td>2.031382</td>\n",
       "    </tr>\n",
       "    <tr>\n",
       "      <th>70</th>\n",
       "      <td>(22698, 22699)</td>\n",
       "      <td>(22697)</td>\n",
       "      <td>0.023707</td>\n",
       "      <td>0.040811</td>\n",
       "      <td>0.021197</td>\n",
       "      <td>0.894137</td>\n",
       "      <td>21.909313</td>\n",
       "      <td>0.020229</td>\n",
       "      <td>9.060649</td>\n",
       "    </tr>\n",
       "    <tr>\n",
       "      <th>65</th>\n",
       "      <td>(23300)</td>\n",
       "      <td>(23301)</td>\n",
       "      <td>0.029537</td>\n",
       "      <td>0.035676</td>\n",
       "      <td>0.021197</td>\n",
       "      <td>0.717647</td>\n",
       "      <td>20.115865</td>\n",
       "      <td>0.020143</td>\n",
       "      <td>3.415315</td>\n",
       "    </tr>\n",
       "    <tr>\n",
       "      <th>64</th>\n",
       "      <td>(23301)</td>\n",
       "      <td>(23300)</td>\n",
       "      <td>0.035676</td>\n",
       "      <td>0.029537</td>\n",
       "      <td>0.021197</td>\n",
       "      <td>0.594156</td>\n",
       "      <td>20.115865</td>\n",
       "      <td>0.020143</td>\n",
       "      <td>2.391222</td>\n",
       "    </tr>\n",
       "    <tr>\n",
       "      <th>74</th>\n",
       "      <td>(22699)</td>\n",
       "      <td>(22698, 22697)</td>\n",
       "      <td>0.043243</td>\n",
       "      <td>0.024865</td>\n",
       "      <td>0.021197</td>\n",
       "      <td>0.490179</td>\n",
       "      <td>19.713703</td>\n",
       "      <td>0.020122</td>\n",
       "      <td>1.912699</td>\n",
       "    </tr>\n",
       "    <tr>\n",
       "      <th>71</th>\n",
       "      <td>(22698, 22697)</td>\n",
       "      <td>(22699)</td>\n",
       "      <td>0.024865</td>\n",
       "      <td>0.043243</td>\n",
       "      <td>0.021197</td>\n",
       "      <td>0.852484</td>\n",
       "      <td>19.713703</td>\n",
       "      <td>0.020122</td>\n",
       "      <td>6.485804</td>\n",
       "    </tr>\n",
       "    <tr>\n",
       "      <th>50</th>\n",
       "      <td>(22698)</td>\n",
       "      <td>(22697)</td>\n",
       "      <td>0.030965</td>\n",
       "      <td>0.040811</td>\n",
       "      <td>0.024865</td>\n",
       "      <td>0.802993</td>\n",
       "      <td>19.675976</td>\n",
       "      <td>0.023601</td>\n",
       "      <td>4.868796</td>\n",
       "    </tr>\n",
       "    <tr>\n",
       "      <th>51</th>\n",
       "      <td>(22697)</td>\n",
       "      <td>(22698)</td>\n",
       "      <td>0.040811</td>\n",
       "      <td>0.030965</td>\n",
       "      <td>0.024865</td>\n",
       "      <td>0.609272</td>\n",
       "      <td>19.675976</td>\n",
       "      <td>0.023601</td>\n",
       "      <td>2.480072</td>\n",
       "    </tr>\n",
       "  </tbody>\n",
       "</table>\n",
       "</div>"
      ],
      "text/plain": [
       "       antecedents     consequents  antecedent support  consequent support  \\\n",
       "72  (22699, 22697)         (22698)            0.030270            0.030965   \n",
       "73         (22698)  (22699, 22697)            0.030965            0.030270   \n",
       "75         (22697)  (22698, 22699)            0.040811            0.023707   \n",
       "70  (22698, 22699)         (22697)            0.023707            0.040811   \n",
       "65         (23300)         (23301)            0.029537            0.035676   \n",
       "64         (23301)         (23300)            0.035676            0.029537   \n",
       "74         (22699)  (22698, 22697)            0.043243            0.024865   \n",
       "71  (22698, 22697)         (22699)            0.024865            0.043243   \n",
       "50         (22698)         (22697)            0.030965            0.040811   \n",
       "51         (22697)         (22698)            0.040811            0.030965   \n",
       "\n",
       "     support  confidence       lift  leverage  conviction  \n",
       "72  0.021197    0.700255  22.614223  0.020260    3.232865  \n",
       "73  0.021197    0.684539  22.614223  0.020260    3.074005  \n",
       "75  0.021197    0.519395  21.909313  0.020229    2.031382  \n",
       "70  0.021197    0.894137  21.909313  0.020229    9.060649  \n",
       "65  0.021197    0.717647  20.115865  0.020143    3.415315  \n",
       "64  0.021197    0.594156  20.115865  0.020143    2.391222  \n",
       "74  0.021197    0.490179  19.713703  0.020122    1.912699  \n",
       "71  0.021197    0.852484  19.713703  0.020122    6.485804  \n",
       "50  0.024865    0.802993  19.675976  0.023601    4.868796  \n",
       "51  0.024865    0.609272  19.675976  0.023601    2.480072  "
      ]
     },
     "execution_count": 48,
     "metadata": {},
     "output_type": "execute_result"
    }
   ],
   "source": [
    "# Q2\n",
    "rules_df = association_rules(x, metric='lift', min_threshold=1)\n",
    "rules_df.sort_values('lift', ascending=False).head(10)"
   ]
  },
  {
   "cell_type": "markdown",
   "metadata": {
    "id": "-3nEI0RYP6yu"
   },
   "source": [
    "Take a look at the product descriptions for the products that are a part of the first association rule, (ie. StockCode = 22699,22697,22698)."
   ]
  },
  {
   "cell_type": "code",
   "execution_count": 49,
   "metadata": {
    "id": "5k6ZVN5Yy6EH",
    "outputId": "a0125a25-b5d4-4015-e1c8-12327632f4cc"
   },
   "outputs": [
    {
     "data": {
      "text/plain": [
       "array(['ROSES REGENCY TEACUP AND SAUCER ',\n",
       "       'GREEN REGENCY TEACUP AND SAUCER',\n",
       "       'PINK REGENCY TEACUP AND SAUCER', nan], dtype=object)"
      ]
     },
     "execution_count": 49,
     "metadata": {},
     "output_type": "execute_result"
    }
   ],
   "source": [
    "retail_df[retail_df['StockCode'].isin(['22699','22697','22698'])]['Description'].unique()"
   ]
  },
  {
   "cell_type": "markdown",
   "metadata": {
    "id": "V6zIhpW8P6yu"
   },
   "source": [
    "Finally, we complete the recommendation function below:"
   ]
  },
  {
   "cell_type": "code",
   "execution_count": 50,
   "metadata": {
    "id": "6Z1nzgrBP6yu"
   },
   "outputs": [],
   "source": [
    "#RUN THIS CODE FIRST FOR Q3\n",
    "rules_df['antecedents'] = rules_df['antecedents'].apply(lambda x:list(x)).copy()\n",
    "rules_df['consequents'] = rules_df['consequents'].apply(lambda x:list(x)).copy()"
   ]
  },
  {
   "cell_type": "code",
   "execution_count": 56,
   "metadata": {
    "id": "kM2O5o5Ly6EH",
    "outputId": "8b1df68d-9f37-4325-a3c3-cbc2670c0bd3"
   },
   "outputs": [],
   "source": [
    "import numpy as np\n",
    "# Input basket\n",
    "mybasket = ['22698', '22697', '22356']\n",
    "\n",
    "#metric\n",
    "metric = 'lift'\n",
    "\n",
    "#COMPLETE THIS FUNCTION\n",
    "def product_recs(basket, rule_df, metric):\n",
    "\n",
    "    # Randomly select an item from the basket\n",
    "    random_item = np.random.choice(basket, 1)[0]\n",
    "    print('Selected item in basket')\n",
    "    print(random_item)\n",
    "    print('======================')\n",
    "\n",
    "    # Find rules where the item is in the antecedent\n",
    "    rule_filter = rule_df['antecedents'].apply(lambda x: x[0]) == random_item\n",
    "\n",
    "    # Filter the dataframe using rule_filter and sort by the selected metric\n",
    "    filtered_df = rule_df[rule_filter].sort_values(by=metric)\n",
    "\n",
    "    # Randomly return one of the top 20 items from the filtered dataframe\n",
    "    reco = filtered_df.head(20).sample(1)['consequents']\n",
    "    \n",
    "    print('Recommeded product...')\n",
    "\n",
    "    return reco\n",
    "\n"
   ]
  },
  {
   "cell_type": "code",
   "execution_count": 57,
   "metadata": {
    "scrolled": true
   },
   "outputs": [
    {
     "name": "stdout",
     "output_type": "stream",
     "text": [
      "Selected item in basket\n",
      "22698\n",
      "======================\n",
      "Recommeded product...\n"
     ]
    },
    {
     "data": {
      "text/plain": [
       "54    [22699]\n",
       "Name: consequents, dtype: object"
      ]
     },
     "execution_count": 57,
     "metadata": {},
     "output_type": "execute_result"
    }
   ],
   "source": [
    "product_recs(mybasket, rules_df, metric)"
   ]
  },
  {
   "cell_type": "markdown",
   "metadata": {
    "id": "CqlFwCaVxOk8"
   },
   "source": [
    "<div id=\"container\" style=\"position:relative;\">\n",
    "<div style=\"position:relative; float:right\"><img style=\"height:25px\"\"width: 50px\" src =\"https://drive.google.com/uc?export=view&id=14VoXUJftgptWtdNhtNYVm6cjVmEWpki1\" />\n",
    "</div>\n",
    "</div>"
   ]
  },
  {
   "cell_type": "code",
   "execution_count": null,
   "metadata": {},
   "outputs": [],
   "source": []
  }
 ],
 "metadata": {
  "colab": {
   "provenance": []
  },
  "kernelspec": {
   "display_name": "bigdata_ml",
   "language": "python",
   "name": "bigdata_ml"
  },
  "language_info": {
   "codemirror_mode": {
    "name": "ipython",
    "version": 3
   },
   "file_extension": ".py",
   "mimetype": "text/x-python",
   "name": "python",
   "nbconvert_exporter": "python",
   "pygments_lexer": "ipython3",
   "version": "3.8.17"
  }
 },
 "nbformat": 4,
 "nbformat_minor": 1
}
