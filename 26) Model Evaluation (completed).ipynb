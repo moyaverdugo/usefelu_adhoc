{
 "cells": [
  {
   "cell_type": "markdown",
   "metadata": {},
   "source": [
    "<div id=\"container\" style=\"position:relative;\">\n",
    "<div style=\"float:left\"><h1> Model Evaluation</h1></div>\n",
    "<div style=\"position:relative; float:right\"><img style=\"height:65px\" src =\"https://drive.google.com/uc?export=view&id=1EnB0x-fdqMp6I5iMoEBBEuxB_s7AmE2k\" />\n",
    "</div>\n",
    "</div>"
   ]
  },
  {
   "cell_type": "markdown",
   "metadata": {},
   "source": [
    "## Classification Model Evaluation"
   ]
  },
  {
   "cell_type": "code",
   "execution_count": 238,
   "metadata": {},
   "outputs": [],
   "source": [
    "import numpy as np\n",
    "import pandas as pd\n",
    "import matplotlib.pyplot as plt\n",
    "\n",
    "from sklearn.model_selection import train_test_split"
   ]
  },
  {
   "cell_type": "markdown",
   "metadata": {},
   "source": [
    "### Accuracy as a Metric\n",
    "\n",
    "Accuracy is a great metric to evaluate models, but it has its downfalls. In particular, it is not very informative when we have imbalanced classes, as we'll see in the next section."
   ]
  },
  {
   "cell_type": "markdown",
   "metadata": {},
   "source": [
    "### Accuracy With Imbalanced Classes "
   ]
  },
  {
   "cell_type": "markdown",
   "metadata": {},
   "source": [
    "It is often the case with binary variables that one class is more common than the other. Imagine predicting the occurrence of very rare disease or detecting credit card fraud. \n",
    "\n",
    "Of all the data points, only a small fraction will belong to the *positive* class, the positive class being the event or attribute of interest we are trying to detect.\\\n",
    "**NOTE**: Don't conflate `positive class` as any class that is \"positive\" in nature. Remember, it always denotes the event that we are trying to predict/detect.\n",
    "\n",
    "We will be looking at an example of detecting fraud in credit card transactions. \n",
    "\n",
    "The following data comes from [Kaggle](https://www.kaggle.com/mlg-ulb/creditcardfraud). The features in this case are not named due to the confidentiality of the source data set (they are principal components that have already been retrieved) but we can see if we can build a good classifier based on these nonetheless.\n",
    "\n",
    "You can download the data [here](https://drive.google.com/open?id=1ofvvsHSaScHiK7B3Qtbt_nVqaN4Zju4w). "
   ]
  },
  {
   "cell_type": "code",
   "execution_count": 240,
   "metadata": {},
   "outputs": [
    {
     "data": {
      "text/html": [
       "<div>\n",
       "<style scoped>\n",
       "    .dataframe tbody tr th:only-of-type {\n",
       "        vertical-align: middle;\n",
       "    }\n",
       "\n",
       "    .dataframe tbody tr th {\n",
       "        vertical-align: top;\n",
       "    }\n",
       "\n",
       "    .dataframe thead th {\n",
       "        text-align: right;\n",
       "    }\n",
       "</style>\n",
       "<table border=\"1\" class=\"dataframe\">\n",
       "  <thead>\n",
       "    <tr style=\"text-align: right;\">\n",
       "      <th></th>\n",
       "      <th>Time</th>\n",
       "      <th>V1</th>\n",
       "      <th>V2</th>\n",
       "      <th>V3</th>\n",
       "      <th>V4</th>\n",
       "      <th>V5</th>\n",
       "      <th>V6</th>\n",
       "      <th>V7</th>\n",
       "      <th>V8</th>\n",
       "      <th>V9</th>\n",
       "      <th>...</th>\n",
       "      <th>V21</th>\n",
       "      <th>V22</th>\n",
       "      <th>V23</th>\n",
       "      <th>V24</th>\n",
       "      <th>V25</th>\n",
       "      <th>V26</th>\n",
       "      <th>V27</th>\n",
       "      <th>V28</th>\n",
       "      <th>Amount</th>\n",
       "      <th>Class</th>\n",
       "    </tr>\n",
       "  </thead>\n",
       "  <tbody>\n",
       "    <tr>\n",
       "      <th>0</th>\n",
       "      <td>0.0</td>\n",
       "      <td>-1.359807</td>\n",
       "      <td>-0.072781</td>\n",
       "      <td>2.536347</td>\n",
       "      <td>1.378155</td>\n",
       "      <td>-0.338321</td>\n",
       "      <td>0.462388</td>\n",
       "      <td>0.239599</td>\n",
       "      <td>0.098698</td>\n",
       "      <td>0.363787</td>\n",
       "      <td>...</td>\n",
       "      <td>-0.018307</td>\n",
       "      <td>0.277838</td>\n",
       "      <td>-0.110474</td>\n",
       "      <td>0.066928</td>\n",
       "      <td>0.128539</td>\n",
       "      <td>-0.189115</td>\n",
       "      <td>0.133558</td>\n",
       "      <td>-0.021053</td>\n",
       "      <td>149.62</td>\n",
       "      <td>0</td>\n",
       "    </tr>\n",
       "    <tr>\n",
       "      <th>1</th>\n",
       "      <td>0.0</td>\n",
       "      <td>1.191857</td>\n",
       "      <td>0.266151</td>\n",
       "      <td>0.166480</td>\n",
       "      <td>0.448154</td>\n",
       "      <td>0.060018</td>\n",
       "      <td>-0.082361</td>\n",
       "      <td>-0.078803</td>\n",
       "      <td>0.085102</td>\n",
       "      <td>-0.255425</td>\n",
       "      <td>...</td>\n",
       "      <td>-0.225775</td>\n",
       "      <td>-0.638672</td>\n",
       "      <td>0.101288</td>\n",
       "      <td>-0.339846</td>\n",
       "      <td>0.167170</td>\n",
       "      <td>0.125895</td>\n",
       "      <td>-0.008983</td>\n",
       "      <td>0.014724</td>\n",
       "      <td>2.69</td>\n",
       "      <td>0</td>\n",
       "    </tr>\n",
       "    <tr>\n",
       "      <th>2</th>\n",
       "      <td>1.0</td>\n",
       "      <td>-1.358354</td>\n",
       "      <td>-1.340163</td>\n",
       "      <td>1.773209</td>\n",
       "      <td>0.379780</td>\n",
       "      <td>-0.503198</td>\n",
       "      <td>1.800499</td>\n",
       "      <td>0.791461</td>\n",
       "      <td>0.247676</td>\n",
       "      <td>-1.514654</td>\n",
       "      <td>...</td>\n",
       "      <td>0.247998</td>\n",
       "      <td>0.771679</td>\n",
       "      <td>0.909412</td>\n",
       "      <td>-0.689281</td>\n",
       "      <td>-0.327642</td>\n",
       "      <td>-0.139097</td>\n",
       "      <td>-0.055353</td>\n",
       "      <td>-0.059752</td>\n",
       "      <td>378.66</td>\n",
       "      <td>0</td>\n",
       "    </tr>\n",
       "    <tr>\n",
       "      <th>3</th>\n",
       "      <td>1.0</td>\n",
       "      <td>-0.966272</td>\n",
       "      <td>-0.185226</td>\n",
       "      <td>1.792993</td>\n",
       "      <td>-0.863291</td>\n",
       "      <td>-0.010309</td>\n",
       "      <td>1.247203</td>\n",
       "      <td>0.237609</td>\n",
       "      <td>0.377436</td>\n",
       "      <td>-1.387024</td>\n",
       "      <td>...</td>\n",
       "      <td>-0.108300</td>\n",
       "      <td>0.005274</td>\n",
       "      <td>-0.190321</td>\n",
       "      <td>-1.175575</td>\n",
       "      <td>0.647376</td>\n",
       "      <td>-0.221929</td>\n",
       "      <td>0.062723</td>\n",
       "      <td>0.061458</td>\n",
       "      <td>123.50</td>\n",
       "      <td>0</td>\n",
       "    </tr>\n",
       "    <tr>\n",
       "      <th>4</th>\n",
       "      <td>2.0</td>\n",
       "      <td>-1.158233</td>\n",
       "      <td>0.877737</td>\n",
       "      <td>1.548718</td>\n",
       "      <td>0.403034</td>\n",
       "      <td>-0.407193</td>\n",
       "      <td>0.095921</td>\n",
       "      <td>0.592941</td>\n",
       "      <td>-0.270533</td>\n",
       "      <td>0.817739</td>\n",
       "      <td>...</td>\n",
       "      <td>-0.009431</td>\n",
       "      <td>0.798278</td>\n",
       "      <td>-0.137458</td>\n",
       "      <td>0.141267</td>\n",
       "      <td>-0.206010</td>\n",
       "      <td>0.502292</td>\n",
       "      <td>0.219422</td>\n",
       "      <td>0.215153</td>\n",
       "      <td>69.99</td>\n",
       "      <td>0</td>\n",
       "    </tr>\n",
       "  </tbody>\n",
       "</table>\n",
       "<p>5 rows × 31 columns</p>\n",
       "</div>"
      ],
      "text/plain": [
       "   Time        V1        V2        V3        V4        V5        V6        V7  \\\n",
       "0   0.0 -1.359807 -0.072781  2.536347  1.378155 -0.338321  0.462388  0.239599   \n",
       "1   0.0  1.191857  0.266151  0.166480  0.448154  0.060018 -0.082361 -0.078803   \n",
       "2   1.0 -1.358354 -1.340163  1.773209  0.379780 -0.503198  1.800499  0.791461   \n",
       "3   1.0 -0.966272 -0.185226  1.792993 -0.863291 -0.010309  1.247203  0.237609   \n",
       "4   2.0 -1.158233  0.877737  1.548718  0.403034 -0.407193  0.095921  0.592941   \n",
       "\n",
       "         V8        V9  ...       V21       V22       V23       V24       V25  \\\n",
       "0  0.098698  0.363787  ... -0.018307  0.277838 -0.110474  0.066928  0.128539   \n",
       "1  0.085102 -0.255425  ... -0.225775 -0.638672  0.101288 -0.339846  0.167170   \n",
       "2  0.247676 -1.514654  ...  0.247998  0.771679  0.909412 -0.689281 -0.327642   \n",
       "3  0.377436 -1.387024  ... -0.108300  0.005274 -0.190321 -1.175575  0.647376   \n",
       "4 -0.270533  0.817739  ... -0.009431  0.798278 -0.137458  0.141267 -0.206010   \n",
       "\n",
       "        V26       V27       V28  Amount  Class  \n",
       "0 -0.189115  0.133558 -0.021053  149.62      0  \n",
       "1  0.125895 -0.008983  0.014724    2.69      0  \n",
       "2 -0.139097 -0.055353 -0.059752  378.66      0  \n",
       "3 -0.221929  0.062723  0.061458  123.50      0  \n",
       "4  0.502292  0.219422  0.215153   69.99      0  \n",
       "\n",
       "[5 rows x 31 columns]"
      ]
     },
     "execution_count": 240,
     "metadata": {},
     "output_type": "execute_result"
    }
   ],
   "source": [
    "credit = pd.read_csv('data/creditcard.csv')\n",
    "credit.head()"
   ]
  },
  {
   "cell_type": "code",
   "execution_count": 241,
   "metadata": {},
   "outputs": [
    {
     "data": {
      "text/plain": [
       "(284807, 31)"
      ]
     },
     "execution_count": 241,
     "metadata": {},
     "output_type": "execute_result"
    }
   ],
   "source": [
    "credit.shape"
   ]
  },
  {
   "cell_type": "markdown",
   "metadata": {},
   "source": [
    "As we can see, the data has 284,807 transactions, 30 features and the last column is the target. Let's separate our data accordingly. "
   ]
  },
  {
   "cell_type": "code",
   "execution_count": 242,
   "metadata": {},
   "outputs": [],
   "source": [
    "X = credit.drop(columns=\"Class\")\n",
    "y = credit[\"Class\"]"
   ]
  },
  {
   "cell_type": "code",
   "execution_count": 243,
   "metadata": {},
   "outputs": [
    {
     "data": {
      "text/plain": [
       "0    284315\n",
       "1       492\n",
       "Name: Class, dtype: int64"
      ]
     },
     "execution_count": 243,
     "metadata": {},
     "output_type": "execute_result"
    }
   ],
   "source": [
    "y.value_counts()"
   ]
  },
  {
   "cell_type": "markdown",
   "metadata": {},
   "source": [
    "In this data set, only 492 of the total 284,807 transactions are fraudulent. Thats only 0.17%! This is an example of a data set with highly imbalanced classes, or, more generally speaking, a highly imbalanced classification problem."
   ]
  },
  {
   "cell_type": "markdown",
   "metadata": {},
   "source": [
    "Let's fit a logistic regression to predict fraudulent transactions, and see how the model performs."
   ]
  },
  {
   "cell_type": "code",
   "execution_count": 244,
   "metadata": {},
   "outputs": [],
   "source": [
    "# Create a train/test split with 70% train, 30% test \n",
    "X_train, X_test, y_train, y_test = train_test_split(X, y, test_size = 0.3, random_state=1)"
   ]
  },
  {
   "cell_type": "code",
   "execution_count": 245,
   "metadata": {
    "colab": {},
    "colab_type": "code",
    "id": "yqeh5ODqFcGB"
   },
   "outputs": [],
   "source": [
    "from sklearn.linear_model import LogisticRegression\n",
    "\n",
    "# 1. Instantiate model\n",
    "credit_logit = LogisticRegression(solver='lbfgs', random_state=1, max_iter=10000)\n",
    "\n",
    "# 2. Fit model\n",
    "credit_logit.fit(X_train, y_train);"
   ]
  },
  {
   "cell_type": "code",
   "execution_count": 246,
   "metadata": {
    "colab": {},
    "colab_type": "code",
    "id": "-ukCO9oKFcGF",
    "outputId": "0f1c0811-33ef-4462-8aa7-e83cf2a8c401"
   },
   "outputs": [
    {
     "name": "stdout",
     "output_type": "stream",
     "text": [
      "Score on train: 0.9991773840813788\n",
      "Score on test: 0.999133925541004\n"
     ]
    }
   ],
   "source": [
    "# 3. Score model\n",
    "print(f'Score on train: {credit_logit.score(X_train, y_train)}')\n",
    "print(f'Score on test: {credit_logit.score(X_test, y_test)}')"
   ]
  },
  {
   "cell_type": "markdown",
   "metadata": {
    "colab_type": "text",
    "id": "VVjMp5B9FcGo"
   },
   "source": [
    "We get 99% accuracy on both the train and test set. Terrific! But is it?\n",
    "\n",
    "Let's dive deeper into our results. In binary classification, there are four possible outcomes to making a prediction:\n",
    "\n",
    "1. **True Positive (TP)**: Correctly predict that $x$ belongs to class 1/positive class\n",
    "2. **False Positive (FP)**: Incorrectly predict that $x$  belongs to class 1/positive class\n",
    "3. **True Negative (TN)**: Correctly predict $x$'s membership in class 0/negative class \n",
    "4. **False Negative (FN)**: Incorrectly predict $x$'s membership in class 0/negative class\n",
    "\n",
    "\n",
    "\n",
    "\n",
    "\n",
    "If we put these outcomes in a matrix, we arrive at what is known as a confusion matrix:\n",
    "\n",
    "|     |  Predicted Class 0 |   Predicted Class 1 | \n",
    "| --------- |:---:|:---:|\n",
    "|True Class 0 |**TN** | **FP** | \n",
    "|True Class 1 |**FN** |**TP** | \n",
    "\n",
    "For example, say we have a model that predicts whether or not it will rain today.\\\n",
    "Our label / response variable is `rain`\\\n",
    "Let's make `rain` as our positive class (i.e., class 1) and `not rain` as our negative class (i.e., class 0)\n",
    "\n",
    "1. **TP:** Model predicts = `rain`, Label = `rain`\n",
    "2. **FP:** Model predicts = `rain`, Label = `not rain`\n",
    "3. **TN:** Model predicts = `not rain`, Label = `not rain`\n",
    "4. **FN:** Model predicts = `not rain`, Label = `rain`\n",
    "\n",
    "Using these definitions, accuracy can be written as:\n",
    "\n",
    "$$Accuracy = \\frac{\\text{# correct predictions}}{\\text{# all predictions}}= \\frac{TN+TP}{TN+FP+FN+TP}$$"
   ]
  },
  {
   "cell_type": "markdown",
   "metadata": {
    "colab_type": "text",
    "id": "VVjMp5B9FcGo"
   },
   "source": [
    "For our example, we can get the confusion matrix using the `confusion_matrix` function in the `metrics` module of `sklearn`. This function returns the matrix as a numpy array but it often best to plot the results as a heatmap which can be done directly by the `ConfusionMatrixDisplay.from_estimator` function."
   ]
  },
  {
   "cell_type": "code",
   "execution_count": 248,
   "metadata": {},
   "outputs": [
    {
     "data": {
      "text/plain": [
       "array([[85293,    15],\n",
       "       [   59,    76]])"
      ]
     },
     "execution_count": 248,
     "metadata": {},
     "output_type": "execute_result"
    }
   ],
   "source": [
    "cf_matrix"
   ]
  },
  {
   "cell_type": "code",
   "execution_count": 247,
   "metadata": {},
   "outputs": [
    {
     "data": {
      "text/html": [
       "<div>\n",
       "<style scoped>\n",
       "    .dataframe tbody tr th:only-of-type {\n",
       "        vertical-align: middle;\n",
       "    }\n",
       "\n",
       "    .dataframe tbody tr th {\n",
       "        vertical-align: top;\n",
       "    }\n",
       "\n",
       "    .dataframe thead th {\n",
       "        text-align: right;\n",
       "    }\n",
       "</style>\n",
       "<table border=\"1\" class=\"dataframe\">\n",
       "  <thead>\n",
       "    <tr style=\"text-align: right;\">\n",
       "      <th></th>\n",
       "      <th>Predicted Non-fraudulent</th>\n",
       "      <th>Predicted Fraudulent</th>\n",
       "    </tr>\n",
       "  </thead>\n",
       "  <tbody>\n",
       "    <tr>\n",
       "      <th>True Non-fraudulent</th>\n",
       "      <td>85293</td>\n",
       "      <td>15</td>\n",
       "    </tr>\n",
       "    <tr>\n",
       "      <th>True Fraudulent</th>\n",
       "      <td>59</td>\n",
       "      <td>76</td>\n",
       "    </tr>\n",
       "  </tbody>\n",
       "</table>\n",
       "</div>"
      ],
      "text/plain": [
       "                     Predicted Non-fraudulent  Predicted Fraudulent\n",
       "True Non-fraudulent                     85293                    15\n",
       "True Fraudulent                            59                    76"
      ]
     },
     "metadata": {},
     "output_type": "display_data"
    }
   ],
   "source": [
    "from sklearn.metrics import confusion_matrix, ConfusionMatrixDisplay\n",
    "\n",
    "# Get class predictions\n",
    "y_pred = credit_logit.predict(X_test)\n",
    "\n",
    "# Generate confusion matrix\n",
    "cf_matrix = confusion_matrix(y_test, y_pred)\n",
    "\n",
    "# label rows and columns\n",
    "cf_df = pd.DataFrame(\n",
    "    cf_matrix, \n",
    "    columns=[\"Predicted Non-fraudulent\", \"Predicted Fraudulent\"],\n",
    "    index=[\"True Non-fraudulent\", \"True Fraudulent\"]\n",
    ")\n",
    "\n",
    "display(cf_df)"
   ]
  },
  {
   "cell_type": "code",
   "execution_count": 249,
   "metadata": {},
   "outputs": [
    {
     "data": {
      "image/png": "[encoded data removed]",
      "text/plain": [
       "<Figure size 432x288 with 2 Axes>"
      ]
     },
     "metadata": {
      "needs_background": "light"
     },
     "output_type": "display_data"
    }
   ],
   "source": [
    "# the function expects the estimator, inputs and target as parameters\n",
    "disp = ConfusionMatrixDisplay.from_estimator(credit_logit, X_test, y_test);\n"
   ]
  },
  {
   "cell_type": "markdown",
   "metadata": {},
   "source": [
    "Let's interpret these numbers, specifically the first row of the confusion matrix first:\n",
    "* **TN**: The vast majority of data points are from class 0 (the negative class) that were correctly predicted as legitimate transactions\n",
    "* **FP**: There was a small number of legitimate transactions that we incorrectly classified as fraudulent"
   ]
  },
  {
   "cell_type": "markdown",
   "metadata": {},
   "source": [
    "Looking at the second column of the confusion matrix:\n",
    "\n",
    "* **FN**: how many fraudulent transactions were predicted as legitimate?"
   ]
  },
  {
   "cell_type": "code",
   "execution_count": 261,
   "metadata": {},
   "outputs": [
    {
     "name": "stdout",
     "output_type": "stream",
     "text": [
      "15 legitimate transactions were misclassified as fradulent.\n"
     ]
    }
   ],
   "source": [
    "# select the FP from the confusion matrix\n",
    "# true label 0 & predicted label 1\n",
    "fp = cf_matrix[0, 1]\n",
    "\n",
    "print(f\"{fp} legitimate transactions were misclassified as fradulent.\")"
   ]
  },
  {
   "cell_type": "markdown",
   "metadata": {},
   "source": [
    "* **TP**: If our goal is to identify as many of the frauds as possible, and measure how well we achieved that goal, we need to look at the number of true positives versus the total number of frauds."
   ]
  },
  {
   "cell_type": "code",
   "execution_count": 262,
   "metadata": {},
   "outputs": [
    {
     "name": "stdout",
     "output_type": "stream",
     "text": [
      "76 fraudulent transactions were predicted correctly by the model out of 135 frauds.\n"
     ]
    }
   ],
   "source": [
    "# select the TP from the confusion matrix\n",
    "# true label 1 & predicted label 1\n",
    "tp = cf_matrix[1, 1]\n",
    "\n",
    "# total number of true label 1\n",
    "num_frauds = cf_matrix[1, :].sum()\n",
    "\n",
    "print(f\"{tp} fraudulent transactions were predicted correctly by the model out of {num_frauds} frauds.\")"
   ]
  },
  {
   "cell_type": "markdown",
   "metadata": {},
   "source": [
    "Compare this with the fact that the model has ~99% accuracy and note that we are still missing around half the fraudulent activity."
   ]
  },
  {
   "cell_type": "markdown",
   "metadata": {
    "colab_type": "text",
    "id": "gQJFUn1kFcGq"
   },
   "source": [
    "### Precision and Recall\n",
    "\n",
    "Because of the fact that accuracy alone can be misleading depending on the class balance of the data, alternative metrics consider the relative proportions of correct and incorrect classifications in both the positive and negative classes. Two of the most common are *precision* and *recall*. \n",
    "\n",
    "Precision measures what proportion of a model assigned to positive are actually members of the positive class:\n",
    "\n",
    "$$Precision = \\frac{TP}{TP+FP}$$\n",
    "\n",
    "On the other hand, recall measures how many members of the positive class the model correctly identified out of the total positives:\n",
    "\n",
    "$$Recall = \\frac{TP}{TP+FN}$$\n",
    "\n",
    "So, what are the actual uses of these values? \n",
    "\n",
    "Because both of these scores must be between zero and one, we can look at precision and recall from a probabilistic view. Say our model determined a set of points $X$ were members of the class. Let's select a random member $x$ of $X$. \n",
    "\n",
    "The precision is the probability that $x$ is actually a member of the class. It is a measure of how focused our model is. With a high precision we can be confident points our model identifies as belonging to a class do actually belong to a class. \n",
    "\n",
    "For recall, consider a random point $y$ taken from all of the data points that are in the class. Recall is the probability $y$ is a member of $X$, that is the probability a random point in the class is correctly found by our model. With a high recall we can be confident our model is not missing many class members."
   ]
  },
  {
   "cell_type": "markdown",
   "metadata": {},
   "source": [
    "<center>\n",
    "<img src=\"https://drive.google.com/uc?export=view&id=12_-4nTpurMy5MBZcA0VptLjB1dt9GfN2\" width = 700/>\n",
    "</center>"
   ]
  },
  {
   "cell_type": "markdown",
   "metadata": {},
   "source": [
    "In the above image, there are 10 data points in total. Of the 10 data points, 7 were correctly classified.\n",
    "\n",
    "$$Accuracy = \\frac{7}{10} = 70\\%$$\n",
    "\n",
    "We got 3 misclassifications and we might further care where those misclassifications were made.\n",
    "\n",
    "If we really care about predicting the positive class, we want to know how precise we are when we claim something is part of that class. Precision measures exactly that. \n",
    "\n",
    "$$Precision = \\frac{3}{5} = 60\\%$$\n",
    "\n",
    "Of all 5 data points that we claim are part of class 1, 3 were actually class 1 and predicted correctly. \n",
    "\n",
    "We can also look at the entire positive class and see how many data points we correctly classified as being part of that positive class. \n",
    "\n",
    "$$Recall = \\frac{3}{4} = 75\\%$$\n",
    "\n",
    "In total, there are 4 data points that actually belong to class 1. Of those 4, we predicted 3 as being a part of class 1. In other words, the metric recall measures how many class 1 data points our model managed to recall as class 1.\n",
    "\n",
    "We now have a bit more insight into the quality of our predictions. "
   ]
  },
  {
   "cell_type": "markdown",
   "metadata": {},
   "source": [
    "### More examples \n",
    "### What does this mean in our example?\n",
    "**Precision:** Out of all of the fraudulent PREDICTIONS, how many did the model correctly identify as fraudulent? 76/(76+15)\\\n",
    "**Recall:** Out of all of the fraudulent EXAMPLES (135 in total), how many did the model correctly identify as fraudulent? 76/(76+59)\n",
    "\n",
    "\n",
    "Say you went fishing in a pond with only fish and rocks. \\\n",
    "You cast wide net, and caught 160 objects in total. \\\n",
    "You catch 80 of 100 total fish in a lake. That's 80% recall. \\\n",
    "But you also get 80 rocks in your net. That means 50% precision, half of the net's contents is junk. \\\n",
    "You could use a smaller net and target one pocket of the lake where there are lots of fish and no rocks, but you might only get 20 of the fish in order to get 0 rocks. That is 20% recall and 100% precision."
   ]
  },
  {
   "cell_type": "markdown",
   "metadata": {
    "colab_type": "text",
    "id": "HYqma662FcGs"
   },
   "source": [
    "### Back to Our Example ###\n",
    "\n",
    "Let's calculate precision and recall on our credit card frauds model. Remember that our logistic regression model resulted in the following confusion matrix:"
   ]
  },
  {
   "cell_type": "code",
   "execution_count": 50,
   "metadata": {},
   "outputs": [
    {
     "data": {
      "text/html": [
       "<div>\n",
       "<style scoped>\n",
       "    .dataframe tbody tr th:only-of-type {\n",
       "        vertical-align: middle;\n",
       "    }\n",
       "\n",
       "    .dataframe tbody tr th {\n",
       "        vertical-align: top;\n",
       "    }\n",
       "\n",
       "    .dataframe thead th {\n",
       "        text-align: right;\n",
       "    }\n",
       "</style>\n",
       "<table border=\"1\" class=\"dataframe\">\n",
       "  <thead>\n",
       "    <tr style=\"text-align: right;\">\n",
       "      <th></th>\n",
       "      <th>Predicted Non-fraudulent</th>\n",
       "      <th>Predicted Fraudulent</th>\n",
       "    </tr>\n",
       "  </thead>\n",
       "  <tbody>\n",
       "    <tr>\n",
       "      <th>True Non-fraudulent</th>\n",
       "      <td>85293</td>\n",
       "      <td>15</td>\n",
       "    </tr>\n",
       "    <tr>\n",
       "      <th>True Fraudulent</th>\n",
       "      <td>59</td>\n",
       "      <td>76</td>\n",
       "    </tr>\n",
       "  </tbody>\n",
       "</table>\n",
       "</div>"
      ],
      "text/plain": [
       "                     Predicted Non-fraudulent  Predicted Fraudulent\n",
       "True Non-fraudulent                     85293                    15\n",
       "True Fraudulent                            59                    76"
      ]
     },
     "metadata": {},
     "output_type": "display_data"
    }
   ],
   "source": [
    "display(cf_df)"
   ]
  },
  {
   "cell_type": "markdown",
   "metadata": {},
   "source": [
    "We can calculate our precision and recall using the formulas from above:"
   ]
  },
  {
   "cell_type": "code",
   "execution_count": 252,
   "metadata": {},
   "outputs": [
    {
     "name": "stdout",
     "output_type": "stream",
     "text": [
      "Precision = 76/91 = 83.52%\n"
     ]
    }
   ],
   "source": [
    "tp = cf_matrix[1, 1]\n",
    "predicted_fraud = cf_matrix[:, 1].sum()\n",
    "\n",
    "precision = tp/predicted_fraud\n",
    "\n",
    "print(f\"Precision = {tp}/{predicted_fraud} = {round(precision*100, 2)}%\")"
   ]
  },
  {
   "cell_type": "code",
   "execution_count": 253,
   "metadata": {},
   "outputs": [
    {
     "name": "stdout",
     "output_type": "stream",
     "text": [
      "Recall = 76/135 = 56.3%\n"
     ]
    }
   ],
   "source": [
    "tp = cf_matrix[1, 1]\n",
    "true_fraud = cf_matrix[1, :].sum()\n",
    "\n",
    "recall = tp/true_fraud\n",
    "\n",
    "print(f\"Recall = {tp}/{true_fraud} = {round(recall*100, 2)}%\")"
   ]
  },
  {
   "cell_type": "markdown",
   "metadata": {},
   "source": [
    "The same calculation is carried out by the `precision_score` and `recall_score` functions which only require the true and predicted labels:"
   ]
  },
  {
   "cell_type": "code",
   "execution_count": 254,
   "metadata": {},
   "outputs": [
    {
     "data": {
      "text/plain": [
       "0.8351648351648352"
      ]
     },
     "execution_count": 254,
     "metadata": {},
     "output_type": "execute_result"
    }
   ],
   "source": [
    "# Precision \n",
    "from sklearn.metrics import precision_score\n",
    "\n",
    "# precision_score(true labels, predicted labels)\n",
    "precision_score(y_test, y_pred)"
   ]
  },
  {
   "cell_type": "code",
   "execution_count": 54,
   "metadata": {},
   "outputs": [
    {
     "data": {
      "text/plain": [
       "0.562962962962963"
      ]
     },
     "execution_count": 54,
     "metadata": {},
     "output_type": "execute_result"
    }
   ],
   "source": [
    "# Recall\n",
    "from sklearn.metrics import recall_score\n",
    "\n",
    "# recall_score(true labels, predicted labels)\n",
    "recall_score(y_test, y_pred)"
   ]
  },
  {
   "cell_type": "markdown",
   "metadata": {},
   "source": [
    "### Striking a Balance\n",
    "\n",
    "A perfect precision score says that all of my predictions of fraud are correct (regardless of any misclassification in the non-frauds) so my model is very precise in predicting fraud.\n",
    "\n",
    "A perfect recall score says that model can correctly predict every fraud (regardless of misclassification in the non-frauds). That means my model can recall all instances of fraud. \n",
    "\n",
    "A natural question to ask now is how do we optimize them? And can we improve them both? With these two scores, it's usually a balance.\n",
    "\n",
    "If I am able to recall every fraud, I could be also calling a lot of non-fraudulent transactions as fraud. This means that my precision would be lower. We have an imprecise model (_i.e._ there are more false positives) but one that is very likely to predict all instances of fraud which did occur, at the expense of incorrectly labeling some legitimate transactions fraudulent.\n",
    "\n",
    "If everything I predict to be a fraud is fraud, it doesn't necessarily mean that I am capturing all of the fraudulent transactions, only that I am very confident in my predictions of which transactions are fraudulent. This means that my recall would be lower. I have a highly precise model, but at the expense of missing many of the fraudulent transactions which may have occurred (_i.e._ there are more false negatives).\n"
   ]
  },
  {
   "cell_type": "markdown",
   "metadata": {},
   "source": [
    "\n",
    "So, we can improve either at the expense of the other. There is always a trade-off between precision and recall, between correctly predicting the positive and negative classes.\n",
    "\n",
    "Another common metric that combines the two measures is the $F_1$ score:\n",
    "\n",
    "$$F_1 = 2 \\cdot \\frac{precision \\cdot recall}{precision + recall}$$\n",
    "\n",
    "\n",
    "The F1 score is the [harmonic mean](https://en.wikipedia.org/wiki/Harmonic_mean) of the precision and recall scores.\n",
    "- The F1 score is always between the precision and recall score.\n",
    "- An F1 score reaches its best value at 1 which corresponds to both perfect precision and perfect recall.\n",
    "- The worst F1 score is 0 which occurs if either precision or recall becomes zero; this is one advantage of using the harmonic mean over a simple average of precision and recall.\n",
    "\n",
    "We use the F1 score in order to try and maximize the precision and recall scores simultaneously.\n",
    "\n",
    "For our example, where we had a 99% accuracy, we get an F1 score of:"
   ]
  },
  {
   "cell_type": "code",
   "execution_count": 255,
   "metadata": {},
   "outputs": [
    {
     "data": {
      "text/plain": [
       "0.672566371681416"
      ]
     },
     "execution_count": 255,
     "metadata": {},
     "output_type": "execute_result"
    }
   ],
   "source": [
    "from sklearn.metrics import f1_score\n",
    "\n",
    "f1_score(y_test, y_pred)"
   ]
  },
  {
   "cell_type": "markdown",
   "metadata": {},
   "source": [
    "This $F_1$ score can then be used to compare different models. Models with a higher F1 score are usually better at predicting the positive class. \n",
    "\n",
    "Finally, the very handy `classification_report` function in `sklearn.metrics` will compute precision, recall, and $F_1$ score for both the positive class (this is how we introduced precision and recall previously) and also the negative class."
   ]
  },
  {
   "cell_type": "code",
   "execution_count": 257,
   "metadata": {},
   "outputs": [
    {
     "name": "stdout",
     "output_type": "stream",
     "text": [
      "              precision    recall  f1-score   support\n",
      "\n",
      "           0       1.00      1.00      1.00     85308\n",
      "           1       0.84      0.56      0.67       135\n",
      "\n",
      "    accuracy                           1.00     85443\n",
      "   macro avg       0.92      0.78      0.84     85443\n",
      "weighted avg       1.00      1.00      1.00     85443\n",
      "\n"
     ]
    }
   ],
   "source": [
    "from sklearn.metrics import classification_report\n",
    "\n",
    "report_initial = classification_report(y_test, y_pred)\n",
    "print(report_initial)"
   ]
  },
  {
   "cell_type": "markdown",
   "metadata": {
    "colab_type": "text",
    "id": "VQhj2nbgBQUw"
   },
   "source": [
    "---\n",
    "#### Exercise 1 ####\n",
    "\n",
    "1. Fit a Logistic regression on the iris data set, and create the confusion matrix and classification report. How do they differ from the example above? Compare for those created against the train and test set.\n"
   ]
  },
  {
   "cell_type": "code",
   "execution_count": 265,
   "metadata": {},
   "outputs": [],
   "source": [
    "from sklearn.datasets import load_iris\n",
    "\n",
    "# Load the data\n",
    "iris = load_iris()\n",
    "X = iris.data\n",
    "y = iris.target"
   ]
  },
  {
   "cell_type": "markdown",
   "metadata": {},
   "source": [
    "#### Solution"
   ]
  },
  {
   "cell_type": "markdown",
   "metadata": {},
   "source": [
    "We split the data, fit a logistic regression model and then look at the confusion matrix:"
   ]
  },
  {
   "cell_type": "code",
   "execution_count": 266,
   "metadata": {
    "scrolled": true
   },
   "outputs": [],
   "source": [
    "# Split the data into training and testing sets\n",
    "X_train, X_test, y_train, y_test = train_test_split(X, y, test_size = 0.3, random_state=1)\n",
    "\n",
    "# Scale the data (though not necessary for DT)\n",
    "from sklearn.preprocessing import StandardScaler\n",
    "\n",
    "# Instantiate\n",
    "ss = StandardScaler()\n",
    "\n",
    "# Fit\n",
    "ss.fit(X_train)\n",
    "\n",
    "# Transform\n",
    "X_train_ss = ss.transform(X_train)\n",
    "X_test_ss = ss.transform(X_test)\n",
    "\n",
    "\n",
    "# Fit logistic regression model to the training set\n",
    "logreg = LogisticRegression(\n",
    "    solver='lbfgs', random_state=1, max_iter=10000).fit(X_train_ss, y_train)"
   ]
  },
  {
   "cell_type": "code",
   "execution_count": 267,
   "metadata": {},
   "outputs": [
    {
     "data": {
      "text/html": [
       "<div>\n",
       "<style scoped>\n",
       "    .dataframe tbody tr th:only-of-type {\n",
       "        vertical-align: middle;\n",
       "    }\n",
       "\n",
       "    .dataframe tbody tr th {\n",
       "        vertical-align: top;\n",
       "    }\n",
       "\n",
       "    .dataframe thead th {\n",
       "        text-align: right;\n",
       "    }\n",
       "</style>\n",
       "<table border=\"1\" class=\"dataframe\">\n",
       "  <thead>\n",
       "    <tr style=\"text-align: right;\">\n",
       "      <th></th>\n",
       "      <th>Predicted setosa</th>\n",
       "      <th>Predicted versicolor</th>\n",
       "      <th>Predicted virginica</th>\n",
       "    </tr>\n",
       "  </thead>\n",
       "  <tbody>\n",
       "    <tr>\n",
       "      <th>True setosa</th>\n",
       "      <td>36</td>\n",
       "      <td>0</td>\n",
       "      <td>0</td>\n",
       "    </tr>\n",
       "    <tr>\n",
       "      <th>True versicolor</th>\n",
       "      <td>0</td>\n",
       "      <td>30</td>\n",
       "      <td>2</td>\n",
       "    </tr>\n",
       "    <tr>\n",
       "      <th>True virginica</th>\n",
       "      <td>0</td>\n",
       "      <td>1</td>\n",
       "      <td>36</td>\n",
       "    </tr>\n",
       "  </tbody>\n",
       "</table>\n",
       "</div>"
      ],
      "text/plain": [
       "                 Predicted setosa  Predicted versicolor  Predicted virginica\n",
       "True setosa                    36                     0                    0\n",
       "True versicolor                 0                    30                    2\n",
       "True virginica                  0                     1                   36"
      ]
     },
     "metadata": {},
     "output_type": "display_data"
    }
   ],
   "source": [
    "# Get predicted y values for the train set\n",
    "y_pred = logreg.predict(X_train_ss)\n",
    "\n",
    "# Generate confusion matrix\n",
    "cf_matrix = confusion_matrix(y_train, y_pred)\n",
    "\n",
    "# Get target names\n",
    "cols = iris.target_names\n",
    "\n",
    "# Convert to a DataFrame\n",
    "cf_df = pd.DataFrame(\n",
    "    cf_matrix,\n",
    "    columns=['Predicted ' + x for x in cols],\n",
    "    index=['True ' + x for x in cols]\n",
    ")\n",
    "\n",
    "display(cf_df)"
   ]
  },
  {
   "cell_type": "code",
   "execution_count": 268,
   "metadata": {
    "scrolled": true
   },
   "outputs": [
    {
     "data": {
      "text/html": [
       "<div>\n",
       "<style scoped>\n",
       "    .dataframe tbody tr th:only-of-type {\n",
       "        vertical-align: middle;\n",
       "    }\n",
       "\n",
       "    .dataframe tbody tr th {\n",
       "        vertical-align: top;\n",
       "    }\n",
       "\n",
       "    .dataframe thead th {\n",
       "        text-align: right;\n",
       "    }\n",
       "</style>\n",
       "<table border=\"1\" class=\"dataframe\">\n",
       "  <thead>\n",
       "    <tr style=\"text-align: right;\">\n",
       "      <th></th>\n",
       "      <th>Predicted setosa</th>\n",
       "      <th>Predicted versicolor</th>\n",
       "      <th>Predicted virginica</th>\n",
       "    </tr>\n",
       "  </thead>\n",
       "  <tbody>\n",
       "    <tr>\n",
       "      <th>True setosa</th>\n",
       "      <td>14</td>\n",
       "      <td>0</td>\n",
       "      <td>0</td>\n",
       "    </tr>\n",
       "    <tr>\n",
       "      <th>True versicolor</th>\n",
       "      <td>0</td>\n",
       "      <td>17</td>\n",
       "      <td>1</td>\n",
       "    </tr>\n",
       "    <tr>\n",
       "      <th>True virginica</th>\n",
       "      <td>0</td>\n",
       "      <td>1</td>\n",
       "      <td>12</td>\n",
       "    </tr>\n",
       "  </tbody>\n",
       "</table>\n",
       "</div>"
      ],
      "text/plain": [
       "                 Predicted setosa  Predicted versicolor  Predicted virginica\n",
       "True setosa                    14                     0                    0\n",
       "True versicolor                 0                    17                    1\n",
       "True virginica                  0                     1                   12"
      ]
     },
     "metadata": {},
     "output_type": "display_data"
    }
   ],
   "source": [
    "# Get predicted y values for the test set\n",
    "y_pred = logreg.predict(X_test_ss)\n",
    "\n",
    "# Generate confusion matrix\n",
    "cf_matrix = confusion_matrix(y_test, y_pred)\n",
    "\n",
    "# Get target names\n",
    "cols = iris.target_names\n",
    "\n",
    "# Convert to a DataFrame\n",
    "cf_df = pd.DataFrame(\n",
    "    cf_matrix,\n",
    "    columns=['Predicted ' + x for x in cols],\n",
    "    index=['True ' + x for x in cols]\n",
    ")\n",
    "\n",
    "display(cf_df)"
   ]
  },
  {
   "cell_type": "code",
   "execution_count": 269,
   "metadata": {},
   "outputs": [
    {
     "data": {
      "image/png": "[encoded data removed]",
      "text/plain": [
       "<Figure size 432x288 with 2 Axes>"
      ]
     },
     "metadata": {
      "needs_background": "light"
     },
     "output_type": "display_data"
    }
   ],
   "source": [
    "ConfusionMatrixDisplay(cf_matrix).plot()\n",
    "plt.show()"
   ]
  },
  {
   "cell_type": "markdown",
   "metadata": {},
   "source": [
    "We can see that the model is almost perfect in making the predictions for both the train and the test set: there is only 2 errors in prediction. 1 Virginica is being predicted as a Versicolor and vice versa."
   ]
  },
  {
   "cell_type": "code",
   "execution_count": 270,
   "metadata": {},
   "outputs": [
    {
     "name": "stdout",
     "output_type": "stream",
     "text": [
      "TEST SET\n",
      "              precision    recall  f1-score   support\n",
      "\n",
      "           0       1.00      1.00      1.00        14\n",
      "           1       0.94      0.94      0.94        18\n",
      "           2       0.92      0.92      0.92        13\n",
      "\n",
      "    accuracy                           0.96        45\n",
      "   macro avg       0.96      0.96      0.96        45\n",
      "weighted avg       0.96      0.96      0.96        45\n",
      "\n"
     ]
    }
   ],
   "source": [
    "# TEST\n",
    "print(\"TEST SET\")\n",
    "print(classification_report(y_test, y_pred))"
   ]
  },
  {
   "cell_type": "markdown",
   "metadata": {},
   "source": [
    "The classification report shows the same picture: all but one (94%) of the versicolors are being recognized (recall for class 1) and 1/13 of the predicted virginica is actually virginica (precision for class 2)."
   ]
  },
  {
   "cell_type": "markdown",
   "metadata": {},
   "source": [
    "---\n",
    "These metrics provide us an overview of how well the model performs between true positives and false positives - but how can we adjust the model in order to strike the correct balance?"
   ]
  },
  {
   "cell_type": "code",
   "execution_count": null,
   "metadata": {},
   "outputs": [],
   "source": [
    "if prediction > threshold -> class 1\n",
    "elif prediction < threshold -> class 0 "
   ]
  },
  {
   "cell_type": "markdown",
   "metadata": {
    "colab_type": "text",
    "id": "ew3n8TJNBQUO"
   },
   "source": [
    "### True Positive Rate, False Positive Rate, and ROC\n",
    "\n",
    "\n",
    "TPR = \\frac{\\text{TP}{\\text{TP+FN}} -> same as recall\\\n",
    "FPR = FP/FP+TN\n",
    "\n",
    "Let's start with a simple example. Recall that logistic regression models make their decision about the class of some data point $x$ by computing the sigmoid function (for multiclass case, it's called a softmax function) :\n",
    "\n",
    "$$\\sigma(x) = \\frac{1}{1+e^{-\\beta \\cdot x}}$$\n",
    "\n",
    "and comparing this value to some threshold, usually set to $0.5$. More generally for any model this $0.5$ threshold means we put a point in class $1$ when our model believes it is slightly more likely to belong to class $1$. But what happens if we adjust this threshold? \n",
    "\n",
    "If we set the threshold lower, say $0.4$, we will get more class $1$ examples correct but we will also now incorrectly classify some class $0$ examples as class $1$. That is we increase the true positive rate and false positive rate. What if we do the reverse, and set the threshold at 0.6? We would get the reverse, both the true and false positive rates would decrease. \n",
    "\n",
    "By varying the threshold of the score at which we consider a point to be classified into the positive class, we can tailor our model to have higher precision or recall (and thus more or less true positives / true negatives) depending on the nature of the problem to which we are applying the classification model. This is a concept called \"Threshold moving\" \n",
    "\n",
    "For example, for our credit card transactions data, if the average value of a transaction is very, very, high, then perhaps we would wish to have high recall if letting a fraudulent transaction go undetected is very costly. In this case we would make the sacrifice of incorrectly positively identifying many legitimate transactions as fraudulent (_i.e._ have low precision / imprecise model) to prevent losing money on anything that we think *might* be fraud.\n",
    "\n",
    "If, on the other hand, the average value of transactions was low, we may wish to have high precision and be very confident in our predictions at the cost of missing many fraudulent transactions with our classifier and incorrectly identifying them as legitimate. This might be an acceptable trade-off to make if we don't want to lose customers because of a poor customer experience of continually flagging transactions which are not fraudulent as being illegitimate."
   ]
  },
  {
   "cell_type": "markdown",
   "metadata": {},
   "source": [
    "Let's return to our dataset of credit card transactions, and see how varying this threshold affects the precision and recall of the model. Here we will use the `predict_proba` function of our logistic regression model to return the probability scores, then manually put the points in the positive or negative class using `np.where` and our chosen cut-off:"
   ]
  },
  {
   "cell_type": "code",
   "execution_count": 271,
   "metadata": {},
   "outputs": [],
   "source": [
    "# Redefine the variables again with Credit dataset as they got overwritten in the previous exercise\n",
    "X = credit.drop(columns=\"Class\")\n",
    "y = credit[\"Class\"]\n",
    "\n",
    "# Create a train/test split with 70% train, 30% test \n",
    "X_train, X_test, y_train, y_test = train_test_split(X, y, test_size = 0.3, random_state=1)"
   ]
  },
  {
   "cell_type": "code",
   "execution_count": 273,
   "metadata": {},
   "outputs": [
    {
     "name": "stdout",
     "output_type": "stream",
     "text": [
      "Threshold of 0.5:\n",
      "Precision score: 0.8351648351648352\n",
      "Recall score: 0.562962962962963\n",
      "\n",
      "Threshold of 0.2:\n",
      "Precision score: 0.7241379310344828\n",
      "Recall score: 0.6222222222222222\n"
     ]
    }
   ],
   "source": [
    "# Make probabilistic predictions (scores)\n",
    "y_proba = credit_logit.predict_proba(X_test)[:,1]\n",
    "\n",
    "# First calculate precision and recall using the default (0.5) cut-off\n",
    "y_threshold = np.where(y_proba > 0.5, 1, 0)\n",
    "print(\"Threshold of 0.5:\")\n",
    "print(f\"Precision score: {precision_score(y_test, y_threshold)}\")\n",
    "print(f\"Recall score: {recall_score(y_test, y_threshold)}\")\n",
    "print(\"\")\n",
    "\n",
    "# Calculate the same using a much lower cut-off (0.2)\n",
    "y_threshold = np.where(y_proba > 0.2, 1, 0)\n",
    "print(\"Threshold of 0.2:\")\n",
    "print(f\"Precision score: {precision_score(y_test, y_threshold)}\")\n",
    "print(f\"Recall score: {recall_score(y_test, y_threshold)}\")"
   ]
  },
  {
   "cell_type": "markdown",
   "metadata": {},
   "source": [
    "Here we can see that setting the threshold much lower for the positive class has resulted in making our precision drop dramatically (because we now have incorrectly classified many points). However our recall has risen slightly as we've \"cast such a wide net\" that we've captured some fraudulent transactions that previously were incorrectly not identified as fraud."
   ]
  },
  {
   "cell_type": "markdown",
   "metadata": {},
   "source": [
    "Now let us consider the question - how do precision and recall behave as we vary the value of the threshold for our classifier? Is there an optimal threshold value to pick to maximize both?\n",
    "\n",
    "We can vary the value of the threshold, compute values for precision and recall as we iterate over values of the threshold, and compare the results (note that we only need to make the predictions once, we are only varying the cut-off):"
   ]
  },
  {
   "cell_type": "code",
   "execution_count": 274,
   "metadata": {},
   "outputs": [
    {
     "data": {
      "image/png": "[encoded data removed]",
      "text/plain": [
       "<Figure size 432x288 with 1 Axes>"
      ]
     },
     "metadata": {
      "needs_background": "light"
     },
     "output_type": "display_data"
    }
   ],
   "source": [
    "from sklearn.metrics import accuracy_score, f1_score\n",
    "\n",
    "# Vary thresholds by 0.05 from 0.05 to 0.95\n",
    "thresholds = np.arange(0.05, 1, 0.05)\n",
    "\n",
    "precisions = list()\n",
    "recalls = list()\n",
    "f1score = []\n",
    "\n",
    "for threshold in thresholds:\n",
    "\n",
    "    # Apply threshold\n",
    "    y_threshold = np.where(y_proba > threshold, 1, 0)\n",
    "    \n",
    "    # Calculate precision and recall\n",
    "    precision = precision_score(y_test, y_threshold)\n",
    "    recall = recall_score(y_test, y_threshold)\n",
    "    f1 = f1_score(y_test, y_threshold)\n",
    "    \n",
    "    # Append to list\n",
    "    precisions.append(precision)\n",
    "    recalls.append(recall)\n",
    "    f1score.append(f1)\n",
    "\n",
    "# Visualize the result\n",
    "plt.figure()\n",
    "plt.plot(thresholds, precisions, label='precision', marker='o')\n",
    "plt.plot(thresholds, recalls, label='recall', marker='o')\n",
    "plt.plot(thresholds, f1score, label='f1 score', marker='x')\n",
    "plt.xlim(0, 1)\n",
    "plt.xlabel('threshold')\n",
    "plt.ylabel('score')\n",
    "plt.legend()\n",
    "plt.show()"
   ]
  },
  {
   "cell_type": "markdown",
   "metadata": {},
   "source": [
    "If we wanted to maximize both precision and recall in this case, it looks like we could choose a cut-off value of around 0.4.\n",
    "\n",
    "This is great, however when we are trying to tune a model between false positives and negatives, it may be better to explicitly look at these metrics, instead of speaking in terms of only the positive class (as precision and recall measure). Related metrics to those of precision and recall are *true positive rate* and *false positive rate*.\n",
    "\n",
    "The True Positive Rate (TPR) measures what proportion of a model assigned to positive are actually members of the positive class:\n",
    "\n",
    "$$TPR = \\frac{TP}{TP+FN}$$\n",
    "\n",
    "Oh wait, we've already seen this, this is just recall, the proportion of positives that we correctly identified!\n",
    "\n"
   ]
  },
  {
   "cell_type": "code",
   "execution_count": 275,
   "metadata": {},
   "outputs": [
    {
     "name": "stdout",
     "output_type": "stream",
     "text": [
      "TPR: 0.562962962962963\n"
     ]
    }
   ],
   "source": [
    "y_proba = credit_logit.predict_proba(X_test)[:,1]\n",
    "y_binary = np.where(y_proba > 0.5, 1, 0)\n",
    "\n",
    "TPR = recall_score(y_test, y_binary)\n",
    "print(f\"TPR: {TPR}\")"
   ]
  },
  {
   "cell_type": "markdown",
   "metadata": {},
   "source": [
    "On the other hand, the False Positive Rate (FPR) will be the proportion of all negatives that we incorrectly identified as positive, that is:\n",
    "\n",
    "$$FPR = \\frac{FP}{FP+TN}$$\n",
    "\n",
    "\n",
    "`sklearn` does not implement a False Positive Rate metric, so we have to write our own:"
   ]
  },
  {
   "cell_type": "code",
   "execution_count": 276,
   "metadata": {},
   "outputs": [],
   "source": [
    "def false_positive_rate(y_true, y_pred):\n",
    "    \n",
    "    false_positives = (y_true == 0) & (y_pred == 1) # find all values where y is negative\n",
    "                                                    # but we predicted positive\n",
    "    false_positive_number = false_positives.sum()\n",
    "\n",
    "    true_negatives = (y_true == 0) & (y_pred == 0)  # find all values where y is negative\n",
    "                                                    # and we predicted negative\n",
    "    true_negative_number = true_negatives.sum()\n",
    "\n",
    "    # Finally, find the ratio of (FP) to (TN + FP)\n",
    "    FPR = false_positive_number/(true_negative_number + false_positive_number)\n",
    "    \n",
    "    return FPR"
   ]
  },
  {
   "cell_type": "code",
   "execution_count": 277,
   "metadata": {},
   "outputs": [
    {
     "name": "stdout",
     "output_type": "stream",
     "text": [
      "FPR: 0.0001758334505556337\n"
     ]
    }
   ],
   "source": [
    "y_proba = credit_logit.predict_proba(X_test)[:,1]\n",
    "y_binary = np.where(y_proba > 0.5, 1, 0)\n",
    "\n",
    "FPR = false_positive_rate(y_test, y_binary)\n",
    "print(f\"FPR: {FPR}\")"
   ]
  },
  {
   "cell_type": "markdown",
   "metadata": {},
   "source": [
    "Before continuing with the credit data set lets investigate the noisy breast cancer dataset to better illustrate the effect of varying the threshold in the case of a more balanced dataset."
   ]
  },
  {
   "cell_type": "code",
   "execution_count": 278,
   "metadata": {},
   "outputs": [
    {
     "data": {
      "text/plain": [
       "array(['mean radius', 'mean texture', 'mean perimeter', 'mean area',\n",
       "       'mean smoothness', 'mean compactness', 'mean concavity',\n",
       "       'mean concave points', 'mean symmetry', 'mean fractal dimension',\n",
       "       'radius error', 'texture error', 'perimeter error', 'area error',\n",
       "       'smoothness error', 'compactness error', 'concavity error',\n",
       "       'concave points error', 'symmetry error',\n",
       "       'fractal dimension error', 'worst radius', 'worst texture',\n",
       "       'worst perimeter', 'worst area', 'worst smoothness',\n",
       "       'worst compactness', 'worst concavity', 'worst concave points',\n",
       "       'worst symmetry', 'worst fractal dimension'], dtype='<U23')"
      ]
     },
     "execution_count": 278,
     "metadata": {},
     "output_type": "execute_result"
    }
   ],
   "source": [
    "cancer.feature_names"
   ]
  },
  {
   "cell_type": "code",
   "execution_count": 281,
   "metadata": {},
   "outputs": [
    {
     "data": {
      "text/plain": [
       "30"
      ]
     },
     "execution_count": 281,
     "metadata": {},
     "output_type": "execute_result"
    }
   ],
   "source": [
    "len(cancer.feature_names)"
   ]
  },
  {
   "cell_type": "code",
   "execution_count": 102,
   "metadata": {},
   "outputs": [
    {
     "data": {
      "text/plain": [
       "array(['malignant', 'benign'], dtype='<U9')"
      ]
     },
     "execution_count": 102,
     "metadata": {},
     "output_type": "execute_result"
    }
   ],
   "source": [
    "cancer.target_names"
   ]
  },
  {
   "cell_type": "code",
   "execution_count": 103,
   "metadata": {},
   "outputs": [
    {
     "data": {
      "text/plain": [
       "569"
      ]
     },
     "execution_count": 103,
     "metadata": {},
     "output_type": "execute_result"
    }
   ],
   "source": [
    "len(cancer.target)"
   ]
  },
  {
   "cell_type": "code",
   "execution_count": 282,
   "metadata": {
    "colab": {},
    "colab_type": "code",
    "id": "CPGhgZ9qBQUQ",
    "outputId": "9f634776-96ca-484e-c38e-d6f6cd269805"
   },
   "outputs": [],
   "source": [
    "from sklearn.datasets import load_breast_cancer\n",
    "\n",
    "# Use the cancer dataset\n",
    "cancer = load_breast_cancer()\n",
    "X = cancer.data\n",
    "y = cancer.target\n",
    "\n",
    "# Add some noise to the data\n",
    "random_state = np.random.RandomState(10)\n",
    "n_samples, n_features = X.shape\n",
    "X = X + (random_state.randn(n_samples, n_features) * 1000)\n",
    "\n",
    "# Create a train test split\n",
    "X_train, X_test, y_train, y_test = train_test_split(X, y, test_size=0.3, random_state=0)\n",
    "\n",
    "#Get the probability for each point in the test set.\n",
    "classifier = LogisticRegression()\n",
    "y_proba = classifier.fit(X_train, y_train).predict_proba(X_test)[:,1]\n",
    "thresholds = np.linspace(0, 1, 100)\n",
    "\n",
    "\n",
    "# Iterate over the thresholds and compute the positive and negative recall\n",
    "true_positive_rates = []\n",
    "false_positive_rates = []\n",
    "\n",
    "thresholds = np.linspace(0, 1, 50)\n",
    "for threshold in thresholds:\n",
    "    \n",
    "    # Apply the cutoff and calculate the positive and negative recall\n",
    "    y_pred = np.where(y_proba > threshold, 1, 0)\n",
    "    \n",
    "    tpr = recall_score(y_test, y_pred)\n",
    "    fpr = false_positive_rate(y_test, y_pred)\n",
    "    \n",
    "    true_positive_rates.append(tpr)\n",
    "    false_positive_rates.append(fpr)"
   ]
  },
  {
   "cell_type": "markdown",
   "metadata": {},
   "source": [
    "We can plot the True Positive Rate and the False Positive Rate against the threshold to see the effect of varying the cutoff. \n",
    "\n",
    "As the score cutoff becomes higher, our classifier decreases in false positive rate (less examples are incorrectly classified as positive falsely), but it also decreases in its ability to recall true positive cases.\n",
    "\n",
    "Ideally we want a high TPR and a low FPR, but as many things in model optimization, there seems to be a trade-off."
   ]
  },
  {
   "cell_type": "code",
   "execution_count": 283,
   "metadata": {},
   "outputs": [
    {
     "data": {
      "image/png": "[encoded data removed]",
      "text/plain": [
       "<Figure size 432x288 with 1 Axes>"
      ]
     },
     "metadata": {
      "needs_background": "light"
     },
     "output_type": "display_data"
    }
   ],
   "source": [
    "plt.figure()\n",
    "plt.plot(thresholds, true_positive_rates, label='True Positive Rate', marker='.')\n",
    "plt.plot(thresholds, false_positive_rates, label='False Positive Rate', marker='.')\n",
    "plt.xlabel('Threshold')\n",
    "plt.ylabel('Rate')\n",
    "plt.legend()\n",
    "plt.show()"
   ]
  },
  {
   "cell_type": "markdown",
   "metadata": {},
   "source": [
    "Finally, we plot the *Receiver Operating Characteristic*, or ROC curve. The ROC is a graphical measure which compares the true positive and false positive rates of a binary model, as defined above."
   ]
  },
  {
   "cell_type": "code",
   "execution_count": 284,
   "metadata": {},
   "outputs": [
    {
     "data": {
      "image/png": "[encoded data removed]",
      "text/plain": [
       "<Figure size 432x288 with 1 Axes>"
      ]
     },
     "metadata": {
      "needs_background": "light"
     },
     "output_type": "display_data"
    }
   ],
   "source": [
    "# True positive rate (TPR) = recall\n",
    "tprs = np.array(true_positive_rates)\n",
    "\n",
    "# False positive rate (FPR)\n",
    "fprs = np.array(false_positive_rates)\n",
    "\n",
    "plt.figure()\n",
    "plt.plot(fprs, tprs, color='darkorange', marker='.')\n",
    "plt.plot([0, 1], [0, 1], color='navy', linestyle='--')\n",
    "plt.xlabel('False Positive Rate (FPR)')\n",
    "plt.ylabel('True Positive Rate (TPR)')\n",
    "plt.title('Receiver Operating Characteristic (ROC)')\n",
    "plt.show()"
   ]
  },
  {
   "cell_type": "markdown",
   "metadata": {},
   "source": [
    "A point at [1,1] means even though we have correctly classified ALL of the cancerous samples, we incorrectly classified ALL of the samples that were non-canerous\\\n",
    "What about when there is a point at [0,1]? What does this mean?\n",
    "* This means that we have correctly classified 100% of the positive class (cancerous), and also 100% of the negative class (non-cancerous). In other wor,ds this threshold resulted in no False Positive\n",
    "\n",
    "**The ROC graph summarizes all of the confusion matrices that each threshold produced**"
   ]
  },
  {
   "cell_type": "markdown",
   "metadata": {},
   "source": [
    "An important point to note is that the ROC curve traces the path *as we vary the threshold* which is not depicted on the graph. We can see this in the figure below - as we vary the cutoff in the histogram of predicted scores (probabilities) on the left, it traces out the value with associated True Positive Rates and False Positive Rates in the plot on the right, drawing the ROC curve.\n",
    "\n",
    "<center>\n",
    "<img src=\"https://drive.google.com/uc?export=view&id=10hMa0rw1S6400OlYIiwwEVbDoHfVD4ON\">\n",
    "</center>"
   ]
  },
  {
   "cell_type": "markdown",
   "metadata": {},
   "source": [
    "For convenience, there is the [sklearn.metrics.roc_curve](https://scikit-learn.org/stable/modules/generated/sklearn.metrics.roc_curve.html) function to compute the thresholds, true positive rates, and false positive rates easily. Note that unlike other scoring functions in `metrics`, this function takes the *probability* scores calculated from `predict_proba` for the positive class, not the binary class predictions from `predict`. We can use this to easily draw the ROC curve for our imbalanced fraud dataset, as well as an associated metric, the AUC, or area under the curve:"
   ]
  },
  {
   "cell_type": "code",
   "execution_count": 285,
   "metadata": {},
   "outputs": [],
   "source": [
    "# Reload the fraud data\n",
    "X = credit.iloc[:,:-1]\n",
    "y = credit.iloc[:,-1]\n",
    "\n",
    "# Create a train/test split with 70% train, 30% test \n",
    "X_train, X_test, y_train, y_test = train_test_split(X, y, test_size = 0.3, random_state=1)\n",
    "\n",
    "# Regenerate scores\n",
    "y_proba = credit_logit.predict_proba(X_test)[:,1]"
   ]
  },
  {
   "cell_type": "code",
   "execution_count": 286,
   "metadata": {},
   "outputs": [
    {
     "data": {
      "image/png": "[encoded data removed]",
      "text/plain": [
       "<Figure size 432x288 with 1 Axes>"
      ]
     },
     "metadata": {
      "needs_background": "light"
     },
     "output_type": "display_data"
    },
    {
     "name": "stdout",
     "output_type": "stream",
     "text": [
      "Area under curve (AUC):0.9226114002594519\n",
      "\n"
     ]
    }
   ],
   "source": [
    "from sklearn.metrics import roc_curve, roc_auc_score\n",
    "\n",
    "fprs, tprs, thresholds = roc_curve(y_test, y_proba)\n",
    "roc_auc = roc_auc_score(y_test, y_proba)\n",
    "\n",
    "plt.figure()\n",
    "plt.plot(fprs, tprs, color='darkorange',\n",
    "         lw=2, label='AUC = %0.2f' % roc_auc)\n",
    "plt.plot([0, 1], [0, 1], color='navy', lw=2, linestyle='--')\n",
    "plt.xlabel('False Positive Rate (FPR)')\n",
    "plt.ylabel('True Positive Rate (TPR)')\n",
    "plt.title('ROC Curve for Credit Fraud Prediction')\n",
    "plt.legend(loc=\"best\")\n",
    "plt.show()\n",
    "\n",
    "print(f'Area under curve (AUC):{roc_auc}')\n",
    "print()"
   ]
  },
  {
   "cell_type": "markdown",
   "metadata": {
    "colab_type": "text",
    "id": "e_DRfcRFBQUU"
   },
   "source": [
    "Each point on the curve represents a tradeoff between true and false positive rates. If we're only willing to tolerate a false positive rate of $0.2$, then we can only achieve a true positive rate of ~$0.85$. On the other hand, if we were only permitting a very low false positive rate, we might have to settle for a lower true positive rate close to $0.6$. Conversely, we could allow a high false positive rate for a higher true positive rate and correctly classify nearly all positive examples. The diagonal line represents a random guess. It serves as a baseline to compare the curve against. When the curve is above it we are doing better than random choice, below we are doing worse.\n",
    "\n",
    "Now that we have this curve, what can we do with it? As was the original motivation, it is useful for tuning acceptance thresholds. Say our test was measuring if an airplane required maintenance. We would much rather have a perfect true positive rate and several false positives than misclassify airplanes that were going to fail.\n",
    "\n",
    "It can also provide a measure of model quality. We can do this by measuring the area under the ROC curve (or AUC score). \n",
    "\n",
    "To understand why this measure is useful, consider the following three examples. The best model will never make a misclassification, so it will have a true positive rate of $1.0$ and a false positive rate of $0$. It's ROC curve is the flat horizontal line at 1. The area under it is $1$. The worst classifier is then the horizontal line at 0, it has the inverse true and false positive rate of the best model, its AUC score is $0$. The random guessing classifier has an AUC score of $0.5$. The key observation here is a higher AUC score corresponds to a better ROC curve, thus we can measure the quality of a model with its AUC score."
   ]
  },
  {
   "cell_type": "markdown",
   "metadata": {},
   "source": [
    "**Tip**: A quick way to plot the ROC curve without looking at the actual values is using the `RocCurveDisplay.from_estimator` function."
   ]
  },
  {
   "cell_type": "code",
   "execution_count": 287,
   "metadata": {},
   "outputs": [
    {
     "data": {
      "image/png": "[encoded data removed]",
      "text/plain": [
       "<Figure size 432x288 with 1 Axes>"
      ]
     },
     "metadata": {
      "needs_background": "light"
     },
     "output_type": "display_data"
    }
   ],
   "source": [
    "from sklearn.metrics import RocCurveDisplay\n",
    "\n",
    "RocCurveDisplay.from_estimator(credit_logit, X_test, y_test)\n",
    "plt.title('ROC Curve for Credit Fraud Prediction')\n",
    "plt.show()"
   ]
  },
  {
   "cell_type": "markdown",
   "metadata": {
    "colab_type": "text",
    "id": "TwN_PsPiBQUY"
   },
   "source": [
    "**Two Important Notes:**\n",
    "1. ROC and AUC values are data dependent. If we change the underlying distribution, or even the points from the same distribution, the plots and values can significantly change.\n",
    "2. We found the ROC curve and AUC score by fitting a model to a training set and evaluating it on a test set. If we had instead fitted and evaluated on the same set then we would likely be  making our evaluation and decisions on data we have overfitted to. This is akin to selecting the best performing model by using the accuracy on the training set."
   ]
  },
  {
   "cell_type": "code",
   "execution_count": 288,
   "metadata": {
    "colab": {},
    "colab_type": "code",
    "id": "akiZJjvGBQUa",
    "outputId": "a76d51b7-b165-45c7-ab56-070ec4bd856f"
   },
   "outputs": [
    {
     "data": {
      "image/png": "[encoded data removed]",
      "text/plain": [
       "<Figure size 432x288 with 1 Axes>"
      ]
     },
     "metadata": {
      "needs_background": "light"
     },
     "output_type": "display_data"
    },
    {
     "name": "stdout",
     "output_type": "stream",
     "text": [
      "Test AUC score: 0.9226114002594519\n",
      "Train AUC score: 0.9528264556210662\n"
     ]
    }
   ],
   "source": [
    "#Get the probability for each point in the train set.\n",
    "y_proba_train = credit_logit.predict_proba(X_train)[:,1]\n",
    "\n",
    "# Compute ROC curve and AUC for for the one class\n",
    "fprs_train, tprs_train, thresholds_train = roc_curve(y_train, y_proba_train)\n",
    "roc_auc_train = roc_auc_score(y_train, y_proba_train)\n",
    "  \n",
    "# Plot the ROC curve.\n",
    "plt.figure()\n",
    "plt.plot(fprs_train, tprs_train, color='darkorange', lw=2, label='train')\n",
    "plt.plot(fprs, tprs, lw=2, label='test')\n",
    "plt.plot([0, 1], [0, 1], color='navy', lw=2, linestyle='--')\n",
    "plt.xlabel('False Positive Rate')\n",
    "plt.ylabel('True Positive Rate')\n",
    "plt.title('ROC and AUC')\n",
    "plt.legend(loc=\"best\")\n",
    "plt.show()\n",
    "print(f\"Test AUC score: {roc_auc}\")\n",
    "print(f\"Train AUC score: {roc_auc_train}\")"
   ]
  },
  {
   "cell_type": "markdown",
   "metadata": {
    "colab_type": "text",
    "id": "eNc1PRt9BQUj"
   },
   "source": [
    "As expected, the AUC score is higher."
   ]
  },
  {
   "cell_type": "markdown",
   "metadata": {
    "colab_type": "text",
    "id": "r8uKLb_FBQUk"
   },
   "source": [
    "### Using ROC and AUC\n",
    "\n",
    "Besides using AUC (and hence the ROC) as an evaluation criteria is there anything else we can do with it? While AUC is usually correlated with accuracy, it is possible that we can choose between a model with a high AUC and lower accuracy and a model with a lower AUC and higher accuracy. Let's step back and see what each is measuring again:\n",
    "\n",
    "1. Accuracy is measuring the fraction of points our model gets correct for a fixed threshold.\n",
    "2. AUC is the probability that when our model is given two random points, one from the positive class and one from the negative class, our model is more confident that the positive point belongs to the positive class than the negative point belonging to the positive class.\n",
    "\n",
    "We've seen accuracy is not always a great measure when our classes or highly skewed, this can lead us to a false sense of confidence. With AUC we are protected from class imbalances."
   ]
  },
  {
   "cell_type": "markdown",
   "metadata": {
    "colab_type": "text",
    "id": "VQhj2nbgBQUw"
   },
   "source": [
    "---\n",
    "#### Exercise 2\n",
    "\n",
    "1. Using the noisy cancer dataset get the AUC score and ROC curve of several classifiers, try logistic regression, decision trees, KNN etc... Note some of these classifiers, such as SVM, require you set `probability=True` when building the model, otherwise you will encounter an error. You should plot out the ROC curve and get the AUC score for both the train and test set.\n",
    "2. Given the context of the data at what point do you think we should set the cutoffs of the various classifiers? Do you have enough information to answer this question?\n",
    "---"
   ]
  },
  {
   "cell_type": "code",
   "execution_count": 289,
   "metadata": {},
   "outputs": [],
   "source": [
    "from sklearn.datasets import load_breast_cancer\n",
    "\n",
    "# Use the cancer dataset\n",
    "cancer = load_breast_cancer()\n",
    "X = cancer.data\n",
    "y = cancer.target\n",
    "\n",
    "# Add some noise to the data\n",
    "random_state = np.random.RandomState(10)\n",
    "n_samples, n_features = X.shape\n",
    "X = X + (random_state.randn(n_samples, n_features) * 1000)\n",
    "\n",
    "# Create a train test split\n",
    "X_train, X_test, y_train, y_test = train_test_split(X, y, test_size=0.3, random_state=0)"
   ]
  },
  {
   "cell_type": "markdown",
   "metadata": {},
   "source": [
    "#### Solution"
   ]
  },
  {
   "cell_type": "markdown",
   "metadata": {},
   "source": [
    "Our first step is to scale the data:"
   ]
  },
  {
   "cell_type": "code",
   "execution_count": 290,
   "metadata": {},
   "outputs": [],
   "source": [
    "# Instantiate\n",
    "ss = StandardScaler()\n",
    "\n",
    "# Fit\n",
    "ss.fit(X_train)\n",
    "\n",
    "# Transform\n",
    "X_train_ss = ss.transform(X_train)\n",
    "X_test_ss = ss.transform(X_test)"
   ]
  },
  {
   "cell_type": "markdown",
   "metadata": {},
   "source": [
    "Next, we will loop through four different models, fit them on the scaled data and plot the ROC curve for each:"
   ]
  },
  {
   "cell_type": "code",
   "execution_count": 291,
   "metadata": {},
   "outputs": [
    {
     "data": {
      "image/png": "[encoded data removed]",
      "text/plain": [
       "<Figure size 1008x360 with 2 Axes>"
      ]
     },
     "metadata": {
      "needs_background": "light"
     },
     "output_type": "display_data"
    }
   ],
   "source": [
    "from sklearn.metrics import roc_auc_score\n",
    "from sklearn.tree import DecisionTreeClassifier\n",
    "from sklearn.linear_model import LogisticRegression\n",
    "from sklearn.svm import SVC\n",
    "from sklearn.neighbors import KNeighborsClassifier\n",
    "\n",
    "# Instantiate\n",
    "models = [\n",
    "    LogisticRegression(C=0.1), \n",
    "    DecisionTreeClassifier(max_depth=5), \n",
    "    SVC(probability=True),\n",
    "    KNeighborsClassifier(n_neighbors=35)\n",
    "]\n",
    "\n",
    "modelnames = ['logit', 'dt', 'svm', 'knn']\n",
    "\n",
    "fig, axes = plt.subplots(1,2, figsize=(14, 5))\n",
    "\n",
    "for i in range(4):\n",
    "    # Fit \n",
    "    models[i].fit(X_train_ss, y_train)\n",
    "\n",
    "    # Predict probabilities\n",
    "    y_proba_train = models[i].predict_proba(X_train_ss)[:,1]\n",
    "    y_proba_test = models[i].predict_proba(X_test_ss)[:, 1]\n",
    "\n",
    "    # Score (AUC)\n",
    "    auc_train = np.round(roc_auc_score(y_train, y_proba_train), 3)\n",
    "    auc_test = np.round(roc_auc_score(y_test, y_proba_test), 3)\n",
    "    \n",
    "    train_label = f'{modelnames[i]} AUC: {auc_train}'\n",
    "    test_label = f'{modelnames[i]} AUC: {auc_test}'\n",
    "\n",
    "    # Plot ROC curve\n",
    "    # Using RocCurveDisplay - pass in the fitted model, then the X data, then the y data\n",
    "    RocCurveDisplay.from_estimator(models[i], X_train_ss, y_train, ax=axes[0], marker='.', label=train_label)\n",
    "    RocCurveDisplay.from_estimator(models[i], X_test_ss, y_test, ax=axes[1], marker='.', label=test_label)\n",
    "\n",
    "axes[0].plot([0,1], [0,1], color='black', linestyle='--')\n",
    "axes[1].plot([0,1], [0,1], color='black', linestyle='--')\n",
    "axes[0].set_title('TRAIN')\n",
    "axes[1].set_title('TEST')\n",
    "\n",
    "plt.show()"
   ]
  },
  {
   "cell_type": "markdown",
   "metadata": {},
   "source": [
    "We see that there are quite large difference between the training performance of these models however the test scores are quite similar. This signals that the models are possibly overfitting. In general, the Logistic Regresssion model has the highest area-under-the-curve for the test set with the decision tree and SVM second and third.\n",
    "\n",
    "The ROC curve shows us the trade-off between false positives and true positives: for example in case of the LR model, we can achieve a 0.4 TPR at 0.1 FPR."
   ]
  },
  {
   "cell_type": "markdown",
   "metadata": {},
   "source": [
    "### Dealing with class imbalance\n",
    "\n",
    "We have brought up the common problem of working with imbalanced data. Imbalanced data forces us to rely on other evaluation metrics than accuracy: precision, recall, F1 score, and area under the ROC curve all do a good job of giving us a better metric to evaluate our model. \n",
    "\n",
    "However, class imbalance can also cause an issue when training our models. Consider the cost function when the model is fitting on the training data. The cost function is going to be biased towards the majority class and will result in a model that doesn't learn enough about the minority class. \n",
    "\n",
    "Hope is not lost! We can correct for imbalance in a few ways and two common approaches are upsampling and downsampling. A very important note here is that which ever approach we apply should only be done to the training data! The test data should remain untouched and have class imbalance consistent with what you would expect the real world to be."
   ]
  },
  {
   "cell_type": "markdown",
   "metadata": {},
   "source": [
    "#### Upsampling/Oversampling\n",
    "\n",
    "To potentially improve our model, we can \"upsample\" the minority class. This entails us resampling the observations that belong to the underrepresented class so that our training data consists of equal proportions of each class. Take the credit card example:"
   ]
  },
  {
   "cell_type": "code",
   "execution_count": 292,
   "metadata": {},
   "outputs": [
    {
     "name": "stdout",
     "output_type": "stream",
     "text": [
      "Number of class 1 examples before: 357\n",
      "Number of class 1 examples after: 199007\n"
     ]
    }
   ],
   "source": [
    "# upsample the credit card example\n",
    "from sklearn.utils import resample\n",
    "\n",
    "# Reload the credit data\n",
    "X = credit.drop(columns=\"Class\")\n",
    "y = credit[\"Class\"]\n",
    "\n",
    "X_train, X_test, y_train, y_test = train_test_split(X, y, test_size = 0.3, random_state=1)\n",
    "\n",
    "# Upsample\n",
    "print('Number of class 1 examples before:', X_train[y_train == 1].shape[0])\n",
    "\n",
    "X_upsampled, y_upsampled = resample(X_train[y_train == 1], \n",
    "                                    y_train[y_train == 1], \n",
    "                                    replace=True, \n",
    "                                    n_samples=X_train[y_train == 0].shape[0], \n",
    "                                    random_state=123)\n",
    "\n",
    "print('Number of class 1 examples after:', X_upsampled.shape[0])\n",
    "\n",
    "# Combine upsample with original data\n",
    "X_train_bal = np.vstack((X_train[y_train == 0], X_upsampled))\n",
    "y_train_bal = np.hstack((y_train[y_train == 0], y_upsampled))\n",
    "\n",
    "# Convert the X variable numpy array into a dataframe\n",
    "X_train_bal = pd.DataFrame(X_train_bal, columns=X.columns)"
   ]
  },
  {
   "cell_type": "code",
   "execution_count": 297,
   "metadata": {},
   "outputs": [
    {
     "data": {
      "text/plain": [
       "199007.0"
      ]
     },
     "execution_count": 297,
     "metadata": {},
     "output_type": "execute_result"
    }
   ],
   "source": [
    "len(X_train_bal)/2"
   ]
  },
  {
   "cell_type": "markdown",
   "metadata": {},
   "source": [
    "*Note that in the code above we did not change the `y_train_bal` to a DataFrame as that would change the shape of the variable to (398014,1). The numpy array already keeps it in the proper shape i.e (398014,).*\n",
    "\n",
    "With the balanced data we can train and evaluate our model. "
   ]
  },
  {
   "cell_type": "code",
   "execution_count": 298,
   "metadata": {},
   "outputs": [
    {
     "name": "stdout",
     "output_type": "stream",
     "text": [
      "Confusion matrices: \n",
      "=======================================================\n",
      "\n"
     ]
    },
    {
     "data": {
      "image/png": "[encoded data removed]",
      "text/plain": [
       "<Figure size 720x216 with 4 Axes>"
      ]
     },
     "metadata": {
      "needs_background": "light"
     },
     "output_type": "display_data"
    },
    {
     "name": "stdout",
     "output_type": "stream",
     "text": [
      "\n",
      "Original data classification report: \n",
      "=======================================================\n",
      "               precision    recall  f1-score   support\n",
      "\n",
      "           0       1.00      1.00      1.00     85308\n",
      "           1       0.84      0.56      0.67       135\n",
      "\n",
      "    accuracy                           1.00     85443\n",
      "   macro avg       0.92      0.78      0.84     85443\n",
      "weighted avg       1.00      1.00      1.00     85443\n",
      "\n",
      "\n",
      "Upsampled data classification report: \n",
      "=======================================================\n",
      "               precision    recall  f1-score   support\n",
      "\n",
      "           0       1.00      0.97      0.99     85308\n",
      "           1       0.05      0.87      0.09       135\n",
      "\n",
      "    accuracy                           0.97     85443\n",
      "   macro avg       0.52      0.92      0.54     85443\n",
      "weighted avg       1.00      0.97      0.98     85443\n",
      "\n"
     ]
    }
   ],
   "source": [
    "#####################\n",
    "### MODEL FITTING ###\n",
    "#####################\n",
    "\n",
    "# on the original data\n",
    "credit_logit = LogisticRegression(solver='lbfgs', random_state=1, max_iter=10000)\n",
    "credit_logit.fit(X_train, y_train)\n",
    "\n",
    "# evaluate on the original test set\n",
    "y_pred = credit_logit.predict(X_test)\n",
    "\n",
    "# classification report\n",
    "report_initial = classification_report(y_test, y_pred)\n",
    "\n",
    "\n",
    "# on the upsampled data\n",
    "credit_logit_bal = LogisticRegression(solver='lbfgs', random_state=1, max_iter=10000)\n",
    "credit_logit_bal.fit(X_train_bal, y_train_bal)\n",
    "\n",
    "# evaluate on the original test set - NO UPSAMPLING\n",
    "y_pred_bal = credit_logit_bal.predict(X_test) \n",
    "\n",
    "# classification report\n",
    "report_upsampled = classification_report(y_test, y_pred_bal)\n",
    "\n",
    "\n",
    "#####################\n",
    "### PRINT RESULTS ###\n",
    "#####################\n",
    "\n",
    "print_line = \"\\n=======================================================\\n\"\n",
    "\n",
    "# Confusion matrices\n",
    "print(\"Confusion matrices:\", print_line)\n",
    "\n",
    "fig, axes = plt.subplots(1, 2, figsize=(10, 3))\n",
    "\n",
    "# Model on the original data\n",
    "ConfusionMatrixDisplay.from_estimator(credit_logit, X_test, y_test, ax=axes[0])\n",
    "axes[0].set_title('Original Confusion Matrix')\n",
    "\n",
    "# Model on the upsampled data\n",
    "ConfusionMatrixDisplay.from_estimator(credit_logit_bal, X_test, y_test, ax=axes[1])\n",
    "axes[1].set_title('Upsampled Confusion Matrix')\n",
    "\n",
    "plt.show()\n",
    "\n",
    "# Classification Reports\n",
    "print(\"\\nOriginal data classification report:\", print_line, report_initial)\n",
    "print(\"\\nUpsampled data classification report:\", print_line, report_upsampled)"
   ]
  },
  {
   "cell_type": "markdown",
   "metadata": {},
   "source": [
    "The precision for our model is substantially worse, but our recall has improved by a large margin. This is even better than what we could have achieved by adjusting our probability threshold. We are definitely learning more about our minority class and limiting the amount of false negatives. However, depending on our application, we may not be able to afford this decrease in precision. "
   ]
  },
  {
   "cell_type": "markdown",
   "metadata": {},
   "source": [
    "#### Downsampling\n",
    "\n",
    "Similar to Upsampling, we can resample the majority class to have a smaller number of observations to balance out the classes instead of increasing the minority class. "
   ]
  },
  {
   "cell_type": "code",
   "execution_count": 299,
   "metadata": {},
   "outputs": [
    {
     "name": "stdout",
     "output_type": "stream",
     "text": [
      "Number of class 0 examples before: 199007\n",
      "Number of class 0 examples after: 357\n"
     ]
    }
   ],
   "source": [
    "# downsample the credit card example\n",
    "\n",
    "# Reload the credit data\n",
    "X = credit.drop(columns=\"Class\")\n",
    "y = credit[\"Class\"]\n",
    "\n",
    "X_train, X_test, y_train, y_test = train_test_split(X, y, test_size = 0.3, random_state=1)\n",
    "\n",
    "# Upsample\n",
    "print('Number of class 0 examples before:', X_train[y_train == 0].shape[0])\n",
    "\n",
    "X_downsampled, y_downsampled = resample(X_train[y_train == 0], \n",
    "                                        y_train[y_train == 0], \n",
    "                                        replace=True, \n",
    "                                        n_samples=X_train[y_train == 1].shape[0], \n",
    "                                        random_state=123)\n",
    "\n",
    "print('Number of class 0 examples after:', X_downsampled.shape[0])\n",
    "\n",
    "# Combine upsample with original data\n",
    "X_train_bal2 = np.vstack((X_train[y_train == 1], X_downsampled))\n",
    "y_train_bal2 = np.hstack((y_train[y_train == 1], y_downsampled))\n",
    "\n",
    "# Convert the X variable numpy array into a dataframe\n",
    "X_train_bal2 = pd.DataFrame(X_train_bal2, columns=X.columns)"
   ]
  },
  {
   "cell_type": "code",
   "execution_count": 300,
   "metadata": {},
   "outputs": [
    {
     "data": {
      "text/plain": [
       "714"
      ]
     },
     "execution_count": 300,
     "metadata": {},
     "output_type": "execute_result"
    }
   ],
   "source": [
    "len(X_train_bal2)"
   ]
  },
  {
   "cell_type": "code",
   "execution_count": 301,
   "metadata": {},
   "outputs": [
    {
     "name": "stdout",
     "output_type": "stream",
     "text": [
      "Confusion matrices: \n",
      "=======================================================\n",
      "\n"
     ]
    },
    {
     "data": {
      "image/png": "[encoded data removed]",
      "text/plain": [
       "<Figure size 720x216 with 4 Axes>"
      ]
     },
     "metadata": {
      "needs_background": "light"
     },
     "output_type": "display_data"
    },
    {
     "name": "stdout",
     "output_type": "stream",
     "text": [
      "\n",
      "Original data classification report: \n",
      "=======================================================\n",
      "               precision    recall  f1-score   support\n",
      "\n",
      "           0       1.00      1.00      1.00     85308\n",
      "           1       0.84      0.56      0.67       135\n",
      "\n",
      "    accuracy                           1.00     85443\n",
      "   macro avg       0.92      0.78      0.84     85443\n",
      "weighted avg       1.00      1.00      1.00     85443\n",
      "\n",
      "\n",
      "Upsampled data classification report: \n",
      "=======================================================\n",
      "               precision    recall  f1-score   support\n",
      "\n",
      "           0       1.00      0.96      0.98     85308\n",
      "           1       0.03      0.90      0.06       135\n",
      "\n",
      "    accuracy                           0.96     85443\n",
      "   macro avg       0.52      0.93      0.52     85443\n",
      "weighted avg       1.00      0.96      0.98     85443\n",
      "\n"
     ]
    }
   ],
   "source": [
    "#####################\n",
    "### MODEL FITTING ###\n",
    "#####################\n",
    "\n",
    "# on the original data\n",
    "credit_logit = LogisticRegression(solver='lbfgs', random_state=1, max_iter=10000)\n",
    "credit_logit.fit(X_train, y_train)\n",
    "\n",
    "# evaluate on the original test set\n",
    "y_pred = credit_logit.predict(X_test)\n",
    "\n",
    "# classification report\n",
    "report_initial = classification_report(y_test, y_pred)\n",
    "\n",
    "# on the upsampled data\n",
    "credit_logit_bal2 = LogisticRegression(solver='lbfgs', random_state=1, max_iter=10000)\n",
    "credit_logit_bal2.fit(X_train_bal2, y_train_bal2)\n",
    "\n",
    "# evaluate on the original test set - NO UPSAMPLING\n",
    "y_pred_bal2 = credit_logit_bal2.predict(X_test) \n",
    "\n",
    "# classification report\n",
    "report_downsampled = classification_report(y_test, y_pred_bal2)\n",
    "\n",
    "\n",
    "#####################\n",
    "### PRINT RESULTS ###\n",
    "#####################\n",
    "\n",
    "print_line = \"\\n=======================================================\\n\"\n",
    "\n",
    "# Confusion matrices\n",
    "print(\"Confusion matrices:\", print_line)\n",
    "\n",
    "fig, axes = plt.subplots(1, 2, figsize=(10, 3))\n",
    "\n",
    "# Model on the original data\n",
    "ConfusionMatrixDisplay.from_estimator(credit_logit, X_test, y_test, ax=axes[0])\n",
    "axes[0].set_title('Original Confusion Matrix')\n",
    "\n",
    "# Model on the upsampled data\n",
    "ConfusionMatrixDisplay.from_estimator(credit_logit_bal2, X_test, y_test, ax=axes[1])\n",
    "axes[1].set_title('Downsampled Confusion Matrix')\n",
    "\n",
    "plt.show()\n",
    "\n",
    "# Classification Reports\n",
    "print(\"\\nOriginal data classification report:\", print_line, report_initial)\n",
    "print(\"\\Downsampled data classification report:\", print_line, report_downsampled)"
   ]
  },
  {
   "cell_type": "markdown",
   "metadata": {},
   "source": [
    "The above results suggest that downsampling performs even better if our goal was to increase recall. However our precision is particularly bad. \n",
    "\n",
    "#### Further approaches\n",
    "\n",
    "Another technique that is out of scope for this lecture, but very powerful when dealing with class imbalance, is the Synthetic Minority Oversampling Technique (SMOTE). This approach generates synthetic training examples given your data and class imbalance. To read more on this approach, see the python library that implements SMOTE and other techniques: [imbalanced-learn](https://imbalanced-learn.org/stable/).\n",
    "\n",
    "There is no rule of thumb when it comes to dealing with class imbalance. In practice, you have to apply many approaches and see which one works well for your data and problem. "
   ]
  },
  {
   "cell_type": "markdown",
   "metadata": {},
   "source": [
    "### Classification Model Evaluation Summary\n",
    "\n",
    "We have covered quite a lot of new model evaluation metrics. The metrics can be expressed in terms of true positives, false positives, true negatives, and false negatives. With that said, often your model predictions will be a probability and in order to classify into positive or negative classes you need to use a probability threshold. By default sklearn often assumes a 50% threshold. It is important to note that all but one of the metrics below will change depending on this probability threshold.\n",
    "\n",
    "A brief overview with notable points:\n",
    "\n",
    "| Name | sk-learn.metrics |Description |\n",
    "|:-----|:--|:--|\n",
    "| Prediction Accuracy | `accuracy_score()` |<ul><li> Provides general information about how many examples are misclassified</li><li>Ranges from 0 to 1, 1 being a perfect fit meaning that 100 percent of the examples were predicted correctly</li><li>The most simple and intuitive classification metric, but less useful for datasets with class imbalance </li></ul> |\n",
    "| Precision | `precision_score()`|<ul><li>The fraction of positive predictions that are correct</li><li>Ranges from 0 to 1, with 1 being a perfect fit</li><li>Optimizing precision emphasizes the correctness of your positive predictions. High Precision suggests if your model predicts fraud you are very certain it is fraud. In other words you have very few false positives (Type I errors)</li><li>Complimentary to Recall when the focus is on the positive class (i.e. \"Fraud\" instead of \"Not Fraud\")</li><li>An important metric to consider when you care more about not making false positives. ex. Drilling Oil wells, Hiring New employees, Convicting somebody of murder, Email Spam  </li></ul>|\n",
    "| Recall/<br>True Positive Rate/<br>Sensitivity | `recall_score()` | <ul><li>The fraction of positive cases which were predicted as positive</li><li>Ranges from 0 to 1, with 1 being a perfect fit</li><li>Optimizing recall minimizes the chance of missing a positive prediction (Limits False negatives/Type II errors). In other words, having a high recall makes sure you capture the positive class</li><li> Synonymous with Sensitivity, True Positive Rate, Probability of Detection, Power. </li><li> An important metric to consider when you care more about not making false negatives. Ex. Cancer diagnosis, Signing a Pro Athlete, Safety Inspections </li></ul> |\n",
    "| F1 Score | `f1_score()` | <ul><li>The harmonic mean of the precision and recall</li><li>Ranges from 0 to 1, with 1 being a perfect fit </li><li> An important metric to consider when you care about the positive class in both precision and recall equally </li></ul>\n",
    "| False Positive Rate | `roc_curve()` | <ul><li>The fraction of incorrect positive predictions over all the true negatives</li><li>Ranges from 0 to 1, with 1 being a terrible fit implying that all the negative examples were incorrectly classified as positives</li><li>The False positive rate is complimentary to recall/true positive rate, but unlike precision it is related to the negative class </li><li> Synonymous with 1 - Specificity </li><li>  It is an important metric to consider when you care about the negative class but is more often not optimized directly, but through AUC </li></ul> |\n",
    "| Area under the ROC curve (AUC) | `roc_auc_score()` | <ul><li>The area under the receiver operating characteristic curve which is the curve formed from plotting TPR and FPR at various probability thresholds</li><li>Ranges from 0 to 1, with an uninformative classifier yielding 0.5 and a perfect classifier yielding 1</li><li>The AUC is advantageous as a performance metric because it captures both the performance in the negative and positive class unlike the F1 score. It also is unique in that it does not change depending on the probability threshold, because it is calculated looking at all of the thresholds</li><li> Can be interpreted as the probability that a classifier will rank a randomly chosen positive instance higher than a randomly chosen negative one  </li><li>  One downside is that it simplifies the ROC curve into a single number when often your classification should be thought of as a trade off between TPR and FPR </li></ul> |\n",
    "\n"
   ]
  },
  {
   "cell_type": "markdown",
   "metadata": {
    "toc-hr-collapsed": true,
    "toc-nb-collapsed": true
   },
   "source": [
    "## Regression Model Evaluation\n",
    "\n",
    "Our model evaluation metrics above have all been focused on classification. In order to calculate Accuracy, Precision, Recall, AUC, etc. we need to have a categorical label that we are predicting. In the continuous world, it is trivial to see if the `y` we predicted is the exact value. If I trained a model to predict house price, there is a notable difference if my predicted price is \\\\$50 off or \\\\$5,000,000 off from the true value. In other words, our evaluation metric needs to capture not only if we are wrong, but by how much.\n",
    "\n",
    "There are many metrics to choose from both conceptually and what is available in the scikit learn metrics module. The three most common and what we will briefly discuss are tabulated below. The choice can often depend on the loss function of your model, or what is most meaningful for your application. \n",
    "\n",
    "| Metric | Name | sk-learn.metrics |Description |\n",
    "|:--|:--|:--|:--|\n",
    "|$R^2$ | Coefficient of Determination | `r2_score()` |<ul><li>Proportion of variance in the dependent variable that is predicted by the independent variables</li><li>Typically ranges from 0 to 1, with 1 being a perfect fit and 0 being no better than predicting the dependent variable with its mean</li><li>Relative measure of goodness of fit</li></ul> |\n",
    "| RMSE | Root Mean Squared Error | `mean_squared_error(squared = False)`|<ul><li>The standard deviation of the residuals</li><li>Ranges from 0 to infinity, with 0 being a perfect fit and the larger the number the more error</li><li>Absolute measure of goodness of fit, and therefore cannot be used to compare across different data sets, but between models with the same dataset</li><li>Same units as the dependent variable. </li><li>Predictions farther away have a greater impact on the RMSE and is therefore sensitive to outliers</li></ul>|\n",
    "| MAE | Mean Absolute Error | `mean_absolute_error()` | <ul><li>The average absolute values of the errors between the true value and the predicted value</li><li>Similar to RMSE, Ranges from 0 to infinity with 0 being a perfect fit and is an absolute measure of fit</li><li>Predicted values father away contribute proportionally to the MAE and is therefore more robust to outliers than RMSE </li><li>Relatively intuitive and simple to explain regression metric. </li></ul>"
   ]
  },
  {
   "cell_type": "markdown",
   "metadata": {},
   "source": [
    "A typical regression-based ML model will predict continuous values (think about predicting house prices, number of rainfall per day, etc) \n",
    "\n",
    "Our primary objective is make sure that the predicted values are as close as possible to the actual values\n",
    "\n",
    "Let's define some terms:\n",
    "$$\\text{actual values} = y \\\\ \n",
    "\\text{predicted values} = \\hat{y}$$\n",
    "\n",
    "$$\\text{Residual Error}= y - \\hat{y}$$\n",
    "\n",
    "When our residual error = 0, that means we have a perfect model (but that's never going to happen)"
   ]
  },
  {
   "cell_type": "markdown",
   "metadata": {},
   "source": [
    "## What is Mean Squared Error (MSE)?\n",
    "\n",
    "MSE measures the average squared difference between the predicted values and the actual values.\\\n",
    "Intuitively, the MSE is used to measure the quality of the model based on the predictions made on the entire dataset. \n",
    "\n",
    "![MSE](https://vitalflux.com/wp-content/uploads/2020/09/Regression-terminologies-Page-2.png)\n",
    "\n",
    "The formula for MSE can be defined as $$\\frac{1}{n}\\sum{}{}(y-\\hat{y})^2$$"
   ]
  },
  {
   "cell_type": "markdown",
   "metadata": {},
   "source": [
    "Take the following example..."
   ]
  },
  {
   "cell_type": "code",
   "execution_count": 154,
   "metadata": {},
   "outputs": [
    {
     "data": {
      "text/html": [
       "<div>\n",
       "<style scoped>\n",
       "    .dataframe tbody tr th:only-of-type {\n",
       "        vertical-align: middle;\n",
       "    }\n",
       "\n",
       "    .dataframe tbody tr th {\n",
       "        vertical-align: top;\n",
       "    }\n",
       "\n",
       "    .dataframe thead th {\n",
       "        text-align: right;\n",
       "    }\n",
       "</style>\n",
       "<table border=\"1\" class=\"dataframe\">\n",
       "  <thead>\n",
       "    <tr style=\"text-align: right;\">\n",
       "      <th></th>\n",
       "      <th>Actual</th>\n",
       "      <th>Predicted</th>\n",
       "      <th>Residual Error</th>\n",
       "      <th>Squared Residual Error</th>\n",
       "    </tr>\n",
       "  </thead>\n",
       "  <tbody>\n",
       "    <tr>\n",
       "      <th>0</th>\n",
       "      <td>10</td>\n",
       "      <td>7</td>\n",
       "      <td>3</td>\n",
       "      <td>9</td>\n",
       "    </tr>\n",
       "    <tr>\n",
       "      <th>1</th>\n",
       "      <td>16</td>\n",
       "      <td>14</td>\n",
       "      <td>2</td>\n",
       "      <td>4</td>\n",
       "    </tr>\n",
       "    <tr>\n",
       "      <th>2</th>\n",
       "      <td>13</td>\n",
       "      <td>17</td>\n",
       "      <td>-4</td>\n",
       "      <td>16</td>\n",
       "    </tr>\n",
       "    <tr>\n",
       "      <th>3</th>\n",
       "      <td>19</td>\n",
       "      <td>20</td>\n",
       "      <td>-1</td>\n",
       "      <td>1</td>\n",
       "    </tr>\n",
       "    <tr>\n",
       "      <th>4</th>\n",
       "      <td>7</td>\n",
       "      <td>4</td>\n",
       "      <td>3</td>\n",
       "      <td>9</td>\n",
       "    </tr>\n",
       "  </tbody>\n",
       "</table>\n",
       "</div>"
      ],
      "text/plain": [
       "   Actual  Predicted  Residual Error  Squared Residual Error\n",
       "0      10          7               3                       9\n",
       "1      16         14               2                       4\n",
       "2      13         17              -4                      16\n",
       "3      19         20              -1                       1\n",
       "4       7          4               3                       9"
      ]
     },
     "execution_count": 154,
     "metadata": {},
     "output_type": "execute_result"
    }
   ],
   "source": [
    "model_A_labels = [10, 16, 13, 19, 7]\n",
    "model_A_predictions = [7, 14, 17, 20, 4]\n",
    "model_A_errors = np.subtract(model_A_labels, model_A_predictions)\n",
    "model_A_sqerrors = model_A_errors**2\n",
    "\n",
    "pd.DataFrame(list(zip(model_A_labels, model_A_predictions, model_A_errors, model_A_sqerrors)), columns=['Actual','Predicted','Residual Error', 'Squared Residual Error'])"
   ]
  },
  {
   "cell_type": "code",
   "execution_count": 156,
   "metadata": {},
   "outputs": [
    {
     "name": "stdout",
     "output_type": "stream",
     "text": [
      "Model A MSE: 7.8\n"
     ]
    }
   ],
   "source": [
    "model_A_MSE = sum(model_A_sqerrors) / len(model_A_labels)\n",
    "print('Model A MSE:', model_A_MSE)"
   ]
  },
  {
   "cell_type": "code",
   "execution_count": 158,
   "metadata": {},
   "outputs": [
    {
     "data": {
      "text/html": [
       "<div>\n",
       "<style scoped>\n",
       "    .dataframe tbody tr th:only-of-type {\n",
       "        vertical-align: middle;\n",
       "    }\n",
       "\n",
       "    .dataframe tbody tr th {\n",
       "        vertical-align: top;\n",
       "    }\n",
       "\n",
       "    .dataframe thead th {\n",
       "        text-align: right;\n",
       "    }\n",
       "</style>\n",
       "<table border=\"1\" class=\"dataframe\">\n",
       "  <thead>\n",
       "    <tr style=\"text-align: right;\">\n",
       "      <th></th>\n",
       "      <th>Actual</th>\n",
       "      <th>Predicted</th>\n",
       "      <th>Residual Error</th>\n",
       "      <th>Squared Residual Error</th>\n",
       "    </tr>\n",
       "  </thead>\n",
       "  <tbody>\n",
       "    <tr>\n",
       "      <th>0</th>\n",
       "      <td>10</td>\n",
       "      <td>13</td>\n",
       "      <td>-3</td>\n",
       "      <td>9</td>\n",
       "    </tr>\n",
       "    <tr>\n",
       "      <th>1</th>\n",
       "      <td>16</td>\n",
       "      <td>20</td>\n",
       "      <td>-4</td>\n",
       "      <td>16</td>\n",
       "    </tr>\n",
       "    <tr>\n",
       "      <th>2</th>\n",
       "      <td>13</td>\n",
       "      <td>12</td>\n",
       "      <td>1</td>\n",
       "      <td>1</td>\n",
       "    </tr>\n",
       "    <tr>\n",
       "      <th>3</th>\n",
       "      <td>19</td>\n",
       "      <td>18</td>\n",
       "      <td>1</td>\n",
       "      <td>1</td>\n",
       "    </tr>\n",
       "    <tr>\n",
       "      <th>4</th>\n",
       "      <td>7</td>\n",
       "      <td>3</td>\n",
       "      <td>4</td>\n",
       "      <td>16</td>\n",
       "    </tr>\n",
       "  </tbody>\n",
       "</table>\n",
       "</div>"
      ],
      "text/plain": [
       "   Actual  Predicted  Residual Error  Squared Residual Error\n",
       "0      10         13              -3                       9\n",
       "1      16         20              -4                      16\n",
       "2      13         12               1                       1\n",
       "3      19         18               1                       1\n",
       "4       7          3               4                      16"
      ]
     },
     "execution_count": 158,
     "metadata": {},
     "output_type": "execute_result"
    }
   ],
   "source": [
    "model_B_labels = [10, 16, 13, 19, 7]\n",
    "model_B_predictions = [13, 20, 12, 18, 3]\n",
    "model_B_errors = np.subtract(model_B_labels, model_B_predictions)\n",
    "model_B_sqerrors = model_B_errors**2\n",
    "\n",
    "pd.DataFrame(list(zip(model_B_labels, model_B_predictions, model_B_errors, model_B_sqerrors)), columns=['Actual','Predicted','Residual Error', 'Squared Residual Error'])"
   ]
  },
  {
   "cell_type": "code",
   "execution_count": 302,
   "metadata": {},
   "outputs": [
    {
     "name": "stdout",
     "output_type": "stream",
     "text": [
      "Model B MSE: 8.6\n"
     ]
    }
   ],
   "source": [
    "model_B_MSE = sum(model_B_sqerrors) / len(model_B_labels)\n",
    "print('Model B MSE:', model_B_MSE)"
   ]
  },
  {
   "cell_type": "markdown",
   "metadata": {},
   "source": [
    "Model A is better because is has lower MSE! "
   ]
  },
  {
   "cell_type": "markdown",
   "metadata": {},
   "source": [
    "#### Now that we know what MSE is, RMSE is just the root of the MSE! "
   ]
  },
  {
   "cell_type": "code",
   "execution_count": 163,
   "metadata": {},
   "outputs": [
    {
     "name": "stdout",
     "output_type": "stream",
     "text": [
      "Model A RMSE: 2.792848008753788 \n",
      "Model B RMSE: 2.932575659723036\n"
     ]
    }
   ],
   "source": [
    "print('Model A RMSE:', np.sqrt(model_A_MSE), '\\nModel B RMSE:', np.sqrt(model_B_MSE))"
   ]
  },
  {
   "cell_type": "markdown",
   "metadata": {},
   "source": [
    "## MAE\n",
    "\n",
    "The formula for MSE can be defined as $$\\frac{1}{n}\\sum{}{}|y-\\hat{y}|$$\n",
    "\n",
    "Similar to RMSE in that the lower the value, the better the model is\n",
    "\n",
    "## What is the difference between RMSE and MAE?\n",
    "1. RMSE is more sensitive to outliers\n",
    "2. RMSE penalises large errors more than MAE due to the fact that errors are squared initially\n",
    "3. MAE returns values that are more interpretable as it is simply the average of absolute error\n",
    "\n",
    "Let's look at an example of house price prediction"
   ]
  },
  {
   "cell_type": "code",
   "execution_count": 303,
   "metadata": {},
   "outputs": [
    {
     "data": {
      "text/html": [
       "<div>\n",
       "<style scoped>\n",
       "    .dataframe tbody tr th:only-of-type {\n",
       "        vertical-align: middle;\n",
       "    }\n",
       "\n",
       "    .dataframe tbody tr th {\n",
       "        vertical-align: top;\n",
       "    }\n",
       "\n",
       "    .dataframe thead th {\n",
       "        text-align: right;\n",
       "    }\n",
       "</style>\n",
       "<table border=\"1\" class=\"dataframe\">\n",
       "  <thead>\n",
       "    <tr style=\"text-align: right;\">\n",
       "      <th></th>\n",
       "      <th>Actual</th>\n",
       "      <th>Prediction</th>\n",
       "      <th>Absolute Error</th>\n",
       "      <th>Squared Error</th>\n",
       "    </tr>\n",
       "  </thead>\n",
       "  <tbody>\n",
       "    <tr>\n",
       "      <th>0</th>\n",
       "      <td>100000</td>\n",
       "      <td>250000</td>\n",
       "      <td>150000</td>\n",
       "      <td>22500000000</td>\n",
       "    </tr>\n",
       "    <tr>\n",
       "      <th>1</th>\n",
       "      <td>200000</td>\n",
       "      <td>210000</td>\n",
       "      <td>10000</td>\n",
       "      <td>100000000</td>\n",
       "    </tr>\n",
       "    <tr>\n",
       "      <th>2</th>\n",
       "      <td>150000</td>\n",
       "      <td>155000</td>\n",
       "      <td>5000</td>\n",
       "      <td>25000000</td>\n",
       "    </tr>\n",
       "    <tr>\n",
       "      <th>3</th>\n",
       "      <td>180000</td>\n",
       "      <td>178000</td>\n",
       "      <td>2000</td>\n",
       "      <td>4000000</td>\n",
       "    </tr>\n",
       "    <tr>\n",
       "      <th>4</th>\n",
       "      <td>120000</td>\n",
       "      <td>121000</td>\n",
       "      <td>1000</td>\n",
       "      <td>1000000</td>\n",
       "    </tr>\n",
       "  </tbody>\n",
       "</table>\n",
       "</div>"
      ],
      "text/plain": [
       "   Actual  Prediction  Absolute Error  Squared Error\n",
       "0  100000      250000          150000    22500000000\n",
       "1  200000      210000           10000      100000000\n",
       "2  150000      155000            5000       25000000\n",
       "3  180000      178000            2000        4000000\n",
       "4  120000      121000            1000        1000000"
      ]
     },
     "execution_count": 303,
     "metadata": {},
     "output_type": "execute_result"
    }
   ],
   "source": [
    "Actual = [100000, 200000, 150000, 180000, 120000]\n",
    "Prediction = [250000, 210000, 155000, 178000, 121000]\n",
    "df = pd.DataFrame(list(zip(Actual, Prediction)), columns=['Actual', 'Prediction'])\n",
    "df['Absolute Error'] = abs(df.Actual-df.Prediction)\n",
    "df['Squared Error'] = (df.Actual-df.Prediction)**2\n",
    "df"
   ]
  },
  {
   "cell_type": "code",
   "execution_count": 304,
   "metadata": {},
   "outputs": [
    {
     "name": "stdout",
     "output_type": "stream",
     "text": [
      "MAE: 33600.0 \n",
      "RMSE: 67275.55276621664\n"
     ]
    }
   ],
   "source": [
    "MAE = sum(df['Absolute Error']/len(df))\n",
    "RMSE = np.sqrt(sum(df['Squared Error'])/len(df))\n",
    "print('MAE:', MAE, '\\nRMSE:', RMSE)"
   ]
  },
  {
   "cell_type": "markdown",
   "metadata": {},
   "source": [
    "Both metrics are returning the error on the same scale as the house prices we are predicting, but the RMSE is higher as there are outliers in the dataset which increase the magnitude of the error.\n",
    "\n",
    "## How to interpret RMSE and MAE?\n",
    "MAE is interpreted as the average error when making a prediction with the model.\\\n",
    "RMSE can be interpreted as the average weighted performance of the model, where a larger weight is added to outlier predictions.\n",
    "\n",
    "## When to use RMSE or MAE?\n",
    "\n",
    "It depends on if and how much you want to penalise large errors. If your use case demands that occasional large mistakes in your predictions need to be avoided then use RMSE.\\\n",
    "However, if you want an error metric that treats all errors equally and returns a more interpretable value then use MAE."
   ]
  },
  {
   "cell_type": "markdown",
   "metadata": {},
   "source": [
    "## What is R^2\n",
    "\n",
    "The coefficient of determination, or $r^2$ is a measure that provides information about the goodness of fit of a model. It is a measure of how well the regression line approximates the actual data.\\\n",
    "It is defined as follows:\n",
    "\n",
    "$$\\text{R}^2 = 1 - \\frac{\\text{sum squared regression(SSR)}}{\\text{total sum of squares (SST)}} \\\\ = 1 - \\frac{\\sum(y-\\hat{y})^2}{\\sum(y-\\bar{y})^2}$$"
   ]
  },
  {
   "cell_type": "code",
   "execution_count": 305,
   "metadata": {},
   "outputs": [],
   "source": [
    "import warnings\n",
    "warnings.simplefilter(action='ignore', category=FutureWarning)"
   ]
  },
  {
   "cell_type": "code",
   "execution_count": 306,
   "metadata": {},
   "outputs": [
    {
     "name": "stdout",
     "output_type": "stream",
     "text": [
      "Feature Names: ['CRIM' 'ZN' 'INDUS' 'CHAS' 'NOX' 'RM' 'AGE' 'DIS' 'RAD' 'TAX' 'PTRATIO'\n",
      " 'B' 'LSTAT']\n",
      "(506, 13)\n"
     ]
    }
   ],
   "source": [
    "from sklearn.linear_model import LinearRegression\n",
    "from sklearn.datasets import load_boston\n",
    "\n",
    "X = load_boston()['data'].copy()\n",
    "y = load_boston()['target'].copy()\n",
    "\n",
    "print('Feature Names:', load_boston()['feature_names'])\n",
    "print(X.shape)\n",
    "\n",
    "linear_regression = LinearRegression()\n",
    "linear_regression.fit(X,y)\n",
    "\n",
    "prediction = linear_regression.predict(X)\n",
    "\n",
    "def rsquared(y_true, y_hat):\n",
    "    y_bar = np.mean(y_true)    \n",
    "    ss_total = np.sum((y_true - y_bar) ** 2)\n",
    "    ss_explained = np.sum((y_hat - y_bar) ** 2)\n",
    "    ss_residual = np.sum((y_true - y_hat) ** 2)\n",
    "    \n",
    "    return 1 - (ss_residual / ss_total)\n"
   ]
  },
  {
   "cell_type": "code",
   "execution_count": 232,
   "metadata": {},
   "outputs": [
    {
     "data": {
      "text/plain": [
       "0.7406426641094095"
      ]
     },
     "execution_count": 232,
     "metadata": {},
     "output_type": "execute_result"
    }
   ],
   "source": [
    "rsquared(y, prediction)"
   ]
  },
  {
   "cell_type": "markdown",
   "metadata": {},
   "source": [
    "We can interpret the value above like this: 74% of the variation in the y values is accounted for by the x values.\n",
    "\n",
    "### This is great! But... there is a downside to R^2\n",
    "\n",
    "Specifically, as we add new predictors to the regression model, R^2 increases or remains the same. This is the case even when the new predictors are independent of our response variable and don't add any value to the predicting power of the model.\n",
    "\n",
    "#### To alleviate this issue, we use **adjusted R^2**\n",
    "\n",
    "The formula is: $$ \\bar{R}^2 = 1 - \\frac{{(1 - R^2)(n - 1)}}{{n - k - 1}} $$\n",
    "\n",
    "Let's see this in an example:\n",
    "\n",
    "Here, we'll add 3 additional features named ‘random1’, ‘random2’ and ‘random3’ containing random numbers.\\\n",
    "Then, we'll calculate the mutual information scores of the features and incrementally add one feature at a time to the model in the decreasing order of the mutual information scores and compute the R-squared and adjusted R-squared.\n",
    "\n",
    "**Bonus Question: What is mutual information score?**"
   ]
  },
  {
   "cell_type": "code",
   "execution_count": 307,
   "metadata": {},
   "outputs": [
    {
     "data": {
      "text/plain": [
       "LSTAT      0.667868\n",
       "RM         0.528050\n",
       "INDUS      0.466544\n",
       "NOX        0.465254\n",
       "PTRATIO    0.434514\n",
       "TAX        0.361041\n",
       "CRIM       0.341827\n",
       "AGE        0.309333\n",
       "DIS        0.300009\n",
       "RAD        0.210613\n",
       "ZN         0.198132\n",
       "B          0.159204\n",
       "CHAS       0.020946\n",
       "random1    0.000000\n",
       "random2    0.000000\n",
       "random3    0.000000\n",
       "dtype: float64"
      ]
     },
     "execution_count": 307,
     "metadata": {},
     "output_type": "execute_result"
    }
   ],
   "source": [
    "from sklearn.feature_selection import mutual_info_regression\n",
    "\n",
    "df = pd.DataFrame(load_boston()['data'], columns=load_boston()['feature_names'])\n",
    "df['y'] = load_boston()['target']\n",
    "\n",
    "df['RAD'] = df['RAD'].astype('int')\n",
    "df['CHAS'] = df['CHAS'].astype('int')\n",
    "\n",
    "X = df.drop(columns='y').copy()\n",
    "y = df['y'].copy()\n",
    "\n",
    "np.random.seed(11)\n",
    "X['random1'] = np.random.randn(len(X))\n",
    "X['random2'] = np.random.randint(len(X))\n",
    "X['random3'] = np.random.normal(len(X))\n",
    "\n",
    "mutual_info = mutual_info_regression(X, y, discrete_features=X.dtypes == np.int32)\n",
    "mutual_info = pd.Series(mutual_info, index=X.columns)\n",
    "mutual_info.sort_values(ascending=False, inplace=True)\n",
    "mutual_info"
   ]
  },
  {
   "cell_type": "code",
   "execution_count": 308,
   "metadata": {},
   "outputs": [
    {
     "name": "stdout",
     "output_type": "stream",
     "text": [
      "0.7406426641094094\n"
     ]
    }
   ],
   "source": [
    "r2 = rsquared(y, prediction)\n",
    "print(r2)"
   ]
  },
  {
   "cell_type": "code",
   "execution_count": 309,
   "metadata": {},
   "outputs": [
    {
     "data": {
      "text/html": [
       "<div>\n",
       "<style scoped>\n",
       "    .dataframe tbody tr th:only-of-type {\n",
       "        vertical-align: middle;\n",
       "    }\n",
       "\n",
       "    .dataframe tbody tr th {\n",
       "        vertical-align: top;\n",
       "    }\n",
       "\n",
       "    .dataframe thead th {\n",
       "        text-align: right;\n",
       "    }\n",
       "</style>\n",
       "<table border=\"1\" class=\"dataframe\">\n",
       "  <thead>\n",
       "    <tr style=\"text-align: right;\">\n",
       "      <th></th>\n",
       "      <th>r2</th>\n",
       "      <th>adj_r2</th>\n",
       "    </tr>\n",
       "  </thead>\n",
       "  <tbody>\n",
       "    <tr>\n",
       "      <th>1</th>\n",
       "      <td>0.150780</td>\n",
       "      <td>0.149096</td>\n",
       "    </tr>\n",
       "    <tr>\n",
       "      <th>2</th>\n",
       "      <td>0.233988</td>\n",
       "      <td>0.230943</td>\n",
       "    </tr>\n",
       "    <tr>\n",
       "      <th>3</th>\n",
       "      <td>0.293714</td>\n",
       "      <td>0.289493</td>\n",
       "    </tr>\n",
       "    <tr>\n",
       "      <th>4</th>\n",
       "      <td>0.329528</td>\n",
       "      <td>0.324175</td>\n",
       "    </tr>\n",
       "    <tr>\n",
       "      <th>5</th>\n",
       "      <td>0.331313</td>\n",
       "      <td>0.324626</td>\n",
       "    </tr>\n",
       "    <tr>\n",
       "      <th>6</th>\n",
       "      <td>0.587377</td>\n",
       "      <td>0.582416</td>\n",
       "    </tr>\n",
       "    <tr>\n",
       "      <th>7</th>\n",
       "      <td>0.589490</td>\n",
       "      <td>0.583720</td>\n",
       "    </tr>\n",
       "    <tr>\n",
       "      <th>8</th>\n",
       "      <td>0.631149</td>\n",
       "      <td>0.625212</td>\n",
       "    </tr>\n",
       "    <tr>\n",
       "      <th>9</th>\n",
       "      <td>0.631948</td>\n",
       "      <td>0.625269</td>\n",
       "    </tr>\n",
       "    <tr>\n",
       "      <th>10</th>\n",
       "      <td>0.639663</td>\n",
       "      <td>0.632383</td>\n",
       "    </tr>\n",
       "    <tr>\n",
       "      <th>11</th>\n",
       "      <td>0.670314</td>\n",
       "      <td>0.662973</td>\n",
       "    </tr>\n",
       "    <tr>\n",
       "      <th>12</th>\n",
       "      <td>0.684204</td>\n",
       "      <td>0.676518</td>\n",
       "    </tr>\n",
       "    <tr>\n",
       "      <th>13</th>\n",
       "      <td>0.740643</td>\n",
       "      <td>0.733790</td>\n",
       "    </tr>\n",
       "    <tr>\n",
       "      <th>14</th>\n",
       "      <td>0.740829</td>\n",
       "      <td>0.733439</td>\n",
       "    </tr>\n",
       "    <tr>\n",
       "      <th>15</th>\n",
       "      <td>0.740829</td>\n",
       "      <td>0.732895</td>\n",
       "    </tr>\n",
       "    <tr>\n",
       "      <th>16</th>\n",
       "      <td>0.740829</td>\n",
       "      <td>0.732349</td>\n",
       "    </tr>\n",
       "  </tbody>\n",
       "</table>\n",
       "</div>"
      ],
      "text/plain": [
       "          r2    adj_r2\n",
       "1   0.150780  0.149096\n",
       "2   0.233988  0.230943\n",
       "3   0.293714  0.289493\n",
       "4   0.329528  0.324175\n",
       "5   0.331313  0.324626\n",
       "6   0.587377  0.582416\n",
       "7   0.589490  0.583720\n",
       "8   0.631149  0.625212\n",
       "9   0.631948  0.625269\n",
       "10  0.639663  0.632383\n",
       "11  0.670314  0.662973\n",
       "12  0.684204  0.676518\n",
       "13  0.740643  0.733790\n",
       "14  0.740829  0.733439\n",
       "15  0.740829  0.732895\n",
       "16  0.740829  0.732349"
      ]
     },
     "execution_count": 309,
     "metadata": {},
     "output_type": "execute_result"
    }
   ],
   "source": [
    "result_df = pd.DataFrame()\n",
    "for i in range(1, len(mutual_info) + 1):\n",
    "    X_new = X.iloc[:, :i].copy()\n",
    "    linear_regression = LinearRegression()\n",
    "    linear_regression.fit(X_new, y)\n",
    "    \n",
    "    prediction = linear_regression.predict(X_new)\n",
    "    r2 = rsquared(y, prediction)\n",
    "    adj_r2 = 1 - ((1 - r2) * (len(X) - 1) / (len(X) - i - 1))\n",
    "    \n",
    "    result_df = result_df.append(pd.DataFrame({'r2': r2,\n",
    "                                              'adj_r2': adj_r2}, index=[i]))\n",
    "\n",
    "result_df"
   ]
  },
  {
   "cell_type": "markdown",
   "metadata": {},
   "source": [
    "Here we observe, that in row 14,15,16 where the random data was added, the adjusted R-squared value decreases. However, R-squared remained the same\n",
    "\n",
    "### When to use R-squared or adjusted R-squared?\n",
    "\n",
    "You'll always want to use adjusted R-squared"
   ]
  },
  {
   "cell_type": "markdown",
   "metadata": {},
   "source": [
    "# Bias and Variance "
   ]
  },
  {
   "cell_type": "markdown",
   "metadata": {},
   "source": [
    "Now we will look at where our model errors come from. We will decompose our error into two (actually three) terms. This section is a bit theoretical so we will take it slowly.\n",
    "\n",
    "What are we doing when fitting models? We're trying to learn a relation between the dependent variable $Y$ and independent variable $X$. This relation is some arbitrary function $f$ (and some noise term $\\epsilon$):\n",
    "\n",
    "$$ Y = f(x) + \\epsilon $$\n",
    "\n",
    "When doing any statistical modeling we are estimating $f(x)$ using $\\hat{f}(x)$, this $\\hat{f}$ can be any arbitrary model, this includes KNN or SVMs for classification problems or \\\n",
    "linear regression for regression problems. The error in our model is the difference between the relation $f(x)$ and our model $\\hat{f}(x)$. \n",
    "\n",
    "A good model should be close to the underlying relation while a bad model would be far away. When fitting our models we can't find the distance between our model and the true relation,\\\n",
    "since if we knew the true relation we wouldn't need to bother modeling it. Instead we use some training and validation data to see how well our estimate $\\hat f$ explains the data. \n",
    "\n",
    "The choice of model and choice of data can have a huge impact on our ability to estimate the true function $f(x)$: \n",
    "- a model which is too weak will fail to capture the underlying relation, and \n",
    "- one that is too flexible will pick up on the noise $\\epsilon$ and the patterns only present in subsets of the data it is exposed too.\n",
    "\n",
    "Consider the following example, each blue dot represents a realization of a model, fitted with different data, and the red dot represents the ideal relation:"
   ]
  },
  {
   "cell_type": "markdown",
   "metadata": {},
   "source": [
    "<img src = \"https://drive.google.com/uc?export=view&id=1KcdzSUtz73mocfwE_wfC5AcKxJoo5r4e\" width=400px>\n",
    "\n",
    "<center><em>Bias-Variance diagram courtesy of <a href=\"http://scott.fortmann-roe.com/docs/BiasVariance.html\">Scott Fortmann-Roe</a></em></center>"
   ]
  },
  {
   "cell_type": "markdown",
   "metadata": {},
   "source": [
    "Each sub-plot represents a different model, some models are good, some are bad. But they all make errors in a different way. Here we break down the types of errors a model can make into two terms:\n",
    "\n",
    "1. **Bias**: Bias is about the ability to capture the true patterns in the dataset.\n",
    "* A high bias means a model is not powerful enough to find the patterns in the data, it learns poor representations. In other words, it fails to capture the true relationship of the data\n",
    "* A low bias means a model is overly complex and has tend to \"memorize\" the data and has poor generalization on the test set. In other words, it is overfitting the training data\n",
    "2. **Variance**: The sensitivity of the model to changes in the data. \n",
    "* A high variance model means it is too powerful to fit the patterns in the data and has instead fitted to the noise. A model with high variance has massive swings in its predictions with only minor changes in the underlying data.\n",
    "* A low variance model is more stable in it's predictions when there is minor changes in the underlying data\n",
    "\n",
    "Some of these models have low bias and low variance some have high bias and high variance, some have a mixture of the two. How would you label the error of each model here?"
   ]
  },
  {
   "cell_type": "markdown",
   "metadata": {},
   "source": [
    "### Example of high bias:\n",
    "\n",
    "![high bias](https://miro.medium.com/v2/resize:fit:1400/1*a9FmRnqAiORKgVU7Yc1FMg.jpeg)"
   ]
  },
  {
   "cell_type": "markdown",
   "metadata": {},
   "source": [
    "## Example of high variance:\n",
    "\n",
    "![high variance](https://miro.medium.com/v2/resize:fit:1400/1*I__XWjoKVD6TF76Un-_t0g.jpeg)"
   ]
  },
  {
   "cell_type": "markdown",
   "metadata": {
    "colab_type": "text",
    "id": "BAz9fHVPBQUG"
   },
   "source": [
    "We see that they are all almost as good, or bad, as each other.\n",
    "\n",
    "So what does this mean from a performance perspective? Since our total error is affected by both terms optimizing to minimize bias or variance alone is not a good idea. Instead we must trade one for the other and end up at some ideal middle ground. It can help to visualize the error as a plot:"
   ]
  },
  {
   "cell_type": "code",
   "execution_count": 310,
   "metadata": {
    "colab": {},
    "colab_type": "code",
    "id": "uEXmf7LrBQUH",
    "outputId": "3c295da4-1877-494e-e01c-c5e6ad2b85a1"
   },
   "outputs": [
    {
     "data": {
      "image/png": "[encoded data removed]",
      "text/plain": [
       "<Figure size 432x288 with 1 Axes>"
      ]
     },
     "metadata": {
      "needs_background": "light"
     },
     "output_type": "display_data"
    }
   ],
   "source": [
    "complexity = np.arange(2,12, .001)\n",
    "bias = 1/(complexity**1.01)\n",
    "variance = (complexity)**2/200\n",
    "\n",
    "total_error = bias+variance\n",
    "\n",
    "min_total = total_error.argmin()\n",
    "\n",
    "plt.plot(complexity, bias, label=\"bias\")\n",
    "plt.plot(complexity, variance, label=\"variance\")\n",
    "plt.plot(complexity, total_error, label=\"total error\")\n",
    "\n",
    "plt.scatter(complexity[min_total], total_error[min_total], color = \"gold\")\n",
    "\n",
    "plt.legend()\n",
    "plt.xlabel(\"Complexity\")\n",
    "plt.ylabel(\"Error\")\n",
    "\n",
    "plt.show()"
   ]
  },
  {
   "cell_type": "code",
   "execution_count": null,
   "metadata": {},
   "outputs": [],
   "source": [
    "total error = bias^2 + variance + irreducible error "
   ]
  },
  {
   "cell_type": "markdown",
   "metadata": {},
   "source": [
    "### How do we fix high bias?\n",
    "\n",
    "1. Add more input features\n",
    "2. Add more complexity by introducing polynomial features \n",
    "3. Decrease regularization term. \n",
    "\n",
    "\n",
    "### How do we fix high variance?\n",
    "\n",
    "1. Reduce input features\n",
    "2. Increase Regularization term\n",
    "3. Get more training data"
   ]
  },
  {
   "cell_type": "markdown",
   "metadata": {
    "colab_type": "text",
    "id": "tQw5_Uj_BQUK"
   },
   "source": [
    "Essentially we are trying to tune our model complexity so that we end up at the gold dot, this is the best model we can hope for. In reality we don't know how the error due to bias and variance change as we adjust the model complexity, we know that they decrease and increase as the models become more complex but we don't know the exact pattern to the change.\n",
    "\n",
    "This has been a bit of a theoretical section on where errors come from, but it should help you understand that a model that is too complex (high variance low bias) is not good, while a model that is too simple (high bias low variance) is not good either. In the language of machine learning, you can think of this as finding a balance between a model that overfits (high variance) and a model that underfits (high bias). "
   ]
  },
  {
   "cell_type": "markdown",
   "metadata": {},
   "source": [
    "<div id=\"container\" style=\"position:relative;\">\n",
    "<div style=\"position:relative; float:right\"><img style=\"height:25px\"\"width: 50px\" src =\"https://drive.google.com/uc?export=view&id=14VoXUJftgptWtdNhtNYVm6cjVmEWpki1\" />\n",
    "</div>\n",
    "</div>"
   ]
  }
 ],
 "metadata": {
  "environment": {
   "name": "tf2-gpu.2-3.m61",
   "type": "gcloud",
   "uri": "gcr.io/deeplearning-platform-release/tf2-gpu.2-3:m61"
  },
  "hide_input": false,
  "kernelspec": {
   "display_name": "Python 3 (ipykernel)",
   "language": "python",
   "name": "python3"
  },
  "language_info": {
   "codemirror_mode": {
    "name": "ipython",
    "version": 3
   },
   "file_extension": ".py",
   "mimetype": "text/x-python",
   "name": "python",
   "nbconvert_exporter": "python",
   "pygments_lexer": "ipython3",
   "version": "3.9.13"
  },
  "toc": {
   "base_numbering": 1,
   "nav_menu": {},
   "number_sections": false,
   "sideBar": true,
   "skip_h1_title": true,
   "title_cell": "Table of Contents",
   "title_sidebar": "Contents",
   "toc_cell": false,
   "toc_position": {},
   "toc_section_display": true,
   "toc_window_display": false
  },
  "toc-autonumbering": false,
  "toc-showcode": false,
  "toc-showmarkdowntxt": false,
  "toc-showtags": false
 },
 "nbformat": 4,
 "nbformat_minor": 4
}
